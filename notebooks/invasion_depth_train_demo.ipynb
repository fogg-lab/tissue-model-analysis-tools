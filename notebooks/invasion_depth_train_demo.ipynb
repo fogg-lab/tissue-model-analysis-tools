{
 "cells": [
  {
   "cell_type": "code",
   "execution_count": 1,
   "id": "0c12c68d-93a1-41af-b05c-e56b17582e41",
   "metadata": {
    "tags": []
   },
   "outputs": [],
   "source": [
    "import tensorflow.keras.backend as K\n",
    "import numpy as np\n",
    "import dask as d\n",
    "import os\n",
    "import cv2\n",
    "import json\n",
    "import multiprocessing\n",
    "import matplotlib.pyplot as plt\n",
    "\n",
    "from glob import glob\n",
    "from copy import deepcopy\n",
    "from tensorflow.keras.preprocessing.image import ImageDataGenerator, load_img\n",
    "from tensorflow.keras.optimizers import Adam\n",
    "from tensorflow.keras.losses import BinaryCrossentropy\n",
    "from tensorflow.keras.metrics import BinaryAccuracy\n",
    "from tensorflow.keras.utils import Sequence\n",
    "from tensorflow.keras.callbacks import EarlyStopping, ModelCheckpoint\n",
    "from tensorflow.keras.applications import resnet50"
   ]
  },
  {
   "cell_type": "code",
   "execution_count": 2,
   "id": "a402a73f-b4a9-44ba-8ae5-06641c0668f6",
   "metadata": {},
   "outputs": [
    {
     "data": {
      "text/plain": [
       "16"
      ]
     },
     "execution_count": 2,
     "metadata": {},
     "output_type": "execute_result"
    }
   ],
   "source": [
    "n_cores = multiprocessing.cpu_count()\n",
    "n_cores"
   ]
  },
  {
   "cell_type": "code",
   "execution_count": 3,
   "id": "fdc59e17-d035-4e8d-ad5f-ca7adfa21f93",
   "metadata": {},
   "outputs": [],
   "source": [
    "from fl_tissue_model_tools import data_prep, dev_config, models, defs\n",
    "import fl_tissue_model_tools.preprocessing as prep"
   ]
  },
  {
   "cell_type": "code",
   "execution_count": 4,
   "id": "0c960e34-fb3c-463b-8bc5-952730a064dc",
   "metadata": {},
   "outputs": [],
   "source": [
    "dirs = dev_config.get_dev_directories(\"../dev_paths.txt\")"
   ]
  },
  {
   "cell_type": "markdown",
   "id": "911406d1-d145-445f-a442-645b5138c60e",
   "metadata": {
    "tags": []
   },
   "source": [
    "# Set up model training parameters"
   ]
  },
  {
   "cell_type": "code",
   "execution_count": 5,
   "id": "6d3b1db8-45d3-4882-bd10-002c0c5f1f27",
   "metadata": {
    "tags": []
   },
   "outputs": [],
   "source": [
    "with open(\"../model_training/invasion_depth_training_values.json\", 'r') as fp:\n",
    "       training_values = json.load(fp)\n",
    "training_values[\"rs_seed\"] = None if (training_values[\"rs_seed\"] == \"None\") else training_values[\"rs_seed\"]"
   ]
  },
  {
   "cell_type": "code",
   "execution_count": 6,
   "id": "75096603-49df-41d3-8d1d-de1801ba8f1f",
   "metadata": {},
   "outputs": [
    {
     "data": {
      "text/plain": [
       "{'batch_size': 32,\n",
       " 'frozen_epochs': 50,\n",
       " 'fine_tune_epochs': 50,\n",
       " 'val_split': 0.2,\n",
       " 'early_stopping_patience': 25,\n",
       " 'early_stopping_min_delta': 0.0001,\n",
       " 'rs_seed': None}"
      ]
     },
     "execution_count": 6,
     "metadata": {},
     "output_type": "execute_result"
    }
   ],
   "source": [
    "training_values"
   ]
  },
  {
   "cell_type": "code",
   "execution_count": 7,
   "id": "b28babc1-26df-46a4-a957-6c94453f8fc3",
   "metadata": {},
   "outputs": [],
   "source": [
    "with open(\"../model_training/invasion_depth_best_hp.json\", 'r') as fp:\n",
    "    best_hp = json.load(fp)"
   ]
  },
  {
   "cell_type": "code",
   "execution_count": 8,
   "id": "d8b52787-2f71-4cef-9d7d-cc43d1128f60",
   "metadata": {},
   "outputs": [
    {
     "data": {
      "text/plain": [
       "{'adam_beta_1': 0.9066466810625207,\n",
       " 'adam_beta_2': 0.9947698608592066,\n",
       " 'fine_tune_lr': 9.141354728081903e-05,\n",
       " 'frozen_lr': 0.00022767552973325001,\n",
       " 'last_resnet_layer': 'conv5_block1_out'}"
      ]
     },
     "execution_count": 8,
     "metadata": {},
     "output_type": "execute_result"
    }
   ],
   "source": [
    "best_hp"
   ]
  },
  {
   "cell_type": "code",
   "execution_count": 9,
   "id": "77f26842-80d0-4710-ab9f-3f19c1029199",
   "metadata": {},
   "outputs": [],
   "source": [
    "### Data paths ###\n",
    "root_data_path = f\"{dirs.data_dir}/invasion_data/\"\n",
    "model_training_path = f\"{dirs.analysis_dir}/resnet50_invasion_model\"\n",
    "demo_model_training_path = f\"{model_training_path}/demo\"\n",
    "mcp_best_frozen_weights_file = f\"{demo_model_training_path}/best_frozen_weights.h5\"\n",
    "mcp_best_finetune_weights_file = f\"{demo_model_training_path}/best_finetune_weights.h5\"\n",
    "\n",
    "\n",
    "### General training parameters ###\n",
    "resnet_inp_shape = (128, 128, 3)\n",
    "class_labels = {\"no_invasion\": 0, \"invasion\": 1}\n",
    "# Binary classification -> only need 1 output unit\n",
    "n_outputs = 1\n",
    "\n",
    "seed = training_values[\"rs_seed\"]\n",
    "val_split = training_values[\"val_split\"]\n",
    "batch_size = training_values[\"batch_size\"]\n",
    "frozen_epochs = training_values[\"frozen_epochs\"]\n",
    "fine_tune_epochs = training_values[\"fine_tune_epochs\"]\n",
    "# frozen_epochs = 5\n",
    "# fine_tune_epochs = 5\n",
    "adam_beta_1 = best_hp[\"adam_beta_1\"]\n",
    "adam_beta_2 = best_hp[\"adam_beta_2\"]\n",
    "frozen_lr = best_hp[\"frozen_lr\"]\n",
    "fine_tune_lr = best_hp[\"fine_tune_lr\"]\n",
    "last_resnet_layer = best_hp[\"last_resnet_layer\"]\n",
    "\n",
    "\n",
    "### Early stopping ###\n",
    "es_criterion = \"val_loss\"\n",
    "es_mode = \"min\"\n",
    "# Update these depending on seriousness of experiment\n",
    "es_patience = training_values[\"early_stopping_patience\"]\n",
    "es_min_delta = training_values[\"early_stopping_min_delta\"]\n",
    "\n",
    "\n",
    "### Model saving ###\n",
    "mcp_criterion = \"val_loss\"\n",
    "mcp_mode = \"min\"\n",
    "mcp_best_only = True\n",
    "# Need to set to True otherwise base model \"layer\" won't save/load properly\n",
    "mcp_weights_only = True"
   ]
  },
  {
   "cell_type": "code",
   "execution_count": 10,
   "id": "bd546ce2-154b-4f0b-8010-f581516a6597",
   "metadata": {},
   "outputs": [],
   "source": [
    "data_prep.make_dir(demo_model_training_path)"
   ]
  },
  {
   "cell_type": "markdown",
   "id": "0a2e6e22-ffed-459e-8895-f1917396c661",
   "metadata": {},
   "source": [
    "# Prep for loading data"
   ]
  },
  {
   "cell_type": "code",
   "execution_count": 11,
   "id": "7d22b149-c675-4b1c-95e7-909716249d56",
   "metadata": {},
   "outputs": [],
   "source": [
    "rs = np.random.RandomState(seed)"
   ]
  },
  {
   "cell_type": "code",
   "execution_count": 12,
   "id": "c6a69dfe-afa0-41fa-8f26-c8463105bf3a",
   "metadata": {
    "tags": []
   },
   "outputs": [],
   "source": [
    "# Training & validation data (drawn from same image set & randomly assigned)\n",
    "tv_class_paths = {v: glob(f\"{root_data_path}/train/{k}/*.tif\") for k, v in class_labels.items()}\n",
    "for k, v in tv_class_paths.items():\n",
    "    rs.shuffle(v)"
   ]
  },
  {
   "cell_type": "code",
   "execution_count": 13,
   "id": "29cd381e-feb3-4c7e-be01-e227347eccee",
   "metadata": {},
   "outputs": [],
   "source": [
    "train_data_paths, val_data_paths = data_prep.get_train_val_split(tv_class_paths, val_split=val_split)"
   ]
  },
  {
   "cell_type": "markdown",
   "id": "4105535b-e87d-4efb-9045-6cc547f17a23",
   "metadata": {
    "tags": []
   },
   "source": [
    "# Datasets"
   ]
  },
  {
   "cell_type": "code",
   "execution_count": 14,
   "id": "794117aa-2f2c-420e-bbff-665efd53fc0e",
   "metadata": {},
   "outputs": [],
   "source": [
    "train_datagen = data_prep.InvasionDataGenerator(\n",
    "    train_data_paths,\n",
    "    class_labels,\n",
    "    batch_size,\n",
    "    resnet_inp_shape[:2],\n",
    "    rs,\n",
    "    class_weights=True,\n",
    "    shuffle=True,\n",
    "    augmentation_function=prep.augment_imgs\n",
    ")"
   ]
  },
  {
   "cell_type": "code",
   "execution_count": 15,
   "id": "42741ae2-e93b-47ff-8a02-e2677bf9c41e",
   "metadata": {},
   "outputs": [
    {
     "data": {
      "text/plain": [
       "{0: 449, 1: 177}"
      ]
     },
     "execution_count": 15,
     "metadata": {},
     "output_type": "execute_result"
    }
   ],
   "source": [
    "train_datagen.class_counts"
   ]
  },
  {
   "cell_type": "code",
   "execution_count": 16,
   "id": "03435e9f-68ac-464f-b4dc-d2e37c3808e4",
   "metadata": {},
   "outputs": [
    {
     "data": {
      "text/plain": [
       "{0: 0.6971046770601337, 1: 1.768361581920904}"
      ]
     },
     "execution_count": 16,
     "metadata": {},
     "output_type": "execute_result"
    }
   ],
   "source": [
    "train_datagen.class_weights"
   ]
  },
  {
   "cell_type": "code",
   "execution_count": 17,
   "id": "52e07d56-64ed-4268-9e88-f9c3a465d1d5",
   "metadata": {},
   "outputs": [],
   "source": [
    "val_datagen = data_prep.InvasionDataGenerator(\n",
    "    val_data_paths,\n",
    "    class_labels,\n",
    "    batch_size,\n",
    "    resnet_inp_shape[:2],\n",
    "    rs,\n",
    "    class_weights=train_datagen.class_weights,\n",
    "    shuffle=True,\n",
    "    augmentation_function=train_datagen.augmentation_function\n",
    ")"
   ]
  },
  {
   "cell_type": "code",
   "execution_count": 18,
   "id": "98e8940a-4e77-47c5-a177-7d67d3bed787",
   "metadata": {},
   "outputs": [
    {
     "data": {
      "text/plain": [
       "{0: 112, 1: 44}"
      ]
     },
     "execution_count": 18,
     "metadata": {},
     "output_type": "execute_result"
    }
   ],
   "source": [
    "val_datagen.class_counts"
   ]
  },
  {
   "cell_type": "markdown",
   "id": "f50e81cb-bfd6-4ac8-a36d-da6ca500c5f3",
   "metadata": {
    "tags": []
   },
   "source": [
    "# Model"
   ]
  },
  {
   "cell_type": "code",
   "execution_count": 19,
   "id": "5f59ef1d-0f95-4a14-a92d-327229a104a9",
   "metadata": {},
   "outputs": [],
   "source": [
    "K.clear_session()"
   ]
  },
  {
   "cell_type": "code",
   "execution_count": 20,
   "id": "b5bbe2fe-8e5b-4e69-a87d-81dcee513b00",
   "metadata": {
    "tags": []
   },
   "outputs": [],
   "source": [
    "tl_model = models.build_ResNet50_TL(\n",
    "    n_outputs,\n",
    "    resnet_inp_shape,\n",
    "    base_last_layer=last_resnet_layer,\n",
    "    # Switch to softmax once n_outputs > 1\n",
    "    output_act=\"sigmoid\",\n",
    "    base_model_trainable=False\n",
    ")"
   ]
  },
  {
   "cell_type": "markdown",
   "id": "658b615f-f9db-4eec-bc38-3ca3d0601e8f",
   "metadata": {},
   "source": [
    "# Frozen training"
   ]
  },
  {
   "cell_type": "code",
   "execution_count": 21,
   "id": "5b5def7c-dfa5-40b9-9ce0-f497d45eba3b",
   "metadata": {},
   "outputs": [],
   "source": [
    "tl_model.compile(\n",
    "    optimizer=Adam(learning_rate=frozen_lr, beta_1=adam_beta_1, beta_2=adam_beta_2),\n",
    "    loss=BinaryCrossentropy(),\n",
    "    weighted_metrics=[BinaryAccuracy()]\n",
    ")"
   ]
  },
  {
   "cell_type": "code",
   "execution_count": 22,
   "id": "134be685-feda-4ef2-b1f3-e431dcf88233",
   "metadata": {
    "tags": []
   },
   "outputs": [
    {
     "name": "stdout",
     "output_type": "stream",
     "text": [
      "Model: \"model_1\"\n",
      "_________________________________________________________________\n",
      "Layer (type)                 Output Shape              Param #   \n",
      "=================================================================\n",
      "input_2 (InputLayer)         [(None, 128, 128, 3)]     0         \n",
      "_________________________________________________________________\n",
      "base_model (Functional)      (None, 4, 4, 2048)        14644096  \n",
      "_________________________________________________________________\n",
      "global_average_pooling2d (Gl (None, 2048)              0         \n",
      "_________________________________________________________________\n",
      "dense (Dense)                (None, 1)                 2049      \n",
      "_________________________________________________________________\n",
      "activation (Activation)      (None, 1)                 0         \n",
      "=================================================================\n",
      "Total params: 14,646,145\n",
      "Trainable params: 2,049\n",
      "Non-trainable params: 14,644,096\n",
      "_________________________________________________________________\n"
     ]
    }
   ],
   "source": [
    "tl_model.summary()"
   ]
  },
  {
   "cell_type": "code",
   "execution_count": 23,
   "id": "97b6dab5-1ecc-40f3-949e-caeea1ee2b1a",
   "metadata": {
    "tags": []
   },
   "outputs": [],
   "source": [
    "# tl_model.get_layer(\"base_model\").summary()"
   ]
  },
  {
   "cell_type": "code",
   "execution_count": 24,
   "id": "4a30cd0a-6cef-4e3b-b85a-b95be2cd08b1",
   "metadata": {
    "tags": []
   },
   "outputs": [],
   "source": [
    "es_callback = EarlyStopping(monitor=es_criterion, mode=es_mode, min_delta=es_min_delta, patience=es_patience)\n",
    "mcp_callback = ModelCheckpoint(mcp_best_frozen_weights_file, monitor=mcp_criterion, mode=mcp_mode, save_best_only=mcp_best_only, save_weights_only=mcp_weights_only)"
   ]
  },
  {
   "cell_type": "code",
   "execution_count": 25,
   "id": "c38e7b3e-8344-49f4-8c52-70d9ae017acd",
   "metadata": {
    "collapsed": true,
    "jupyter": {
     "outputs_hidden": true
    },
    "tags": []
   },
   "outputs": [
    {
     "name": "stdout",
     "output_type": "stream",
     "text": [
      "Epoch 1/50\n",
      "19/19 [==============================] - 20s 421ms/step - loss: 0.6958 - binary_accuracy: 0.5664 - val_loss: 0.6258 - val_binary_accuracy: 0.6725\n",
      "Epoch 2/50\n",
      "19/19 [==============================] - 6s 224ms/step - loss: 0.6007 - binary_accuracy: 0.6858 - val_loss: 0.5371 - val_binary_accuracy: 0.7307\n",
      "Epoch 3/50\n",
      "19/19 [==============================] - 5s 205ms/step - loss: 0.5367 - binary_accuracy: 0.7405 - val_loss: 0.4909 - val_binary_accuracy: 0.7405\n",
      "Epoch 4/50\n",
      "19/19 [==============================] - 5s 194ms/step - loss: 0.5085 - binary_accuracy: 0.7728 - val_loss: 0.4719 - val_binary_accuracy: 0.7857\n",
      "Epoch 5/50\n",
      "19/19 [==============================] - 6s 214ms/step - loss: 0.4836 - binary_accuracy: 0.7445 - val_loss: 0.4612 - val_binary_accuracy: 0.8052\n",
      "Epoch 6/50\n",
      "19/19 [==============================] - 5s 197ms/step - loss: 0.4563 - binary_accuracy: 0.7945 - val_loss: 0.4728 - val_binary_accuracy: 0.7412\n",
      "Epoch 7/50\n",
      "19/19 [==============================] - 6s 200ms/step - loss: 0.4551 - binary_accuracy: 0.7983 - val_loss: 0.4470 - val_binary_accuracy: 0.7991: 0s - loss: 0.4913 - binary_accura\n",
      "Epoch 8/50\n",
      "19/19 [==============================] - 5s 197ms/step - loss: 0.4376 - binary_accuracy: 0.8131 - val_loss: 0.4325 - val_binary_accuracy: 0.7685\n",
      "Epoch 9/50\n",
      "19/19 [==============================] - 5s 206ms/step - loss: 0.4430 - binary_accuracy: 0.7926 - val_loss: 0.4071 - val_binary_accuracy: 0.8151\n",
      "Epoch 10/50\n",
      "19/19 [==============================] - 5s 199ms/step - loss: 0.4403 - binary_accuracy: 0.8024 - val_loss: 0.3645 - val_binary_accuracy: 0.8404\n",
      "Epoch 11/50\n",
      "19/19 [==============================] - 5s 194ms/step - loss: 0.4165 - binary_accuracy: 0.8151 - val_loss: 0.3968 - val_binary_accuracy: 0.8719\n",
      "Epoch 12/50\n",
      "19/19 [==============================] - 5s 191ms/step - loss: 0.4110 - binary_accuracy: 0.8185 - val_loss: 0.4066 - val_binary_accuracy: 0.7752\n",
      "Epoch 13/50\n",
      "19/19 [==============================] - 5s 201ms/step - loss: 0.4090 - binary_accuracy: 0.8211 - val_loss: 0.4009 - val_binary_accuracy: 0.8383\n",
      "Epoch 14/50\n",
      "19/19 [==============================] - 6s 200ms/step - loss: 0.3904 - binary_accuracy: 0.8206 - val_loss: 0.3482 - val_binary_accuracy: 0.8701\n",
      "Epoch 15/50\n",
      "19/19 [==============================] - 6s 208ms/step - loss: 0.4065 - binary_accuracy: 0.8175 - val_loss: 0.3589 - val_binary_accuracy: 0.8272\n",
      "Epoch 16/50\n",
      "19/19 [==============================] - 5s 205ms/step - loss: 0.4031 - binary_accuracy: 0.8049 - val_loss: 0.3914 - val_binary_accuracy: 0.8435\n",
      "Epoch 17/50\n",
      "19/19 [==============================] - 6s 219ms/step - loss: 0.4047 - binary_accuracy: 0.8119 - val_loss: 0.4003 - val_binary_accuracy: 0.8107\n",
      "Epoch 18/50\n",
      "19/19 [==============================] - 5s 201ms/step - loss: 0.3879 - binary_accuracy: 0.8292 - val_loss: 0.3678 - val_binary_accuracy: 0.8353\n",
      "Epoch 19/50\n",
      "19/19 [==============================] - 6s 215ms/step - loss: 0.3962 - binary_accuracy: 0.8254 - val_loss: 0.3763 - val_binary_accuracy: 0.8003\n",
      "Epoch 20/50\n",
      "19/19 [==============================] - 6s 207ms/step - loss: 0.3930 - binary_accuracy: 0.8297 - val_loss: 0.3199 - val_binary_accuracy: 0.8651\n",
      "Epoch 21/50\n",
      "19/19 [==============================] - 6s 213ms/step - loss: 0.3770 - binary_accuracy: 0.8380 - val_loss: 0.4002 - val_binary_accuracy: 0.7543\n",
      "Epoch 22/50\n",
      "19/19 [==============================] - 5s 209ms/step - loss: 0.3755 - binary_accuracy: 0.8378 - val_loss: 0.3725 - val_binary_accuracy: 0.8286\n",
      "Epoch 23/50\n",
      "19/19 [==============================] - 5s 203ms/step - loss: 0.3767 - binary_accuracy: 0.8405 - val_loss: 0.4140 - val_binary_accuracy: 0.8356\n",
      "Epoch 24/50\n",
      "19/19 [==============================] - 6s 203ms/step - loss: 0.3675 - binary_accuracy: 0.8413 - val_loss: 0.3535 - val_binary_accuracy: 0.8296\n",
      "Epoch 25/50\n",
      "19/19 [==============================] - 6s 219ms/step - loss: 0.3595 - binary_accuracy: 0.8505 - val_loss: 0.3192 - val_binary_accuracy: 0.8748\n",
      "Epoch 26/50\n",
      "19/19 [==============================] - 5s 206ms/step - loss: 0.3721 - binary_accuracy: 0.8316 - val_loss: 0.3477 - val_binary_accuracy: 0.8593\n",
      "Epoch 27/50\n",
      "19/19 [==============================] - 6s 199ms/step - loss: 0.3621 - binary_accuracy: 0.8477 - val_loss: 0.3641 - val_binary_accuracy: 0.8232\n",
      "Epoch 28/50\n",
      "19/19 [==============================] - 5s 204ms/step - loss: 0.3646 - binary_accuracy: 0.8455 - val_loss: 0.3281 - val_binary_accuracy: 0.8520\n",
      "Epoch 29/50\n",
      "19/19 [==============================] - 5s 202ms/step - loss: 0.3559 - binary_accuracy: 0.8465 - val_loss: 0.3191 - val_binary_accuracy: 0.8698\n",
      "Epoch 30/50\n",
      "19/19 [==============================] - 6s 199ms/step - loss: 0.3562 - binary_accuracy: 0.8357 - val_loss: 0.3418 - val_binary_accuracy: 0.8540\n",
      "Epoch 31/50\n",
      "19/19 [==============================] - 5s 205ms/step - loss: 0.3521 - binary_accuracy: 0.8434 - val_loss: 0.3956 - val_binary_accuracy: 0.8161\n",
      "Epoch 32/50\n",
      "19/19 [==============================] - 6s 207ms/step - loss: 0.3692 - binary_accuracy: 0.8138 - val_loss: 0.3549 - val_binary_accuracy: 0.8111\n",
      "Epoch 33/50\n",
      "19/19 [==============================] - 5s 205ms/step - loss: 0.3470 - binary_accuracy: 0.8455 - val_loss: 0.3147 - val_binary_accuracy: 0.8850\n",
      "Epoch 34/50\n",
      "19/19 [==============================] - 6s 217ms/step - loss: 0.3449 - binary_accuracy: 0.8590 - val_loss: 0.3353 - val_binary_accuracy: 0.8434\n",
      "Epoch 35/50\n",
      "19/19 [==============================] - 6s 217ms/step - loss: 0.3370 - binary_accuracy: 0.8518 - val_loss: 0.3730 - val_binary_accuracy: 0.8272\n",
      "Epoch 36/50\n",
      "19/19 [==============================] - 6s 214ms/step - loss: 0.3520 - binary_accuracy: 0.8435 - val_loss: 0.3304 - val_binary_accuracy: 0.8549\n",
      "Epoch 37/50\n",
      "19/19 [==============================] - 5s 199ms/step - loss: 0.3402 - binary_accuracy: 0.8439 - val_loss: 0.3280 - val_binary_accuracy: 0.8502\n",
      "Epoch 38/50\n",
      "19/19 [==============================] - 6s 220ms/step - loss: 0.3329 - binary_accuracy: 0.8515 - val_loss: 0.3882 - val_binary_accuracy: 0.8381\n",
      "Epoch 39/50\n",
      "19/19 [==============================] - 6s 198ms/step - loss: 0.3497 - binary_accuracy: 0.8384 - val_loss: 0.3685 - val_binary_accuracy: 0.8212\n",
      "Epoch 40/50\n",
      "19/19 [==============================] - 6s 201ms/step - loss: 0.3491 - binary_accuracy: 0.8417 - val_loss: 0.3244 - val_binary_accuracy: 0.8690\n",
      "Epoch 41/50\n",
      "19/19 [==============================] - 6s 191ms/step - loss: 0.3569 - binary_accuracy: 0.8541 - val_loss: 0.3092 - val_binary_accuracy: 0.8438\n",
      "Epoch 42/50\n",
      "19/19 [==============================] - 5s 210ms/step - loss: 0.3482 - binary_accuracy: 0.8398 - val_loss: 0.3218 - val_binary_accuracy: 0.8407\n",
      "Epoch 43/50\n",
      "19/19 [==============================] - 6s 194ms/step - loss: 0.3430 - binary_accuracy: 0.8571 - val_loss: 0.3474 - val_binary_accuracy: 0.8605\n",
      "Epoch 44/50\n",
      "19/19 [==============================] - 5s 190ms/step - loss: 0.3453 - binary_accuracy: 0.8483 - val_loss: 0.3379 - val_binary_accuracy: 0.8767\n",
      "Epoch 45/50\n",
      "19/19 [==============================] - 5s 200ms/step - loss: 0.3451 - binary_accuracy: 0.8460 - val_loss: 0.3636 - val_binary_accuracy: 0.8037\n",
      "Epoch 46/50\n",
      "19/19 [==============================] - 5s 201ms/step - loss: 0.3411 - binary_accuracy: 0.8437 - val_loss: 0.3357 - val_binary_accuracy: 0.8379\n",
      "Epoch 47/50\n",
      "19/19 [==============================] - 5s 196ms/step - loss: 0.3328 - binary_accuracy: 0.8442 - val_loss: 0.3510 - val_binary_accuracy: 0.8381\n",
      "Epoch 48/50\n",
      "19/19 [==============================] - 6s 196ms/step - loss: 0.3355 - binary_accuracy: 0.8535 - val_loss: 0.3418 - val_binary_accuracy: 0.8024\n",
      "Epoch 49/50\n",
      "19/19 [==============================] - 6s 214ms/step - loss: 0.3241 - binary_accuracy: 0.8599 - val_loss: 0.3275 - val_binary_accuracy: 0.8390\n",
      "Epoch 50/50\n",
      "19/19 [==============================] - 6s 211ms/step - loss: 0.3294 - binary_accuracy: 0.8477 - val_loss: 0.3341 - val_binary_accuracy: 0.8511\n"
     ]
    }
   ],
   "source": [
    "h1 = tl_model.fit(\n",
    "    train_datagen,\n",
    "    validation_data=val_datagen,\n",
    "    epochs=frozen_epochs,\n",
    "    callbacks=[es_callback, mcp_callback],\n",
    "    workers=n_cores\n",
    ")"
   ]
  },
  {
   "cell_type": "code",
   "execution_count": 26,
   "id": "b5b4515d-5967-4631-a496-1ae1931ab042",
   "metadata": {},
   "outputs": [
    {
     "data": {
      "text/plain": [
       "(40, 0.3092166781425476)"
      ]
     },
     "execution_count": 26,
     "metadata": {},
     "output_type": "execute_result"
    }
   ],
   "source": [
    "np.argmin(h1.history[\"val_loss\"]), np.min(h1.history[\"val_loss\"])"
   ]
  },
  {
   "cell_type": "code",
   "execution_count": 27,
   "id": "85cc9124-a9b3-48d2-acb6-2289349c5f43",
   "metadata": {},
   "outputs": [
    {
     "data": {
      "text/plain": [
       "(32, 0.8850107789039612)"
      ]
     },
     "execution_count": 27,
     "metadata": {},
     "output_type": "execute_result"
    }
   ],
   "source": [
    "np.argmax(h1.history[\"val_binary_accuracy\"]), np.max(h1.history[\"val_binary_accuracy\"])"
   ]
  },
  {
   "cell_type": "markdown",
   "id": "8d21a2e1-6fb0-4252-97b6-7f395a21aa98",
   "metadata": {
    "tags": []
   },
   "source": [
    "# Load best frozen weights before fine tuning"
   ]
  },
  {
   "cell_type": "code",
   "execution_count": 28,
   "id": "f727e052-d9c1-4613-8582-d93c31e46047",
   "metadata": {},
   "outputs": [],
   "source": [
    "tl_model.load_weights(mcp_best_frozen_weights_file)"
   ]
  },
  {
   "cell_type": "markdown",
   "id": "7e04b9f7-0220-47e1-88a1-b375166403e7",
   "metadata": {},
   "source": [
    "# Fine tune training"
   ]
  },
  {
   "cell_type": "code",
   "execution_count": 29,
   "id": "826188ac-9b5f-4e90-8d9f-2fcaeaa1a98c",
   "metadata": {},
   "outputs": [],
   "source": [
    "# Make base model trainable (leave layers in inference mode)\n",
    "models.toggle_TL_freeze(tl_model)"
   ]
  },
  {
   "cell_type": "code",
   "execution_count": 30,
   "id": "9fce61bd-18b7-43e0-96f9-a309c763888f",
   "metadata": {},
   "outputs": [],
   "source": [
    "# tl_model.compile(optimizer=Adam(learning_rate=fine_tune_lr), loss=BinaryCrossentropy(), metrics=[BinaryAccuracy()])\n",
    "tl_model.compile(\n",
    "    optimizer=Adam(learning_rate=fine_tune_lr, beta_1=adam_beta_1, beta_2=adam_beta_2),\n",
    "    loss=BinaryCrossentropy(),\n",
    "    weighted_metrics=[BinaryAccuracy()]\n",
    ")"
   ]
  },
  {
   "cell_type": "code",
   "execution_count": 31,
   "id": "ff63ccae-1830-4cda-ad44-a8bc1436562c",
   "metadata": {
    "tags": []
   },
   "outputs": [
    {
     "name": "stdout",
     "output_type": "stream",
     "text": [
      "Model: \"model_1\"\n",
      "_________________________________________________________________\n",
      "Layer (type)                 Output Shape              Param #   \n",
      "=================================================================\n",
      "input_2 (InputLayer)         [(None, 128, 128, 3)]     0         \n",
      "_________________________________________________________________\n",
      "base_model (Functional)      (None, 4, 4, 2048)        14644096  \n",
      "_________________________________________________________________\n",
      "global_average_pooling2d (Gl (None, 2048)              0         \n",
      "_________________________________________________________________\n",
      "dense (Dense)                (None, 1)                 2049      \n",
      "_________________________________________________________________\n",
      "activation (Activation)      (None, 1)                 0         \n",
      "=================================================================\n",
      "Total params: 14,646,145\n",
      "Trainable params: 14,605,313\n",
      "Non-trainable params: 40,832\n",
      "_________________________________________________________________\n"
     ]
    }
   ],
   "source": [
    "tl_model.summary()"
   ]
  },
  {
   "cell_type": "code",
   "execution_count": 32,
   "id": "4bc0da73-0193-4e18-bc4c-f84d86e17a89",
   "metadata": {},
   "outputs": [],
   "source": [
    "es_callback = EarlyStopping(monitor=es_criterion, mode=es_mode, min_delta=es_min_delta, patience=es_patience)\n",
    "mcp_callback = ModelCheckpoint(mcp_best_finetune_weights_file, monitor=mcp_criterion, mode=mcp_mode, save_best_only=mcp_best_only, save_weights_only=mcp_weights_only)"
   ]
  },
  {
   "cell_type": "code",
   "execution_count": 33,
   "id": "05c2c008-c5fe-473f-a209-9da1e56b64b4",
   "metadata": {
    "tags": []
   },
   "outputs": [
    {
     "name": "stdout",
     "output_type": "stream",
     "text": [
      "Epoch 1/50\n",
      "19/19 [==============================] - 15s 311ms/step - loss: 1.2484 - binary_accuracy: 0.5923 - val_loss: 0.6075 - val_binary_accuracy: 0.6563\n",
      "Epoch 2/50\n",
      "19/19 [==============================] - 6s 260ms/step - loss: 0.5413 - binary_accuracy: 0.7408 - val_loss: 0.4988 - val_binary_accuracy: 0.7586\n",
      "Epoch 3/50\n",
      "19/19 [==============================] - 6s 228ms/step - loss: 0.4969 - binary_accuracy: 0.7540 - val_loss: 0.3860 - val_binary_accuracy: 0.8494\n",
      "Epoch 4/50\n",
      "19/19 [==============================] - 6s 227ms/step - loss: 0.4252 - binary_accuracy: 0.7994 - val_loss: 0.4120 - val_binary_accuracy: 0.8265\n",
      "Epoch 5/50\n",
      "19/19 [==============================] - 6s 230ms/step - loss: 0.3862 - binary_accuracy: 0.8204 - val_loss: 0.3496 - val_binary_accuracy: 0.8325\n",
      "Epoch 6/50\n",
      "19/19 [==============================] - 6s 228ms/step - loss: 0.3671 - binary_accuracy: 0.8264 - val_loss: 0.3721 - val_binary_accuracy: 0.8595\n",
      "Epoch 7/50\n",
      "19/19 [==============================] - 6s 232ms/step - loss: 0.3845 - binary_accuracy: 0.8220 - val_loss: 0.3873 - val_binary_accuracy: 0.8356\n",
      "Epoch 8/50\n",
      "19/19 [==============================] - 7s 249ms/step - loss: 0.3456 - binary_accuracy: 0.8499 - val_loss: 0.3265 - val_binary_accuracy: 0.8320\n",
      "Epoch 9/50\n",
      "19/19 [==============================] - 6s 239ms/step - loss: 0.3542 - binary_accuracy: 0.8314 - val_loss: 0.3103 - val_binary_accuracy: 0.8796\n",
      "Epoch 10/50\n",
      "19/19 [==============================] - 6s 248ms/step - loss: 0.3165 - binary_accuracy: 0.8744 - val_loss: 0.3108 - val_binary_accuracy: 0.8831\n",
      "Epoch 11/50\n",
      "19/19 [==============================] - 6s 234ms/step - loss: 0.2776 - binary_accuracy: 0.8682 - val_loss: 0.3028 - val_binary_accuracy: 0.8540\n",
      "Epoch 12/50\n",
      "19/19 [==============================] - 6s 226ms/step - loss: 0.2984 - binary_accuracy: 0.8807 - val_loss: 0.2836 - val_binary_accuracy: 0.8679\n",
      "Epoch 13/50\n",
      "19/19 [==============================] - 6s 232ms/step - loss: 0.2563 - binary_accuracy: 0.8874 - val_loss: 0.2996 - val_binary_accuracy: 0.8386\n",
      "Epoch 14/50\n",
      "19/19 [==============================] - 6s 229ms/step - loss: 0.3058 - binary_accuracy: 0.8593 - val_loss: 0.3093 - val_binary_accuracy: 0.8403\n",
      "Epoch 15/50\n",
      "19/19 [==============================] - 7s 234ms/step - loss: 0.2686 - binary_accuracy: 0.8940 - val_loss: 0.2717 - val_binary_accuracy: 0.8627\n",
      "Epoch 16/50\n",
      "19/19 [==============================] - 6s 239ms/step - loss: 0.2788 - binary_accuracy: 0.8653 - val_loss: 0.3180 - val_binary_accuracy: 0.8649\n",
      "Epoch 17/50\n",
      "19/19 [==============================] - 7s 235ms/step - loss: 0.2810 - binary_accuracy: 0.8761 - val_loss: 0.4095 - val_binary_accuracy: 0.8274\n",
      "Epoch 18/50\n",
      "19/19 [==============================] - 6s 239ms/step - loss: 0.2711 - binary_accuracy: 0.8626 - val_loss: 0.3588 - val_binary_accuracy: 0.8205\n",
      "Epoch 19/50\n",
      "19/19 [==============================] - 6s 236ms/step - loss: 0.2531 - binary_accuracy: 0.8767 - val_loss: 0.3131 - val_binary_accuracy: 0.8705\n",
      "Epoch 20/50\n",
      "19/19 [==============================] - 6s 233ms/step - loss: 0.2578 - binary_accuracy: 0.8759 - val_loss: 0.2660 - val_binary_accuracy: 0.8779\n",
      "Epoch 21/50\n",
      "19/19 [==============================] - 7s 258ms/step - loss: 0.2702 - binary_accuracy: 0.8782 - val_loss: 0.3044 - val_binary_accuracy: 0.8582\n",
      "Epoch 22/50\n",
      "19/19 [==============================] - 6s 235ms/step - loss: 0.2765 - binary_accuracy: 0.8656 - val_loss: 0.3078 - val_binary_accuracy: 0.8833\n",
      "Epoch 23/50\n",
      "19/19 [==============================] - 6s 219ms/step - loss: 0.3388 - binary_accuracy: 0.8427 - val_loss: 0.3620 - val_binary_accuracy: 0.8426\n",
      "Epoch 24/50\n",
      "19/19 [==============================] - 6s 225ms/step - loss: 0.3529 - binary_accuracy: 0.8449 - val_loss: 0.4422 - val_binary_accuracy: 0.8153\n",
      "Epoch 25/50\n",
      "19/19 [==============================] - 6s 225ms/step - loss: 0.2970 - binary_accuracy: 0.8522 - val_loss: 0.2855 - val_binary_accuracy: 0.8676\n",
      "Epoch 26/50\n",
      "19/19 [==============================] - 6s 229ms/step - loss: 0.2343 - binary_accuracy: 0.9043 - val_loss: 0.2940 - val_binary_accuracy: 0.8682\n",
      "Epoch 27/50\n",
      "19/19 [==============================] - 6s 236ms/step - loss: 0.2279 - binary_accuracy: 0.9045 - val_loss: 0.4507 - val_binary_accuracy: 0.8345\n",
      "Epoch 28/50\n",
      "19/19 [==============================] - 7s 226ms/step - loss: 0.2335 - binary_accuracy: 0.8862 - val_loss: 0.3298 - val_binary_accuracy: 0.8669\n",
      "Epoch 29/50\n",
      "19/19 [==============================] - 6s 228ms/step - loss: 0.2279 - binary_accuracy: 0.8886 - val_loss: 0.3130 - val_binary_accuracy: 0.8862\n",
      "Epoch 30/50\n",
      "19/19 [==============================] - 6s 234ms/step - loss: 0.2349 - binary_accuracy: 0.8927 - val_loss: 0.2363 - val_binary_accuracy: 0.8935\n",
      "Epoch 31/50\n",
      "19/19 [==============================] - 6s 227ms/step - loss: 0.1867 - binary_accuracy: 0.9113 - val_loss: 0.3428 - val_binary_accuracy: 0.8219\n",
      "Epoch 32/50\n",
      "19/19 [==============================] - 6s 223ms/step - loss: 0.1803 - binary_accuracy: 0.9227 - val_loss: 0.5652 - val_binary_accuracy: 0.8618\n",
      "Epoch 33/50\n",
      "19/19 [==============================] - 6s 226ms/step - loss: 0.1716 - binary_accuracy: 0.9293 - val_loss: 0.3603 - val_binary_accuracy: 0.8808\n",
      "Epoch 34/50\n",
      "19/19 [==============================] - 6s 229ms/step - loss: 0.1856 - binary_accuracy: 0.9150 - val_loss: 0.3862 - val_binary_accuracy: 0.8536\n",
      "Epoch 35/50\n",
      "19/19 [==============================] - 6s 227ms/step - loss: 0.2121 - binary_accuracy: 0.9006 - val_loss: 0.3182 - val_binary_accuracy: 0.8385\n",
      "Epoch 36/50\n",
      "19/19 [==============================] - 6s 227ms/step - loss: 0.1758 - binary_accuracy: 0.9292 - val_loss: 0.5309 - val_binary_accuracy: 0.8137\n",
      "Epoch 37/50\n",
      "19/19 [==============================] - 6s 231ms/step - loss: 0.1616 - binary_accuracy: 0.9294 - val_loss: 0.4259 - val_binary_accuracy: 0.8394\n",
      "Epoch 38/50\n",
      "19/19 [==============================] - 6s 224ms/step - loss: 0.1594 - binary_accuracy: 0.9300 - val_loss: 0.4059 - val_binary_accuracy: 0.8461\n",
      "Epoch 39/50\n",
      "19/19 [==============================] - 6s 228ms/step - loss: 0.1988 - binary_accuracy: 0.9102 - val_loss: 0.4024 - val_binary_accuracy: 0.8667\n",
      "Epoch 40/50\n",
      "19/19 [==============================] - 6s 225ms/step - loss: 0.1827 - binary_accuracy: 0.9165 - val_loss: 0.3098 - val_binary_accuracy: 0.8712\n",
      "Epoch 41/50\n",
      "19/19 [==============================] - 6s 228ms/step - loss: 0.1878 - binary_accuracy: 0.9386 - val_loss: 0.3255 - val_binary_accuracy: 0.8647\n",
      "Epoch 42/50\n",
      "19/19 [==============================] - 7s 251ms/step - loss: 0.2127 - binary_accuracy: 0.8983 - val_loss: 0.5471 - val_binary_accuracy: 0.7588\n",
      "Epoch 43/50\n",
      "19/19 [==============================] - 6s 234ms/step - loss: 0.2574 - binary_accuracy: 0.8735 - val_loss: 0.3373 - val_binary_accuracy: 0.8314\n",
      "Epoch 44/50\n",
      "19/19 [==============================] - 6s 229ms/step - loss: 0.1950 - binary_accuracy: 0.9147 - val_loss: 0.2864 - val_binary_accuracy: 0.8652\n",
      "Epoch 45/50\n",
      "19/19 [==============================] - 6s 225ms/step - loss: 0.1869 - binary_accuracy: 0.9149 - val_loss: 0.2727 - val_binary_accuracy: 0.8881\n",
      "Epoch 46/50\n",
      "19/19 [==============================] - 6s 221ms/step - loss: 0.3287 - binary_accuracy: 0.9000 - val_loss: 0.3532 - val_binary_accuracy: 0.8444\n",
      "Epoch 47/50\n",
      "19/19 [==============================] - 6s 235ms/step - loss: 0.2398 - binary_accuracy: 0.8868 - val_loss: 0.3816 - val_binary_accuracy: 0.8286\n",
      "Epoch 48/50\n",
      "19/19 [==============================] - 6s 229ms/step - loss: 0.2069 - binary_accuracy: 0.9197 - val_loss: 0.2917 - val_binary_accuracy: 0.8528\n",
      "Epoch 49/50\n",
      "19/19 [==============================] - 7s 226ms/step - loss: 0.2026 - binary_accuracy: 0.8953 - val_loss: 0.4035 - val_binary_accuracy: 0.8516\n",
      "Epoch 50/50\n",
      "19/19 [==============================] - 6s 230ms/step - loss: 0.1654 - binary_accuracy: 0.9133 - val_loss: 0.4912 - val_binary_accuracy: 0.8440\n"
     ]
    }
   ],
   "source": [
    "h2 = tl_model.fit(\n",
    "    train_datagen,\n",
    "    validation_data=val_datagen,\n",
    "    epochs=fine_tune_epochs,\n",
    "    callbacks=[es_callback, mcp_callback],\n",
    "    workers=n_cores\n",
    ")"
   ]
  },
  {
   "cell_type": "code",
   "execution_count": 34,
   "id": "010da2d1-dcef-47c8-8011-73bbf31c5b0c",
   "metadata": {},
   "outputs": [
    {
     "data": {
      "text/plain": [
       "(29, 0.23632970452308655)"
      ]
     },
     "execution_count": 34,
     "metadata": {},
     "output_type": "execute_result"
    }
   ],
   "source": [
    "np.argmin(h2.history[\"val_loss\"]), np.min(h2.history[\"val_loss\"])"
   ]
  },
  {
   "cell_type": "code",
   "execution_count": 35,
   "id": "1d04b350-b75d-43ed-bfc4-a02f09c5bb45",
   "metadata": {},
   "outputs": [
    {
     "data": {
      "text/plain": [
       "(29, 0.8935207724571228)"
      ]
     },
     "execution_count": 35,
     "metadata": {},
     "output_type": "execute_result"
    }
   ],
   "source": [
    "np.argmax(h2.history[\"val_binary_accuracy\"]), np.max(h2.history[\"val_binary_accuracy\"])"
   ]
  },
  {
   "cell_type": "code",
   "execution_count": null,
   "id": "51be6fcc-fc03-4ee3-9304-0227c8a48054",
   "metadata": {},
   "outputs": [],
   "source": []
  }
 ],
 "metadata": {
  "kernelspec": {
   "display_name": "Python 3 (ipykernel)",
   "language": "python",
   "name": "python3"
  },
  "language_info": {
   "codemirror_mode": {
    "name": "ipython",
    "version": 3
   },
   "file_extension": ".py",
   "mimetype": "text/x-python",
   "name": "python",
   "nbconvert_exporter": "python",
   "pygments_lexer": "ipython3",
   "version": "3.9.10"
  }
 },
 "nbformat": 4,
 "nbformat_minor": 5
}
