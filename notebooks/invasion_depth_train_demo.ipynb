{
 "cells": [
  {
   "cell_type": "code",
   "execution_count": 1,
   "id": "0c12c68d-93a1-41af-b05c-e56b17582e41",
   "metadata": {
    "tags": []
   },
   "outputs": [],
   "source": [
    "import tensorflow.keras.backend as K\n",
    "import numpy as np\n",
    "import dask as d\n",
    "import os\n",
    "import cv2\n",
    "import json\n",
    "import multiprocessing\n",
    "import matplotlib.pyplot as plt\n",
    "\n",
    "from glob import glob\n",
    "from copy import deepcopy\n",
    "from tensorflow.keras.preprocessing.image import ImageDataGenerator, load_img\n",
    "from tensorflow.keras.optimizers import Adam\n",
    "from tensorflow.keras.losses import BinaryCrossentropy\n",
    "from tensorflow.keras.metrics import BinaryAccuracy\n",
    "from tensorflow.keras.utils import Sequence\n",
    "from tensorflow.keras.callbacks import EarlyStopping, ModelCheckpoint\n",
    "from tensorflow.keras.applications import resnet50"
   ]
  },
  {
   "cell_type": "code",
   "execution_count": 2,
   "id": "a402a73f-b4a9-44ba-8ae5-06641c0668f6",
   "metadata": {},
   "outputs": [
    {
     "data": {
      "text/plain": [
       "16"
      ]
     },
     "execution_count": 2,
     "metadata": {},
     "output_type": "execute_result"
    }
   ],
   "source": [
    "n_cores = multiprocessing.cpu_count()\n",
    "n_cores"
   ]
  },
  {
   "cell_type": "code",
   "execution_count": 3,
   "id": "fdc59e17-d035-4e8d-ad5f-ca7adfa21f93",
   "metadata": {},
   "outputs": [],
   "source": [
    "from fl_tissue_model_tools import data_prep, dev_config, models, defs\n",
    "import fl_tissue_model_tools.preprocessing as prep"
   ]
  },
  {
   "cell_type": "code",
   "execution_count": 4,
   "id": "0c960e34-fb3c-463b-8bc5-952730a064dc",
   "metadata": {},
   "outputs": [],
   "source": [
    "dirs = dev_config.get_dev_directories(\"../dev_paths.txt\")"
   ]
  },
  {
   "cell_type": "markdown",
   "id": "911406d1-d145-445f-a442-645b5138c60e",
   "metadata": {
    "tags": []
   },
   "source": [
    "# Set up model training parameters"
   ]
  },
  {
   "cell_type": "code",
   "execution_count": 5,
   "id": "6d3b1db8-45d3-4882-bd10-002c0c5f1f27",
   "metadata": {
    "tags": []
   },
   "outputs": [],
   "source": [
    "with open(\"../model_training/invasion_depth_training_values.json\", 'r') as fp:\n",
    "       training_values = json.load(fp)\n",
    "training_values[\"rs_seed\"] = None if (training_values[\"rs_seed\"] == \"None\") else training_values[\"rs_seed\"]"
   ]
  },
  {
   "cell_type": "code",
   "execution_count": 6,
   "id": "75096603-49df-41d3-8d1d-de1801ba8f1f",
   "metadata": {},
   "outputs": [
    {
     "data": {
      "text/plain": [
       "{'batch_size': 32,\n",
       " 'frozen_epochs': 50,\n",
       " 'fine_tune_epochs': 50,\n",
       " 'val_split': 0.2,\n",
       " 'early_stopping_patience': 25,\n",
       " 'early_stopping_min_delta': 0.0001,\n",
       " 'rs_seed': None}"
      ]
     },
     "execution_count": 6,
     "metadata": {},
     "output_type": "execute_result"
    }
   ],
   "source": [
    "training_values"
   ]
  },
  {
   "cell_type": "code",
   "execution_count": 7,
   "id": "b28babc1-26df-46a4-a957-6c94453f8fc3",
   "metadata": {},
   "outputs": [],
   "source": [
    "with open(\"../model_training/invasion_depth_best_hp.json\", 'r') as fp:\n",
    "    best_hp = json.load(fp)"
   ]
  },
  {
   "cell_type": "code",
   "execution_count": 8,
   "id": "d8b52787-2f71-4cef-9d7d-cc43d1128f60",
   "metadata": {},
   "outputs": [
    {
     "data": {
      "text/plain": [
       "{'adam_beta_1': 0.9066466810625207,\n",
       " 'adam_beta_2': 0.9947698608592066,\n",
       " 'fine_tune_lr': 9.141354728081903e-05,\n",
       " 'frozen_lr': 0.00022767552973325001,\n",
       " 'last_resnet_layer': 'conv5_block1_out'}"
      ]
     },
     "execution_count": 8,
     "metadata": {},
     "output_type": "execute_result"
    }
   ],
   "source": [
    "best_hp"
   ]
  },
  {
   "cell_type": "code",
   "execution_count": 9,
   "id": "77f26842-80d0-4710-ab9f-3f19c1029199",
   "metadata": {},
   "outputs": [],
   "source": [
    "root_data_path = f\"{dirs.data_dir}/invasion_data/development\"\n",
    "model_training_path = f\"{dirs.analysis_dir}/resnet50_invasion_model\"\n",
    "demo_model_training_path = f\"{model_training_path}/demo\"\n",
    "mcp_best_frozen_weights_file = f\"{demo_model_training_path}/best_frozen_weights.h5\"\n",
    "mcp_best_finetune_weights_file = f\"{demo_model_training_path}/best_finetune_weights.h5\"\n",
    "\n",
    "\n",
    "### General training parameters ###\n",
    "resnet_inp_shape = (128, 128, 3)\n",
    "# Binary classification -> only need 1 output unit\n",
    "n_outputs = 1\n",
    "seed = training_values[\"rs_seed\"]\n",
    "val_split = training_values[\"val_split\"]\n",
    "batch_size = training_values[\"batch_size\"]\n",
    "frozen_epochs = training_values[\"frozen_epochs\"]\n",
    "fine_tune_epochs = training_values[\"fine_tune_epochs\"]\n",
    "adam_beta_1 = best_hp[\"adam_beta_1\"]\n",
    "adam_beta_2 = best_hp[\"adam_beta_2\"]\n",
    "frozen_lr = best_hp[\"frozen_lr\"]\n",
    "fine_tune_lr = best_hp[\"fine_tune_lr\"]\n",
    "class_labels = {\"no_invasion\": 0, \"invasion\": 1}\n",
    "last_resnet_layer = best_hp[\"last_resnet_layer\"]\n",
    "\n",
    "\n",
    "### Early stopping ###\n",
    "es_criterion = \"val_loss\"\n",
    "es_mode = \"min\"\n",
    "# Update these depending on seriousness of experiment\n",
    "es_patience = training_values[\"early_stopping_patience\"]\n",
    "es_min_delta = training_values[\"early_stopping_min_delta\"]\n",
    "\n",
    "\n",
    "### Model saving ###\n",
    "mcp_criterion = \"val_loss\"\n",
    "mcp_mode = \"min\"\n",
    "mcp_best_only = True\n",
    "# Need to set to True otherwise base model \"layer\" won't save/load properly\n",
    "mcp_weights_only = True"
   ]
  },
  {
   "cell_type": "code",
   "execution_count": 10,
   "id": "bd546ce2-154b-4f0b-8010-f581516a6597",
   "metadata": {},
   "outputs": [],
   "source": [
    "data_prep.make_dir(demo_model_training_path)"
   ]
  },
  {
   "cell_type": "markdown",
   "id": "0a2e6e22-ffed-459e-8895-f1917396c661",
   "metadata": {},
   "source": [
    "# Prep for loading data"
   ]
  },
  {
   "cell_type": "code",
   "execution_count": 11,
   "id": "7d22b149-c675-4b1c-95e7-909716249d56",
   "metadata": {},
   "outputs": [],
   "source": [
    "rs = np.random.RandomState(seed)"
   ]
  },
  {
   "cell_type": "code",
   "execution_count": 12,
   "id": "c6a69dfe-afa0-41fa-8f26-c8463105bf3a",
   "metadata": {
    "tags": []
   },
   "outputs": [],
   "source": [
    "data_paths = {v: glob(f\"{root_data_path}/train/{k}/*.tif\") for k, v in class_labels.items()}\n",
    "for k, v in data_paths.items():\n",
    "    rs.shuffle(v)"
   ]
  },
  {
   "cell_type": "code",
   "execution_count": 13,
   "id": "940352be-2f0d-4e8a-845b-8873c3629a04",
   "metadata": {},
   "outputs": [],
   "source": [
    "data_counts = {k: len(v) for k, v in data_paths.items()}\n",
    "val_counts = {k: round(v * val_split) for k, v in data_counts.items()}\n",
    "train_counts = {k: v - val_counts[k] for k, v in data_counts.items()}\n",
    "train_class_weights = prep.balanced_class_weights_from_counts(train_counts)"
   ]
  },
  {
   "cell_type": "code",
   "execution_count": 14,
   "id": "1c9bdee1-cf3a-4713-800e-750180b6aa06",
   "metadata": {},
   "outputs": [
    {
     "data": {
      "text/plain": [
       "{0: 454, 1: 102}"
      ]
     },
     "execution_count": 14,
     "metadata": {},
     "output_type": "execute_result"
    }
   ],
   "source": [
    "data_counts"
   ]
  },
  {
   "cell_type": "code",
   "execution_count": 15,
   "id": "e48279d3-14b3-43a7-80c4-fd99ddf41749",
   "metadata": {},
   "outputs": [
    {
     "data": {
      "text/plain": [
       "{0: 0.6129476584022039, 1: 2.7134146341463414}"
      ]
     },
     "execution_count": 15,
     "metadata": {},
     "output_type": "execute_result"
    }
   ],
   "source": [
    "train_class_weights"
   ]
  },
  {
   "cell_type": "code",
   "execution_count": 16,
   "id": "0a3b38c5-6c48-4858-aec1-de470844072a",
   "metadata": {
    "tags": []
   },
   "outputs": [],
   "source": [
    "train_data_paths = {k: v[val_counts[k]:] for k, v in data_paths.items()}\n",
    "val_data_paths = {k: v[:val_counts[k]] for k, v in data_paths.items()}"
   ]
  },
  {
   "cell_type": "markdown",
   "id": "4105535b-e87d-4efb-9045-6cc547f17a23",
   "metadata": {
    "tags": []
   },
   "source": [
    "# Datasets"
   ]
  },
  {
   "cell_type": "code",
   "execution_count": 17,
   "id": "5d89ed15-f0c8-4469-946c-f0c0e6cbb628",
   "metadata": {},
   "outputs": [],
   "source": [
    "# With class weights\n",
    "train_datagen = data_prep.InvasionDataGenerator(train_data_paths, class_labels, batch_size, resnet_inp_shape[:2], rs, class_weights=train_class_weights, augmentation_function=prep.augment_imgs)\n",
    "val_datagen = data_prep.InvasionDataGenerator(val_data_paths, class_labels, batch_size, resnet_inp_shape[:2], rs, class_weights=train_class_weights, augmentation_function=prep.augment_imgs)\n",
    "# # Without class weights\n",
    "# train_datagen = InvasionDataGenerator(train_data_paths, class_labels, batch_size, resnet_inp_shape[:2], rs, augmentation_function=prep.augment_imgs)\n",
    "# val_datagen = InvasionDataGenerator(val_data_paths, class_labels, batch_size, resnet_inp_shape[:2], rs, augmentation_function=prep.augment_imgs)"
   ]
  },
  {
   "cell_type": "markdown",
   "id": "f50e81cb-bfd6-4ac8-a36d-da6ca500c5f3",
   "metadata": {},
   "source": [
    "# Model"
   ]
  },
  {
   "cell_type": "code",
   "execution_count": 18,
   "id": "5f59ef1d-0f95-4a14-a92d-327229a104a9",
   "metadata": {},
   "outputs": [],
   "source": [
    "K.clear_session()"
   ]
  },
  {
   "cell_type": "code",
   "execution_count": 19,
   "id": "b5bbe2fe-8e5b-4e69-a87d-81dcee513b00",
   "metadata": {
    "tags": []
   },
   "outputs": [],
   "source": [
    "tl_model = models.build_ResNet50_TL(\n",
    "    n_outputs,\n",
    "    resnet_inp_shape,\n",
    "    base_last_layer=last_resnet_layer,\n",
    "    # Switch to softmax once n_outputs > 1\n",
    "    output_act=\"sigmoid\",\n",
    "    base_model_trainable=False\n",
    ")"
   ]
  },
  {
   "cell_type": "markdown",
   "id": "658b615f-f9db-4eec-bc38-3ca3d0601e8f",
   "metadata": {},
   "source": [
    "# Frozen training"
   ]
  },
  {
   "cell_type": "code",
   "execution_count": 20,
   "id": "5b5def7c-dfa5-40b9-9ce0-f497d45eba3b",
   "metadata": {},
   "outputs": [],
   "source": [
    "tl_model.compile(\n",
    "    optimizer=Adam(learning_rate=frozen_lr, beta_1=adam_beta_1, beta_2=adam_beta_2),\n",
    "    loss=BinaryCrossentropy(),\n",
    "    weighted_metrics=[BinaryAccuracy()]\n",
    ")"
   ]
  },
  {
   "cell_type": "code",
   "execution_count": 21,
   "id": "134be685-feda-4ef2-b1f3-e431dcf88233",
   "metadata": {
    "tags": []
   },
   "outputs": [
    {
     "name": "stdout",
     "output_type": "stream",
     "text": [
      "Model: \"model_1\"\n",
      "_________________________________________________________________\n",
      "Layer (type)                 Output Shape              Param #   \n",
      "=================================================================\n",
      "input_2 (InputLayer)         [(None, 128, 128, 3)]     0         \n",
      "_________________________________________________________________\n",
      "base_model (Functional)      (None, 4, 4, 2048)        14644096  \n",
      "_________________________________________________________________\n",
      "global_average_pooling2d (Gl (None, 2048)              0         \n",
      "_________________________________________________________________\n",
      "dense (Dense)                (None, 1)                 2049      \n",
      "_________________________________________________________________\n",
      "activation (Activation)      (None, 1)                 0         \n",
      "=================================================================\n",
      "Total params: 14,646,145\n",
      "Trainable params: 2,049\n",
      "Non-trainable params: 14,644,096\n",
      "_________________________________________________________________\n"
     ]
    }
   ],
   "source": [
    "tl_model.summary()"
   ]
  },
  {
   "cell_type": "code",
   "execution_count": 22,
   "id": "97b6dab5-1ecc-40f3-949e-caeea1ee2b1a",
   "metadata": {
    "tags": []
   },
   "outputs": [],
   "source": [
    "# tl_model.get_layer(\"base_model\").summary()"
   ]
  },
  {
   "cell_type": "code",
   "execution_count": 23,
   "id": "4a30cd0a-6cef-4e3b-b85a-b95be2cd08b1",
   "metadata": {
    "tags": []
   },
   "outputs": [],
   "source": [
    "es_callback = EarlyStopping(monitor=es_criterion, mode=es_mode, min_delta=es_min_delta, patience=es_patience)\n",
    "mcp_callback = ModelCheckpoint(mcp_best_frozen_weights_file, monitor=mcp_criterion, mode=mcp_mode, save_best_only=mcp_best_only, save_weights_only=mcp_weights_only)"
   ]
  },
  {
   "cell_type": "code",
   "execution_count": 26,
   "id": "c38e7b3e-8344-49f4-8c52-70d9ae017acd",
   "metadata": {
    "collapsed": true,
    "jupyter": {
     "outputs_hidden": true
    },
    "tags": []
   },
   "outputs": [
    {
     "name": "stdout",
     "output_type": "stream",
     "text": [
      "Epoch 1/50\n",
      "13/13 [==============================] - 17s 313ms/step - loss: 0.7895 - binary_accuracy: 0.5145 - val_loss: 0.7314 - val_binary_accuracy: 0.5196\n",
      "Epoch 2/50\n",
      "13/13 [==============================] - 4s 214ms/step - loss: 0.6941 - binary_accuracy: 0.5765 - val_loss: 0.5972 - val_binary_accuracy: 0.7255\n",
      "Epoch 3/50\n",
      "13/13 [==============================] - 4s 214ms/step - loss: 0.6003 - binary_accuracy: 0.6568 - val_loss: 0.5431 - val_binary_accuracy: 0.8387\n",
      "Epoch 4/50\n",
      "13/13 [==============================] - 4s 227ms/step - loss: 0.5693 - binary_accuracy: 0.6895 - val_loss: 0.4543 - val_binary_accuracy: 0.8409\n",
      "Epoch 5/50\n",
      "13/13 [==============================] - 5s 208ms/step - loss: 0.4953 - binary_accuracy: 0.7607 - val_loss: 0.4259 - val_binary_accuracy: 0.8207\n",
      "Epoch 6/50\n",
      "13/13 [==============================] - 4s 217ms/step - loss: 0.4852 - binary_accuracy: 0.7985 - val_loss: 0.4327 - val_binary_accuracy: 0.8379\n",
      "Epoch 7/50\n",
      "13/13 [==============================] - 4s 204ms/step - loss: 0.4749 - binary_accuracy: 0.8036 - val_loss: 0.4095 - val_binary_accuracy: 0.8444\n",
      "Epoch 8/50\n",
      "13/13 [==============================] - 4s 214ms/step - loss: 0.4495 - binary_accuracy: 0.8118 - val_loss: 0.4187 - val_binary_accuracy: 0.8324\n",
      "Epoch 9/50\n",
      "13/13 [==============================] - 4s 208ms/step - loss: 0.4234 - binary_accuracy: 0.8147 - val_loss: 0.3801 - val_binary_accuracy: 0.8611\n",
      "Epoch 10/50\n",
      "13/13 [==============================] - 5s 217ms/step - loss: 0.4293 - binary_accuracy: 0.8062 - val_loss: 0.3812 - val_binary_accuracy: 0.8541\n",
      "Epoch 11/50\n",
      "13/13 [==============================] - 4s 222ms/step - loss: 0.4199 - binary_accuracy: 0.8184 - val_loss: 0.3591 - val_binary_accuracy: 0.8873\n",
      "Epoch 12/50\n",
      "13/13 [==============================] - 4s 219ms/step - loss: 0.4149 - binary_accuracy: 0.8328 - val_loss: 0.3745 - val_binary_accuracy: 0.8641\n",
      "Epoch 13/50\n",
      "13/13 [==============================] - 5s 225ms/step - loss: 0.3953 - binary_accuracy: 0.8444 - val_loss: 0.3691 - val_binary_accuracy: 0.8668\n",
      "Epoch 14/50\n",
      "13/13 [==============================] - 4s 211ms/step - loss: 0.3999 - binary_accuracy: 0.8336 - val_loss: 0.3694 - val_binary_accuracy: 0.8759\n",
      "Epoch 15/50\n",
      "13/13 [==============================] - 5s 240ms/step - loss: 0.3752 - binary_accuracy: 0.8272 - val_loss: 0.3551 - val_binary_accuracy: 0.8705\n",
      "Epoch 16/50\n",
      "13/13 [==============================] - 4s 210ms/step - loss: 0.4099 - binary_accuracy: 0.8237 - val_loss: 0.3430 - val_binary_accuracy: 0.8898\n",
      "Epoch 17/50\n",
      "13/13 [==============================] - 4s 215ms/step - loss: 0.3912 - binary_accuracy: 0.8359 - val_loss: 0.4014 - val_binary_accuracy: 0.8287\n",
      "Epoch 18/50\n",
      "13/13 [==============================] - 4s 198ms/step - loss: 0.3819 - binary_accuracy: 0.8415 - val_loss: 0.3473 - val_binary_accuracy: 0.8444\n",
      "Epoch 19/50\n",
      "13/13 [==============================] - 4s 216ms/step - loss: 0.3917 - binary_accuracy: 0.8193 - val_loss: 0.4182 - val_binary_accuracy: 0.8359\n",
      "Epoch 20/50\n",
      "13/13 [==============================] - 4s 216ms/step - loss: 0.3819 - binary_accuracy: 0.8500 - val_loss: 0.3451 - val_binary_accuracy: 0.8703\n",
      "Epoch 21/50\n",
      "13/13 [==============================] - 5s 230ms/step - loss: 0.3557 - binary_accuracy: 0.8182 - val_loss: 0.3188 - val_binary_accuracy: 0.8741\n",
      "Epoch 22/50\n",
      "13/13 [==============================] - 4s 227ms/step - loss: 0.3846 - binary_accuracy: 0.8276 - val_loss: 0.3441 - val_binary_accuracy: 0.8608\n",
      "Epoch 23/50\n",
      "13/13 [==============================] - 4s 196ms/step - loss: 0.3626 - binary_accuracy: 0.8446 - val_loss: 0.3248 - val_binary_accuracy: 0.8435\n",
      "Epoch 24/50\n",
      "13/13 [==============================] - 4s 224ms/step - loss: 0.3639 - binary_accuracy: 0.8481 - val_loss: 0.3409 - val_binary_accuracy: 0.8833\n",
      "Epoch 25/50\n",
      "13/13 [==============================] - 4s 219ms/step - loss: 0.3615 - binary_accuracy: 0.8468 - val_loss: 0.3101 - val_binary_accuracy: 0.8945\n",
      "Epoch 26/50\n",
      "13/13 [==============================] - 5s 246ms/step - loss: 0.3699 - binary_accuracy: 0.8446 - val_loss: 0.3559 - val_binary_accuracy: 0.8248\n",
      "Epoch 27/50\n",
      "13/13 [==============================] - 4s 216ms/step - loss: 0.3432 - binary_accuracy: 0.8660 - val_loss: 0.3606 - val_binary_accuracy: 0.8360\n",
      "Epoch 28/50\n",
      "13/13 [==============================] - 4s 210ms/step - loss: 0.3741 - binary_accuracy: 0.8324 - val_loss: 0.3373 - val_binary_accuracy: 0.8579\n",
      "Epoch 29/50\n",
      "13/13 [==============================] - 5s 222ms/step - loss: 0.3613 - binary_accuracy: 0.8456 - val_loss: 0.3802 - val_binary_accuracy: 0.7954\n",
      "Epoch 30/50\n",
      "13/13 [==============================] - 4s 227ms/step - loss: 0.3555 - binary_accuracy: 0.8451 - val_loss: 0.3098 - val_binary_accuracy: 0.9072\n",
      "Epoch 31/50\n",
      "13/13 [==============================] - 5s 233ms/step - loss: 0.3559 - binary_accuracy: 0.8493 - val_loss: 0.3317 - val_binary_accuracy: 0.8945\n",
      "Epoch 32/50\n",
      "13/13 [==============================] - 5s 237ms/step - loss: 0.3509 - binary_accuracy: 0.8445 - val_loss: 0.3174 - val_binary_accuracy: 0.9022\n",
      "Epoch 33/50\n",
      "13/13 [==============================] - 4s 220ms/step - loss: 0.3572 - binary_accuracy: 0.8459 - val_loss: 0.3454 - val_binary_accuracy: 0.8674\n",
      "Epoch 34/50\n",
      "13/13 [==============================] - 4s 219ms/step - loss: 0.3573 - binary_accuracy: 0.8571 - val_loss: 0.3548 - val_binary_accuracy: 0.8732\n",
      "Epoch 35/50\n",
      "13/13 [==============================] - 4s 208ms/step - loss: 0.3554 - binary_accuracy: 0.8466 - val_loss: 0.3650 - val_binary_accuracy: 0.8472\n",
      "Epoch 36/50\n",
      "13/13 [==============================] - 4s 218ms/step - loss: 0.3623 - binary_accuracy: 0.8313 - val_loss: 0.3300 - val_binary_accuracy: 0.8481\n",
      "Epoch 37/50\n",
      "13/13 [==============================] - 4s 207ms/step - loss: 0.3439 - binary_accuracy: 0.8539 - val_loss: 0.3111 - val_binary_accuracy: 0.8847\n",
      "Epoch 38/50\n",
      "13/13 [==============================] - 4s 214ms/step - loss: 0.3487 - binary_accuracy: 0.8399 - val_loss: 0.3380 - val_binary_accuracy: 0.8703\n",
      "Epoch 39/50\n",
      "13/13 [==============================] - 4s 223ms/step - loss: 0.3366 - binary_accuracy: 0.8442 - val_loss: 0.3652 - val_binary_accuracy: 0.8546\n",
      "Epoch 40/50\n",
      "13/13 [==============================] - 4s 208ms/step - loss: 0.3389 - binary_accuracy: 0.8443 - val_loss: 0.3150 - val_binary_accuracy: 0.8481\n",
      "Epoch 41/50\n",
      "13/13 [==============================] - 4s 231ms/step - loss: 0.3486 - binary_accuracy: 0.8444 - val_loss: 0.3388 - val_binary_accuracy: 0.8578\n",
      "Epoch 42/50\n",
      "13/13 [==============================] - 4s 221ms/step - loss: 0.3333 - binary_accuracy: 0.8598 - val_loss: 0.2668 - val_binary_accuracy: 0.8870\n",
      "Epoch 43/50\n",
      "13/13 [==============================] - 4s 227ms/step - loss: 0.3189 - binary_accuracy: 0.8487 - val_loss: 0.3321 - val_binary_accuracy: 0.8795\n",
      "Epoch 44/50\n",
      "13/13 [==============================] - 5s 229ms/step - loss: 0.3354 - binary_accuracy: 0.8487 - val_loss: 0.3459 - val_binary_accuracy: 0.8324\n",
      "Epoch 45/50\n",
      "13/13 [==============================] - 5s 225ms/step - loss: 0.3446 - binary_accuracy: 0.8488 - val_loss: 0.3065 - val_binary_accuracy: 0.8985\n",
      "Epoch 46/50\n",
      "13/13 [==============================] - 5s 223ms/step - loss: 0.3483 - binary_accuracy: 0.8459 - val_loss: 0.2896 - val_binary_accuracy: 0.8985\n",
      "Epoch 47/50\n",
      "13/13 [==============================] - 4s 223ms/step - loss: 0.3175 - binary_accuracy: 0.8613 - val_loss: 0.3217 - val_binary_accuracy: 0.8646\n",
      "Epoch 48/50\n",
      "13/13 [==============================] - 4s 220ms/step - loss: 0.3192 - binary_accuracy: 0.8742 - val_loss: 0.3052 - val_binary_accuracy: 0.9088\n",
      "Epoch 49/50\n",
      "13/13 [==============================] - 4s 229ms/step - loss: 0.3303 - binary_accuracy: 0.8539 - val_loss: 0.3434 - val_binary_accuracy: 0.8387\n",
      "Epoch 50/50\n",
      "13/13 [==============================] - 5s 228ms/step - loss: 0.3246 - binary_accuracy: 0.8589 - val_loss: 0.2975 - val_binary_accuracy: 0.8487\n"
     ]
    }
   ],
   "source": [
    "h1 = tl_model.fit(\n",
    "    train_datagen,\n",
    "    validation_data=val_datagen,\n",
    "    epochs=frozen_epochs,\n",
    "    callbacks=[es_callback, mcp_callback],\n",
    "    workers=n_cores\n",
    ")"
   ]
  },
  {
   "cell_type": "code",
   "execution_count": 27,
   "id": "b5b4515d-5967-4631-a496-1ae1931ab042",
   "metadata": {},
   "outputs": [
    {
     "data": {
      "text/plain": [
       "(41, 0.26684147119522095)"
      ]
     },
     "execution_count": 27,
     "metadata": {},
     "output_type": "execute_result"
    }
   ],
   "source": [
    "np.argmin(h1.history[\"val_loss\"]), np.min(h1.history[\"val_loss\"])"
   ]
  },
  {
   "cell_type": "code",
   "execution_count": 28,
   "id": "85cc9124-a9b3-48d2-acb6-2289349c5f43",
   "metadata": {},
   "outputs": [
    {
     "data": {
      "text/plain": [
       "(47, 0.9088348746299744)"
      ]
     },
     "execution_count": 28,
     "metadata": {},
     "output_type": "execute_result"
    }
   ],
   "source": [
    "np.argmax(h1.history[\"val_binary_accuracy\"]), np.max(h1.history[\"val_binary_accuracy\"])"
   ]
  },
  {
   "cell_type": "markdown",
   "id": "8d21a2e1-6fb0-4252-97b6-7f395a21aa98",
   "metadata": {
    "tags": []
   },
   "source": [
    "# Load best frozen weights before fine tuning"
   ]
  },
  {
   "cell_type": "code",
   "execution_count": 29,
   "id": "f727e052-d9c1-4613-8582-d93c31e46047",
   "metadata": {},
   "outputs": [],
   "source": [
    "tl_model.load_weights(mcp_best_frozen_weights_file)"
   ]
  },
  {
   "cell_type": "markdown",
   "id": "7e04b9f7-0220-47e1-88a1-b375166403e7",
   "metadata": {},
   "source": [
    "# Fine tune training"
   ]
  },
  {
   "cell_type": "code",
   "execution_count": 30,
   "id": "826188ac-9b5f-4e90-8d9f-2fcaeaa1a98c",
   "metadata": {},
   "outputs": [],
   "source": [
    "# Make base model trainable (leave layers in inference mode)\n",
    "models.toggle_TL_freeze(tl_model)"
   ]
  },
  {
   "cell_type": "code",
   "execution_count": 31,
   "id": "9fce61bd-18b7-43e0-96f9-a309c763888f",
   "metadata": {},
   "outputs": [],
   "source": [
    "# tl_model.compile(optimizer=Adam(learning_rate=fine_tune_lr), loss=BinaryCrossentropy(), metrics=[BinaryAccuracy()])\n",
    "tl_model.compile(\n",
    "    optimizer=Adam(learning_rate=fine_tune_lr, beta_1=adam_beta_1, beta_2=adam_beta_2),\n",
    "    loss=BinaryCrossentropy(),\n",
    "    weighted_metrics=[BinaryAccuracy()]\n",
    ")"
   ]
  },
  {
   "cell_type": "code",
   "execution_count": 32,
   "id": "ff63ccae-1830-4cda-ad44-a8bc1436562c",
   "metadata": {
    "tags": []
   },
   "outputs": [
    {
     "name": "stdout",
     "output_type": "stream",
     "text": [
      "Model: \"model_1\"\n",
      "_________________________________________________________________\n",
      "Layer (type)                 Output Shape              Param #   \n",
      "=================================================================\n",
      "input_2 (InputLayer)         [(None, 128, 128, 3)]     0         \n",
      "_________________________________________________________________\n",
      "base_model (Functional)      (None, 4, 4, 2048)        14644096  \n",
      "_________________________________________________________________\n",
      "global_average_pooling2d (Gl (None, 2048)              0         \n",
      "_________________________________________________________________\n",
      "dense (Dense)                (None, 1)                 2049      \n",
      "_________________________________________________________________\n",
      "activation (Activation)      (None, 1)                 0         \n",
      "=================================================================\n",
      "Total params: 14,646,145\n",
      "Trainable params: 14,605,313\n",
      "Non-trainable params: 40,832\n",
      "_________________________________________________________________\n"
     ]
    }
   ],
   "source": [
    "tl_model.summary()"
   ]
  },
  {
   "cell_type": "code",
   "execution_count": 33,
   "id": "4bc0da73-0193-4e18-bc4c-f84d86e17a89",
   "metadata": {},
   "outputs": [],
   "source": [
    "es_callback = EarlyStopping(monitor=es_criterion, mode=es_mode, min_delta=es_min_delta, patience=es_patience)\n",
    "mcp_callback = ModelCheckpoint(mcp_best_finetune_weights_file, monitor=mcp_criterion, mode=mcp_mode, save_best_only=mcp_best_only, save_weights_only=mcp_weights_only)"
   ]
  },
  {
   "cell_type": "code",
   "execution_count": 34,
   "id": "05c2c008-c5fe-473f-a209-9da1e56b64b4",
   "metadata": {
    "collapsed": true,
    "jupyter": {
     "outputs_hidden": true
    },
    "tags": []
   },
   "outputs": [
    {
     "name": "stdout",
     "output_type": "stream",
     "text": [
      "Epoch 1/50\n",
      "13/13 [==============================] - 13s 366ms/step - loss: 0.7166 - binary_accuracy: 0.6607 - val_loss: 0.8816 - val_binary_accuracy: 0.6028\n",
      "Epoch 2/50\n",
      "13/13 [==============================] - 5s 271ms/step - loss: 0.5519 - binary_accuracy: 0.7325 - val_loss: 0.5220 - val_binary_accuracy: 0.7341\n",
      "Epoch 3/50\n",
      "13/13 [==============================] - 5s 262ms/step - loss: 0.4095 - binary_accuracy: 0.7930 - val_loss: 0.3342 - val_binary_accuracy: 0.8574\n",
      "Epoch 4/50\n",
      "13/13 [==============================] - 5s 265ms/step - loss: 0.3556 - binary_accuracy: 0.8359 - val_loss: 0.3228 - val_binary_accuracy: 0.8030\n",
      "Epoch 5/50\n",
      "13/13 [==============================] - 5s 259ms/step - loss: 0.3264 - binary_accuracy: 0.8415 - val_loss: 0.4825 - val_binary_accuracy: 0.8097\n",
      "Epoch 6/50\n",
      "13/13 [==============================] - 5s 260ms/step - loss: 0.3009 - binary_accuracy: 0.8616 - val_loss: 0.3750 - val_binary_accuracy: 0.8314\n",
      "Epoch 7/50\n",
      "13/13 [==============================] - 6s 264ms/step - loss: 0.3018 - binary_accuracy: 0.8480 - val_loss: 0.3826 - val_binary_accuracy: 0.8578\n",
      "Epoch 8/50\n",
      "13/13 [==============================] - 5s 270ms/step - loss: 0.3214 - binary_accuracy: 0.8729 - val_loss: 0.3450 - val_binary_accuracy: 0.8768\n",
      "Epoch 9/50\n",
      "13/13 [==============================] - 5s 256ms/step - loss: 0.2856 - binary_accuracy: 0.8761 - val_loss: 0.3412 - val_binary_accuracy: 0.8153\n",
      "Epoch 10/50\n",
      "13/13 [==============================] - 5s 261ms/step - loss: 0.2612 - binary_accuracy: 0.8649 - val_loss: 0.3616 - val_binary_accuracy: 0.8732\n",
      "Epoch 11/50\n",
      "13/13 [==============================] - 5s 269ms/step - loss: 0.3106 - binary_accuracy: 0.8442 - val_loss: 0.2390 - val_binary_accuracy: 0.9067\n",
      "Epoch 12/50\n",
      "13/13 [==============================] - 5s 261ms/step - loss: 0.3431 - binary_accuracy: 0.8629 - val_loss: 0.3224 - val_binary_accuracy: 0.8614\n",
      "Epoch 13/50\n",
      "13/13 [==============================] - 5s 261ms/step - loss: 0.3593 - binary_accuracy: 0.8330 - val_loss: 0.3593 - val_binary_accuracy: 0.8248\n",
      "Epoch 14/50\n",
      "13/13 [==============================] - 6s 297ms/step - loss: 0.2839 - binary_accuracy: 0.8674 - val_loss: 0.5158 - val_binary_accuracy: 0.7688\n",
      "Epoch 15/50\n",
      "13/13 [==============================] - 5s 268ms/step - loss: 0.2243 - binary_accuracy: 0.8666 - val_loss: 0.4642 - val_binary_accuracy: 0.8261\n",
      "Epoch 16/50\n",
      "13/13 [==============================] - 5s 260ms/step - loss: 0.2623 - binary_accuracy: 0.8618 - val_loss: 0.3001 - val_binary_accuracy: 0.8641\n",
      "Epoch 17/50\n",
      "13/13 [==============================] - 5s 262ms/step - loss: 0.2501 - binary_accuracy: 0.8841 - val_loss: 0.3544 - val_binary_accuracy: 0.8234\n",
      "Epoch 18/50\n",
      "13/13 [==============================] - 5s 261ms/step - loss: 0.2373 - binary_accuracy: 0.9095 - val_loss: 0.5212 - val_binary_accuracy: 0.7829\n",
      "Epoch 19/50\n",
      "13/13 [==============================] - 5s 267ms/step - loss: 0.2820 - binary_accuracy: 0.8554 - val_loss: 0.2887 - val_binary_accuracy: 0.8982\n",
      "Epoch 20/50\n",
      "13/13 [==============================] - 5s 270ms/step - loss: 0.1977 - binary_accuracy: 0.9233 - val_loss: 0.4297 - val_binary_accuracy: 0.9212\n",
      "Epoch 21/50\n",
      "13/13 [==============================] - 5s 266ms/step - loss: 0.2410 - binary_accuracy: 0.9128 - val_loss: 0.4252 - val_binary_accuracy: 0.9043\n",
      "Epoch 22/50\n",
      "13/13 [==============================] - 6s 273ms/step - loss: 0.2023 - binary_accuracy: 0.9293 - val_loss: 0.6927 - val_binary_accuracy: 0.7614\n",
      "Epoch 23/50\n",
      "13/13 [==============================] - 5s 266ms/step - loss: 0.2295 - binary_accuracy: 0.8967 - val_loss: 0.9728 - val_binary_accuracy: 0.7678\n",
      "Epoch 24/50\n",
      "13/13 [==============================] - 5s 264ms/step - loss: 0.2053 - binary_accuracy: 0.8926 - val_loss: 0.3857 - val_binary_accuracy: 0.8712\n",
      "Epoch 25/50\n",
      "13/13 [==============================] - 5s 262ms/step - loss: 0.1707 - binary_accuracy: 0.9312 - val_loss: 0.4902 - val_binary_accuracy: 0.8342\n",
      "Epoch 26/50\n",
      "13/13 [==============================] - 5s 258ms/step - loss: 0.1610 - binary_accuracy: 0.9274 - val_loss: 0.3176 - val_binary_accuracy: 0.8676\n",
      "Epoch 27/50\n",
      "13/13 [==============================] - 5s 262ms/step - loss: 0.2263 - binary_accuracy: 0.9210 - val_loss: 0.2712 - val_binary_accuracy: 0.8857\n",
      "Epoch 28/50\n",
      "13/13 [==============================] - 5s 266ms/step - loss: 0.2353 - binary_accuracy: 0.8937 - val_loss: 0.3837 - val_binary_accuracy: 0.8287\n",
      "Epoch 29/50\n",
      "13/13 [==============================] - 5s 268ms/step - loss: 0.2045 - binary_accuracy: 0.9206 - val_loss: 0.3034 - val_binary_accuracy: 0.8176\n",
      "Epoch 30/50\n",
      "13/13 [==============================] - 6s 299ms/step - loss: 0.1531 - binary_accuracy: 0.9336 - val_loss: 0.3614 - val_binary_accuracy: 0.8795\n",
      "Epoch 31/50\n",
      "13/13 [==============================] - 5s 258ms/step - loss: 0.1486 - binary_accuracy: 0.9237 - val_loss: 0.3046 - val_binary_accuracy: 0.8931\n",
      "Epoch 32/50\n",
      "13/13 [==============================] - 5s 255ms/step - loss: 0.1675 - binary_accuracy: 0.9342 - val_loss: 0.4947 - val_binary_accuracy: 0.7828\n",
      "Epoch 33/50\n",
      "13/13 [==============================] - 5s 255ms/step - loss: 0.1601 - binary_accuracy: 0.9300 - val_loss: 0.4515 - val_binary_accuracy: 0.8324\n",
      "Epoch 34/50\n",
      "13/13 [==============================] - 5s 267ms/step - loss: 0.1425 - binary_accuracy: 0.9297 - val_loss: 0.3881 - val_binary_accuracy: 0.8380\n",
      "Epoch 35/50\n",
      "13/13 [==============================] - 5s 267ms/step - loss: 0.1226 - binary_accuracy: 0.9616 - val_loss: 0.4121 - val_binary_accuracy: 0.8648\n",
      "Epoch 36/50\n",
      "13/13 [==============================] - 5s 257ms/step - loss: 0.1096 - binary_accuracy: 0.9571 - val_loss: 0.4208 - val_binary_accuracy: 0.8705\n"
     ]
    }
   ],
   "source": [
    "h2 = tl_model.fit(\n",
    "    train_datagen,\n",
    "    validation_data=val_datagen,\n",
    "    epochs=fine_tune_epochs,\n",
    "    callbacks=[es_callback, mcp_callback],\n",
    "    workers=n_cores\n",
    ")"
   ]
  },
  {
   "cell_type": "code",
   "execution_count": 35,
   "id": "010da2d1-dcef-47c8-8011-73bbf31c5b0c",
   "metadata": {},
   "outputs": [
    {
     "data": {
      "text/plain": [
       "(10, 0.23900417983531952)"
      ]
     },
     "execution_count": 35,
     "metadata": {},
     "output_type": "execute_result"
    }
   ],
   "source": [
    "np.argmin(h2.history[\"val_loss\"]), np.min(h2.history[\"val_loss\"])"
   ]
  },
  {
   "cell_type": "code",
   "execution_count": 36,
   "id": "1d04b350-b75d-43ed-bfc4-a02f09c5bb45",
   "metadata": {},
   "outputs": [
    {
     "data": {
      "text/plain": [
       "(19, 0.9211910367012024)"
      ]
     },
     "execution_count": 36,
     "metadata": {},
     "output_type": "execute_result"
    }
   ],
   "source": [
    "np.argmax(h2.history[\"val_binary_accuracy\"]), np.max(h2.history[\"val_binary_accuracy\"])"
   ]
  },
  {
   "cell_type": "code",
   "execution_count": null,
   "id": "51be6fcc-fc03-4ee3-9304-0227c8a48054",
   "metadata": {},
   "outputs": [],
   "source": []
  }
 ],
 "metadata": {
  "kernelspec": {
   "display_name": "Python 3 (ipykernel)",
   "language": "python",
   "name": "python3"
  },
  "language_info": {
   "codemirror_mode": {
    "name": "ipython",
    "version": 3
   },
   "file_extension": ".py",
   "mimetype": "text/x-python",
   "name": "python",
   "nbconvert_exporter": "python",
   "pygments_lexer": "ipython3",
   "version": "3.9.10"
  }
 },
 "nbformat": 4,
 "nbformat_minor": 5
}
