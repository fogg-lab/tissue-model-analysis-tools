{
 "cells": [
  {
   "cell_type": "code",
   "execution_count": 1,
   "id": "0c12c68d-93a1-41af-b05c-e56b17582e41",
   "metadata": {
    "tags": []
   },
   "outputs": [],
   "source": [
    "import tensorflow.keras.backend as K\n",
    "import numpy as np\n",
    "import dask as d\n",
    "import os\n",
    "import cv2\n",
    "import json\n",
    "import multiprocessing\n",
    "import matplotlib.pyplot as plt\n",
    "\n",
    "from glob import glob\n",
    "from copy import deepcopy\n",
    "from tensorflow.keras.preprocessing.image import ImageDataGenerator, load_img\n",
    "from tensorflow.keras.optimizers import Adam\n",
    "from tensorflow.keras.losses import BinaryCrossentropy\n",
    "from tensorflow.keras.metrics import BinaryAccuracy\n",
    "from tensorflow.keras.utils import Sequence\n",
    "from tensorflow.keras.callbacks import EarlyStopping, ModelCheckpoint\n",
    "from tensorflow.keras.applications import resnet50"
   ]
  },
  {
   "cell_type": "code",
   "execution_count": 2,
   "id": "a402a73f-b4a9-44ba-8ae5-06641c0668f6",
   "metadata": {},
   "outputs": [
    {
     "data": {
      "text/plain": [
       "16"
      ]
     },
     "execution_count": 2,
     "metadata": {},
     "output_type": "execute_result"
    }
   ],
   "source": [
    "n_cores = multiprocessing.cpu_count()\n",
    "n_cores"
   ]
  },
  {
   "cell_type": "code",
   "execution_count": 3,
   "id": "fdc59e17-d035-4e8d-ad5f-ca7adfa21f93",
   "metadata": {},
   "outputs": [],
   "source": [
    "from fl_tissue_model_tools import data_prep, dev_config, models, defs\n",
    "import fl_tissue_model_tools.preprocessing as prep"
   ]
  },
  {
   "cell_type": "code",
   "execution_count": 4,
   "id": "0c960e34-fb3c-463b-8bc5-952730a064dc",
   "metadata": {},
   "outputs": [],
   "source": [
    "dirs = dev_config.get_dev_directories(\"../dev_paths.txt\")"
   ]
  },
  {
   "cell_type": "markdown",
   "id": "911406d1-d145-445f-a442-645b5138c60e",
   "metadata": {
    "tags": []
   },
   "source": [
    "# Set up model training parameters"
   ]
  },
  {
   "cell_type": "code",
   "execution_count": 5,
   "id": "6d3b1db8-45d3-4882-bd10-002c0c5f1f27",
   "metadata": {
    "tags": []
   },
   "outputs": [],
   "source": [
    "with open(\"../model_training/invasion_depth_training_values.json\", 'r') as fp:\n",
    "       training_values = json.load(fp)\n",
    "training_values[\"rs_seed\"] = None if (training_values[\"rs_seed\"] == \"None\") else training_values[\"rs_seed\"]"
   ]
  },
  {
   "cell_type": "code",
   "execution_count": 6,
   "id": "75096603-49df-41d3-8d1d-de1801ba8f1f",
   "metadata": {},
   "outputs": [
    {
     "data": {
      "text/plain": [
       "{'batch_size': 32,\n",
       " 'frozen_epochs': 50,\n",
       " 'fine_tune_epochs': 50,\n",
       " 'val_split': 0.2,\n",
       " 'early_stopping_patience': 25,\n",
       " 'early_stopping_min_delta': 0.0001,\n",
       " 'rs_seed': None}"
      ]
     },
     "execution_count": 6,
     "metadata": {},
     "output_type": "execute_result"
    }
   ],
   "source": [
    "training_values"
   ]
  },
  {
   "cell_type": "code",
   "execution_count": 7,
   "id": "b28babc1-26df-46a4-a957-6c94453f8fc3",
   "metadata": {},
   "outputs": [],
   "source": [
    "with open(\"../model_training/invasion_depth_best_hp.json\", 'r') as fp:\n",
    "    best_hp = json.load(fp)"
   ]
  },
  {
   "cell_type": "code",
   "execution_count": 8,
   "id": "d8b52787-2f71-4cef-9d7d-cc43d1128f60",
   "metadata": {},
   "outputs": [
    {
     "data": {
      "text/plain": [
       "{'adam_beta_1': 0.9066466810625207,\n",
       " 'adam_beta_2': 0.9947698608592066,\n",
       " 'fine_tune_lr': 9.141354728081903e-05,\n",
       " 'frozen_lr': 0.00022767552973325001,\n",
       " 'last_resnet_layer': 'conv5_block1_out'}"
      ]
     },
     "execution_count": 8,
     "metadata": {},
     "output_type": "execute_result"
    }
   ],
   "source": [
    "best_hp"
   ]
  },
  {
   "cell_type": "code",
   "execution_count": 20,
   "id": "77f26842-80d0-4710-ab9f-3f19c1029199",
   "metadata": {},
   "outputs": [],
   "source": [
    "### Training paths ###\n",
    "root_data_path = f\"{dirs.data_dir}/invasion_data/\"\n",
    "model_training_path = f\"{dirs.analysis_dir}/resnet50_invasion_model\"\n",
    "demo_model_training_path = f\"{model_training_path}/demo\"\n",
    "mcp_best_frozen_weights_file = f\"{demo_model_training_path}/best_frozen_weights.h5\"\n",
    "mcp_best_finetune_weights_file = f\"{demo_model_training_path}/best_finetune_weights.h5\"\n",
    "\n",
    "\n",
    "### General training parameters ###\n",
    "resnet_inp_shape = (128, 128, 3)\n",
    "# Binary classification -> only need 1 output unit\n",
    "n_outputs = 1\n",
    "seed = training_values[\"rs_seed\"]\n",
    "val_split = training_values[\"val_split\"]\n",
    "batch_size = training_values[\"batch_size\"]\n",
    "frozen_epochs = training_values[\"frozen_epochs\"]\n",
    "fine_tune_epochs = training_values[\"fine_tune_epochs\"]\n",
    "# frozen_epochs = 10\n",
    "# fine_tune_epochs = 10\n",
    "adam_beta_1 = best_hp[\"adam_beta_1\"]\n",
    "adam_beta_2 = best_hp[\"adam_beta_2\"]\n",
    "frozen_lr = best_hp[\"frozen_lr\"]\n",
    "fine_tune_lr = best_hp[\"fine_tune_lr\"]\n",
    "class_labels = {\"no_invasion\": 0, \"invasion\": 1}\n",
    "last_resnet_layer = best_hp[\"last_resnet_layer\"]\n",
    "\n",
    "\n",
    "### Early stopping ###\n",
    "es_criterion = \"val_loss\"\n",
    "es_mode = \"min\"\n",
    "# Update these depending on seriousness of experiment\n",
    "es_patience = training_values[\"early_stopping_patience\"]\n",
    "es_min_delta = training_values[\"early_stopping_min_delta\"]\n",
    "\n",
    "\n",
    "### Model saving ###\n",
    "mcp_criterion = \"val_loss\"\n",
    "mcp_mode = \"min\"\n",
    "mcp_best_only = True\n",
    "# Need to set to True otherwise base model \"layer\" won't save/load properly\n",
    "mcp_weights_only = True"
   ]
  },
  {
   "cell_type": "code",
   "execution_count": 10,
   "id": "bd546ce2-154b-4f0b-8010-f581516a6597",
   "metadata": {},
   "outputs": [],
   "source": [
    "data_prep.make_dir(demo_model_training_path)"
   ]
  },
  {
   "cell_type": "markdown",
   "id": "0a2e6e22-ffed-459e-8895-f1917396c661",
   "metadata": {},
   "source": [
    "# Prep for loading data"
   ]
  },
  {
   "cell_type": "code",
   "execution_count": 11,
   "id": "7d22b149-c675-4b1c-95e7-909716249d56",
   "metadata": {},
   "outputs": [],
   "source": [
    "rs = np.random.RandomState(seed)"
   ]
  },
  {
   "cell_type": "code",
   "execution_count": 12,
   "id": "c6a69dfe-afa0-41fa-8f26-c8463105bf3a",
   "metadata": {
    "tags": []
   },
   "outputs": [],
   "source": [
    "# Training & validation data (drawn from same image set & randomly assigned)\n",
    "tv_class_paths = {v: glob(f\"{root_data_path}/train/{k}/*.tif\") for k, v in class_labels.items()}\n",
    "for k, v in tv_class_paths.items():\n",
    "    rs.shuffle(v)"
   ]
  },
  {
   "cell_type": "code",
   "execution_count": 13,
   "id": "29cd381e-feb3-4c7e-be01-e227347eccee",
   "metadata": {},
   "outputs": [],
   "source": [
    "train_data_paths, val_data_paths = data_prep.get_train_val_split(tv_class_paths, val_split=val_split)"
   ]
  },
  {
   "cell_type": "markdown",
   "id": "4105535b-e87d-4efb-9045-6cc547f17a23",
   "metadata": {
    "tags": []
   },
   "source": [
    "# Datasets"
   ]
  },
  {
   "cell_type": "code",
   "execution_count": 14,
   "id": "794117aa-2f2c-420e-bbff-665efd53fc0e",
   "metadata": {},
   "outputs": [],
   "source": [
    "train_datagen = data_prep.InvasionDataGenerator(\n",
    "    train_data_paths,\n",
    "    class_labels,\n",
    "    batch_size,\n",
    "    resnet_inp_shape[:2],\n",
    "    rs,\n",
    "    class_weights=True,\n",
    "    shuffle=True,\n",
    "    augmentation_function=prep.augment_imgs\n",
    ")"
   ]
  },
  {
   "cell_type": "code",
   "execution_count": 15,
   "id": "42741ae2-e93b-47ff-8a02-e2677bf9c41e",
   "metadata": {},
   "outputs": [
    {
     "data": {
      "text/plain": [
       "{0: 407, 1: 109}"
      ]
     },
     "execution_count": 15,
     "metadata": {},
     "output_type": "execute_result"
    }
   ],
   "source": [
    "train_datagen.class_counts"
   ]
  },
  {
   "cell_type": "code",
   "execution_count": 16,
   "id": "03435e9f-68ac-464f-b4dc-d2e37c3808e4",
   "metadata": {},
   "outputs": [
    {
     "data": {
      "text/plain": [
       "{0: 0.6339066339066339, 1: 2.36697247706422}"
      ]
     },
     "execution_count": 16,
     "metadata": {},
     "output_type": "execute_result"
    }
   ],
   "source": [
    "train_datagen.class_weights"
   ]
  },
  {
   "cell_type": "code",
   "execution_count": 17,
   "id": "52e07d56-64ed-4268-9e88-f9c3a465d1d5",
   "metadata": {},
   "outputs": [],
   "source": [
    "val_datagen = data_prep.InvasionDataGenerator(\n",
    "    val_data_paths,\n",
    "    class_labels,\n",
    "    batch_size,\n",
    "    resnet_inp_shape[:2],\n",
    "    rs,\n",
    "    class_weights=train_datagen.class_weights,\n",
    "    shuffle=True,\n",
    "    augmentation_function=train_datagen.augmentation_function\n",
    ")"
   ]
  },
  {
   "cell_type": "code",
   "execution_count": 18,
   "id": "98e8940a-4e77-47c5-a177-7d67d3bed787",
   "metadata": {},
   "outputs": [
    {
     "data": {
      "text/plain": [
       "{0: 102, 1: 27}"
      ]
     },
     "execution_count": 18,
     "metadata": {},
     "output_type": "execute_result"
    }
   ],
   "source": [
    "val_datagen.class_counts"
   ]
  },
  {
   "cell_type": "markdown",
   "id": "f50e81cb-bfd6-4ac8-a36d-da6ca500c5f3",
   "metadata": {
    "tags": []
   },
   "source": [
    "# Model"
   ]
  },
  {
   "cell_type": "code",
   "execution_count": 19,
   "id": "5f59ef1d-0f95-4a14-a92d-327229a104a9",
   "metadata": {},
   "outputs": [],
   "source": [
    "K.clear_session()"
   ]
  },
  {
   "cell_type": "code",
   "execution_count": 21,
   "id": "b5bbe2fe-8e5b-4e69-a87d-81dcee513b00",
   "metadata": {
    "tags": []
   },
   "outputs": [],
   "source": [
    "tl_model = models.build_ResNet50_TL(\n",
    "    n_outputs,\n",
    "    resnet_inp_shape,\n",
    "    base_last_layer=last_resnet_layer,\n",
    "    # Switch to softmax once n_outputs > 1\n",
    "    output_act=\"sigmoid\",\n",
    "    base_model_trainable=False\n",
    ")"
   ]
  },
  {
   "cell_type": "markdown",
   "id": "658b615f-f9db-4eec-bc38-3ca3d0601e8f",
   "metadata": {},
   "source": [
    "# Frozen training"
   ]
  },
  {
   "cell_type": "code",
   "execution_count": 22,
   "id": "5b5def7c-dfa5-40b9-9ce0-f497d45eba3b",
   "metadata": {},
   "outputs": [],
   "source": [
    "tl_model.compile(\n",
    "    optimizer=Adam(learning_rate=frozen_lr, beta_1=adam_beta_1, beta_2=adam_beta_2),\n",
    "    loss=BinaryCrossentropy(),\n",
    "    weighted_metrics=[BinaryAccuracy()]\n",
    ")"
   ]
  },
  {
   "cell_type": "code",
   "execution_count": 23,
   "id": "134be685-feda-4ef2-b1f3-e431dcf88233",
   "metadata": {
    "tags": []
   },
   "outputs": [
    {
     "name": "stdout",
     "output_type": "stream",
     "text": [
      "Model: \"model_1\"\n",
      "_________________________________________________________________\n",
      "Layer (type)                 Output Shape              Param #   \n",
      "=================================================================\n",
      "input_2 (InputLayer)         [(None, 128, 128, 3)]     0         \n",
      "_________________________________________________________________\n",
      "base_model (Functional)      (None, 4, 4, 2048)        14644096  \n",
      "_________________________________________________________________\n",
      "global_average_pooling2d (Gl (None, 2048)              0         \n",
      "_________________________________________________________________\n",
      "dense (Dense)                (None, 1)                 2049      \n",
      "_________________________________________________________________\n",
      "activation (Activation)      (None, 1)                 0         \n",
      "=================================================================\n",
      "Total params: 14,646,145\n",
      "Trainable params: 2,049\n",
      "Non-trainable params: 14,644,096\n",
      "_________________________________________________________________\n"
     ]
    }
   ],
   "source": [
    "tl_model.summary()"
   ]
  },
  {
   "cell_type": "code",
   "execution_count": 24,
   "id": "97b6dab5-1ecc-40f3-949e-caeea1ee2b1a",
   "metadata": {
    "tags": []
   },
   "outputs": [],
   "source": [
    "# tl_model.get_layer(\"base_model\").summary()"
   ]
  },
  {
   "cell_type": "code",
   "execution_count": 25,
   "id": "4a30cd0a-6cef-4e3b-b85a-b95be2cd08b1",
   "metadata": {
    "tags": []
   },
   "outputs": [],
   "source": [
    "es_callback = EarlyStopping(monitor=es_criterion, mode=es_mode, min_delta=es_min_delta, patience=es_patience)\n",
    "mcp_callback = ModelCheckpoint(mcp_best_frozen_weights_file, monitor=mcp_criterion, mode=mcp_mode, save_best_only=mcp_best_only, save_weights_only=mcp_weights_only)"
   ]
  },
  {
   "cell_type": "code",
   "execution_count": 26,
   "id": "c38e7b3e-8344-49f4-8c52-70d9ae017acd",
   "metadata": {
    "collapsed": true,
    "jupyter": {
     "outputs_hidden": true
    },
    "tags": []
   },
   "outputs": [
    {
     "name": "stdout",
     "output_type": "stream",
     "text": [
      "Epoch 1/50\n",
      "16/16 [==============================] - 16s 445ms/step - loss: 0.7761 - binary_accuracy: 0.4932 - val_loss: 0.6945 - val_binary_accuracy: 0.5411\n",
      "Epoch 2/50\n",
      "16/16 [==============================] - 5s 231ms/step - loss: 0.6366 - binary_accuracy: 0.6311 - val_loss: 0.6052 - val_binary_accuracy: 0.6924\n",
      "Epoch 3/50\n",
      "16/16 [==============================] - 5s 204ms/step - loss: 0.5424 - binary_accuracy: 0.7574 - val_loss: 0.5249 - val_binary_accuracy: 0.7368\n",
      "Epoch 4/50\n",
      "16/16 [==============================] - 5s 213ms/step - loss: 0.5042 - binary_accuracy: 0.7695 - val_loss: 0.4709 - val_binary_accuracy: 0.7770\n",
      "Epoch 5/50\n",
      "16/16 [==============================] - 5s 211ms/step - loss: 0.4729 - binary_accuracy: 0.7761 - val_loss: 0.4596 - val_binary_accuracy: 0.7870\n",
      "Epoch 6/50\n",
      "16/16 [==============================] - 5s 223ms/step - loss: 0.4511 - binary_accuracy: 0.7904 - val_loss: 0.4568 - val_binary_accuracy: 0.7985\n",
      "Epoch 7/50\n",
      "16/16 [==============================] - 5s 212ms/step - loss: 0.4323 - binary_accuracy: 0.8244 - val_loss: 0.4272 - val_binary_accuracy: 0.7985\n",
      "Epoch 8/50\n",
      "16/16 [==============================] - 5s 215ms/step - loss: 0.4176 - binary_accuracy: 0.8200 - val_loss: 0.3858 - val_binary_accuracy: 0.8182\n",
      "Epoch 9/50\n",
      "16/16 [==============================] - 5s 207ms/step - loss: 0.4166 - binary_accuracy: 0.8129 - val_loss: 0.4118 - val_binary_accuracy: 0.8269\n",
      "Epoch 10/50\n",
      "16/16 [==============================] - 5s 218ms/step - loss: 0.3998 - binary_accuracy: 0.8340 - val_loss: 0.4424 - val_binary_accuracy: 0.8368\n",
      "Epoch 11/50\n",
      "16/16 [==============================] - 5s 218ms/step - loss: 0.3980 - binary_accuracy: 0.8213 - val_loss: 0.4098 - val_binary_accuracy: 0.8120\n",
      "Epoch 12/50\n",
      "16/16 [==============================] - 5s 209ms/step - loss: 0.4047 - binary_accuracy: 0.8034 - val_loss: 0.3970 - val_binary_accuracy: 0.8219\n",
      "Epoch 13/50\n",
      "16/16 [==============================] - 5s 210ms/step - loss: 0.3783 - binary_accuracy: 0.8161 - val_loss: 0.3837 - val_binary_accuracy: 0.8120\n",
      "Epoch 14/50\n",
      "16/16 [==============================] - 5s 211ms/step - loss: 0.3903 - binary_accuracy: 0.8206 - val_loss: 0.4017 - val_binary_accuracy: 0.8404\n",
      "Epoch 15/50\n",
      "16/16 [==============================] - 5s 213ms/step - loss: 0.4016 - binary_accuracy: 0.8099 - val_loss: 0.4106 - val_binary_accuracy: 0.8467\n",
      "Epoch 16/50\n",
      "16/16 [==============================] - 5s 211ms/step - loss: 0.3784 - binary_accuracy: 0.8293 - val_loss: 0.3759 - val_binary_accuracy: 0.8305\n",
      "Epoch 17/50\n",
      "16/16 [==============================] - 5s 209ms/step - loss: 0.3942 - binary_accuracy: 0.8155 - val_loss: 0.4111 - val_binary_accuracy: 0.8120\n",
      "Epoch 18/50\n",
      "16/16 [==============================] - 5s 202ms/step - loss: 0.3727 - binary_accuracy: 0.8220 - val_loss: 0.4134 - val_binary_accuracy: 0.8183\n",
      "Epoch 19/50\n",
      "16/16 [==============================] - 5s 224ms/step - loss: 0.3832 - binary_accuracy: 0.8200 - val_loss: 0.3576 - val_binary_accuracy: 0.8702\n",
      "Epoch 20/50\n",
      "16/16 [==============================] - 5s 207ms/step - loss: 0.3756 - binary_accuracy: 0.8340 - val_loss: 0.3700 - val_binary_accuracy: 0.8305\n",
      "Epoch 21/50\n",
      "16/16 [==============================] - 5s 211ms/step - loss: 0.3735 - binary_accuracy: 0.8212 - val_loss: 0.3749 - val_binary_accuracy: 0.8170\n",
      "Epoch 22/50\n",
      "16/16 [==============================] - 5s 206ms/step - loss: 0.3583 - binary_accuracy: 0.8223 - val_loss: 0.3388 - val_binary_accuracy: 0.8540\n",
      "Epoch 23/50\n",
      "16/16 [==============================] - 5s 222ms/step - loss: 0.3631 - binary_accuracy: 0.8376 - val_loss: 0.3470 - val_binary_accuracy: 0.8418\n",
      "Epoch 24/50\n",
      "16/16 [==============================] - 5s 206ms/step - loss: 0.3577 - binary_accuracy: 0.8406 - val_loss: 0.3594 - val_binary_accuracy: 0.8446\n",
      "Epoch 25/50\n",
      "16/16 [==============================] - 5s 208ms/step - loss: 0.3523 - binary_accuracy: 0.8471 - val_loss: 0.3859 - val_binary_accuracy: 0.8133\n",
      "Epoch 26/50\n",
      "16/16 [==============================] - 5s 208ms/step - loss: 0.3630 - binary_accuracy: 0.8441 - val_loss: 0.3893 - val_binary_accuracy: 0.8120\n",
      "Epoch 27/50\n",
      "16/16 [==============================] - 5s 208ms/step - loss: 0.3641 - binary_accuracy: 0.8269 - val_loss: 0.3840 - val_binary_accuracy: 0.8467\n",
      "Epoch 28/50\n",
      "16/16 [==============================] - 5s 224ms/step - loss: 0.3586 - binary_accuracy: 0.8320 - val_loss: 0.3787 - val_binary_accuracy: 0.8652\n",
      "Epoch 29/50\n",
      "16/16 [==============================] - 5s 210ms/step - loss: 0.3563 - binary_accuracy: 0.8535 - val_loss: 0.3683 - val_binary_accuracy: 0.8454\n",
      "Epoch 30/50\n",
      "16/16 [==============================] - 5s 205ms/step - loss: 0.3605 - binary_accuracy: 0.8383 - val_loss: 0.3502 - val_binary_accuracy: 0.8318\n",
      "Epoch 31/50\n",
      "16/16 [==============================] - 5s 205ms/step - loss: 0.3366 - binary_accuracy: 0.8485 - val_loss: 0.3709 - val_binary_accuracy: 0.8233\n",
      "Epoch 32/50\n",
      "16/16 [==============================] - 5s 215ms/step - loss: 0.3562 - binary_accuracy: 0.8333 - val_loss: 0.3879 - val_binary_accuracy: 0.8206\n",
      "Epoch 33/50\n",
      "16/16 [==============================] - 5s 206ms/step - loss: 0.3473 - binary_accuracy: 0.8479 - val_loss: 0.3903 - val_binary_accuracy: 0.8171\n",
      "Epoch 34/50\n",
      "16/16 [==============================] - 5s 202ms/step - loss: 0.3461 - binary_accuracy: 0.8606 - val_loss: 0.3590 - val_binary_accuracy: 0.8404\n",
      "Epoch 35/50\n",
      "16/16 [==============================] - 5s 214ms/step - loss: 0.3606 - binary_accuracy: 0.8404 - val_loss: 0.3599 - val_binary_accuracy: 0.8503\n",
      "Epoch 36/50\n",
      "16/16 [==============================] - 5s 238ms/step - loss: 0.3435 - binary_accuracy: 0.8335 - val_loss: 0.3860 - val_binary_accuracy: 0.8553\n",
      "Epoch 37/50\n",
      "16/16 [==============================] - 5s 230ms/step - loss: 0.3477 - binary_accuracy: 0.8453 - val_loss: 0.3792 - val_binary_accuracy: 0.8195\n",
      "Epoch 38/50\n",
      "16/16 [==============================] - 5s 207ms/step - loss: 0.3588 - binary_accuracy: 0.8322 - val_loss: 0.3694 - val_binary_accuracy: 0.8503\n",
      "Epoch 39/50\n",
      "16/16 [==============================] - 5s 203ms/step - loss: 0.3526 - binary_accuracy: 0.8376 - val_loss: 0.3559 - val_binary_accuracy: 0.8603\n",
      "Epoch 40/50\n",
      "16/16 [==============================] - 5s 218ms/step - loss: 0.3304 - binary_accuracy: 0.8491 - val_loss: 0.3852 - val_binary_accuracy: 0.8332\n",
      "Epoch 41/50\n",
      "16/16 [==============================] - 6s 233ms/step - loss: 0.3511 - binary_accuracy: 0.8328 - val_loss: 0.3415 - val_binary_accuracy: 0.8689\n",
      "Epoch 42/50\n",
      "16/16 [==============================] - 5s 207ms/step - loss: 0.3564 - binary_accuracy: 0.8361 - val_loss: 0.3957 - val_binary_accuracy: 0.8517\n",
      "Epoch 43/50\n",
      "16/16 [==============================] - 5s 221ms/step - loss: 0.3222 - binary_accuracy: 0.8660 - val_loss: 0.3490 - val_binary_accuracy: 0.8454\n",
      "Epoch 44/50\n",
      "16/16 [==============================] - 5s 205ms/step - loss: 0.3562 - binary_accuracy: 0.8349 - val_loss: 0.3619 - val_binary_accuracy: 0.8553 0s - loss: 0.3635 - binary_accuracy: 0\n",
      "Epoch 45/50\n",
      "16/16 [==============================] - 5s 204ms/step - loss: 0.3325 - binary_accuracy: 0.8519 - val_loss: 0.3736 - val_binary_accuracy: 0.8517\n",
      "Epoch 46/50\n",
      "16/16 [==============================] - 5s 230ms/step - loss: 0.3335 - binary_accuracy: 0.8470 - val_loss: 0.3479 - val_binary_accuracy: 0.8751\n",
      "Epoch 47/50\n",
      "16/16 [==============================] - 5s 215ms/step - loss: 0.3301 - binary_accuracy: 0.8420 - val_loss: 0.3695 - val_binary_accuracy: 0.8368\n"
     ]
    }
   ],
   "source": [
    "h1 = tl_model.fit(\n",
    "    train_datagen,\n",
    "    validation_data=val_datagen,\n",
    "    epochs=frozen_epochs,\n",
    "    callbacks=[es_callback, mcp_callback],\n",
    "    workers=n_cores\n",
    ")"
   ]
  },
  {
   "cell_type": "code",
   "execution_count": 27,
   "id": "b5b4515d-5967-4631-a496-1ae1931ab042",
   "metadata": {},
   "outputs": [
    {
     "data": {
      "text/plain": [
       "(21, 0.33883190155029297)"
      ]
     },
     "execution_count": 27,
     "metadata": {},
     "output_type": "execute_result"
    }
   ],
   "source": [
    "np.argmin(h1.history[\"val_loss\"]), np.min(h1.history[\"val_loss\"])"
   ]
  },
  {
   "cell_type": "code",
   "execution_count": 28,
   "id": "85cc9124-a9b3-48d2-acb6-2289349c5f43",
   "metadata": {},
   "outputs": [
    {
     "data": {
      "text/plain": [
       "(45, 0.875124990940094)"
      ]
     },
     "execution_count": 28,
     "metadata": {},
     "output_type": "execute_result"
    }
   ],
   "source": [
    "np.argmax(h1.history[\"val_binary_accuracy\"]), np.max(h1.history[\"val_binary_accuracy\"])"
   ]
  },
  {
   "cell_type": "markdown",
   "id": "8d21a2e1-6fb0-4252-97b6-7f395a21aa98",
   "metadata": {
    "tags": []
   },
   "source": [
    "# Load best frozen weights before fine tuning"
   ]
  },
  {
   "cell_type": "code",
   "execution_count": 32,
   "id": "f727e052-d9c1-4613-8582-d93c31e46047",
   "metadata": {},
   "outputs": [],
   "source": [
    "tl_model.load_weights(mcp_best_frozen_weights_file)"
   ]
  },
  {
   "cell_type": "markdown",
   "id": "7e04b9f7-0220-47e1-88a1-b375166403e7",
   "metadata": {},
   "source": [
    "# Fine tune training"
   ]
  },
  {
   "cell_type": "code",
   "execution_count": 33,
   "id": "826188ac-9b5f-4e90-8d9f-2fcaeaa1a98c",
   "metadata": {},
   "outputs": [],
   "source": [
    "# Make base model trainable (leave layers in inference mode)\n",
    "models.toggle_TL_freeze(tl_model)"
   ]
  },
  {
   "cell_type": "code",
   "execution_count": 34,
   "id": "9fce61bd-18b7-43e0-96f9-a309c763888f",
   "metadata": {},
   "outputs": [],
   "source": [
    "# tl_model.compile(optimizer=Adam(learning_rate=fine_tune_lr), loss=BinaryCrossentropy(), metrics=[BinaryAccuracy()])\n",
    "tl_model.compile(\n",
    "    optimizer=Adam(learning_rate=fine_tune_lr, beta_1=adam_beta_1, beta_2=adam_beta_2),\n",
    "    loss=BinaryCrossentropy(),\n",
    "    weighted_metrics=[BinaryAccuracy()]\n",
    ")"
   ]
  },
  {
   "cell_type": "code",
   "execution_count": 35,
   "id": "ff63ccae-1830-4cda-ad44-a8bc1436562c",
   "metadata": {
    "tags": []
   },
   "outputs": [
    {
     "name": "stdout",
     "output_type": "stream",
     "text": [
      "Model: \"model_1\"\n",
      "_________________________________________________________________\n",
      "Layer (type)                 Output Shape              Param #   \n",
      "=================================================================\n",
      "input_2 (InputLayer)         [(None, 128, 128, 3)]     0         \n",
      "_________________________________________________________________\n",
      "base_model (Functional)      (None, 4, 4, 2048)        14644096  \n",
      "_________________________________________________________________\n",
      "global_average_pooling2d (Gl (None, 2048)              0         \n",
      "_________________________________________________________________\n",
      "dense (Dense)                (None, 1)                 2049      \n",
      "_________________________________________________________________\n",
      "activation (Activation)      (None, 1)                 0         \n",
      "=================================================================\n",
      "Total params: 14,646,145\n",
      "Trainable params: 14,605,313\n",
      "Non-trainable params: 40,832\n",
      "_________________________________________________________________\n"
     ]
    }
   ],
   "source": [
    "tl_model.summary()"
   ]
  },
  {
   "cell_type": "code",
   "execution_count": 36,
   "id": "4bc0da73-0193-4e18-bc4c-f84d86e17a89",
   "metadata": {},
   "outputs": [],
   "source": [
    "es_callback = EarlyStopping(monitor=es_criterion, mode=es_mode, min_delta=es_min_delta, patience=es_patience)\n",
    "mcp_callback = ModelCheckpoint(mcp_best_finetune_weights_file, monitor=mcp_criterion, mode=mcp_mode, save_best_only=mcp_best_only, save_weights_only=mcp_weights_only)"
   ]
  },
  {
   "cell_type": "code",
   "execution_count": 37,
   "id": "05c2c008-c5fe-473f-a209-9da1e56b64b4",
   "metadata": {
    "collapsed": true,
    "jupyter": {
     "outputs_hidden": true
    },
    "tags": []
   },
   "outputs": [
    {
     "name": "stdout",
     "output_type": "stream",
     "text": [
      "Epoch 1/50\n",
      "16/16 [==============================] - 14s 335ms/step - loss: 1.1890 - binary_accuracy: 0.5652 - val_loss: 0.5190 - val_binary_accuracy: 0.7384\n",
      "Epoch 2/50\n",
      "16/16 [==============================] - 6s 248ms/step - loss: 0.4982 - binary_accuracy: 0.7490 - val_loss: 0.4343 - val_binary_accuracy: 0.8547\n",
      "Epoch 3/50\n",
      "16/16 [==============================] - 6s 269ms/step - loss: 0.4033 - binary_accuracy: 0.8098 - val_loss: 0.6347 - val_binary_accuracy: 0.7261\n",
      "Epoch 4/50\n",
      "16/16 [==============================] - 5s 242ms/step - loss: 0.4650 - binary_accuracy: 0.7721 - val_loss: 0.4048 - val_binary_accuracy: 0.8044\n",
      "Epoch 5/50\n",
      "16/16 [==============================] - 6s 250ms/step - loss: 0.3701 - binary_accuracy: 0.8189 - val_loss: 0.3657 - val_binary_accuracy: 0.8269\n",
      "Epoch 6/50\n",
      "16/16 [==============================] - 6s 242ms/step - loss: 0.3643 - binary_accuracy: 0.8358 - val_loss: 0.3299 - val_binary_accuracy: 0.8243\n",
      "Epoch 7/50\n",
      "16/16 [==============================] - 6s 250ms/step - loss: 0.3151 - binary_accuracy: 0.8540 - val_loss: 0.4643 - val_binary_accuracy: 0.8018\n",
      "Epoch 8/50\n",
      "16/16 [==============================] - 6s 262ms/step - loss: 0.3432 - binary_accuracy: 0.8210 - val_loss: 0.3703 - val_binary_accuracy: 0.7945\n",
      "Epoch 9/50\n",
      "16/16 [==============================] - 5s 239ms/step - loss: 0.3978 - binary_accuracy: 0.8067 - val_loss: 0.5130 - val_binary_accuracy: 0.7496\n",
      "Epoch 10/50\n",
      "16/16 [==============================] - 6s 243ms/step - loss: 0.3604 - binary_accuracy: 0.8122 - val_loss: 0.3775 - val_binary_accuracy: 0.7859\n",
      "Epoch 11/50\n",
      "16/16 [==============================] - 5s 247ms/step - loss: 0.3008 - binary_accuracy: 0.8599 - val_loss: 0.3307 - val_binary_accuracy: 0.8021\n",
      "Epoch 12/50\n",
      "16/16 [==============================] - 5s 245ms/step - loss: 0.3206 - binary_accuracy: 0.8579 - val_loss: 0.3333 - val_binary_accuracy: 0.7972\n",
      "Epoch 13/50\n",
      "16/16 [==============================] - 5s 243ms/step - loss: 0.3609 - binary_accuracy: 0.8201 - val_loss: 0.3609 - val_binary_accuracy: 0.7810\n",
      "Epoch 14/50\n",
      "16/16 [==============================] - 5s 242ms/step - loss: 0.3136 - binary_accuracy: 0.8386 - val_loss: 0.3824 - val_binary_accuracy: 0.8259\n",
      "Epoch 15/50\n",
      "16/16 [==============================] - 5s 240ms/step - loss: 0.3013 - binary_accuracy: 0.8603 - val_loss: 0.3477 - val_binary_accuracy: 0.8332\n",
      "Epoch 16/50\n",
      "16/16 [==============================] - 5s 249ms/step - loss: 0.2823 - binary_accuracy: 0.8699 - val_loss: 0.3062 - val_binary_accuracy: 0.8446\n",
      "Epoch 17/50\n",
      "16/16 [==============================] - 6s 277ms/step - loss: 0.2576 - binary_accuracy: 0.8924 - val_loss: 0.3129 - val_binary_accuracy: 0.8071\n",
      "Epoch 18/50\n",
      "16/16 [==============================] - 6s 242ms/step - loss: 0.2510 - binary_accuracy: 0.8964 - val_loss: 0.2966 - val_binary_accuracy: 0.8467\n",
      "Epoch 19/50\n",
      "16/16 [==============================] - 6s 248ms/step - loss: 0.2278 - binary_accuracy: 0.8989 - val_loss: 0.3219 - val_binary_accuracy: 0.8679\n",
      "Epoch 20/50\n",
      "16/16 [==============================] - 6s 245ms/step - loss: 0.3209 - binary_accuracy: 0.8595 - val_loss: 0.6146 - val_binary_accuracy: 0.7721\n",
      "Epoch 21/50\n",
      "16/16 [==============================] - 5s 244ms/step - loss: 0.4449 - binary_accuracy: 0.7993 - val_loss: 0.4526 - val_binary_accuracy: 0.7598\n",
      "Epoch 22/50\n",
      "16/16 [==============================] - 5s 247ms/step - loss: 0.3744 - binary_accuracy: 0.8288 - val_loss: 0.3493 - val_binary_accuracy: 0.8309\n",
      "Epoch 23/50\n",
      "16/16 [==============================] - 6s 250ms/step - loss: 0.3203 - binary_accuracy: 0.8580 - val_loss: 0.5105 - val_binary_accuracy: 0.8068\n",
      "Epoch 24/50\n",
      "16/16 [==============================] - 6s 274ms/step - loss: 0.4012 - binary_accuracy: 0.8182 - val_loss: 0.3543 - val_binary_accuracy: 0.8084\n",
      "Epoch 25/50\n",
      "16/16 [==============================] - 5s 248ms/step - loss: 0.3018 - binary_accuracy: 0.8537 - val_loss: 0.3486 - val_binary_accuracy: 0.8332\n",
      "Epoch 26/50\n",
      "16/16 [==============================] - 6s 243ms/step - loss: 0.2943 - binary_accuracy: 0.8654 - val_loss: 0.3217 - val_binary_accuracy: 0.8123\n",
      "Epoch 27/50\n",
      "16/16 [==============================] - 6s 249ms/step - loss: 0.2645 - binary_accuracy: 0.8755 - val_loss: 0.3184 - val_binary_accuracy: 0.8305\n",
      "Epoch 28/50\n",
      "16/16 [==============================] - 6s 243ms/step - loss: 0.3017 - binary_accuracy: 0.8594 - val_loss: 0.3321 - val_binary_accuracy: 0.8008\n",
      "Epoch 29/50\n",
      "16/16 [==============================] - 5s 244ms/step - loss: 0.2951 - binary_accuracy: 0.8555 - val_loss: 0.3825 - val_binary_accuracy: 0.7889\n",
      "Epoch 30/50\n",
      "16/16 [==============================] - 6s 250ms/step - loss: 0.2516 - binary_accuracy: 0.8776 - val_loss: 0.3353 - val_binary_accuracy: 0.8503\n",
      "Epoch 31/50\n",
      "16/16 [==============================] - 6s 274ms/step - loss: 0.2141 - binary_accuracy: 0.9273 - val_loss: 0.3039 - val_binary_accuracy: 0.8999\n",
      "Epoch 32/50\n",
      "16/16 [==============================] - 5s 244ms/step - loss: 0.2187 - binary_accuracy: 0.9029 - val_loss: 0.4202 - val_binary_accuracy: 0.8457\n",
      "Epoch 33/50\n",
      "16/16 [==============================] - 5s 241ms/step - loss: 0.2218 - binary_accuracy: 0.8989 - val_loss: 0.2812 - val_binary_accuracy: 0.8864\n",
      "Epoch 34/50\n",
      "16/16 [==============================] - 6s 247ms/step - loss: 0.2075 - binary_accuracy: 0.9199 - val_loss: 0.4059 - val_binary_accuracy: 0.8094\n",
      "Epoch 35/50\n",
      "16/16 [==============================] - 6s 245ms/step - loss: 0.2597 - binary_accuracy: 0.8989 - val_loss: 0.4007 - val_binary_accuracy: 0.8137\n",
      "Epoch 36/50\n",
      "16/16 [==============================] - 5s 243ms/step - loss: 0.2814 - binary_accuracy: 0.8726 - val_loss: 0.3851 - val_binary_accuracy: 0.7846\n",
      "Epoch 37/50\n",
      "16/16 [==============================] - 6s 245ms/step - loss: 0.2701 - binary_accuracy: 0.8819 - val_loss: 0.5086 - val_binary_accuracy: 0.7938\n",
      "Epoch 38/50\n",
      "16/16 [==============================] - 6s 297ms/step - loss: 0.3087 - binary_accuracy: 0.8599 - val_loss: 0.3511 - val_binary_accuracy: 0.8107\n",
      "Epoch 39/50\n",
      "16/16 [==============================] - 6s 254ms/step - loss: 0.2136 - binary_accuracy: 0.9032 - val_loss: 0.2917 - val_binary_accuracy: 0.8734\n",
      "Epoch 40/50\n",
      "16/16 [==============================] - 6s 254ms/step - loss: 0.2216 - binary_accuracy: 0.8881 - val_loss: 0.3676 - val_binary_accuracy: 0.8223\n",
      "Epoch 41/50\n",
      "16/16 [==============================] - 6s 256ms/step - loss: 0.1947 - binary_accuracy: 0.9206 - val_loss: 0.3155 - val_binary_accuracy: 0.8157\n",
      "Epoch 42/50\n",
      "16/16 [==============================] - 6s 255ms/step - loss: 0.2364 - binary_accuracy: 0.8949 - val_loss: 0.3433 - val_binary_accuracy: 0.8345\n",
      "Epoch 43/50\n",
      "16/16 [==============================] - 6s 261ms/step - loss: 0.1933 - binary_accuracy: 0.9151 - val_loss: 0.3689 - val_binary_accuracy: 0.8864\n",
      "Epoch 44/50\n",
      "16/16 [==============================] - 6s 258ms/step - loss: 0.1702 - binary_accuracy: 0.9310 - val_loss: 0.4403 - val_binary_accuracy: 0.8493\n",
      "Epoch 45/50\n",
      "16/16 [==============================] - 7s 293ms/step - loss: 0.1949 - binary_accuracy: 0.9190 - val_loss: 0.3454 - val_binary_accuracy: 0.8372\n",
      "Epoch 46/50\n",
      "16/16 [==============================] - 6s 257ms/step - loss: 0.1788 - binary_accuracy: 0.9212 - val_loss: 0.3382 - val_binary_accuracy: 0.8629\n",
      "Epoch 47/50\n",
      "16/16 [==============================] - 6s 252ms/step - loss: 0.1852 - binary_accuracy: 0.9211 - val_loss: 0.3751 - val_binary_accuracy: 0.8457\n",
      "Epoch 48/50\n",
      "16/16 [==============================] - 6s 247ms/step - loss: 0.2059 - binary_accuracy: 0.9205 - val_loss: 0.4430 - val_binary_accuracy: 0.8292\n",
      "Epoch 49/50\n",
      "16/16 [==============================] - 6s 248ms/step - loss: 0.2739 - binary_accuracy: 0.8726 - val_loss: 0.4096 - val_binary_accuracy: 0.8358\n",
      "Epoch 50/50\n",
      "16/16 [==============================] - 6s 249ms/step - loss: 0.2101 - binary_accuracy: 0.9119 - val_loss: 0.4106 - val_binary_accuracy: 0.8494\n"
     ]
    }
   ],
   "source": [
    "h2 = tl_model.fit(\n",
    "    train_datagen,\n",
    "    validation_data=val_datagen,\n",
    "    epochs=fine_tune_epochs,\n",
    "    callbacks=[es_callback, mcp_callback],\n",
    "    workers=n_cores\n",
    ")"
   ]
  },
  {
   "cell_type": "code",
   "execution_count": 38,
   "id": "010da2d1-dcef-47c8-8011-73bbf31c5b0c",
   "metadata": {},
   "outputs": [
    {
     "data": {
      "text/plain": [
       "(32, 0.28118646144866943)"
      ]
     },
     "execution_count": 38,
     "metadata": {},
     "output_type": "execute_result"
    }
   ],
   "source": [
    "np.argmin(h2.history[\"val_loss\"]), np.min(h2.history[\"val_loss\"])"
   ]
  },
  {
   "cell_type": "code",
   "execution_count": 39,
   "id": "1d04b350-b75d-43ed-bfc4-a02f09c5bb45",
   "metadata": {},
   "outputs": [
    {
     "data": {
      "text/plain": [
       "(30, 0.8999000191688538)"
      ]
     },
     "execution_count": 39,
     "metadata": {},
     "output_type": "execute_result"
    }
   ],
   "source": [
    "np.argmax(h2.history[\"val_binary_accuracy\"]), np.max(h2.history[\"val_binary_accuracy\"])"
   ]
  },
  {
   "cell_type": "code",
   "execution_count": null,
   "id": "51be6fcc-fc03-4ee3-9304-0227c8a48054",
   "metadata": {},
   "outputs": [],
   "source": []
  }
 ],
 "metadata": {
  "kernelspec": {
   "display_name": "Python 3 (ipykernel)",
   "language": "python",
   "name": "python3"
  },
  "language_info": {
   "codemirror_mode": {
    "name": "ipython",
    "version": 3
   },
   "file_extension": ".py",
   "mimetype": "text/x-python",
   "name": "python",
   "nbconvert_exporter": "python",
   "pygments_lexer": "ipython3",
   "version": "3.9.10"
  }
 },
 "nbformat": 4,
 "nbformat_minor": 5
}
