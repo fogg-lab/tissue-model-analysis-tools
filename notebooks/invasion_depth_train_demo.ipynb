{
 "cells": [
  {
   "cell_type": "code",
   "execution_count": 1,
   "id": "0c12c68d-93a1-41af-b05c-e56b17582e41",
   "metadata": {
    "tags": []
   },
   "outputs": [],
   "source": [
    "import tensorflow.keras.backend as K\n",
    "import numpy as np\n",
    "import dask as d\n",
    "import os\n",
    "import cv2\n",
    "import json\n",
    "import multiprocessing\n",
    "import matplotlib.pyplot as plt\n",
    "\n",
    "from glob import glob\n",
    "from copy import deepcopy\n",
    "from tensorflow.keras.preprocessing.image import ImageDataGenerator, load_img\n",
    "from tensorflow.keras.optimizers import Adam\n",
    "from tensorflow.keras.losses import BinaryCrossentropy\n",
    "from tensorflow.keras.metrics import BinaryAccuracy\n",
    "from tensorflow.keras.utils import Sequence\n",
    "from tensorflow.keras.callbacks import EarlyStopping, ModelCheckpoint\n",
    "from tensorflow.keras.applications import resnet50"
   ]
  },
  {
   "cell_type": "code",
   "execution_count": 2,
   "id": "a402a73f-b4a9-44ba-8ae5-06641c0668f6",
   "metadata": {},
   "outputs": [
    {
     "data": {
      "text/plain": [
       "16"
      ]
     },
     "execution_count": 2,
     "metadata": {},
     "output_type": "execute_result"
    }
   ],
   "source": [
    "n_cores = multiprocessing.cpu_count()\n",
    "n_cores"
   ]
  },
  {
   "cell_type": "code",
   "execution_count": 3,
   "id": "fdc59e17-d035-4e8d-ad5f-ca7adfa21f93",
   "metadata": {},
   "outputs": [],
   "source": [
    "from fl_tissue_model_tools import data_prep, dev_config, models, defs\n",
    "import fl_tissue_model_tools.preprocessing as prep"
   ]
  },
  {
   "cell_type": "code",
   "execution_count": 4,
   "id": "0c960e34-fb3c-463b-8bc5-952730a064dc",
   "metadata": {},
   "outputs": [],
   "source": [
    "dirs = dev_config.get_dev_directories(\"../dev_paths.txt\")"
   ]
  },
  {
   "cell_type": "markdown",
   "id": "911406d1-d145-445f-a442-645b5138c60e",
   "metadata": {
    "tags": []
   },
   "source": [
    "# Set up model training parameters"
   ]
  },
  {
   "cell_type": "code",
   "execution_count": 5,
   "id": "6d3b1db8-45d3-4882-bd10-002c0c5f1f27",
   "metadata": {
    "tags": []
   },
   "outputs": [],
   "source": [
    "with open(\"../model_training/invasion_depth_training_values.json\", 'r') as fp:\n",
    "       training_values = json.load(fp)\n",
    "training_values[\"rs_seed\"] = None if (training_values[\"rs_seed\"] == \"None\") else training_values[\"rs_seed\"]"
   ]
  },
  {
   "cell_type": "code",
   "execution_count": 6,
   "id": "75096603-49df-41d3-8d1d-de1801ba8f1f",
   "metadata": {},
   "outputs": [
    {
     "data": {
      "text/plain": [
       "{'batch_size': 32,\n",
       " 'frozen_epochs': 50,\n",
       " 'fine_tune_epochs': 50,\n",
       " 'val_split': 0.2,\n",
       " 'early_stopping_patience': 25,\n",
       " 'early_stopping_min_delta': 0.0001,\n",
       " 'rs_seed': None}"
      ]
     },
     "execution_count": 6,
     "metadata": {},
     "output_type": "execute_result"
    }
   ],
   "source": [
    "training_values"
   ]
  },
  {
   "cell_type": "code",
   "execution_count": 7,
   "id": "b28babc1-26df-46a4-a957-6c94453f8fc3",
   "metadata": {},
   "outputs": [],
   "source": [
    "with open(\"../model_training/invasion_depth_best_hp.json\", 'r') as fp:\n",
    "    best_hp = json.load(fp)"
   ]
  },
  {
   "cell_type": "code",
   "execution_count": 8,
   "id": "d8b52787-2f71-4cef-9d7d-cc43d1128f60",
   "metadata": {},
   "outputs": [
    {
     "data": {
      "text/plain": [
       "{'adam_beta_1': 0.9066466810625207,\n",
       " 'adam_beta_2': 0.9947698608592066,\n",
       " 'fine_tune_lr': 9.141354728081903e-05,\n",
       " 'frozen_lr': 0.00022767552973325001,\n",
       " 'last_resnet_layer': 'conv5_block1_out'}"
      ]
     },
     "execution_count": 8,
     "metadata": {},
     "output_type": "execute_result"
    }
   ],
   "source": [
    "best_hp"
   ]
  },
  {
   "cell_type": "code",
   "execution_count": 9,
   "id": "77f26842-80d0-4710-ab9f-3f19c1029199",
   "metadata": {},
   "outputs": [],
   "source": [
    "root_data_path = f\"{dirs.data_dir}/invasion_data/development\"\n",
    "model_training_path = f\"{dirs.analysis_dir}/resnet50_invasion_model\"\n",
    "demo_model_training_path = f\"{model_training_path}/demo\"\n",
    "mcp_best_frozen_weights_file = f\"{demo_model_training_path}/best_frozen_weights.h5\"\n",
    "mcp_best_finetune_weights_file = f\"{demo_model_training_path}/best_finetune_weights.h5\"\n",
    "\n",
    "\n",
    "### General training parameters ###\n",
    "resnet_inp_shape = (128, 128, 3)\n",
    "# Binary classification -> only need 1 output unit\n",
    "n_outputs = 1\n",
    "seed = training_values[\"rs_seed\"]\n",
    "val_split = training_values[\"val_split\"]\n",
    "batch_size = training_values[\"batch_size\"]\n",
    "# frozen_epochs = training_values[\"frozen_epochs\"]\n",
    "# fine_tune_epochs = training_values[\"fine_tune_epochs\"]\n",
    "frozen_epochs = 10\n",
    "fine_tune_epochs = 10\n",
    "adam_beta_1 = best_hp[\"adam_beta_1\"]\n",
    "adam_beta_2 = best_hp[\"adam_beta_2\"]\n",
    "frozen_lr = best_hp[\"frozen_lr\"]\n",
    "fine_tune_lr = best_hp[\"fine_tune_lr\"]\n",
    "class_labels = {\"no_invasion\": 0, \"invasion\": 1}\n",
    "last_resnet_layer = best_hp[\"last_resnet_layer\"]\n",
    "\n",
    "\n",
    "### Early stopping ###\n",
    "es_criterion = \"val_loss\"\n",
    "es_mode = \"min\"\n",
    "# Update these depending on seriousness of experiment\n",
    "es_patience = training_values[\"early_stopping_patience\"]\n",
    "es_min_delta = training_values[\"early_stopping_min_delta\"]\n",
    "\n",
    "\n",
    "### Model saving ###\n",
    "mcp_criterion = \"val_loss\"\n",
    "mcp_mode = \"min\"\n",
    "mcp_best_only = True\n",
    "# Need to set to True otherwise base model \"layer\" won't save/load properly\n",
    "mcp_weights_only = True"
   ]
  },
  {
   "cell_type": "code",
   "execution_count": 10,
   "id": "bd546ce2-154b-4f0b-8010-f581516a6597",
   "metadata": {},
   "outputs": [],
   "source": [
    "data_prep.make_dir(demo_model_training_path)"
   ]
  },
  {
   "cell_type": "markdown",
   "id": "0a2e6e22-ffed-459e-8895-f1917396c661",
   "metadata": {},
   "source": [
    "# Prep for loading data"
   ]
  },
  {
   "cell_type": "code",
   "execution_count": 11,
   "id": "7d22b149-c675-4b1c-95e7-909716249d56",
   "metadata": {},
   "outputs": [],
   "source": [
    "rs = np.random.RandomState(seed)"
   ]
  },
  {
   "cell_type": "code",
   "execution_count": 12,
   "id": "c6a69dfe-afa0-41fa-8f26-c8463105bf3a",
   "metadata": {
    "tags": []
   },
   "outputs": [],
   "source": [
    "tv_class_paths = {v: glob(f\"{root_data_path}/train/{k}/*.tif\") for k, v in class_labels.items()}\n",
    "for k, v in tv_class_paths.items():\n",
    "    rs.shuffle(v)"
   ]
  },
  {
   "cell_type": "code",
   "execution_count": 13,
   "id": "940352be-2f0d-4e8a-845b-8873c3629a04",
   "metadata": {},
   "outputs": [],
   "source": [
    "# TODO: handle this in the InvasionDataGenerator class\n",
    "tv_counts = {k: len(v) for k, v in tv_class_paths.items()}\n",
    "val_counts = {k: round(v * val_split) for k, v in tv_counts.items()}\n",
    "train_counts = {k: v - val_counts[k] for k, v in tv_counts.items()}\n",
    "train_class_weights = prep.balanced_class_weights_from_counts(train_counts)"
   ]
  },
  {
   "cell_type": "code",
   "execution_count": 14,
   "id": "c778ecb7-f4af-4a49-860c-05b21bf62812",
   "metadata": {},
   "outputs": [
    {
     "data": {
      "text/plain": [
       "{0: 454, 1: 102}"
      ]
     },
     "execution_count": 14,
     "metadata": {},
     "output_type": "execute_result"
    }
   ],
   "source": [
    "tv_counts"
   ]
  },
  {
   "cell_type": "code",
   "execution_count": 15,
   "id": "1c9bdee1-cf3a-4713-800e-750180b6aa06",
   "metadata": {},
   "outputs": [
    {
     "data": {
      "text/plain": [
       "{0: 363, 1: 82}"
      ]
     },
     "execution_count": 15,
     "metadata": {},
     "output_type": "execute_result"
    }
   ],
   "source": [
    "train_counts"
   ]
  },
  {
   "cell_type": "code",
   "execution_count": 16,
   "id": "db24b67f-ce07-45d8-969d-5212eff25b3f",
   "metadata": {},
   "outputs": [
    {
     "data": {
      "text/plain": [
       "{0: 91, 1: 20}"
      ]
     },
     "execution_count": 16,
     "metadata": {},
     "output_type": "execute_result"
    }
   ],
   "source": [
    "val_counts"
   ]
  },
  {
   "cell_type": "code",
   "execution_count": 17,
   "id": "e48279d3-14b3-43a7-80c4-fd99ddf41749",
   "metadata": {},
   "outputs": [
    {
     "data": {
      "text/plain": [
       "{0: 0.6129476584022039, 1: 2.7134146341463414}"
      ]
     },
     "execution_count": 17,
     "metadata": {},
     "output_type": "execute_result"
    }
   ],
   "source": [
    "train_class_weights"
   ]
  },
  {
   "cell_type": "code",
   "execution_count": 18,
   "id": "0a3b38c5-6c48-4858-aec1-de470844072a",
   "metadata": {
    "tags": []
   },
   "outputs": [],
   "source": [
    "train_data_paths = {k: v[val_counts[k]:] for k, v in tv_class_paths.items()}\n",
    "val_data_paths = {k: v[:val_counts[k]] for k, v in tv_class_paths.items()}"
   ]
  },
  {
   "cell_type": "markdown",
   "id": "4105535b-e87d-4efb-9045-6cc547f17a23",
   "metadata": {
    "tags": []
   },
   "source": [
    "# Datasets"
   ]
  },
  {
   "cell_type": "code",
   "execution_count": 19,
   "id": "5d89ed15-f0c8-4469-946c-f0c0e6cbb628",
   "metadata": {},
   "outputs": [],
   "source": [
    "# With class weights\n",
    "train_datagen = data_prep.InvasionDataGenerator(train_data_paths, class_labels, batch_size, resnet_inp_shape[:2], rs, class_weights=train_class_weights, augmentation_function=prep.augment_imgs)\n",
    "val_datagen = data_prep.InvasionDataGenerator(val_data_paths, class_labels, batch_size, resnet_inp_shape[:2], rs, class_weights=train_class_weights, augmentation_function=prep.augment_imgs)"
   ]
  },
  {
   "cell_type": "code",
   "execution_count": 20,
   "id": "3e19dd1f-9937-4813-b7bd-894b2a65f013",
   "metadata": {},
   "outputs": [
    {
     "data": {
      "text/plain": [
       "{0: 91, 1: 20}"
      ]
     },
     "execution_count": 20,
     "metadata": {},
     "output_type": "execute_result"
    }
   ],
   "source": [
    "val_datagen.class_counts"
   ]
  },
  {
   "cell_type": "markdown",
   "id": "f50e81cb-bfd6-4ac8-a36d-da6ca500c5f3",
   "metadata": {},
   "source": [
    "# Model"
   ]
  },
  {
   "cell_type": "code",
   "execution_count": 21,
   "id": "5f59ef1d-0f95-4a14-a92d-327229a104a9",
   "metadata": {},
   "outputs": [],
   "source": [
    "K.clear_session()"
   ]
  },
  {
   "cell_type": "code",
   "execution_count": 22,
   "id": "b5bbe2fe-8e5b-4e69-a87d-81dcee513b00",
   "metadata": {
    "tags": []
   },
   "outputs": [],
   "source": [
    "tl_model = models.build_ResNet50_TL(\n",
    "    n_outputs,\n",
    "    resnet_inp_shape,\n",
    "    base_last_layer=last_resnet_layer,\n",
    "    # Switch to softmax once n_outputs > 1\n",
    "    output_act=\"sigmoid\",\n",
    "    base_model_trainable=False\n",
    ")"
   ]
  },
  {
   "cell_type": "markdown",
   "id": "658b615f-f9db-4eec-bc38-3ca3d0601e8f",
   "metadata": {},
   "source": [
    "# Frozen training"
   ]
  },
  {
   "cell_type": "code",
   "execution_count": 23,
   "id": "5b5def7c-dfa5-40b9-9ce0-f497d45eba3b",
   "metadata": {},
   "outputs": [],
   "source": [
    "tl_model.compile(\n",
    "    optimizer=Adam(learning_rate=frozen_lr, beta_1=adam_beta_1, beta_2=adam_beta_2),\n",
    "    loss=BinaryCrossentropy(),\n",
    "    weighted_metrics=[BinaryAccuracy()]\n",
    ")"
   ]
  },
  {
   "cell_type": "code",
   "execution_count": 24,
   "id": "134be685-feda-4ef2-b1f3-e431dcf88233",
   "metadata": {
    "tags": []
   },
   "outputs": [
    {
     "name": "stdout",
     "output_type": "stream",
     "text": [
      "Model: \"model_1\"\n",
      "_________________________________________________________________\n",
      "Layer (type)                 Output Shape              Param #   \n",
      "=================================================================\n",
      "input_2 (InputLayer)         [(None, 128, 128, 3)]     0         \n",
      "_________________________________________________________________\n",
      "base_model (Functional)      (None, 4, 4, 2048)        14644096  \n",
      "_________________________________________________________________\n",
      "global_average_pooling2d (Gl (None, 2048)              0         \n",
      "_________________________________________________________________\n",
      "dense (Dense)                (None, 1)                 2049      \n",
      "_________________________________________________________________\n",
      "activation (Activation)      (None, 1)                 0         \n",
      "=================================================================\n",
      "Total params: 14,646,145\n",
      "Trainable params: 2,049\n",
      "Non-trainable params: 14,644,096\n",
      "_________________________________________________________________\n"
     ]
    }
   ],
   "source": [
    "tl_model.summary()"
   ]
  },
  {
   "cell_type": "code",
   "execution_count": 25,
   "id": "97b6dab5-1ecc-40f3-949e-caeea1ee2b1a",
   "metadata": {
    "tags": []
   },
   "outputs": [],
   "source": [
    "# tl_model.get_layer(\"base_model\").summary()"
   ]
  },
  {
   "cell_type": "code",
   "execution_count": 26,
   "id": "4a30cd0a-6cef-4e3b-b85a-b95be2cd08b1",
   "metadata": {
    "tags": []
   },
   "outputs": [],
   "source": [
    "es_callback = EarlyStopping(monitor=es_criterion, mode=es_mode, min_delta=es_min_delta, patience=es_patience)\n",
    "mcp_callback = ModelCheckpoint(mcp_best_frozen_weights_file, monitor=mcp_criterion, mode=mcp_mode, save_best_only=mcp_best_only, save_weights_only=mcp_weights_only)"
   ]
  },
  {
   "cell_type": "code",
   "execution_count": 27,
   "id": "c38e7b3e-8344-49f4-8c52-70d9ae017acd",
   "metadata": {
    "tags": []
   },
   "outputs": [
    {
     "name": "stdout",
     "output_type": "stream",
     "text": [
      "Epoch 1/10\n",
      "13/13 [==============================] - 12s 317ms/step - loss: 0.8040 - binary_accuracy: 0.4267 - val_loss: 0.7257 - val_binary_accuracy: 0.4622\n",
      "Epoch 2/10\n",
      "13/13 [==============================] - 5s 236ms/step - loss: 0.6779 - binary_accuracy: 0.6141 - val_loss: 0.6544 - val_binary_accuracy: 0.6286\n",
      "Epoch 3/10\n",
      "13/13 [==============================] - 4s 207ms/step - loss: 0.6685 - binary_accuracy: 0.6079 - val_loss: 0.5860 - val_binary_accuracy: 0.7047\n",
      "Epoch 4/10\n",
      "13/13 [==============================] - 4s 227ms/step - loss: 0.5845 - binary_accuracy: 0.7042 - val_loss: 0.5561 - val_binary_accuracy: 0.7977\n",
      "Epoch 5/10\n",
      "13/13 [==============================] - 4s 207ms/step - loss: 0.5345 - binary_accuracy: 0.7494 - val_loss: 0.4586 - val_binary_accuracy: 0.7674\n",
      "Epoch 6/10\n",
      "13/13 [==============================] - 5s 237ms/step - loss: 0.5088 - binary_accuracy: 0.6963 - val_loss: 0.5359 - val_binary_accuracy: 0.7413\n",
      "Epoch 7/10\n",
      "13/13 [==============================] - 4s 214ms/step - loss: 0.4846 - binary_accuracy: 0.7949 - val_loss: 0.4500 - val_binary_accuracy: 0.8379\n",
      "Epoch 8/10\n",
      "13/13 [==============================] - 4s 205ms/step - loss: 0.4774 - binary_accuracy: 0.7519 - val_loss: 0.4177 - val_binary_accuracy: 0.8206\n",
      "Epoch 9/10\n",
      "13/13 [==============================] - 4s 205ms/step - loss: 0.4547 - binary_accuracy: 0.7926 - val_loss: 0.4209 - val_binary_accuracy: 0.8608\n",
      "Epoch 10/10\n",
      "13/13 [==============================] - 4s 211ms/step - loss: 0.4458 - binary_accuracy: 0.8056 - val_loss: 0.4325 - val_binary_accuracy: 0.8395\n"
     ]
    }
   ],
   "source": [
    "h1 = tl_model.fit(\n",
    "    train_datagen,\n",
    "    validation_data=val_datagen,\n",
    "    epochs=frozen_epochs,\n",
    "    callbacks=[es_callback, mcp_callback],\n",
    "    workers=n_cores\n",
    ")"
   ]
  },
  {
   "cell_type": "code",
   "execution_count": 28,
   "id": "b5b4515d-5967-4631-a496-1ae1931ab042",
   "metadata": {},
   "outputs": [
    {
     "data": {
      "text/plain": [
       "(7, 0.417693167924881)"
      ]
     },
     "execution_count": 28,
     "metadata": {},
     "output_type": "execute_result"
    }
   ],
   "source": [
    "np.argmin(h1.history[\"val_loss\"]), np.min(h1.history[\"val_loss\"])"
   ]
  },
  {
   "cell_type": "code",
   "execution_count": 29,
   "id": "85cc9124-a9b3-48d2-acb6-2289349c5f43",
   "metadata": {},
   "outputs": [
    {
     "data": {
      "text/plain": [
       "(8, 0.8607977628707886)"
      ]
     },
     "execution_count": 29,
     "metadata": {},
     "output_type": "execute_result"
    }
   ],
   "source": [
    "np.argmax(h1.history[\"val_binary_accuracy\"]), np.max(h1.history[\"val_binary_accuracy\"])"
   ]
  },
  {
   "cell_type": "markdown",
   "id": "8d21a2e1-6fb0-4252-97b6-7f395a21aa98",
   "metadata": {
    "tags": []
   },
   "source": [
    "# Load best frozen weights before fine tuning"
   ]
  },
  {
   "cell_type": "code",
   "execution_count": 30,
   "id": "f727e052-d9c1-4613-8582-d93c31e46047",
   "metadata": {},
   "outputs": [],
   "source": [
    "tl_model.load_weights(mcp_best_frozen_weights_file)"
   ]
  },
  {
   "cell_type": "markdown",
   "id": "7e04b9f7-0220-47e1-88a1-b375166403e7",
   "metadata": {},
   "source": [
    "# Fine tune training"
   ]
  },
  {
   "cell_type": "code",
   "execution_count": 31,
   "id": "826188ac-9b5f-4e90-8d9f-2fcaeaa1a98c",
   "metadata": {},
   "outputs": [],
   "source": [
    "# Make base model trainable (leave layers in inference mode)\n",
    "models.toggle_TL_freeze(tl_model)"
   ]
  },
  {
   "cell_type": "code",
   "execution_count": 32,
   "id": "9fce61bd-18b7-43e0-96f9-a309c763888f",
   "metadata": {},
   "outputs": [],
   "source": [
    "# tl_model.compile(optimizer=Adam(learning_rate=fine_tune_lr), loss=BinaryCrossentropy(), metrics=[BinaryAccuracy()])\n",
    "tl_model.compile(\n",
    "    optimizer=Adam(learning_rate=fine_tune_lr, beta_1=adam_beta_1, beta_2=adam_beta_2),\n",
    "    loss=BinaryCrossentropy(),\n",
    "    weighted_metrics=[BinaryAccuracy()]\n",
    ")"
   ]
  },
  {
   "cell_type": "code",
   "execution_count": 33,
   "id": "ff63ccae-1830-4cda-ad44-a8bc1436562c",
   "metadata": {
    "tags": []
   },
   "outputs": [
    {
     "name": "stdout",
     "output_type": "stream",
     "text": [
      "Model: \"model_1\"\n",
      "_________________________________________________________________\n",
      "Layer (type)                 Output Shape              Param #   \n",
      "=================================================================\n",
      "input_2 (InputLayer)         [(None, 128, 128, 3)]     0         \n",
      "_________________________________________________________________\n",
      "base_model (Functional)      (None, 4, 4, 2048)        14644096  \n",
      "_________________________________________________________________\n",
      "global_average_pooling2d (Gl (None, 2048)              0         \n",
      "_________________________________________________________________\n",
      "dense (Dense)                (None, 1)                 2049      \n",
      "_________________________________________________________________\n",
      "activation (Activation)      (None, 1)                 0         \n",
      "=================================================================\n",
      "Total params: 14,646,145\n",
      "Trainable params: 14,605,313\n",
      "Non-trainable params: 40,832\n",
      "_________________________________________________________________\n"
     ]
    }
   ],
   "source": [
    "tl_model.summary()"
   ]
  },
  {
   "cell_type": "code",
   "execution_count": 34,
   "id": "4bc0da73-0193-4e18-bc4c-f84d86e17a89",
   "metadata": {},
   "outputs": [],
   "source": [
    "es_callback = EarlyStopping(monitor=es_criterion, mode=es_mode, min_delta=es_min_delta, patience=es_patience)\n",
    "mcp_callback = ModelCheckpoint(mcp_best_finetune_weights_file, monitor=mcp_criterion, mode=mcp_mode, save_best_only=mcp_best_only, save_weights_only=mcp_weights_only)"
   ]
  },
  {
   "cell_type": "code",
   "execution_count": 35,
   "id": "05c2c008-c5fe-473f-a209-9da1e56b64b4",
   "metadata": {
    "tags": []
   },
   "outputs": [
    {
     "name": "stdout",
     "output_type": "stream",
     "text": [
      "Epoch 1/10\n",
      "13/13 [==============================] - 14s 377ms/step - loss: 1.0923 - binary_accuracy: 0.6110 - val_loss: 0.5412 - val_binary_accuracy: 0.7801\n",
      "Epoch 2/10\n",
      "13/13 [==============================] - 5s 261ms/step - loss: 0.5190 - binary_accuracy: 0.7251 - val_loss: 0.4425 - val_binary_accuracy: 0.8261\n",
      "Epoch 3/10\n",
      "13/13 [==============================] - 5s 260ms/step - loss: 0.4468 - binary_accuracy: 0.8085 - val_loss: 0.3742 - val_binary_accuracy: 0.8234\n",
      "Epoch 4/10\n",
      "13/13 [==============================] - 5s 263ms/step - loss: 0.4207 - binary_accuracy: 0.7797 - val_loss: 0.3606 - val_binary_accuracy: 0.8004\n",
      "Epoch 5/10\n",
      "13/13 [==============================] - 5s 260ms/step - loss: 0.4032 - binary_accuracy: 0.8330 - val_loss: 0.4239 - val_binary_accuracy: 0.7731\n",
      "Epoch 6/10\n",
      "13/13 [==============================] - 5s 260ms/step - loss: 0.4960 - binary_accuracy: 0.7575 - val_loss: 0.4623 - val_binary_accuracy: 0.7863\n",
      "Epoch 7/10\n",
      "13/13 [==============================] - 5s 257ms/step - loss: 0.4294 - binary_accuracy: 0.7760 - val_loss: 0.3279 - val_binary_accuracy: 0.8578\n",
      "Epoch 8/10\n",
      "13/13 [==============================] - 5s 262ms/step - loss: 0.3814 - binary_accuracy: 0.8266 - val_loss: 0.2929 - val_binary_accuracy: 0.8614\n",
      "Epoch 9/10\n",
      "13/13 [==============================] - 5s 261ms/step - loss: 0.3503 - binary_accuracy: 0.8294 - val_loss: 0.3056 - val_binary_accuracy: 0.8907\n",
      "Epoch 10/10\n",
      "13/13 [==============================] - 5s 257ms/step - loss: 0.3448 - binary_accuracy: 0.8361 - val_loss: 0.2562 - val_binary_accuracy: 0.8684\n"
     ]
    }
   ],
   "source": [
    "h2 = tl_model.fit(\n",
    "    train_datagen,\n",
    "    validation_data=val_datagen,\n",
    "    epochs=fine_tune_epochs,\n",
    "    callbacks=[es_callback, mcp_callback],\n",
    "    workers=n_cores\n",
    ")"
   ]
  },
  {
   "cell_type": "code",
   "execution_count": 36,
   "id": "010da2d1-dcef-47c8-8011-73bbf31c5b0c",
   "metadata": {},
   "outputs": [
    {
     "data": {
      "text/plain": [
       "(9, 0.2562311589717865)"
      ]
     },
     "execution_count": 36,
     "metadata": {},
     "output_type": "execute_result"
    }
   ],
   "source": [
    "np.argmin(h2.history[\"val_loss\"]), np.min(h2.history[\"val_loss\"])"
   ]
  },
  {
   "cell_type": "code",
   "execution_count": 37,
   "id": "1d04b350-b75d-43ed-bfc4-a02f09c5bb45",
   "metadata": {},
   "outputs": [
    {
     "data": {
      "text/plain": [
       "(8, 0.890742301940918)"
      ]
     },
     "execution_count": 37,
     "metadata": {},
     "output_type": "execute_result"
    }
   ],
   "source": [
    "np.argmax(h2.history[\"val_binary_accuracy\"]), np.max(h2.history[\"val_binary_accuracy\"])"
   ]
  },
  {
   "cell_type": "code",
   "execution_count": null,
   "id": "51be6fcc-fc03-4ee3-9304-0227c8a48054",
   "metadata": {},
   "outputs": [],
   "source": []
  }
 ],
 "metadata": {
  "kernelspec": {
   "display_name": "Python 3 (ipykernel)",
   "language": "python",
   "name": "python3"
  },
  "language_info": {
   "codemirror_mode": {
    "name": "ipython",
    "version": 3
   },
   "file_extension": ".py",
   "mimetype": "text/x-python",
   "name": "python",
   "nbconvert_exporter": "python",
   "pygments_lexer": "ipython3",
   "version": "3.9.10"
  }
 },
 "nbformat": 4,
 "nbformat_minor": 5
}
