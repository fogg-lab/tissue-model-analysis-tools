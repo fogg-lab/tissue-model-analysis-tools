{
 "cells": [
  {
   "cell_type": "code",
   "execution_count": 2,
   "id": "e163c156-c2b6-4ea3-8656-8e18a81e2867",
   "metadata": {},
   "outputs": [],
   "source": [
    "import numpy as np\n",
    "import matplotlib.pyplot as plt\n",
    "import seaborn as sns\n",
    "\n",
    "from tensorflow import data\n",
    "from tensorflow.keras import Sequential, Input, Model\n",
    "from tensorflow.keras.layers import Dense, Flatten, GlobalAveragePooling2D, Softmax\n",
    "from tensorflow.keras.optimizers import Adam\n",
    "from tensorflow.keras.losses import BinaryCrossentropy\n",
    "from tensorflow.keras.metrics import BinaryAccuracy\n",
    "from tensorflow.keras.applications import resnet50\n",
    "\n",
    "from tensorflow.keras.utils import to_categorical\n",
    "from tensorflow.keras.preprocessing.image import ImageDataGenerator"
   ]
  },
  {
   "cell_type": "code",
   "execution_count": 3,
   "id": "597b5a7c-7be7-45ec-8c76-0392dcf3295e",
   "metadata": {},
   "outputs": [],
   "source": [
    "import sys\n",
    "sys.path.append(\"../\")\n",
    "from util import data_prep as prep\n",
    "from util import models as m"
   ]
  },
  {
   "cell_type": "code",
   "execution_count": 4,
   "id": "a4855d62-90d5-4b94-9fd9-4df0f5b7d1a4",
   "metadata": {},
   "outputs": [],
   "source": [
    "root_data_path = f\"D:/malaria_data/cell_images_split\"\n",
    "seed = 123\n",
    "# Resize using \"area\" method\n",
    "# Multiples of 32 work best with ResNet\n",
    "resnet_inp_shape = (128, 128, 3)\n",
    "val_split = 0.2\n",
    "batch_size = 32\n",
    "n_epochs = 2\n",
    "fine_tune_lr = 1e-5"
   ]
  },
  {
   "cell_type": "code",
   "execution_count": 5,
   "id": "4940c326-7da2-4ae6-9c93-ec4918ab287c",
   "metadata": {},
   "outputs": [],
   "source": [
    "model_0 = resnet50.ResNet50(weights=\"imagenet\", include_top=False, input_shape=resnet_inp_shape)"
   ]
  },
  {
   "cell_type": "markdown",
   "id": "b5cdcc99-c154-424c-b70b-60f0d90096ba",
   "metadata": {},
   "source": [
    "# Functions"
   ]
  },
  {
   "cell_type": "code",
   "execution_count": null,
   "id": "14c63627-047a-41bc-9386-f9e5ecfa0e61",
   "metadata": {},
   "outputs": [],
   "source": [
    "def build_model(base_model: Model, ll: int, img_shape: tuple) -> Model:\n",
    "    # Pretend we want to get rid of last convolutional block\n",
    "    # ll = [l.name for l in model_0.layers].index(\"conv5_block2_out\")\n",
    "    base_model_red = Model(inputs=base_model.input, outputs=base_model.layers[ll].output)\n",
    "    base_model_red.trainable = False\n",
    "    inputs = Input(shape=img_shape)\n",
    "    x = base_model_red(inputs, training=False)\n",
    "    x = GlobalAveragePooling2D()(x)\n",
    "    outputs = Dense(1, activation=\"sigmoid\")(x)\n",
    "    model_1 = Model(inputs, outputs)\n",
    "    return model_1"
   ]
  },
  {
   "cell_type": "markdown",
   "id": "26c21059-6c18-4abd-a94c-44349e2fe109",
   "metadata": {},
   "source": [
    "# Data"
   ]
  },
  {
   "cell_type": "markdown",
   "id": "3f11393b-721a-413a-934a-55e260901287",
   "metadata": {},
   "source": [
    "## Data split"
   ]
  },
  {
   "cell_type": "code",
   "execution_count": null,
   "id": "171cb50f-37ec-41dd-b50c-0f9e4feb3283",
   "metadata": {},
   "outputs": [],
   "source": [
    "train_datagen = ImageDataGenerator(\n",
    "    horizontal_flip=True,\n",
    "    vertical_flip=True,\n",
    "    # Make sure to preprocess the same as the original model\n",
    "    preprocessing_function=resnet50.preprocess_input,\n",
    "    # Use 20% of data for validation\n",
    "    validation_split=val_split\n",
    ")"
   ]
  },
  {
   "cell_type": "code",
   "execution_count": null,
   "id": "5926107b-16a4-40a2-82cf-635617e9eaf3",
   "metadata": {},
   "outputs": [],
   "source": [
    "test_datagen = ImageDataGenerator(\n",
    "    preprocessing_function=resnet50.preprocess_input\n",
    ")"
   ]
  },
  {
   "cell_type": "markdown",
   "id": "1b2bfdc7-3d23-4c40-9f80-3c00f6847620",
   "metadata": {},
   "source": [
    "## Generators"
   ]
  },
  {
   "cell_type": "code",
   "execution_count": null,
   "id": "5dcb1a1f-e3ed-44ff-9286-bf786f956901",
   "metadata": {},
   "outputs": [],
   "source": [
    "train_generator = train_datagen.flow_from_directory(\n",
    "    f\"{root_data_path}/train\",\n",
    "    target_size=resnet_inp_shape[:2],\n",
    "    batch_size=batch_size,\n",
    "    # Want uninfected to be labeled \"0\"\n",
    "    classes={\"uninfected\": 0, \"parasitized\": 1},\n",
    "    class_mode=\"binary\",\n",
    "    seed=seed,\n",
    "    subset=\"training\"\n",
    ")\n",
    "\n",
    "val_generator = train_datagen.flow_from_directory(\n",
    "    f\"{root_data_path}/train\",\n",
    "    target_size=resnet_inp_shape[:2],\n",
    "    batch_size=batch_size,\n",
    "    classes={\"uninfected\": 0, \"parasitized\": 1},\n",
    "    class_mode=\"binary\",\n",
    "    seed=seed,\n",
    "    subset=\"validation\"\n",
    ")"
   ]
  },
  {
   "cell_type": "code",
   "execution_count": null,
   "id": "c66e5612-314f-49c6-8a44-597d587ff0a5",
   "metadata": {},
   "outputs": [],
   "source": [
    "test_generator = test_datagen.flow_from_directory(\n",
    "    f\"{root_data_path}/test\",\n",
    "    target_size=resnet_inp_shape[:2],\n",
    "    batch_size=batch_size,\n",
    "    classes={\"uninfected\": 0, \"parasitized\": 1},\n",
    "    class_mode=None,\n",
    "    shuffle=False\n",
    ")"
   ]
  },
  {
   "cell_type": "markdown",
   "id": "72a9d52c-d555-4a80-8c0a-f2b689d028dd",
   "metadata": {
    "tags": []
   },
   "source": [
    "# Build model"
   ]
  },
  {
   "cell_type": "code",
   "execution_count": null,
   "id": "60ee26a3-f934-4861-a27c-6cd01af57d82",
   "metadata": {},
   "outputs": [],
   "source": [
    "model_1 = build_model(model_0, -1, resnet_inp_shape)\n",
    "model_1.compile(optimizer=Adam(), loss=BinaryCrossentropy(), metrics=[BinaryAccuracy()])"
   ]
  },
  {
   "cell_type": "code",
   "execution_count": null,
   "id": "953f37d3-96b0-4a19-b845-23f5e1189359",
   "metadata": {},
   "outputs": [],
   "source": [
    "model_1.summary()"
   ]
  },
  {
   "cell_type": "markdown",
   "id": "1b42f497-ffdd-4e2e-bef6-fdbc60adf6ee",
   "metadata": {},
   "source": [
    "# Train model (just new layers)"
   ]
  },
  {
   "cell_type": "code",
   "execution_count": null,
   "id": "e1b2037e-d1b1-455b-ae7d-56304dbcd6d3",
   "metadata": {
    "tags": []
   },
   "outputs": [],
   "source": [
    "# model_1.fit(\n",
    "#     train_generator,\n",
    "# )\n",
    "model_1.fit_generator(\n",
    "    train_generator,\n",
    "    validation_data=val_generator,\n",
    "    steps_per_epoch=train_generator.n // batch_size,\n",
    "    validation_steps=val_generator.n // batch_size,\n",
    "    epochs=n_epochs\n",
    ")"
   ]
  },
  {
   "cell_type": "markdown",
   "id": "b9ce3282-a722-400e-9a01-e62f4d75ed22",
   "metadata": {},
   "source": [
    "# Train model (all layers)"
   ]
  },
  {
   "cell_type": "code",
   "execution_count": null,
   "id": "9dd3f923-5ed0-4b6d-b944-fc3d39b3befa",
   "metadata": {},
   "outputs": [],
   "source": [
    "# Should this be model_0?\n",
    "model_1.trainable = True"
   ]
  },
  {
   "cell_type": "code",
   "execution_count": null,
   "id": "5a9409e2-9314-484e-af87-72870567a872",
   "metadata": {},
   "outputs": [],
   "source": [
    "model_1.compile(\n",
    "    optimizer=Adam(learning_rate=fine_tune_lr),\n",
    "    loss=BinaryCrossentropy(),\n",
    "    metrics=[BinaryAccuracy()]\n",
    ")"
   ]
  },
  {
   "cell_type": "code",
   "execution_count": null,
   "id": "63a9bb03-c673-4e85-9250-4797a371e87c",
   "metadata": {},
   "outputs": [],
   "source": [
    "model_1.fit_generator(\n",
    "    train_generator,\n",
    "    validation_data=val_generator,\n",
    "    steps_per_epoch=train_generator.n // batch_size,\n",
    "    validation_steps=val_generator.n // batch_size,\n",
    "    epochs=n_epochs // 2\n",
    ")"
   ]
  },
  {
   "cell_type": "code",
   "execution_count": null,
   "id": "81f5a484-fd03-40cf-a2f1-3ea098183d39",
   "metadata": {},
   "outputs": [],
   "source": [
    "probs = model_1.predict(test_generator)"
   ]
  },
  {
   "cell_type": "code",
   "execution_count": null,
   "id": "f6f2341e-2b84-4779-8f6c-3347e08fe2ee",
   "metadata": {},
   "outputs": [],
   "source": [
    "preds = np.squeeze((probs > 0.5).astype(int), axis=1)\n",
    "true = test_generator.labels"
   ]
  },
  {
   "cell_type": "code",
   "execution_count": null,
   "id": "323b0d77-1554-45fd-935e-bff6a1575f7b",
   "metadata": {},
   "outputs": [],
   "source": [
    "(preds == true).sum() / test_generator.n"
   ]
  }
 ],
 "metadata": {
  "kernelspec": {
   "display_name": "Python 3 (ipykernel)",
   "language": "python",
   "name": "python3"
  },
  "language_info": {
   "codemirror_mode": {
    "name": "ipython",
    "version": 3
   },
   "file_extension": ".py",
   "mimetype": "text/x-python",
   "name": "python",
   "nbconvert_exporter": "python",
   "pygments_lexer": "ipython3",
   "version": "3.9.10"
  }
 },
 "nbformat": 4,
 "nbformat_minor": 5
}
