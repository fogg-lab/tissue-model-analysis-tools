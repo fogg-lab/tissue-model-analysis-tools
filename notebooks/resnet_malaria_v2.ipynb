{
 "cells": [
  {
   "cell_type": "code",
   "execution_count": 1,
   "id": "e163c156-c2b6-4ea3-8656-8e18a81e2867",
   "metadata": {},
   "outputs": [],
   "source": [
    "import numpy as np\n",
    "import matplotlib.pyplot as plt\n",
    "import seaborn as sns\n",
    "import keras_tuner as kt\n",
    "\n",
    "from tensorflow import data\n",
    "from tensorflow.keras import Sequential, Input, Model\n",
    "from tensorflow.keras.layers import Dense, Flatten, GlobalAveragePooling2D, Softmax\n",
    "from tensorflow.keras.optimizers import Adam\n",
    "from tensorflow.keras.losses import BinaryCrossentropy\n",
    "from tensorflow.keras.metrics import BinaryAccuracy\n",
    "from tensorflow.keras.applications import resnet50\n",
    "\n",
    "from tensorflow.keras.utils import to_categorical\n",
    "from tensorflow.keras.preprocessing.image import ImageDataGenerator"
   ]
  },
  {
   "cell_type": "code",
   "execution_count": 2,
   "id": "597b5a7c-7be7-45ec-8c76-0392dcf3295e",
   "metadata": {},
   "outputs": [],
   "source": [
    "import sys\n",
    "sys.path.append(\"../\")\n",
    "from util import data_prep as prep\n",
    "from util import models as m"
   ]
  },
  {
   "cell_type": "code",
   "execution_count": 3,
   "id": "a4855d62-90d5-4b94-9fd9-4df0f5b7d1a4",
   "metadata": {},
   "outputs": [],
   "source": [
    "root_data_path = f\"D:/malaria_data/cell_images_split\"\n",
    "seed = 2049\n",
    "# Resize using \"area\" method\n",
    "# Multiples of 32 work best with ResNet\n",
    "resnet_inp_shape = (128, 128, 3)\n",
    "val_split = 0.2\n",
    "batch_size = 32\n",
    "n_epochs = 4\n",
    "min_fine_tune_lr = 1e-5\n",
    "last_layer_options = [\"conv2_block3_out\", \"conv3_block4_out\", \"conv4_block6_out\", \"conv5_block3_out\"]"
   ]
  },
  {
   "cell_type": "code",
   "execution_count": 4,
   "id": "4940c326-7da2-4ae6-9c93-ec4918ab287c",
   "metadata": {},
   "outputs": [],
   "source": [
    "# model_0 = resnet50.ResNet50(weights=\"imagenet\", include_top=False, input_shape=resnet_inp_shape)\n",
    "# model_0.summary()"
   ]
  },
  {
   "cell_type": "markdown",
   "id": "b5cdcc99-c154-424c-b70b-60f0d90096ba",
   "metadata": {
    "tags": []
   },
   "source": [
    "# Functions"
   ]
  },
  {
   "cell_type": "markdown",
   "id": "26c21059-6c18-4abd-a94c-44349e2fe109",
   "metadata": {},
   "source": [
    "# Data"
   ]
  },
  {
   "cell_type": "markdown",
   "id": "3f11393b-721a-413a-934a-55e260901287",
   "metadata": {},
   "source": [
    "## Data split"
   ]
  },
  {
   "cell_type": "code",
   "execution_count": 5,
   "id": "171cb50f-37ec-41dd-b50c-0f9e4feb3283",
   "metadata": {},
   "outputs": [],
   "source": [
    "train_datagen = ImageDataGenerator(\n",
    "    horizontal_flip=True,\n",
    "    vertical_flip=True,\n",
    "    # Make sure to preprocess the same as the original model\n",
    "    preprocessing_function=resnet50.preprocess_input,\n",
    "    # Use 20% of data for validation\n",
    "    validation_split=val_split\n",
    ")"
   ]
  },
  {
   "cell_type": "code",
   "execution_count": 6,
   "id": "5926107b-16a4-40a2-82cf-635617e9eaf3",
   "metadata": {},
   "outputs": [],
   "source": [
    "test_datagen = ImageDataGenerator(\n",
    "    preprocessing_function=resnet50.preprocess_input\n",
    ")"
   ]
  },
  {
   "cell_type": "markdown",
   "id": "1b2bfdc7-3d23-4c40-9f80-3c00f6847620",
   "metadata": {},
   "source": [
    "## Generators"
   ]
  },
  {
   "cell_type": "code",
   "execution_count": 7,
   "id": "5dcb1a1f-e3ed-44ff-9286-bf786f956901",
   "metadata": {},
   "outputs": [
    {
     "name": "stdout",
     "output_type": "stream",
     "text": [
      "Found 17638 images belonging to 2 classes.\n",
      "Found 4408 images belonging to 2 classes.\n"
     ]
    }
   ],
   "source": [
    "train_generator = train_datagen.flow_from_directory(\n",
    "    f\"{root_data_path}/train\",\n",
    "    target_size=resnet_inp_shape[:2],\n",
    "    batch_size=batch_size,\n",
    "    # Want uninfected to be labeled \"0\"\n",
    "    classes={\"uninfected\": 0, \"parasitized\": 1},\n",
    "    class_mode=\"binary\",\n",
    "    seed=seed,\n",
    "    subset=\"training\"\n",
    ")\n",
    "\n",
    "val_generator = train_datagen.flow_from_directory(\n",
    "    f\"{root_data_path}/train\",\n",
    "    target_size=resnet_inp_shape[:2],\n",
    "    batch_size=batch_size,\n",
    "    classes={\"uninfected\": 0, \"parasitized\": 1},\n",
    "    class_mode=\"binary\",\n",
    "    seed=seed,\n",
    "    subset=\"validation\"\n",
    ")"
   ]
  },
  {
   "cell_type": "code",
   "execution_count": 8,
   "id": "c66e5612-314f-49c6-8a44-597d587ff0a5",
   "metadata": {},
   "outputs": [
    {
     "name": "stdout",
     "output_type": "stream",
     "text": [
      "Found 5512 images belonging to 2 classes.\n"
     ]
    }
   ],
   "source": [
    "test_generator = test_datagen.flow_from_directory(\n",
    "    f\"{root_data_path}/test\",\n",
    "    target_size=resnet_inp_shape[:2],\n",
    "    batch_size=batch_size,\n",
    "    classes={\"uninfected\": 0, \"parasitized\": 1},\n",
    "    class_mode=None,\n",
    "    shuffle=False\n",
    ")"
   ]
  },
  {
   "cell_type": "markdown",
   "id": "72a9d52c-d555-4a80-8c0a-f2b689d028dd",
   "metadata": {
    "tags": []
   },
   "source": [
    "# Build model"
   ]
  },
  {
   "cell_type": "code",
   "execution_count": 9,
   "id": "aefdcc39-2c1b-4d59-9a8a-23ae0819a73e",
   "metadata": {},
   "outputs": [],
   "source": [
    "# hp = kt.HyperParameters()\n",
    "hypermodel = m.ResNet50TLHyperModel(\n",
    "    inp_shape=resnet_inp_shape,\n",
    "    name=\"resnet_malaria\",\n",
    "    last_layer_options=last_layer_options,\n",
    "    min_fine_tune_lr=min_fine_tune_lr,\n",
    "    max_epochs_1=n_epochs,\n",
    "    max_epochs_2=n_epochs // 2\n",
    ")"
   ]
  },
  {
   "cell_type": "code",
   "execution_count": 10,
   "id": "6854412d-5419-4fb2-a5b9-dcb024c6505f",
   "metadata": {},
   "outputs": [
    {
     "name": "stdout",
     "output_type": "stream",
     "text": [
      "INFO:tensorflow:Reloading Oracle from existing project .\\untitled_project\\oracle.json\n",
      "INFO:tensorflow:Reloading Tuner from .\\untitled_project\\tuner0.json\n"
     ]
    }
   ],
   "source": [
    "tuner = kt.BayesianOptimization(\n",
    "    hypermodel=hypermodel,\n",
    "    objective=\"val_binary_accuracy\",\n",
    "    max_trials=3,\n",
    "    seed=seed\n",
    ")"
   ]
  },
  {
   "cell_type": "code",
   "execution_count": 11,
   "id": "af416279-927f-4d18-bf44-9742b91a1da2",
   "metadata": {},
   "outputs": [
    {
     "name": "stdout",
     "output_type": "stream",
     "text": [
      "Trial 3 Complete [00h 02m 29s]\n",
      "val_binary_accuracy: 0.6754105687141418\n",
      "\n",
      "Best val_binary_accuracy So Far: 0.9603102207183838\n",
      "Total elapsed time: 00h 02m 29s\n",
      "INFO:tensorflow:Oracle triggered exit\n"
     ]
    }
   ],
   "source": [
    "tuner.search(train_generator, validation_data=val_generator, steps_per_epoch=train_generator.n // batch_size, validation_steps=val_generator.n // batch_size)"
   ]
  },
  {
   "cell_type": "code",
   "execution_count": null,
   "id": "82657343-20ae-455b-b122-84b759bb2ca9",
   "metadata": {},
   "outputs": [],
   "source": []
  }
 ],
 "metadata": {
  "kernelspec": {
   "display_name": "Python 3 (ipykernel)",
   "language": "python",
   "name": "python3"
  },
  "language_info": {
   "codemirror_mode": {
    "name": "ipython",
    "version": 3
   },
   "file_extension": ".py",
   "mimetype": "text/x-python",
   "name": "python",
   "nbconvert_exporter": "python",
   "pygments_lexer": "ipython3",
   "version": "3.9.10"
  }
 },
 "nbformat": 4,
 "nbformat_minor": 5
}
