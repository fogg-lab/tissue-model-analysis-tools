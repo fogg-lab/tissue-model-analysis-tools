{
 "cells": [
  {
   "cell_type": "code",
   "execution_count": 1,
   "id": "e163c156-c2b6-4ea3-8656-8e18a81e2867",
   "metadata": {},
   "outputs": [],
   "source": [
    "import numpy as np\n",
    "import matplotlib.pyplot as plt\n",
    "import seaborn as sns\n",
    "import keras_tuner as kt\n",
    "\n",
    "from tensorflow import data\n",
    "from tensorflow.keras import Sequential, Input, Model\n",
    "from tensorflow.keras.layers import Dense, Flatten, GlobalAveragePooling2D, Softmax\n",
    "from tensorflow.keras.optimizers import Adam\n",
    "from tensorflow.keras.losses import BinaryCrossentropy\n",
    "from tensorflow.keras.metrics import BinaryAccuracy\n",
    "from tensorflow.keras.applications import resnet50\n",
    "from tensorflow.keras.callbacks import EarlyStopping\n",
    "\n",
    "from tensorflow.keras.utils import to_categorical\n",
    "from tensorflow.keras.preprocessing.image import ImageDataGenerator"
   ]
  },
  {
   "cell_type": "code",
   "execution_count": 2,
   "id": "24cf85f1-84e1-440f-8ea0-e9d49871f408",
   "metadata": {},
   "outputs": [],
   "source": [
    "from fl_tissue_model_tools import data_prep, models"
   ]
  },
  {
   "cell_type": "code",
   "execution_count": 3,
   "id": "a4855d62-90d5-4b94-9fd9-4df0f5b7d1a4",
   "metadata": {},
   "outputs": [],
   "source": [
    "root_data_path = f\"D:/malaria_data/cell_images_split\"\n",
    "seed = 2049\n",
    "# Resize using \"area\" method\n",
    "# Multiples of 32 work best with ResNet\n",
    "resnet_inp_shape = (128, 128, 3)\n",
    "n_outputs = 1\n",
    "val_split = 0.2\n",
    "batch_size = 32\n",
    "frozen_epochs = 10\n",
    "fine_tune_epochs = 10\n",
    "min_fine_tune_lr = 1e-5\n",
    "last_layer_options = [\"conv5_block3_out\", \"conv5_block2_out\", \"conv5_block1_out\", \"conv4_block6_out\"]\n",
    "max_opt_trials = 11\n",
    "hyperparam_path = \"../malaria_v2_output/malaria_v2_hp_trials\"\n",
    "\n",
    "# Early stopping\n",
    "es_criterion = \"val_loss\"\n",
    "es_mode = \"min\"\n",
    "es_patience = 1\n",
    "es_min_delta = 0.1"
   ]
  },
  {
   "cell_type": "markdown",
   "id": "26c21059-6c18-4abd-a94c-44349e2fe109",
   "metadata": {},
   "source": [
    "# Data"
   ]
  },
  {
   "cell_type": "markdown",
   "id": "3f11393b-721a-413a-934a-55e260901287",
   "metadata": {},
   "source": [
    "## Data split"
   ]
  },
  {
   "cell_type": "code",
   "execution_count": 4,
   "id": "171cb50f-37ec-41dd-b50c-0f9e4feb3283",
   "metadata": {},
   "outputs": [],
   "source": [
    "train_datagen = ImageDataGenerator(\n",
    "    horizontal_flip=True,\n",
    "    vertical_flip=True,\n",
    "    rotation_range=360,\n",
    "    # Make sure to preprocess the same as the original model\n",
    "    preprocessing_function=resnet50.preprocess_input,\n",
    "    # Use 20% of data for validation\n",
    "    validation_split=val_split\n",
    ")"
   ]
  },
  {
   "cell_type": "code",
   "execution_count": 5,
   "id": "5926107b-16a4-40a2-82cf-635617e9eaf3",
   "metadata": {},
   "outputs": [],
   "source": [
    "test_datagen = ImageDataGenerator(\n",
    "    preprocessing_function=resnet50.preprocess_input\n",
    ")"
   ]
  },
  {
   "cell_type": "markdown",
   "id": "1b2bfdc7-3d23-4c40-9f80-3c00f6847620",
   "metadata": {},
   "source": [
    "## Generators"
   ]
  },
  {
   "cell_type": "code",
   "execution_count": 6,
   "id": "5dcb1a1f-e3ed-44ff-9286-bf786f956901",
   "metadata": {},
   "outputs": [
    {
     "name": "stdout",
     "output_type": "stream",
     "text": [
      "Found 17638 images belonging to 2 classes.\n",
      "Found 4408 images belonging to 2 classes.\n"
     ]
    }
   ],
   "source": [
    "train_generator = train_datagen.flow_from_directory(\n",
    "    f\"{root_data_path}/train\",\n",
    "    target_size=resnet_inp_shape[:2],\n",
    "    batch_size=batch_size,\n",
    "    # Want uninfected to be labeled \"0\"\n",
    "    classes={\"uninfected\": 0, \"parasitized\": 1},\n",
    "    class_mode=\"binary\",\n",
    "    seed=seed,\n",
    "    subset=\"training\"\n",
    ")\n",
    "\n",
    "val_generator = train_datagen.flow_from_directory(\n",
    "    f\"{root_data_path}/train\",\n",
    "    target_size=resnet_inp_shape[:2],\n",
    "    batch_size=batch_size,\n",
    "    classes={\"uninfected\": 0, \"parasitized\": 1},\n",
    "    class_mode=\"binary\",\n",
    "    seed=seed,\n",
    "    subset=\"validation\"\n",
    ")"
   ]
  },
  {
   "cell_type": "code",
   "execution_count": 7,
   "id": "c66e5612-314f-49c6-8a44-597d587ff0a5",
   "metadata": {},
   "outputs": [
    {
     "name": "stdout",
     "output_type": "stream",
     "text": [
      "Found 5512 images belonging to 2 classes.\n"
     ]
    }
   ],
   "source": [
    "test_generator = test_datagen.flow_from_directory(\n",
    "    f\"{root_data_path}/test\",\n",
    "    target_size=resnet_inp_shape[:2],\n",
    "    batch_size=batch_size,\n",
    "    classes={\"uninfected\": 0, \"parasitized\": 1},\n",
    "    class_mode=None,\n",
    "    shuffle=False\n",
    ")"
   ]
  },
  {
   "cell_type": "markdown",
   "id": "72a9d52c-d555-4a80-8c0a-f2b689d028dd",
   "metadata": {
    "tags": []
   },
   "source": [
    "# Build hyper model"
   ]
  },
  {
   "cell_type": "code",
   "execution_count": null,
   "id": "aefdcc39-2c1b-4d59-9a8a-23ae0819a73e",
   "metadata": {},
   "outputs": [],
   "source": [
    "hypermodel = models.ResNet50TLHyperModel(\n",
    "    n_outputs=n_outputs,\n",
    "    img_shape=resnet_inp_shape,\n",
    "    frozen_optimizer=Adam(),\n",
    "    fine_tune_optimizer=Adam,\n",
    "    loss=BinaryCrossentropy(),\n",
    "    metrics=[BinaryAccuracy()],\n",
    "    name=hyperparam_path,\n",
    "    output_act=\"sigmoid\",\n",
    "    min_fine_tune_lr=min_fine_tune_lr,\n",
    "    frozen_epochs=frozen_epochs,\n",
    "    fine_tune_epochs=fine_tune_epochs,\n",
    "    base_model_name=\"base_model\"\n",
    ")"
   ]
  },
  {
   "cell_type": "code",
   "execution_count": null,
   "id": "6854412d-5419-4fb2-a5b9-dcb024c6505f",
   "metadata": {},
   "outputs": [],
   "source": [
    "tuner = kt.BayesianOptimization(\n",
    "    hypermodel=hypermodel,\n",
    "    objective=\"val_loss\",\n",
    "    max_trials=max_opt_trials,\n",
    "    seed=seed,\n",
    "    directory=\".\",\n",
    "    project_name=hyperparam_path\n",
    ")"
   ]
  },
  {
   "cell_type": "code",
   "execution_count": null,
   "id": "045f8789-3546-4f34-ad52-ff2f700eb9cf",
   "metadata": {},
   "outputs": [],
   "source": [
    "es_callback = EarlyStopping(monitor=es_criterion, mode=es_mode, min_delta=es_min_delta, patience=es_patience)"
   ]
  },
  {
   "cell_type": "code",
   "execution_count": null,
   "id": "af416279-927f-4d18-bf44-9742b91a1da2",
   "metadata": {
    "tags": []
   },
   "outputs": [],
   "source": [
    "tuner.search(\n",
    "    train_generator,\n",
    "    validation_data=val_generator,\n",
    "    steps_per_epoch=train_generator.n // batch_size,\n",
    "    validation_steps=val_generator.n // batch_size,\n",
    "    callbacks=[es_callback]\n",
    ")"
   ]
  },
  {
   "cell_type": "code",
   "execution_count": null,
   "id": "82657343-20ae-455b-b122-84b759bb2ca9",
   "metadata": {},
   "outputs": [],
   "source": [
    "tuner.results_summary()"
   ]
  },
  {
   "cell_type": "code",
   "execution_count": null,
   "id": "72e6dc90-e41d-4bbf-b3cc-693873dd3038",
   "metadata": {},
   "outputs": [],
   "source": [
    "best_hp = tuner.get_best_hyperparameters()[0]"
   ]
  },
  {
   "cell_type": "code",
   "execution_count": null,
   "id": "57cded23-8cbd-4498-8049-969dc205d953",
   "metadata": {},
   "outputs": [],
   "source": [
    "best_hp.values"
   ]
  },
  {
   "cell_type": "code",
   "execution_count": null,
   "id": "79158617-1233-4413-8de7-826229f00175",
   "metadata": {},
   "outputs": [],
   "source": [
    "best_tl_model = tuner.get_best_models()[0]"
   ]
  },
  {
   "cell_type": "code",
   "execution_count": null,
   "id": "07c48147-4f80-4528-92bc-5558f89ee8dd",
   "metadata": {},
   "outputs": [],
   "source": [
    "best_tl_model.summary()"
   ]
  },
  {
   "cell_type": "code",
   "execution_count": null,
   "id": "e31c6642-21e1-482b-8ed1-ec0d3d1e4af4",
   "metadata": {},
   "outputs": [],
   "source": []
  }
 ],
 "metadata": {
  "kernelspec": {
   "display_name": "Python 3 (ipykernel)",
   "language": "python",
   "name": "python3"
  },
  "language_info": {
   "codemirror_mode": {
    "name": "ipython",
    "version": 3
   },
   "file_extension": ".py",
   "mimetype": "text/x-python",
   "name": "python",
   "nbconvert_exporter": "python",
   "pygments_lexer": "ipython3",
   "version": "3.9.10"
  }
 },
 "nbformat": 4,
 "nbformat_minor": 5
}
