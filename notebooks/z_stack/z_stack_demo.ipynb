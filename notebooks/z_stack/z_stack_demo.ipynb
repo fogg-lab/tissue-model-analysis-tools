{
 "cells": [
  {
   "cell_type": "code",
   "execution_count": 1,
   "id": "b929f895-ec51-4591-bb09-9e36b5584e45",
   "metadata": {},
   "outputs": [],
   "source": [
    "import cv2\n",
    "import re\n",
    "import time\n",
    "import numpy as np\n",
    "import dask as d\n",
    "import matplotlib.pyplot as plt\n",
    "\n",
    "from glob import glob"
   ]
  },
  {
   "cell_type": "code",
   "execution_count": 2,
   "id": "746fdfc7-8278-476f-896a-9056c8454d5e",
   "metadata": {},
   "outputs": [],
   "source": [
    "from fl_tissue_model_tools import dev_config, defs, data_prep\n",
    "from fl_tissue_model_tools import preprocessing as prep\n",
    "from fl_tissue_model_tools import zstacks as zs"
   ]
  },
  {
   "cell_type": "code",
   "execution_count": 3,
   "id": "cfc0bd92-8e59-40fa-ab3e-eca54dae0f83",
   "metadata": {},
   "outputs": [],
   "source": [
    "dirs = dev_config.get_dev_directories(\"../../dev_paths.txt\")"
   ]
  },
  {
   "cell_type": "code",
   "execution_count": 4,
   "id": "cf11899c-d586-442b-b3a8-7e73a02ee87b",
   "metadata": {},
   "outputs": [],
   "source": [
    "zstack_data_dir = f\"{dirs.data_dir}/z_projection\"\n",
    "zproj_output_dir = f\"{dirs.figures_dir}/2022_04_07_z_projection\""
   ]
  },
  {
   "cell_type": "code",
   "execution_count": 5,
   "id": "6c3f86d6-f1ce-4f87-a8a7-fd775dbf7d8b",
   "metadata": {},
   "outputs": [],
   "source": [
    "data_prep.make_dir(zproj_output_dir)"
   ]
  },
  {
   "cell_type": "code",
   "execution_count": 6,
   "id": "dd548cf3-4bb8-4846-92db-03e635a72e1b",
   "metadata": {},
   "outputs": [],
   "source": [
    "z_ids = [\"A1\", \"A2\"]"
   ]
  },
  {
   "cell_type": "code",
   "execution_count": 20,
   "id": "95aa71ef-0d3a-4f58-a3e2-83acac448b88",
   "metadata": {
    "tags": []
   },
   "outputs": [],
   "source": [
    "def get_zstack(z_id, ext, descending):\n",
    "    zpaths, zstack = zs.zstack_from_dir(f\"{zstack_data_dir}/{z_id}\", ext, descending)\n",
    "    zstack = prep.min_max_(zstack, defs.GS_MIN, defs.GS_MAX, defs.TIF_MIN, defs.TIF_MAX)\n",
    "    return zpaths, zstack\n",
    "\n",
    "\n",
    "def compute_all_projections(zstack):\n",
    "    fs_proj = zs.proj_focus_stacking(zstack, axis=0, kernel_size=5)\n",
    "    avg_proj = zs.proj_avg(zstack, axis=0)\n",
    "    med_proj = zs.proj_med(zstack, axis=0)\n",
    "    min_proj = zs.proj_min(zstack, axis=0)\n",
    "    max_proj = zs.proj_max(zstack, axis=0)\n",
    "    return {\"fs\": fs_proj, \"avg\": avg_proj, \"med\": med_proj, \"min\": min_proj, \"max\": max_proj}"
   ]
  },
  {
   "cell_type": "code",
   "execution_count": 21,
   "id": "5965865d-ba20-4660-98c1-89b7dca082c7",
   "metadata": {},
   "outputs": [],
   "source": [
    "# {z_1: (z_paths, z_stack), z_2: (z_paths, z_stack), ...}\n",
    "zstacks = d.compute(\n",
    "    d.delayed({z_id: get_zstack(z_id, \"tif\", True) for z_id in z_ids})\n",
    ")[0]"
   ]
  },
  {
   "cell_type": "code",
   "execution_count": 28,
   "id": "64e64957-e8e3-44f6-912b-c9726bc6f0ee",
   "metadata": {},
   "outputs": [],
   "source": [
    "zprojs = d.compute(\n",
    "    d.delayed({z_id: compute_all_projections(zstacks[z_id][1]) for z_id in z_ids})\n",
    ")[0]"
   ]
  },
  {
   "cell_type": "code",
   "execution_count": 27,
   "id": "180d8996-a2f9-454b-82bc-c890f35de094",
   "metadata": {},
   "outputs": [
    {
     "data": {
      "text/plain": [
       "['A1', 'A2']"
      ]
     },
     "execution_count": 27,
     "metadata": {},
     "output_type": "execute_result"
    }
   ],
   "source": [
    "z_ids"
   ]
  },
  {
   "cell_type": "code",
   "execution_count": 25,
   "id": "7cc15ad2-8c3b-4122-a216-310119049ed5",
   "metadata": {
    "collapsed": true,
    "jupyter": {
     "outputs_hidden": true
    },
    "tags": []
   },
   "outputs": [
    {
     "data": {
      "text/plain": [
       "{'A1': {'fs': array([[0, 0, 0, ..., 0, 0, 0],\n",
       "         [0, 2, 0, ..., 0, 0, 0],\n",
       "         [2, 2, 2, ..., 3, 0, 0],\n",
       "         ...,\n",
       "         [0, 0, 0, ..., 0, 0, 3],\n",
       "         [2, 1, 3, ..., 0, 0, 0],\n",
       "         [1, 0, 0, ..., 0, 0, 0]], dtype=uint8),\n",
       "  'avg': array([[0, 0, 0, ..., 0, 0, 0],\n",
       "         [0, 0, 0, ..., 0, 0, 0],\n",
       "         [0, 0, 0, ..., 0, 0, 1],\n",
       "         ...,\n",
       "         [0, 0, 0, ..., 0, 0, 1],\n",
       "         [0, 0, 0, ..., 0, 0, 0],\n",
       "         [0, 0, 0, ..., 0, 0, 0]], dtype=uint8),\n",
       "  'med': array([[0, 0, 0, ..., 0, 0, 0],\n",
       "         [0, 0, 0, ..., 0, 0, 0],\n",
       "         [0, 0, 0, ..., 0, 0, 0],\n",
       "         ...,\n",
       "         [0, 0, 0, ..., 0, 0, 0],\n",
       "         [0, 0, 0, ..., 0, 0, 0],\n",
       "         [0, 0, 0, ..., 0, 0, 0]], dtype=uint8),\n",
       "  'min': array([[0, 0, 0, ..., 0, 0, 0],\n",
       "         [0, 0, 0, ..., 0, 0, 0],\n",
       "         [0, 0, 0, ..., 0, 0, 0],\n",
       "         ...,\n",
       "         [0, 0, 0, ..., 0, 0, 0],\n",
       "         [0, 0, 0, ..., 0, 0, 0],\n",
       "         [0, 0, 0, ..., 0, 0, 0]], dtype=uint8),\n",
       "  'max': array([[2, 1, 1, ..., 2, 2, 2],\n",
       "         [1, 2, 2, ..., 3, 2, 2],\n",
       "         [2, 2, 2, ..., 3, 2, 3],\n",
       "         ...,\n",
       "         [1, 1, 1, ..., 3, 1, 3],\n",
       "         [2, 1, 3, ..., 0, 1, 1],\n",
       "         [2, 1, 1, ..., 2, 2, 2]], dtype=uint8)},\n",
       " 'A2': {'fs': array([[0, 1, 1, ..., 0, 1, 0],\n",
       "         [3, 0, 1, ..., 0, 1, 0],\n",
       "         [1, 0, 0, ..., 0, 0, 0],\n",
       "         ...,\n",
       "         [2, 1, 2, ..., 0, 2, 0],\n",
       "         [0, 0, 1, ..., 0, 0, 0],\n",
       "         [0, 2, 2, ..., 0, 0, 0]], dtype=uint8),\n",
       "  'avg': array([[0, 0, 0, ..., 0, 1, 1],\n",
       "         [1, 0, 0, ..., 1, 0, 1],\n",
       "         [0, 0, 0, ..., 1, 0, 0],\n",
       "         ...,\n",
       "         [0, 0, 0, ..., 1, 1, 0],\n",
       "         [1, 0, 1, ..., 0, 0, 1],\n",
       "         [0, 0, 1, ..., 0, 0, 1]], dtype=uint8),\n",
       "  'med': array([[0, 0, 0, ..., 0, 0, 1],\n",
       "         [0, 0, 0, ..., 0, 0, 0],\n",
       "         [0, 0, 0, ..., 0, 0, 0],\n",
       "         ...,\n",
       "         [0, 0, 0, ..., 0, 0, 0],\n",
       "         [0, 0, 1, ..., 0, 0, 1],\n",
       "         [0, 0, 0, ..., 0, 0, 1]], dtype=uint8),\n",
       "  'min': array([[0, 0, 0, ..., 0, 0, 0],\n",
       "         [0, 0, 0, ..., 0, 0, 0],\n",
       "         [0, 0, 0, ..., 0, 0, 0],\n",
       "         ...,\n",
       "         [0, 0, 0, ..., 0, 0, 0],\n",
       "         [0, 0, 0, ..., 0, 0, 0],\n",
       "         [0, 0, 0, ..., 0, 0, 0]], dtype=uint8),\n",
       "  'max': array([[3, 1, 2, ..., 1, 3, 3],\n",
       "         [3, 1, 1, ..., 4, 3, 3],\n",
       "         [2, 1, 1, ..., 2, 1, 2],\n",
       "         ...,\n",
       "         [2, 1, 2, ..., 2, 4, 2],\n",
       "         [2, 2, 2, ..., 0, 1, 4],\n",
       "         [2, 2, 2, ..., 2, 1, 4]], dtype=uint8)}}"
      ]
     },
     "execution_count": 25,
     "metadata": {},
     "output_type": "execute_result"
    }
   ],
   "source": [
    "zprojs"
   ]
  },
  {
   "cell_type": "markdown",
   "id": "195d081d-f8cd-4a89-ae60-b586f07694dc",
   "metadata": {
    "tags": []
   },
   "source": [
    "# Visualize"
   ]
  },
  {
   "cell_type": "code",
   "execution_count": null,
   "id": "28c1bcea-e434-4da3-906d-052b82cdedbf",
   "metadata": {},
   "outputs": [],
   "source": [
    "def show_well(proj, cmap=\"gray\", vmin=defs.GS_MIN, vmax=defs.GS_MAX, h=8, w=8):\n",
    "    plt.figure(figsize=(h, w))\n",
    "    plt.imshow(proj, cmap=cmap, vmin=vmin, vmax=vmax)\n",
    "    plt.show()"
   ]
  },
  {
   "cell_type": "code",
   "execution_count": null,
   "id": "b90dcd89-405f-4be1-acb0-edb78734f35a",
   "metadata": {},
   "outputs": [],
   "source": [
    "target_id = \"A1\""
   ]
  },
  {
   "cell_type": "markdown",
   "id": "583ef7e0-0617-40e7-a42e-d8c9480ba53e",
   "metadata": {},
   "source": [
    "## Focus stacking"
   ]
  },
  {
   "cell_type": "code",
   "execution_count": null,
   "id": "0f6bed06-f761-4b97-a7ff-6c0143f981ef",
   "metadata": {},
   "outputs": [],
   "source": [
    "show_well(z_projections[target_id][\"fs\"])"
   ]
  },
  {
   "cell_type": "markdown",
   "id": "0f610dc4-2898-4283-896e-2ea769fcc960",
   "metadata": {
    "tags": []
   },
   "source": [
    "## Average"
   ]
  },
  {
   "cell_type": "code",
   "execution_count": null,
   "id": "f8c2d936-f384-4c78-b75d-1ba7ec23913b",
   "metadata": {
    "tags": []
   },
   "outputs": [],
   "source": [
    "show_well(z_projections[target_id][\"avg\"])"
   ]
  },
  {
   "cell_type": "markdown",
   "id": "4412c20c-0899-4f15-aeee-3be517a27e07",
   "metadata": {},
   "source": [
    "## Median"
   ]
  },
  {
   "cell_type": "code",
   "execution_count": null,
   "id": "4580e840-24c4-43a8-bf7e-1bad8c6d703d",
   "metadata": {
    "tags": []
   },
   "outputs": [],
   "source": [
    "show_well(z_projections[target_id][\"med\"])"
   ]
  },
  {
   "cell_type": "markdown",
   "id": "64e1ce36-6c6e-4ce6-acc0-586e4e10c3f9",
   "metadata": {
    "tags": []
   },
   "source": [
    "## Min"
   ]
  },
  {
   "cell_type": "code",
   "execution_count": null,
   "id": "3fac811b-0359-4454-97b9-6a6cd6575be9",
   "metadata": {
    "tags": []
   },
   "outputs": [],
   "source": [
    "show_well(z_projections[target_id][\"min\"])"
   ]
  },
  {
   "cell_type": "markdown",
   "id": "5660965a-0310-4472-95b0-1571f4e67081",
   "metadata": {},
   "source": [
    "## Max"
   ]
  },
  {
   "cell_type": "code",
   "execution_count": null,
   "id": "afc78ca1-6c45-4555-9dfb-c928b5e35edf",
   "metadata": {
    "tags": []
   },
   "outputs": [],
   "source": [
    "show_well(z_projections[target_id][\"max\"])"
   ]
  },
  {
   "cell_type": "markdown",
   "id": "66b7b423-20d7-4a3f-aee1-e0a3fdcf7da7",
   "metadata": {},
   "source": [
    "# Save results"
   ]
  },
  {
   "cell_type": "code",
   "execution_count": null,
   "id": "367c2776-d1af-4a40-8767-8e619753a6f5",
   "metadata": {
    "tags": []
   },
   "outputs": [],
   "source": [
    "for zid, zps in z_projections.items():\n",
    "    for zp_type, zp in zps.items():\n",
    "        cv2.imwrite(\n",
    "            f\"{z_proj_output_dir}/{zid}_{zp_type}.tif\",\n",
    "            prep.min_max_(zp, defs.TIF_MIN, defs.TIF_MAX, defs.GS_MIN, defs.GS_MAX).astype(np.uint16)\n",
    "        )"
   ]
  }
 ],
 "metadata": {
  "kernelspec": {
   "display_name": "Python 3 (ipykernel)",
   "language": "python",
   "name": "python3"
  },
  "language_info": {
   "codemirror_mode": {
    "name": "ipython",
    "version": 3
   },
   "file_extension": ".py",
   "mimetype": "text/x-python",
   "name": "python",
   "nbconvert_exporter": "python",
   "pygments_lexer": "ipython3",
   "version": "3.9.10"
  }
 },
 "nbformat": 4,
 "nbformat_minor": 5
}
