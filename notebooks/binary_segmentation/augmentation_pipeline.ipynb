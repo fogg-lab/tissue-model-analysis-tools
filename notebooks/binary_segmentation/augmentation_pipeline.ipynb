{
 "cells": [
  {
   "cell_type": "code",
   "execution_count": 1,
   "metadata": {},
   "outputs": [],
   "source": [
    "from glob import glob\n",
    "from pathlib import Path\n",
    "import os.path as osp\n",
    "import cv2\n",
    "import albumentations as A\n",
    "from fl_tissue_model_tools.transforms import get_elastic_dual_transform\n",
    "from fl_tissue_model_tools.preprocessing import get_augmentor, augment_images"
   ]
  },
  {
   "cell_type": "code",
   "execution_count": 2,
   "metadata": {},
   "outputs": [],
   "source": [
    "'''\n",
    "This notebook is used to test the augmentation pipeline for binary segmentation.\n",
    "'''\n",
    "\n",
    "albumentations_transform = A.Compose([\n",
    "    A.Rotate(p=0.5, border_mode=cv2.BORDER_CONSTANT, value=0, mask_value=0),\n",
    "    A.RandomCrop(height=572, width=572),\n",
    "    A.Flip(p=0.5),\n",
    "    A.OneOf([\n",
    "            A.MultiplicativeNoise(p=0.5),\n",
    "            A.AdvancedBlur(p=0.5)\n",
    "    ], p=0.8),\n",
    "    A.OneOf([\n",
    "        A.RandomGamma(p=0.2),\n",
    "        A.RandomBrightnessContrast(p=0.4),\n",
    "        A.RandomToneCurve(scale=0.75, p=0.2),\n",
    "        A.CLAHE(p=0.2)\n",
    "    ], p=0.75)\n",
    "])\n",
    "\n",
    "elastic_transform = get_elastic_dual_transform()\n",
    "\n",
    "transform_list = (albumentations_transform, elastic_transform)\n",
    "augmentor = get_augmentor(transform_list)"
   ]
  },
  {
   "cell_type": "code",
   "execution_count": 3,
   "metadata": {},
   "outputs": [
    {
     "name": "stdout",
     "output_type": "stream",
     "text": [
      "<class 'tuple'>\n"
     ]
    }
   ],
   "source": [
    "print(type(transform_list))"
   ]
  },
  {
   "cell_type": "code",
   "execution_count": 4,
   "metadata": {},
   "outputs": [],
   "source": [
    "def get_img_mask_paths(img_dir, mask_dir=None, img_suffix_pattern='.tif', mask_suffix_pattern='_mask.tif'):\n",
    "    if mask_dir is None:\n",
    "        mask_dir = img_dir\n",
    "    # make sure the search patterns are distinct\n",
    "    same_dir = img_dir==mask_dir\n",
    "    if same_dir and img_suffix_pattern==mask_suffix_pattern:\n",
    "        raise ValueError('directories and suffixes for images and masks are identical')\n",
    "    exclude_mask_suffix_from_img_search = same_dir and mask_suffix_pattern.endswith(img_suffix_pattern)\n",
    "    exclude_img_suffix_from_mask_search = same_dir and img_suffix_pattern.endswith(mask_suffix_pattern)\n",
    "\n",
    "    # get image paths\n",
    "    img_paths = glob(osp.join(img_dir, f'*{img_suffix_pattern}'))\n",
    "    if exclude_mask_suffix_from_img_search:\n",
    "        img_paths = [p for p in img_paths if not p.endswith(mask_suffix_pattern)]\n",
    "\n",
    "    # get mask filenames\n",
    "    mask_filenames = [Path(fp).name for fp in glob(osp.join(mask_dir, f'*{mask_suffix_pattern}'))]\n",
    "    if exclude_img_suffix_from_mask_search:\n",
    "        mask_filenames = [p for p in mask_paths if not p.endswith(img_suffix_pattern)]\n",
    "\n",
    "    # sort paths and make sure images and masks are paired 1:1\n",
    "    if len(img_paths) != len(mask_filenames):\n",
    "        raise ValueError(f'number of images ({len(img_paths)}) and masks ({len(mask_filenames)}) is different')\n",
    "    img_paths = sorted(img_paths)\n",
    "    mask_paths = []\n",
    "    for img_path in img_paths:\n",
    "        sample_name = Path(img_path).name.replace(img_suffix_pattern, '')\n",
    "        mask_fname = sample_name + mask_suffix_pattern\n",
    "        if mask_fname in mask_filenames:\n",
    "            mask_paths.append(osp.join(mask_dir, mask_fname))\n",
    "        else:\n",
    "            raise ValueError(f'mask {mask_fname} not found for image {Path(img_path).name}')\n",
    "\n",
    "    return img_paths, mask_paths"
   ]
  },
  {
   "cell_type": "code",
   "execution_count": 5,
   "metadata": {},
   "outputs": [],
   "source": [
    "img_dir = '/home/bean/lab/training-data/jan31'\n",
    "mask_dir = img_dir\n",
    "out_path = \"transforms_output\"\n",
    "out_ext = \".png\"\n",
    "num_cycles = 1\n",
    "img_paths, mask_paths = get_img_mask_paths(img_dir, mask_dir)\n",
    "images = [cv2.imread(fp, 0) for fp in img_paths]\n",
    "masks = [cv2.imread(fp, 0) for fp in mask_paths]\n",
    "im_mask_pairs = list(zip(images, masks))\n",
    "Path(out_path).mkdir(parents=True, exist_ok=True)"
   ]
  },
  {
   "cell_type": "code",
   "execution_count": 6,
   "metadata": {},
   "outputs": [],
   "source": [
    "for cycle in range(num_cycles):\n",
    "\taugmented = augment_images(images, masks, augmentor)\n",
    "\tcycle_num = str(cycle + 1) if num_cycles > 1 else ''\n",
    "\tfor i, (img, mask) in enumerate(augmented):\n",
    "\t\tsample_name = Path(img_paths[i]).stem\n",
    "\t\tcv2.imwrite(f\"{out_path}/{sample_name}_aug{cycle_num}{out_ext}\", img)\n",
    "\t\tcv2.imwrite(f\"{out_path}/{sample_name}_mask_aug{cycle_num}{out_ext}\", mask)"
   ]
  },
  {
   "cell_type": "code",
   "execution_count": null,
   "metadata": {},
   "outputs": [],
   "source": []
  }
 ],
 "metadata": {
  "kernelspec": {
   "display_name": "tissue-model-analysis",
   "language": "python",
   "name": "python3"
  },
  "language_info": {
   "codemirror_mode": {
    "name": "ipython",
    "version": 3
   },
   "file_extension": ".py",
   "mimetype": "text/x-python",
   "name": "python",
   "nbconvert_exporter": "python",
   "pygments_lexer": "ipython3",
   "version": "3.10.8"
  },
  "orig_nbformat": 4,
  "vscode": {
   "interpreter": {
    "hash": "078c777ce772c045090e14aa3dbc9eaccd92c36b19b8f6c12088b63ee53c2db9"
   }
  }
 },
 "nbformat": 4,
 "nbformat_minor": 2
}
