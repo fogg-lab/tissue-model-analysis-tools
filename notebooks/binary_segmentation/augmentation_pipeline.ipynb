{
 "cells": [
  {
   "cell_type": "code",
   "execution_count": 50,
   "metadata": {},
   "outputs": [],
   "source": [
    "from glob import glob\n",
    "from pathlib import Path\n",
    "import cv2\n",
    "from matplotlib import pyplot as plt\n",
    "from albumentations import (Compose, OneOf, PiecewiseAffine, RandomGamma, RandomBrightnessContrast,\n",
    "                            RandomToneCurve, CLAHE, VerticalFlip, RandomRotate90)"
   ]
  },
  {
   "cell_type": "code",
   "execution_count": 56,
   "metadata": {},
   "outputs": [],
   "source": [
    "'''\n",
    "This notebook is used to test the augmentation pipeline for binary segmentation.\n",
    "https://ai/docs/getting_started/image_augmentation/\n",
    "Compose:\n",
    "- piecewise affine (p=0.9)\n",
    "- one of (probability=0.8): (not on mask)\n",
    "    - randomgamma (probability=0.25)\n",
    "    - randombrightnesscontrast (probability=0.25)\n",
    "    - randomtonecurve (probability=0.25)\n",
    "    - clahe (probability=0.25)\n",
    "- one of (probability=0.75):\n",
    "    - verticalflip (probability=0.5)\n",
    "    - randomrotate90 (probability=0.5)\n",
    "'''\n",
    "\n",
    "transform = Compose([\n",
    "\tPiecewiseAffine(p=0.9),\n",
    "\tOneOf([RandomGamma(p=0.25), RandomBrightnessContrast(p=0.25), RandomToneCurve(p=0.25), CLAHE(p=0.25)], 0.8),\n",
    "\tOneOf([VerticalFlip(p=0.5), RandomRotate90(p=0.5)], 0.75)\n",
    "])"
   ]
  },
  {
   "cell_type": "code",
   "execution_count": 57,
   "metadata": {},
   "outputs": [],
   "source": [
    "# Change this to match your data paths\n",
    "images = [cv2.imread(f, 0) for f in glob('no_skeleton/train/img/*.png')]\n",
    "masks = [cv2.imread(f, 0) for f in glob('no_skeleton/train/mask/*.png')]"
   ]
  },
  {
   "cell_type": "code",
   "execution_count": 58,
   "metadata": {},
   "outputs": [],
   "source": [
    "Path('transforms_output').mkdir(parents=True, exist_ok=True)"
   ]
  },
  {
   "cell_type": "code",
   "execution_count": 59,
   "metadata": {},
   "outputs": [],
   "source": [
    "for i in range(25):\n",
    "    transformed = transform(image=images[0], mask=masks[0])\n",
    "    cv2.imwrite(f'transforms_output/{i}_img.png', transformed['image'])\n",
    "    cv2.imwrite(f'transforms_output/{i}_mask.png', transformed['mask'])"
   ]
  },
  {
   "cell_type": "code",
   "execution_count": null,
   "metadata": {},
   "outputs": [],
   "source": [
    "plt.imshow(masks[0], cmap='gray')"
   ]
  },
  {
   "cell_type": "code",
   "execution_count": null,
   "metadata": {},
   "outputs": [],
   "source": [
    "plt.imshow(transform(image=images[0], mask=masks[0])['mask'], cmap='gray')"
   ]
  }
 ],
 "metadata": {
  "kernelspec": {
   "display_name": "tissue-model-analysis",
   "language": "python",
   "name": "python3"
  },
  "language_info": {
   "codemirror_mode": {
    "name": "ipython",
    "version": 3
   },
   "file_extension": ".py",
   "mimetype": "text/x-python",
   "name": "python",
   "nbconvert_exporter": "python",
   "pygments_lexer": "ipython3",
   "version": "3.10.8"
  },
  "orig_nbformat": 4,
  "vscode": {
   "interpreter": {
    "hash": "078c777ce772c045090e14aa3dbc9eaccd92c36b19b8f6c12088b63ee53c2db9"
   }
  }
 },
 "nbformat": 4,
 "nbformat_minor": 2
}
