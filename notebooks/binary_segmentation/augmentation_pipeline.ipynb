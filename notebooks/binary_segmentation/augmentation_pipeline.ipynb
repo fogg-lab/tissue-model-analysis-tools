{
 "cells": [
  {
   "cell_type": "code",
   "execution_count": 7,
   "metadata": {},
   "outputs": [],
   "source": [
    "from glob import glob\n",
    "from pathlib import Path\n",
    "import cv2\n",
    "import albumentations as A\n",
    "from fl_tissue_model_tools.transforms import get_elastic_dual_transform\n",
    "from fl_tissue_model_tools.preprocessing import get_augmentor, augment_images"
   ]
  },
  {
   "cell_type": "code",
   "execution_count": 8,
   "metadata": {},
   "outputs": [],
   "source": [
    "'''\n",
    "This notebook is used to test the augmentation pipeline for binary segmentation.\n",
    "https://ai/docs/getting_started/image_augmentation/\n",
    "Compose:\n",
    "- elastic transform from fl tools transforms module (p=0.9)\n",
    "- one of (probability=0.8): (not on mask)\n",
    "    - randomgamma (probability=0.25)\n",
    "    - randombrightnesscontrast (probability=0.25)\n",
    "    - randomtonecurve (probability=0.25)\n",
    "    - clahe (probability=0.25)\n",
    "- one of (probability=0.75):\n",
    "    - verticalflip (probability=0.5)\n",
    "    - randomrotate90 (probability=0.5)\n",
    "'''\n",
    "\n",
    "\n",
    "albumentations_transform = A.Compose([\n",
    "    A.Rotate(p=0.5, border_mode=cv2.BORDER_CONSTANT, value=0, mask_value=0),\n",
    "    A.RandomCrop(height=572, width=572),\n",
    "    A.Flip(p=0.5),\n",
    "    A.OneOf([\n",
    "            A.MultiplicativeNoise(p=0.5),\n",
    "            A.AdvancedBlur(p=0.5)\n",
    "    ], p=0.8),\n",
    "    A.OneOf([\n",
    "        A.RandomGamma(p=0.2),\n",
    "        A.RandomBrightnessContrast(p=0.4),\n",
    "        A.RandomToneCurve(scale=0.75, p=0.2),\n",
    "        A.CLAHE(p=0.2)\n",
    "    ], p=0.75)\n",
    "])\n",
    "\n",
    "elastic_transform = get_elastic_dual_transform(\n",
    "    grid_width_range=[4,8],\n",
    "    grid_height_range=[4,8],\n",
    "    magnitude_range=[7, 9]\n",
    ")\n",
    "\n",
    "transform_list = (albumentations_transform, elastic_transform)\n",
    "augmentor = get_augmentor(transform_list)"
   ]
  },
  {
   "cell_type": "code",
   "execution_count": 9,
   "metadata": {},
   "outputs": [
    {
     "name": "stdout",
     "output_type": "stream",
     "text": [
      "<class 'tuple'>\n"
     ]
    }
   ],
   "source": [
    "print(type(transform_list))"
   ]
  },
  {
   "cell_type": "code",
   "execution_count": 10,
   "metadata": {},
   "outputs": [],
   "source": [
    "# Change this to match your data paths\n",
    "images = [cv2.imread(f, 0) for f in glob('set_1/images/*.tif')]\n",
    "masks = [cv2.imread(f, 0) for f in glob('set_1/masks/*.tif')]"
   ]
  },
  {
   "cell_type": "code",
   "execution_count": 11,
   "metadata": {},
   "outputs": [],
   "source": [
    "Path('transforms_output').mkdir(parents=True, exist_ok=True)"
   ]
  },
  {
   "cell_type": "code",
   "execution_count": 12,
   "metadata": {},
   "outputs": [
    {
     "name": "stdout",
     "output_type": "stream",
     "text": [
      "<class 'function'>\n"
     ]
    },
    {
     "ename": "TypeError",
     "evalue": "'function' object is not iterable",
     "output_type": "error",
     "traceback": [
      "\u001b[1;31m---------------------------------------------------------------------------\u001b[0m",
      "\u001b[1;31mTypeError\u001b[0m                                 Traceback (most recent call last)",
      "Cell \u001b[1;32mIn [12], line 1\u001b[0m\n\u001b[1;32m----> 1\u001b[0m augmented \u001b[39m=\u001b[39m augment_images(images, masks, augmentor)\n\u001b[0;32m      2\u001b[0m n \u001b[39m=\u001b[39m \u001b[39m1\u001b[39m\n\u001b[0;32m      3\u001b[0m \u001b[39mfor\u001b[39;00m img, mask \u001b[39min\u001b[39;00m augmented:\n",
      "File \u001b[1;32mc:\\users\\15039\\desktop\\lab\\tissue-model-analysis-tools\\src\\fl_tissue_model_tools\\preprocessing.py:364\u001b[0m, in \u001b[0;36maugment_images\u001b[1;34m(imgs, masks, augmentor)\u001b[0m\n\u001b[0;32m    362\u001b[0m \u001b[39mfor\u001b[39;00m image, mask \u001b[39min\u001b[39;00m \u001b[39mzip\u001b[39m(imgs, masks):\n\u001b[0;32m    363\u001b[0m     augmentor \u001b[39m=\u001b[39m get_augmentor(augmentor)\n\u001b[1;32m--> 364\u001b[0m     augmented_image, augmented_mask \u001b[39m=\u001b[39m augmentor(image, mask)\n\u001b[0;32m    365\u001b[0m     augmented\u001b[39m.\u001b[39mappend((augmented_image, augmented_mask))\n\u001b[0;32m    367\u001b[0m \u001b[39mreturn\u001b[39;00m augmented\n",
      "File \u001b[1;32mc:\\users\\15039\\desktop\\lab\\tissue-model-analysis-tools\\src\\fl_tissue_model_tools\\preprocessing.py:349\u001b[0m, in \u001b[0;36mget_augmentor.<locals>.augmentor\u001b[1;34m(image, mask)\u001b[0m\n\u001b[0;32m    347\u001b[0m \u001b[39mdef\u001b[39;00m \u001b[39maugmentor\u001b[39m(image: npt\u001b[39m.\u001b[39mNDArray, mask: npt\u001b[39m.\u001b[39mNDArray) \u001b[39m-\u001b[39m\u001b[39m>\u001b[39m Tuple[npt\u001b[39m.\u001b[39mNDArray, npt\u001b[39m.\u001b[39mNDArray]:\n\u001b[0;32m    348\u001b[0m     \u001b[39mprint\u001b[39m(\u001b[39mtype\u001b[39m(augmentations))\n\u001b[1;32m--> 349\u001b[0m     \u001b[39mfor\u001b[39;00m aug \u001b[39min\u001b[39;00m augmentations:\n\u001b[0;32m    350\u001b[0m         transformed \u001b[39m=\u001b[39m aug(image\u001b[39m=\u001b[39mimage, mask\u001b[39m=\u001b[39mmask)\n\u001b[0;32m    351\u001b[0m         image, mask \u001b[39m=\u001b[39m transformed[\u001b[39m'\u001b[39m\u001b[39mimage\u001b[39m\u001b[39m'\u001b[39m], transformed[\u001b[39m'\u001b[39m\u001b[39mmask\u001b[39m\u001b[39m'\u001b[39m]\n",
      "\u001b[1;31mTypeError\u001b[0m: 'function' object is not iterable"
     ]
    }
   ],
   "source": [
    "augmented = augment_images(images, masks, augmentor)\n",
    "n = 1\n",
    "for img, mask in augmented:\n",
    "\tcv2.imwrite(f\"img_{n}\", img)\n",
    "\tcv2.imwrite(f\"mask{n}\", mask)\n",
    "\tn += 1"
   ]
  },
  {
   "cell_type": "code",
   "execution_count": null,
   "metadata": {},
   "outputs": [],
   "source": []
  }
 ],
 "metadata": {
  "kernelspec": {
   "display_name": "base",
   "language": "python",
   "name": "python3"
  },
  "language_info": {
   "codemirror_mode": {
    "name": "ipython",
    "version": 3
   },
   "file_extension": ".py",
   "mimetype": "text/x-python",
   "name": "python",
   "nbconvert_exporter": "python",
   "pygments_lexer": "ipython3",
   "version": "3.9.12"
  },
  "orig_nbformat": 4,
  "vscode": {
   "interpreter": {
    "hash": "e920456a2527b588c7ebe0d1d208ed51e70422f332c83a3f8a3395b6b353438c"
   }
  }
 },
 "nbformat": 4,
 "nbformat_minor": 2
}
