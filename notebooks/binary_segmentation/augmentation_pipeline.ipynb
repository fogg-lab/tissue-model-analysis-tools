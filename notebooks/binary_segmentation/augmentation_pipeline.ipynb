{
 "cells": [
  {
   "cell_type": "code",
   "execution_count": 50,
   "metadata": {},
   "outputs": [],
   "source": [
    "from glob import glob\n",
    "from pathlib import Path\n",
    "import cv2\n",
    "import albumentations as A"
   ]
  },
  {
   "cell_type": "code",
   "execution_count": 56,
   "metadata": {},
   "outputs": [],
   "source": [
    "'''\n",
    "This notebook is used to test the augmentation pipeline for binary segmentation.\n",
    "https://ai/docs/getting_started/image_augmentation/\n",
    "Compose:\n",
    "- piecewise affine (p=0.9)\n",
    "- one of (probability=0.8): (not on mask)\n",
    "    - randomgamma (probability=0.25)\n",
    "    - randombrightnesscontrast (probability=0.25)\n",
    "    - randomtonecurve (probability=0.25)\n",
    "    - clahe (probability=0.25)\n",
    "- one of (probability=0.75):\n",
    "    - verticalflip (probability=0.5)\n",
    "    - randomrotate90 (probability=0.5)\n",
    "'''\n",
    "\n",
    "transform = A.Compose([\n",
    "\tA.PiecewiseAffine(p=0.9),\n",
    "\tA.OneOf([A.RandomGamma(p=0.25), A.RandomBrightnessContrast(p=0.25), A.RandomToneCurve(p=0.25), A.CLAHE(p=0.25)], 0.8),\n",
    "\tA.OneOf([A.VerticalFlip(p=0.5), A.RandomRotate90(p=0.5)], 0.75)\n",
    "])"
   ]
  },
  {
   "cell_type": "code",
   "execution_count": 57,
   "metadata": {},
   "outputs": [],
   "source": [
    "# Change this to match your data paths\n",
    "images = [cv2.imread(f, 0) for f in glob('no_skeleton/train/img/*.png')]\n",
    "masks = [cv2.imread(f, 0) for f in glob('no_skeleton/train/mask/*.png')]"
   ]
  },
  {
   "cell_type": "code",
   "execution_count": 58,
   "metadata": {},
   "outputs": [],
   "source": [
    "Path('transforms_output').mkdir(parents=True, exist_ok=True)"
   ]
  },
  {
   "cell_type": "code",
   "execution_count": 60,
   "metadata": {},
   "outputs": [
    {
     "ename": "KeyError",
     "evalue": "'You have to pass data to augmentations as named arguments, for example: aug(image=image)'",
     "output_type": "error",
     "traceback": [
      "\u001b[0;31m---------------------------------------------------------------------------\u001b[0m",
      "\u001b[0;31mKeyError\u001b[0m                                  Traceback (most recent call last)",
      "Cell \u001b[0;32mIn[60], line 2\u001b[0m\n\u001b[1;32m      1\u001b[0m \u001b[39mfor\u001b[39;00m i \u001b[39min\u001b[39;00m \u001b[39mrange\u001b[39m(\u001b[39m25\u001b[39m):\n\u001b[0;32m----> 2\u001b[0m     transformed \u001b[39m=\u001b[39m transform(images[\u001b[39m0\u001b[39;49m], masks[\u001b[39m0\u001b[39;49m])\n\u001b[1;32m      3\u001b[0m     cv2\u001b[39m.\u001b[39mimwrite(\u001b[39mf\u001b[39m\u001b[39m'\u001b[39m\u001b[39mtransforms_output/\u001b[39m\u001b[39m{\u001b[39;00mi\u001b[39m}\u001b[39;00m\u001b[39m_img.png\u001b[39m\u001b[39m'\u001b[39m, transformed[\u001b[39m'\u001b[39m\u001b[39mimage\u001b[39m\u001b[39m'\u001b[39m])\n\u001b[1;32m      4\u001b[0m     cv2\u001b[39m.\u001b[39mimwrite(\u001b[39mf\u001b[39m\u001b[39m'\u001b[39m\u001b[39mtransforms_output/\u001b[39m\u001b[39m{\u001b[39;00mi\u001b[39m}\u001b[39;00m\u001b[39m_mask.png\u001b[39m\u001b[39m'\u001b[39m, transformed[\u001b[39m'\u001b[39m\u001b[39mmask\u001b[39m\u001b[39m'\u001b[39m])\n",
      "File \u001b[0;32m~/miniconda3/envs/tissue-model-analysis/lib/python3.10/site-packages/albumentations/core/composition.py:188\u001b[0m, in \u001b[0;36mCompose.__call__\u001b[0;34m(self, force_apply, *args, **data)\u001b[0m\n\u001b[1;32m    186\u001b[0m \u001b[39mdef\u001b[39;00m \u001b[39m__call__\u001b[39m(\u001b[39mself\u001b[39m, \u001b[39m*\u001b[39margs, force_apply: \u001b[39mbool\u001b[39m \u001b[39m=\u001b[39m \u001b[39mFalse\u001b[39;00m, \u001b[39m*\u001b[39m\u001b[39m*\u001b[39mdata) \u001b[39m-\u001b[39m\u001b[39m>\u001b[39m typing\u001b[39m.\u001b[39mDict[\u001b[39mstr\u001b[39m, typing\u001b[39m.\u001b[39mAny]:\n\u001b[1;32m    187\u001b[0m     \u001b[39mif\u001b[39;00m args:\n\u001b[0;32m--> 188\u001b[0m         \u001b[39mraise\u001b[39;00m \u001b[39mKeyError\u001b[39;00m(\u001b[39m\"\u001b[39m\u001b[39mYou have to pass data to augmentations as named arguments, for example: aug(image=image)\u001b[39m\u001b[39m\"\u001b[39m)\n\u001b[1;32m    189\u001b[0m     \u001b[39mif\u001b[39;00m \u001b[39mself\u001b[39m\u001b[39m.\u001b[39mis_check_args:\n\u001b[1;32m    190\u001b[0m         \u001b[39mself\u001b[39m\u001b[39m.\u001b[39m_check_args(\u001b[39m*\u001b[39m\u001b[39m*\u001b[39mdata)\n",
      "\u001b[0;31mKeyError\u001b[0m: 'You have to pass data to augmentations as named arguments, for example: aug(image=image)'"
     ]
    }
   ],
   "source": [
    "for i in range(25):\n",
    "    transformed = transform(image=images[0], mask=masks[0])\n",
    "    cv2.imwrite(f'transforms_output/{i}_img.png', transformed['image'])\n",
    "    cv2.imwrite(f'transforms_output/{i}_mask.png', transformed['mask'])"
   ]
  },
  {
   "cell_type": "code",
   "execution_count": null,
   "metadata": {},
   "outputs": [],
   "source": []
  }
 ],
 "metadata": {
  "kernelspec": {
   "display_name": "tissue-model-analysis",
   "language": "python",
   "name": "python3"
  },
  "language_info": {
   "codemirror_mode": {
    "name": "ipython",
    "version": 3
   },
   "file_extension": ".py",
   "mimetype": "text/x-python",
   "name": "python",
   "nbconvert_exporter": "python",
   "pygments_lexer": "ipython3",
   "version": "3.10.8"
  },
  "orig_nbformat": 4,
  "vscode": {
   "interpreter": {
    "hash": "078c777ce772c045090e14aa3dbc9eaccd92c36b19b8f6c12088b63ee53c2db9"
   }
  }
 },
 "nbformat": 4,
 "nbformat_minor": 2
}
