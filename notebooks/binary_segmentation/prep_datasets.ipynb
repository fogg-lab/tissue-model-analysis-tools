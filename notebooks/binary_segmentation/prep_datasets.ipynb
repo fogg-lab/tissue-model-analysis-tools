{
 "cells": [
  {
   "cell_type": "code",
   "execution_count": 68,
   "metadata": {},
   "outputs": [],
   "source": [
    "from glob import glob\n",
    "from skimage.morphology import skeletonize\n",
    "import cv2\n",
    "import numpy as np\n",
    "from skimage import measure, morphology\n",
    "import random\n",
    "from pathlib import Path\n",
    "from PIL import Image"
   ]
  },
  {
   "cell_type": "code",
   "execution_count": 69,
   "metadata": {},
   "outputs": [],
   "source": [
    "# change mask_paths to match paths for the original datasets\n",
    "mask_paths = glob('set_*/masks/*.tif')"
   ]
  },
  {
   "cell_type": "code",
   "execution_count": 70,
   "metadata": {},
   "outputs": [],
   "source": [
    "def remove_small_islands(mask):\n",
    "    inverse_mask = 1 - mask\n",
    "    labeled_regions_inverse = measure.label(inverse_mask, connectivity=1)\n",
    "    labeled_inverse_regions = morphology.remove_small_objects(labeled_regions_inverse, min_size=5)\n",
    "    mask[labeled_inverse_regions == 0] = 1\n",
    "    labeled_regions = measure.label(mask, connectivity=1)\n",
    "    labeled_regions = morphology.remove_small_objects(labeled_regions, min_size=50)\n",
    "    mask[labeled_regions == 0] = 0\n",
    "    return mask"
   ]
  },
  {
   "cell_type": "code",
   "execution_count": 71,
   "metadata": {},
   "outputs": [],
   "source": [
    "new_dset_paths = ['all_skeleton', 'mix_skeleton', 'no_skeleton']\n",
    "for new_dset_path in new_dset_paths:\n",
    "    for split in ['train', 'val', 'test']:\n",
    "        for category in ['img', 'mask']:\n",
    "            new_path = Path(new_dset_path) / split / category\n",
    "            new_path.mkdir(parents=True, exist_ok=True)"
   ]
  },
  {
   "cell_type": "code",
   "execution_count": 72,
   "metadata": {},
   "outputs": [],
   "source": [
    "for new_dset_path in new_dset_paths:\n",
    "\t# create train, val, test sets\n",
    "\trandom.shuffle(mask_paths)\n",
    "\tskeleton_split_idx = int(len(mask_paths) // 2)\n",
    "\tmasks_to_skeletonize = mask_paths[:skeleton_split_idx]\n",
    "\tim_names = [Path(fp).name for fp in mask_paths]\n",
    "\ttrain_set_split_idx = int(len(im_names) * 0.72)\n",
    "\ttest_set_split_idx = int(len(im_names) * 0.95)\n",
    "\ttrain_set = im_names[:train_set_split_idx]\n",
    "\tval_set = im_names[train_set_split_idx:test_set_split_idx]\n",
    "\ttest_set = im_names[test_set_split_idx:]\n",
    "\tfor i, mask_path in enumerate(mask_paths):\n",
    "\t\tmask = cv2.imread(mask_path, 0)\n",
    "\t\timg_path = mask_path.replace('masks', 'images').replace('_mask', '')\n",
    "\t\timg = cv2.imread(img_path, 0)\n",
    "\t\tkernel = np.ones((2, 2), np.uint8)\n",
    "\t\tmask = cv2.dilate(mask, kernel, iterations=1)\n",
    "\t\tmask[mask==255] = 1\n",
    "\t\tmask = remove_small_islands(mask)\n",
    "\t\tif (\n",
    "            (mask_path in masks_to_skeletonize and Path(new_dset_path).name=='mix_skeleton')\n",
    "            or (Path(new_dset_path).name == 'all_skeleton')\n",
    "\t\t):\n",
    "\t\t\tmask = skeletonize(mask, method='lee')\n",
    "\t\t\tkernel = np.ones((3, 3), np.uint8)\n",
    "\t\t\tmask = cv2.dilate(mask, kernel, iterations=1)\n",
    "\t\tmask[mask==1] = 255\n",
    "\t\tim_name = Path(mask_path).name\n",
    "\t\tif im_name in train_set:\n",
    "\t\t\ttrain_val_test = 'train'\n",
    "\t\telif im_name in val_set:\n",
    "\t\t\ttrain_val_test = 'val'\n",
    "\t\telif im_name in test_set:\n",
    "\t\t\ttrain_val_test = 'test'\n",
    "\t\telse:\n",
    "\t\t\traise ValueError\n",
    "\t\tsave_filename = str(i) + '.png'\n",
    "\t\tmask_save_path = str(Path(new_dset_path) / train_val_test / 'mask' / save_filename)\n",
    "\t\timg_save_path = str(Path(new_dset_path) / train_val_test / 'img' / save_filename)\n",
    "        # Downscale mask and image to 1024x1024\n",
    "\t\tdim = (1024, 1024)\n",
    "\t\tmask = np.array(Image.fromarray(mask).resize(dim, Image.Resampling.NEAREST))\n",
    "\t\ttry:\n",
    "\t\t\timg = cv2.resize(img, dim, cv2.INTER_LANCZOS4)\n",
    "\t\texcept Exception as e:\n",
    "\t\t\tprint(e)\n",
    "\t\t\tprint(img_path)\n",
    "\t\t\traise e\n",
    "\t\tcv2.imwrite(mask_save_path, mask)\n",
    "\t\tcv2.imwrite(img_save_path, img)"
   ]
  },
  {
   "cell_type": "code",
   "execution_count": null,
   "metadata": {},
   "outputs": [],
   "source": []
  }
 ],
 "metadata": {
  "kernelspec": {
   "display_name": "tissue-model-analysis",
   "language": "python",
   "name": "python3"
  },
  "language_info": {
   "codemirror_mode": {
    "name": "ipython",
    "version": 3
   },
   "file_extension": ".py",
   "mimetype": "text/x-python",
   "name": "python",
   "nbconvert_exporter": "python",
   "pygments_lexer": "ipython3",
   "version": "3.10.8"
  },
  "orig_nbformat": 4,
  "vscode": {
   "interpreter": {
    "hash": "078c777ce772c045090e14aa3dbc9eaccd92c36b19b8f6c12088b63ee53c2db9"
   }
  }
 },
 "nbformat": 4,
 "nbformat_minor": 2
}
