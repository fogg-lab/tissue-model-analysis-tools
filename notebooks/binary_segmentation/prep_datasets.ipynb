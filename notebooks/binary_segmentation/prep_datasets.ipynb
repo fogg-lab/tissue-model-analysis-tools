{
 "cells": [
  {
   "cell_type": "code",
   "execution_count": 78,
   "metadata": {},
   "outputs": [],
   "source": [
    "from glob import glob\n",
    "from skimage.morphology import skeletonize\n",
    "import cv2\n",
    "import numpy as np\n",
    "from skimage import measure, morphology\n",
    "import random\n",
    "from pathlib import Path\n",
    "from PIL import Image"
   ]
  },
  {
   "cell_type": "code",
   "execution_count": 79,
   "metadata": {},
   "outputs": [],
   "source": [
    "ground_truth_subfolder = 'masks'\n",
    "images_subfolder = 'images'\n",
    "ground_truth_suffix = '_mask'   # for example if the mask for image 'img_1.tif' is 'img_1_mask.tif'\n",
    "extension = '.tif'\n",
    "fov_mask_subfolder = None   # if None, fov masks will be generated\n",
    "# change search pattern for ground_truth_paths to match mask paths in your dataset\n",
    "ground_truth_paths = glob(f'set_*/{ground_truth_subfolder}/*{ground_truth_suffix}{extension}')"
   ]
  },
  {
   "cell_type": "code",
   "execution_count": 80,
   "metadata": {},
   "outputs": [],
   "source": [
    "def remove_small_islands(gt):\n",
    "    inverse_gt = 1 - gt\n",
    "    labeled_regions_inverse = measure.label(inverse_gt, connectivity=1)\n",
    "    labeled_inverse_regions = morphology.remove_small_objects(labeled_regions_inverse, min_size=5)\n",
    "    gt[labeled_inverse_regions == 0] = 1\n",
    "    labeled_regions = measure.label(gt, connectivity=1)\n",
    "    labeled_regions = morphology.remove_small_objects(labeled_regions, min_size=50)\n",
    "    gt[labeled_regions == 0] = 0\n",
    "    return gt"
   ]
  },
  {
   "cell_type": "code",
   "execution_count": 81,
   "metadata": {},
   "outputs": [],
   "source": [
    "new_dset_paths = ['all_skeleton', 'mix_skeleton', 'no_skeleton']\n",
    "for new_dset_path in new_dset_paths:\n",
    "    for split in ['train', 'val', 'test']:\n",
    "        for category in ['img', 'gt', 'fov_mask']:\n",
    "            new_path = Path(new_dset_path) / split / category\n",
    "            new_path.mkdir(parents=True, exist_ok=True)"
   ]
  },
  {
   "cell_type": "code",
   "execution_count": 82,
   "metadata": {},
   "outputs": [
    {
     "name": "stderr",
     "output_type": "stream",
     "text": [
      "/home/bean/miniconda3/envs/tissue-model-analysis/lib/python3.10/site-packages/skimage/_shared/utils.py:157: UserWarning: Only one label was provided to `remove_small_objects`. Did you mean to use a boolean array?\n",
      "  return func(*args, **kwargs)\n"
     ]
    },
    {
     "ename": "",
     "evalue": "",
     "output_type": "error",
     "traceback": [
      "\u001b[1;31mThe Kernel crashed while executing code in the the current cell or a previous cell. Please review the code in the cell(s) to identify a possible cause of the failure. Click <a href='https://aka.ms/vscodeJupyterKernelCrash'>here</a> for more info. View Jupyter <a href='command:jupyter.viewOutput'>log</a> for further details."
     ]
    }
   ],
   "source": [
    "for new_dset_path in new_dset_paths:\n",
    "\t# create train, val, test sets\n",
    "\trandom.shuffle(ground_truth_paths)\n",
    "\tskeleton_split_idx = int(len(ground_truth_paths) // 2)\n",
    "\tmasks_to_skeletonize = ground_truth_paths[:skeleton_split_idx]\n",
    "\tim_names = [Path(fp).name for fp in ground_truth_paths]\n",
    "\ttrain_set_split_idx = int(len(im_names) * 0.72)\n",
    "\ttest_set_split_idx = int(len(im_names) * 0.95)\n",
    "\ttrain_set = im_names[:train_set_split_idx]\n",
    "\tval_set = im_names[train_set_split_idx:test_set_split_idx]\n",
    "\ttest_set = im_names[test_set_split_idx:]\n",
    "\tfor i, gt_path in enumerate(ground_truth_paths):\n",
    "\t\tgt = cv2.imread(gt_path, 0)\n",
    "\t\timg_path = gt_path.replace(ground_truth_subfolder, images_subfolder).replace(ground_truth_suffix, '')\n",
    "\t\timg = cv2.imread(img_path, cv2.IMREAD_ANYDEPTH)\n",
    "\t\tkernel = np.ones((2, 2), np.uint8)\n",
    "\t\tgt = cv2.dilate(gt, kernel, iterations=1)\n",
    "\t\tgt[gt==255] = 1\n",
    "\t\tgt = remove_small_islands(gt)\n",
    "\t\tif (\n",
    "            (gt_path in masks_to_skeletonize and Path(new_dset_path).name=='mix_skeleton')\n",
    "            or (Path(new_dset_path).name == 'all_skeleton')\n",
    "\t\t):\n",
    "\t\t\tgt = skeletonize(gt, method='lee')\n",
    "\t\t\tkernel = np.ones((3, 3), np.uint8)\n",
    "\t\t\tgt = cv2.dilate(gt, kernel, iterations=1)\n",
    "\t\tgt[gt==1] = 255\n",
    "\t\tim_name = Path(gt_path).name\n",
    "\t\tif im_name in train_set:\n",
    "\t\t\ttrain_val_test = 'train'\n",
    "\t\telif im_name in val_set:\n",
    "\t\t\ttrain_val_test = 'val'\n",
    "\t\telif im_name in test_set:\n",
    "\t\t\ttrain_val_test = 'test'\n",
    "\t\telse:\n",
    "\t\t\traise ValueError\n",
    "\t\tsave_filename = str(i) + '.png'\n",
    "\t\tgt_save_path = str(Path(new_dset_path) / train_val_test / 'gt' / save_filename)\n",
    "\t\timg_save_path = str(Path(new_dset_path) / train_val_test / 'img' / save_filename)\n",
    "\t\tfov_mask_save_path = str(Path(new_dset_path) / train_val_test / 'fov_mask' / save_filename)\n",
    "        # Downscale gt and image to 1024x1024\n",
    "\t\tdim = (1024, 1024)\n",
    "\t\tgt = np.array(Image.fromarray(gt).resize(dim, Image.Resampling.NEAREST))\n",
    "\t\timg = cv2.resize(img, dim, cv2.INTER_LANCZOS4)\n",
    "\t\t# Convert img to 8-bit\n",
    "\t\timg = cv2.normalize(img, None, 0, 255, cv2.NORM_MINMAX, cv2.CV_8U)\n",
    "\t\t# Load or generate fov mask\n",
    "\t\tif fov_mask_subfolder is not None:\n",
    "\t\t\tfov_mask_path = gt_path.replace(ground_truth_subfolder, fov_mask_subfolder)\n",
    "\t\t\tfov_mask = cv2.imread(fov_mask_path, 0)\n",
    "\t\t\tfov_mask = np.array(Image.fromarray(fov_mask).resize(dim, Image.Resampling.NEAREST))\n",
    "\t\telse:\n",
    "\t\t\tfov_mask = np.ones_like(gt) * 255\n",
    "\t\tcv2.imwrite(gt_save_path, gt)\n",
    "\t\tcv2.imwrite(fov_mask_save_path, fov_mask)\n",
    "\t\tcv2.imwrite(img_save_path, img)"
   ]
  },
  {
   "cell_type": "code",
   "execution_count": null,
   "metadata": {},
   "outputs": [],
   "source": []
  }
 ],
 "metadata": {
  "kernelspec": {
   "display_name": "tissue-model-analysis",
   "language": "python",
   "name": "python3"
  },
  "language_info": {
   "codemirror_mode": {
    "name": "ipython",
    "version": 3
   },
   "file_extension": ".py",
   "mimetype": "text/x-python",
   "name": "python",
   "nbconvert_exporter": "python",
   "pygments_lexer": "ipython3",
   "version": "3.10.8"
  },
  "orig_nbformat": 4,
  "vscode": {
   "interpreter": {
    "hash": "078c777ce772c045090e14aa3dbc9eaccd92c36b19b8f6c12088b63ee53c2db9"
   }
  }
 },
 "nbformat": 4,
 "nbformat_minor": 2
}
