{
 "cells": [
  {
   "cell_type": "code",
   "execution_count": 1,
   "id": "4d50aeff-0c82-40cc-88cb-0f1a48cbee68",
   "metadata": {},
   "outputs": [],
   "source": [
    "import glob\n",
    "import shutil\n",
    "import numpy as np\n",
    "import dask as d\n",
    "\n",
    "from numpy.random import RandomState"
   ]
  },
  {
   "cell_type": "code",
   "execution_count": 2,
   "id": "f040e051-c58c-43ea-a7f6-a673eb437d0a",
   "metadata": {},
   "outputs": [],
   "source": [
    "from fl_tissue_model_tools import data_prep"
   ]
  },
  {
   "cell_type": "code",
   "execution_count": 3,
   "id": "82a886c7-b327-4a07-a993-9444370c2ea5",
   "metadata": {},
   "outputs": [],
   "source": [
    "root_data = \"D:/malaria_data\"\n",
    "unsplit_data = f\"{root_data}/cell_images\"\n",
    "split_data = f\"{root_data}/cell_images_split\""
   ]
  },
  {
   "cell_type": "code",
   "execution_count": 4,
   "id": "a32e9349-0674-4eff-96b9-ef221e29b915",
   "metadata": {},
   "outputs": [],
   "source": [
    "mal_img_names = np.array([img_n.replace(\"\\\\\", \"/\") for img_n in glob.glob(f\"{root_data}/cell_images/Parasitized/*.png\")])\n",
    "ctrl_img_names = np.array([img_n.replace(\"\\\\\", \"/\") for img_n in glob.glob(f\"{root_data}/cell_images/Uninfected/*.png\")])"
   ]
  },
  {
   "cell_type": "code",
   "execution_count": 5,
   "id": "c26e9f95-0389-4484-9dac-4922661044b7",
   "metadata": {},
   "outputs": [],
   "source": [
    "data_prep.make_dir(f\"{root_data}/cell_images_split/train/parasitized\")\n",
    "data_prep.make_dir(f\"{root_data}/cell_images_split/train/uninfected\")\n",
    "data_prep.make_dir(f\"{root_data}/cell_images_split/test/parasitized\")\n",
    "data_prep.make_dir(f\"{root_data}/cell_images_split/test/uninfected\")"
   ]
  },
  {
   "cell_type": "code",
   "execution_count": 6,
   "id": "8a3518df-69a8-493a-9d3b-4f775bf6886a",
   "metadata": {},
   "outputs": [],
   "source": [
    "n_mal = len(mal_img_names)\n",
    "n_ctrl = len(ctrl_img_names)\n",
    "test_prop = 0.2"
   ]
  },
  {
   "cell_type": "code",
   "execution_count": 7,
   "id": "e9930332-99b7-418a-89ee-1ebf122b6361",
   "metadata": {},
   "outputs": [],
   "source": [
    "n_test_ctrl, n_test_mal = round(test_prop * n_ctrl), round(test_prop * n_mal)\n",
    "n_train_ctrl, n_train_mal = round(n_ctrl -  n_test_ctrl), round(n_mal - n_test_mal)\n",
    "# n_test = round(test_prop * n_ctrl), round(test_prop * n_mal)\n",
    "# n_train = round(n_ctrl -  n_test[0]), round(n_mal - n_test[1])"
   ]
  },
  {
   "cell_type": "code",
   "execution_count": 8,
   "id": "1c202dc8-a988-40e9-b538-04a0a6b34bdc",
   "metadata": {},
   "outputs": [],
   "source": [
    "# 0 for train, 1 for test\n",
    "train_test_ids = np.array([0, 1])\n",
    "mal_reps = np.array([n_train_mal, n_test_mal])\n",
    "ctrl_reps = np.array([n_train_ctrl, n_test_ctrl])"
   ]
  },
  {
   "cell_type": "code",
   "execution_count": 9,
   "id": "11d3437e-ad97-48d6-919e-660c86ad8046",
   "metadata": {},
   "outputs": [],
   "source": [
    "# Generate shuffled train/test split index arrays\n",
    "rs = RandomState(seed=2984)\n",
    "mal_split = np.repeat(train_test_ids, mal_reps)\n",
    "ctrl_split = np.repeat(train_test_ids, ctrl_reps)\n",
    "rs.shuffle(mal_split)\n",
    "rs.shuffle(ctrl_split)"
   ]
  },
  {
   "cell_type": "code",
   "execution_count": 10,
   "id": "aa794c48-eb6d-48f6-8b55-e8b7d0ba082b",
   "metadata": {},
   "outputs": [
    {
     "data": {
      "text/plain": [
       "'apples.txt'"
      ]
     },
     "execution_count": 10,
     "metadata": {},
     "output_type": "execute_result"
    }
   ],
   "source": [
    "a = \"apples.txt\"\n",
    "a.split(\"/\")[-1]"
   ]
  },
  {
   "cell_type": "code",
   "execution_count": 11,
   "id": "512eafdf-c294-4e04-9d74-a9b12c9bccac",
   "metadata": {},
   "outputs": [
    {
     "data": {
      "text/plain": [
       "array([0, 0, 0, ..., 0, 1, 0])"
      ]
     },
     "execution_count": 11,
     "metadata": {},
     "output_type": "execute_result"
    }
   ],
   "source": [
    "ctrl_split"
   ]
  },
  {
   "cell_type": "code",
   "execution_count": 12,
   "id": "62f90305-f8af-481b-bdb7-f9d1765ea53e",
   "metadata": {},
   "outputs": [
    {
     "data": {
      "text/plain": [
       "(None, None)"
      ]
     },
     "execution_count": 12,
     "metadata": {},
     "output_type": "execute_result"
    }
   ],
   "source": [
    "split_map = {0: \"train\", 1: \"test\"}\n",
    "# save_class_imgs(ctrl_img_names, ctrl_split, split_map, \"Uninfected\", f\"{root_data}/cell_images_split\")\n",
    "\n",
    "d.compute(\n",
    "    d.delayed(data_prep.save_class_imgs)(ctrl_img_names, ctrl_split, split_map, \"uninfected\", f\"{root_data}/cell_images_split\"),\n",
    "    d.delayed(data_prep.save_class_imgs)(mal_img_names, mal_split, split_map, \"parasitized\", f\"{root_data}/cell_images_split\")\n",
    ")"
   ]
  },
  {
   "cell_type": "code",
   "execution_count": null,
   "id": "671108db-f54a-439b-a156-1bb87cd3908c",
   "metadata": {},
   "outputs": [],
   "source": []
  }
 ],
 "metadata": {
  "kernelspec": {
   "display_name": "Python 3 (ipykernel)",
   "language": "python",
   "name": "python3"
  },
  "language_info": {
   "codemirror_mode": {
    "name": "ipython",
    "version": 3
   },
   "file_extension": ".py",
   "mimetype": "text/x-python",
   "name": "python",
   "nbconvert_exporter": "python",
   "pygments_lexer": "ipython3",
   "version": "3.9.10"
  }
 },
 "nbformat": 4,
 "nbformat_minor": 5
}
