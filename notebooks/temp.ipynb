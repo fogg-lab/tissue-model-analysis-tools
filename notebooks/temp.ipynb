{
 "cells": [
  {
   "cell_type": "code",
   "execution_count": 1,
   "id": "3589e951-b74f-4b39-919c-225c2f64170c",
   "metadata": {},
   "outputs": [],
   "source": [
    "from operator import gt, lt"
   ]
  },
  {
   "cell_type": "code",
   "execution_count": 2,
   "id": "b979ce60-f97b-4d84-9a85-b45992f73a24",
   "metadata": {},
   "outputs": [
    {
     "data": {
      "text/plain": [
       "True"
      ]
     },
     "execution_count": 2,
     "metadata": {},
     "output_type": "execute_result"
    }
   ],
   "source": [
    "lt(10, 20)"
   ]
  },
  {
   "cell_type": "code",
   "execution_count": null,
   "id": "29bc066a-a6d6-484c-ade0-931388c3d6a5",
   "metadata": {},
   "outputs": [],
   "source": [
    "lt()"
   ]
  }
 ],
 "metadata": {
  "kernelspec": {
   "display_name": "Python 3 (ipykernel)",
   "language": "python",
   "name": "python3"
  },
  "language_info": {
   "codemirror_mode": {
    "name": "ipython",
    "version": 3
   },
   "file_extension": ".py",
   "mimetype": "text/x-python",
   "name": "python",
   "nbconvert_exporter": "python",
   "pygments_lexer": "ipython3",
   "version": "3.9.10"
  }
 },
 "nbformat": 4,
 "nbformat_minor": 5
}
