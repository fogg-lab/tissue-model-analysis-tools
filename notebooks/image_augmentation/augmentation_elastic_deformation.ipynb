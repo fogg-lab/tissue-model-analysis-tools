{
 "cells": [
  {
   "cell_type": "code",
   "execution_count": 5,
   "id": "2d528c7e-b77f-4b23-8600-e0d0c2c836b4",
   "metadata": {},
   "outputs": [],
   "source": [
    "import sys\n",
    "import os\n",
    "import cv2\n",
    "from PIL import Image\n",
    "import io\n",
    "import albumentations as A\n",
    "from matplotlib import pyplot as plt\n",
    "from matplotlib.backends.backend_pdf import PdfPages\n",
    "from matplotlib import gridspec"
   ]
  },
  {
   "cell_type": "code",
   "execution_count": 6,
   "id": "3a421b73-b939-4d2b-924c-0da9bcc3fabc",
   "metadata": {},
   "outputs": [],
   "source": [
    "img_in_dir = \"/nfs/stak/users/wigginno/hpc-share/data/branching_data/images\"\n",
    "mask_in_dir = \"/nfs/stak/users/wigginno/hpc-share/data/branching_data/masks/\""
   ]
  },
  {
   "cell_type": "code",
   "execution_count": 7,
   "id": "bdcf1acd-f7cc-4b4f-a5de-5b95b07b3dc1",
   "metadata": {},
   "outputs": [],
   "source": [
    "img_paths = []\n",
    "mask_paths = []\n",
    "for img_name in os.listdir(img_in_dir):\n",
    "    if \".png\" in img_name:\n",
    "        img_paths.append(os.path.join(img_in_dir, img_name))\n",
    "for mask_name in os.listdir(mask_in_dir):\n",
    "    if \".png\" in mask_name:\n",
    "        mask_paths.append(os.path.join(mask_in_dir, mask_name))"
   ]
  },
  {
   "cell_type": "code",
   "execution_count": 8,
   "id": "f4efe52b-4d94-4f6a-a2a6-40488bc624b1",
   "metadata": {},
   "outputs": [
    {
     "data": {
      "text/plain": [
       "['/nfs/stak/users/wigginno/hpc-share/data/branching_data/images/branching_9.png',\n",
       " '/nfs/stak/users/wigginno/hpc-share/data/branching_data/images/branching_6.png',\n",
       " '/nfs/stak/users/wigginno/hpc-share/data/branching_data/images/branching_4.png',\n",
       " '/nfs/stak/users/wigginno/hpc-share/data/branching_data/images/branching_2.png',\n",
       " '/nfs/stak/users/wigginno/hpc-share/data/branching_data/images/branching_11.png',\n",
       " '/nfs/stak/users/wigginno/hpc-share/data/branching_data/images/branching_5.png',\n",
       " '/nfs/stak/users/wigginno/hpc-share/data/branching_data/images/branching_1.png',\n",
       " '/nfs/stak/users/wigginno/hpc-share/data/branching_data/images/branching_8.png',\n",
       " '/nfs/stak/users/wigginno/hpc-share/data/branching_data/images/branching_3.png',\n",
       " '/nfs/stak/users/wigginno/hpc-share/data/branching_data/images/branching_10.png',\n",
       " '/nfs/stak/users/wigginno/hpc-share/data/branching_data/images/branching_7.png']"
      ]
     },
     "execution_count": 8,
     "metadata": {},
     "output_type": "execute_result"
    }
   ],
   "source": [
    "img_paths"
   ]
  },
  {
   "cell_type": "code",
   "execution_count": 10,
   "id": "ebd7a71f-2a73-4c77-aac9-4b4e2d004cd9",
   "metadata": {},
   "outputs": [],
   "source": [
    "img_mask_pairs = []\n",
    "for img_path in img_paths:\n",
    "    img_name = img_path.split(\"/\")[-1]\n",
    "    mask_names = [x.split(\"/\")[-1] for x in mask_paths]\n",
    "    mask_idx = mask_names.index(img_name) if img_name in mask_names else None\n",
    "    if mask_idx is not None:\n",
    "        img = cv2.imread(img_path, 0)\n",
    "        mask = cv2.imread(mask_paths[mask_idx], 0)\n",
    "        img_mask_pairs.append((img,mask))"
   ]
  },
  {
   "cell_type": "code",
   "execution_count": 11,
   "id": "2abf7351-3ae8-45d2-ac56-00ac72eca691",
   "metadata": {},
   "outputs": [],
   "source": [
    "transformed_pairs = []"
   ]
  },
  {
   "cell_type": "code",
   "execution_count": 30,
   "id": "f32dbb8d-83bd-447b-844f-a7eabc53d9c9",
   "metadata": {},
   "outputs": [],
   "source": [
    "\"\"\"\n",
    "transform = A.Compose(\n",
    "    [A.ElasticTransform(interpolation = cv2.INTER_NEAREST,\n",
    "                        border_mode = cv2.BORDER_CONSTANT,\n",
    "                        same_dxdy = True,\n",
    "                        approximate = True,\n",
    "                        p=1)],\n",
    "    additional_targets={'mask':'image'}\n",
    ")\n",
    "\"\"\"\n",
    "transform = A.Compose(\n",
    "    [A.GridDistortion(num_steps=5,\n",
    "                      interpolation = cv2.INTER_NEAREST,\n",
    "                      border_mode = cv2.BORDER_CONSTANT,\n",
    "                      p=1)],\n",
    "    additional_targets={'mask':'image'}\n",
    ")"
   ]
  },
  {
   "cell_type": "code",
   "execution_count": 31,
   "id": "c0b2ce45-68f1-4f57-aa49-b9cb15a83a96",
   "metadata": {},
   "outputs": [
    {
     "name": "stdout",
     "output_type": "stream",
     "text": [
      "...\n",
      "...\n",
      "...\n",
      "...\n",
      "...\n",
      "...\n",
      "...\n",
      "...\n",
      "...\n",
      "...\n",
      "...\n"
     ]
    }
   ],
   "source": [
    "for img, mask in img_mask_pairs:\n",
    "    print(\"...\")\n",
    "    transformed = transform(image=img, mask=mask)\n",
    "    transformed_pair = (transformed['image'], transformed['mask'])\n",
    "    transformed_pairs.append(transformed_pair)"
   ]
  },
  {
   "cell_type": "code",
   "execution_count": 32,
   "id": "57cfb1fd-2a3a-4f05-9956-c6a6c2c84e17",
   "metadata": {},
   "outputs": [],
   "source": [
    "def savepng(fig, filename):\n",
    "    # optional, for saving a pyplot figure to a png file\n",
    "    # uncomment the calls to this function in the visualize() function\n",
    "    # also, plot titles can be commented out in the visualize() function\n",
    "    png1 = io.BytesIO()\n",
    "    fig.savefig(png1, format='png', bbox_inches='tight')\n",
    "    png2 = Image.open(png1)\n",
    "    png2.save(filename)\n",
    "    png1.close()"
   ]
  },
  {
   "cell_type": "code",
   "execution_count": 33,
   "id": "d9dbd1cb-b911-4889-b46d-5042e5e84493",
   "metadata": {},
   "outputs": [],
   "source": [
    "def visualize(img_mask_pair, transformed_pair, index):\n",
    "    # visualize 4 images: img, mask, augmented_img, augmented_mask\n",
    "\n",
    "    plt.axis('off')\n",
    "\n",
    "    img_original = plt.figure(figsize=(10, 10))\n",
    "    img_augmented = plt.figure(figsize=(10, 10))\n",
    "    mask_original = plt.figure(figsize=(10, 10))\n",
    "    mask_augmented = plt.figure(figsize=(10, 10))\n",
    "\n",
    "    # No x/y axis labels\n",
    "    img_original_axis = plt.Axes(img_original, [0., 0., 1., 1.])\n",
    "    img_original_axis.set_axis_off()\n",
    "    img_original_axis.title.set_text(f\"Original image {index}\")\n",
    "    img_original_axis.title.set_size(20)\n",
    "    img_original.add_axes(img_original_axis)\n",
    "\n",
    "    img_augmented_axis = plt.Axes(img_augmented, [0., 0., 1., 1.])\n",
    "    img_augmented_axis.set_axis_off()\n",
    "    img_augmented_axis.title.set_text(f\"Original mask {index}\")\n",
    "    img_augmented_axis.title.set_size(20)\n",
    "    img_augmented.add_axes(img_augmented_axis)\n",
    "\n",
    "    mask_original_axis = plt.Axes(mask_original, [0., 0., 1., 1.])\n",
    "    mask_original_axis.set_axis_off()\n",
    "    mask_original_axis.title.set_text(f\"Distorted image {index}\")\n",
    "    mask_original_axis.title.set_size(20)\n",
    "    mask_original.add_axes(mask_original_axis)\n",
    "\n",
    "    mask_augmented_axis = plt.Axes(mask_augmented, [0., 0., 1., 1.])\n",
    "    mask_augmented_axis.set_axis_off()\n",
    "    mask_augmented_axis.title.set_text(f\"Distorted mask {index}\")\n",
    "    mask_augmented_axis.title.set_size(20)\n",
    "    mask_augmented.add_axes(mask_augmented_axis)\n",
    "\n",
    "    img_original_axis.imshow(img_mask_pair[0], cmap='gray', vmin=0, vmax=255)\n",
    "    img_augmented_axis.imshow(img_mask_pair[1], cmap='gray', vmin=0, vmax=255)\n",
    "    mask_original_axis.imshow(transformed_pair[0], cmap='gray', vmin=0, vmax=255)\n",
    "    mask_augmented_axis.imshow(transformed_pair[1], cmap='gray', vmin=0, vmax=255)\n",
    " \n",
    "    savepng(img_original, f'img{index}_original.png')\n",
    "    savepng(img_augmented, f'img{index}_original_mask.png')\n",
    "    savepng(mask_original, f'img{index}_transformed.png')\n",
    "    savepng(mask_augmented, f'img{index}_transformed_mask.png')\n",
    "\n",
    "    plt.close('all')\n"
   ]
  },
  {
   "cell_type": "code",
   "execution_count": 34,
   "id": "e20e7bb5-a51d-47f4-9310-a4299ab6a3db",
   "metadata": {},
   "outputs": [],
   "source": [
    "#plt.close('all')"
   ]
  },
  {
   "cell_type": "code",
   "execution_count": 35,
   "id": "067998ec-08da-4aa0-bae1-af4804194d52",
   "metadata": {},
   "outputs": [],
   "source": [
    "# Show pair n (in both its original and augmented forms)\n",
    "for n in range(len(img_mask_pairs)):\n",
    "    visualize(img_mask_pairs[n], transformed_pairs[n], n)"
   ]
  },
  {
   "cell_type": "code",
   "execution_count": null,
   "id": "4efadd94-7b55-47e0-8fe0-be8ba8542703",
   "metadata": {},
   "outputs": [],
   "source": [
    "# Show all pairs\n",
    "for i in range(len(img_mask_pairs)):\n",
    "    visualize(img_mask_pairs[i], transformed_pairs[i], i)"
   ]
  },
  {
   "cell_type": "code",
   "execution_count": null,
   "id": "c7ca2b07-98a0-4025-bb00-0f9a08f6b802",
   "metadata": {},
   "outputs": [],
   "source": []
  },
  {
   "cell_type": "code",
   "execution_count": null,
   "id": "a54d083d-e4d4-496c-9d1a-ec04d52f2a5f",
   "metadata": {},
   "outputs": [],
   "source": []
  },
  {
   "cell_type": "code",
   "execution_count": null,
   "id": "35f0223b-6449-4d44-b05f-1b02ec56e959",
   "metadata": {},
   "outputs": [],
   "source": []
  }
 ],
 "metadata": {
  "kernelspec": {
   "display_name": "mypykernel",
   "language": "python",
   "name": "mypykernel"
  },
  "language_info": {
   "codemirror_mode": {
    "name": "ipython",
    "version": 3
   },
   "file_extension": ".py",
   "mimetype": "text/x-python",
   "name": "python",
   "nbconvert_exporter": "python",
   "pygments_lexer": "ipython3",
   "version": "3.9.12"
  }
 },
 "nbformat": 4,
 "nbformat_minor": 5
}
