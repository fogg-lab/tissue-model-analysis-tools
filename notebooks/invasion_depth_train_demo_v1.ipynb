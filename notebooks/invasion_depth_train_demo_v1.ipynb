{
 "cells": [
  {
   "cell_type": "code",
   "execution_count": 1,
   "id": "0c12c68d-93a1-41af-b05c-e56b17582e41",
   "metadata": {
    "collapsed": true,
    "jupyter": {
     "outputs_hidden": true
    }
   },
   "outputs": [],
   "source": [
    "import tensorflow.keras.backend as K\n",
    "import numpy as np\n",
    "import dask as d\n",
    "import os\n",
    "import cv2\n",
    "import json\n",
    "import multiprocessing\n",
    "import matplotlib.pyplot as plt\n",
    "\n",
    "from glob import glob\n",
    "from copy import deepcopy\n",
    "from tensorflow.keras.preprocessing.image import ImageDataGenerator, load_img\n",
    "from tensorflow.keras.optimizers import Adam\n",
    "from tensorflow.keras.losses import BinaryCrossentropy\n",
    "from tensorflow.keras.metrics import BinaryAccuracy\n",
    "from tensorflow.keras.utils import Sequence\n",
    "from tensorflow.keras.callbacks import EarlyStopping, ModelCheckpoint\n",
    "from tensorflow.keras.applications import resnet50"
   ]
  },
  {
   "cell_type": "code",
   "execution_count": 2,
   "id": "a402a73f-b4a9-44ba-8ae5-06641c0668f6",
   "metadata": {
    "collapsed": true,
    "jupyter": {
     "outputs_hidden": true
    }
   },
   "outputs": [
    {
     "data": {
      "text/plain": [
       "16"
      ]
     },
     "execution_count": 2,
     "metadata": {},
     "output_type": "execute_result"
    }
   ],
   "source": [
    "n_cores = multiprocessing.cpu_count()\n",
    "n_cores"
   ]
  },
  {
   "cell_type": "code",
   "execution_count": 3,
   "id": "fdc59e17-d035-4e8d-ad5f-ca7adfa21f93",
   "metadata": {
    "collapsed": true,
    "jupyter": {
     "outputs_hidden": true
    }
   },
   "outputs": [],
   "source": [
    "from fl_tissue_model_tools import data_prep, dev_config, models, defs\n",
    "import fl_tissue_model_tools.preprocessing as prep"
   ]
  },
  {
   "cell_type": "code",
   "execution_count": 4,
   "id": "0c960e34-fb3c-463b-8bc5-952730a064dc",
   "metadata": {
    "collapsed": true,
    "jupyter": {
     "outputs_hidden": true
    }
   },
   "outputs": [],
   "source": [
    "dirs = dev_config.get_dev_directories(\"../dev_paths.txt\")"
   ]
  },
  {
   "cell_type": "markdown",
   "id": "911406d1-d145-445f-a442-645b5138c60e",
   "metadata": {
    "tags": []
   },
   "source": [
    "# Set up model training parameters"
   ]
  },
  {
   "cell_type": "code",
   "execution_count": 5,
   "id": "6d3b1db8-45d3-4882-bd10-002c0c5f1f27",
   "metadata": {
    "collapsed": true,
    "jupyter": {
     "outputs_hidden": true
    },
    "tags": []
   },
   "outputs": [],
   "source": [
    "with open(\"../model_training/invasion_depth_training_values.json\", 'r') as fp:\n",
    "       training_values = json.load(fp)\n",
    "training_values[\"rs_seed\"] = None if (training_values[\"rs_seed\"] == \"None\") else training_values[\"rs_seed\"]"
   ]
  },
  {
   "cell_type": "code",
   "execution_count": 6,
   "id": "75096603-49df-41d3-8d1d-de1801ba8f1f",
   "metadata": {
    "collapsed": true,
    "jupyter": {
     "outputs_hidden": true
    }
   },
   "outputs": [
    {
     "data": {
      "text/plain": [
       "{'batch_size': 32,\n",
       " 'frozen_epochs': 50,\n",
       " 'fine_tune_epochs': 50,\n",
       " 'val_split': 0.2,\n",
       " 'early_stopping_patience': 25,\n",
       " 'early_stopping_min_delta': 0.0001,\n",
       " 'rs_seed': None}"
      ]
     },
     "execution_count": 6,
     "metadata": {},
     "output_type": "execute_result"
    }
   ],
   "source": [
    "training_values"
   ]
  },
  {
   "cell_type": "code",
   "execution_count": 7,
   "id": "77f26842-80d0-4710-ab9f-3f19c1029199",
   "metadata": {
    "collapsed": true,
    "jupyter": {
     "outputs_hidden": true
    }
   },
   "outputs": [],
   "source": [
    "root_data_path = f\"{dirs.data_dir}/invasion_data/development\"\n",
    "model_training_path = f\"{dirs.analysis_dir}/resnet50_invasion_model\"\n",
    "demo_model_training_path = f\"{model_training_path}/demo_v1\"\n",
    "mcp_best_frozen_weights_file = f\"{demo_model_training_path}/best_frozen_weights.h5\"\n",
    "mcp_best_finetune_weights_file = f\"{demo_model_training_path}/best_finetune_weights.h5\"\n",
    "\n",
    "\n",
    "### General training parameters ###\n",
    "resnet_inp_shape = (128, 128, 3)\n",
    "# Binary classification -> only need 1 output unit\n",
    "n_outputs = 1\n",
    "seed = training_values[\"rs_seed\"]\n",
    "val_split = training_values[\"val_split\"]\n",
    "batch_size = training_values[\"batch_size\"]\n",
    "frozen_epochs = training_values[\"frozen_epochs\"]\n",
    "fine_tune_epochs = training_values[\"fine_tune_epochs\"]\n",
    "fine_tune_lr = 1e-5\n",
    "class_labels = {\"no_invasion\": 0, \"invasion\": 1}\n",
    "\n",
    "\n",
    "### Early stopping ###\n",
    "es_criterion = \"val_loss\"\n",
    "es_mode = \"min\"\n",
    "# Update these depending on seriousness of experiment\n",
    "es_patience = training_values[\"early_stopping_patience\"]\n",
    "es_min_delta = training_values[\"early_stopping_min_delta\"]\n",
    "\n",
    "\n",
    "### Model saving ###\n",
    "mcp_criterion = \"val_loss\"\n",
    "mcp_mode = \"min\"\n",
    "mcp_best_only = True\n",
    "# Need to set to True otherwise base model \"layer\" won't save/load properly\n",
    "mcp_weights_only = True"
   ]
  },
  {
   "cell_type": "code",
   "execution_count": 8,
   "id": "bd546ce2-154b-4f0b-8010-f581516a6597",
   "metadata": {
    "collapsed": true,
    "jupyter": {
     "outputs_hidden": true
    }
   },
   "outputs": [],
   "source": [
    "data_prep.make_dir(demo_model_training_path)"
   ]
  },
  {
   "cell_type": "markdown",
   "id": "0a2e6e22-ffed-459e-8895-f1917396c661",
   "metadata": {},
   "source": [
    "# Prep for loading data"
   ]
  },
  {
   "cell_type": "code",
   "execution_count": 9,
   "id": "7d22b149-c675-4b1c-95e7-909716249d56",
   "metadata": {
    "collapsed": true,
    "jupyter": {
     "outputs_hidden": true
    }
   },
   "outputs": [],
   "source": [
    "rs = np.random.RandomState(seed)"
   ]
  },
  {
   "cell_type": "code",
   "execution_count": 10,
   "id": "c6a69dfe-afa0-41fa-8f26-c8463105bf3a",
   "metadata": {
    "tags": []
   },
   "outputs": [],
   "source": [
    "data_paths = {v: glob(f\"{root_data_path}/train/{k}/*.tif\") for k, v in class_labels.items()}\n",
    "for k, v in data_paths.items():\n",
    "    rs.shuffle(v)"
   ]
  },
  {
   "cell_type": "code",
   "execution_count": 11,
   "id": "940352be-2f0d-4e8a-845b-8873c3629a04",
   "metadata": {
    "collapsed": true,
    "jupyter": {
     "outputs_hidden": true
    }
   },
   "outputs": [],
   "source": [
    "data_counts = {k: len(v) for k, v in data_paths.items()}\n",
    "val_counts = {k: round(v * val_split) for k, v in data_counts.items()}\n",
    "train_counts = {k: v - val_counts[k] for k, v in data_counts.items()}\n",
    "train_class_weights = prep.balanced_class_weights_from_counts(train_counts)"
   ]
  },
  {
   "cell_type": "code",
   "execution_count": 12,
   "id": "1c9bdee1-cf3a-4713-800e-750180b6aa06",
   "metadata": {
    "collapsed": true,
    "jupyter": {
     "outputs_hidden": true
    }
   },
   "outputs": [
    {
     "data": {
      "text/plain": [
       "{0: 454, 1: 102}"
      ]
     },
     "execution_count": 12,
     "metadata": {},
     "output_type": "execute_result"
    }
   ],
   "source": [
    "data_counts"
   ]
  },
  {
   "cell_type": "code",
   "execution_count": 13,
   "id": "e48279d3-14b3-43a7-80c4-fd99ddf41749",
   "metadata": {
    "collapsed": true,
    "jupyter": {
     "outputs_hidden": true
    }
   },
   "outputs": [
    {
     "data": {
      "text/plain": [
       "{0: 0.6129476584022039, 1: 2.7134146341463414}"
      ]
     },
     "execution_count": 13,
     "metadata": {},
     "output_type": "execute_result"
    }
   ],
   "source": [
    "train_class_weights"
   ]
  },
  {
   "cell_type": "code",
   "execution_count": 14,
   "id": "0a3b38c5-6c48-4858-aec1-de470844072a",
   "metadata": {
    "collapsed": true,
    "jupyter": {
     "outputs_hidden": true
    },
    "tags": []
   },
   "outputs": [],
   "source": [
    "train_data_paths = {k: v[val_counts[k]:] for k, v in data_paths.items()}\n",
    "val_data_paths = {k: v[:val_counts[k]] for k, v in data_paths.items()}"
   ]
  },
  {
   "cell_type": "markdown",
   "id": "4105535b-e87d-4efb-9045-6cc547f17a23",
   "metadata": {
    "tags": []
   },
   "source": [
    "# Datasets"
   ]
  },
  {
   "cell_type": "code",
   "execution_count": 16,
   "id": "5d89ed15-f0c8-4469-946c-f0c0e6cbb628",
   "metadata": {
    "collapsed": true,
    "jupyter": {
     "outputs_hidden": true
    }
   },
   "outputs": [],
   "source": [
    "# With class weights\n",
    "train_datagen = data_prep.InvasionDataGenerator(train_data_paths, class_labels, batch_size, resnet_inp_shape[:2], rs, class_weights=train_class_weights, augmentation_function=prep.augment_imgs)\n",
    "val_datagen = data_prep.InvasionDataGenerator(val_data_paths, class_labels, batch_size, resnet_inp_shape[:2], rs, class_weights=train_class_weights, augmentation_function=prep.augment_imgs)\n",
    "# # Without class weights\n",
    "# train_datagen = InvasionDataGenerator(train_data_paths, class_labels, batch_size, resnet_inp_shape[:2], rs, augmentation_function=prep.augment_imgs)\n",
    "# val_datagen = InvasionDataGenerator(val_data_paths, class_labels, batch_size, resnet_inp_shape[:2], rs, augmentation_function=prep.augment_imgs)"
   ]
  },
  {
   "cell_type": "markdown",
   "id": "f50e81cb-bfd6-4ac8-a36d-da6ca500c5f3",
   "metadata": {},
   "source": [
    "# Model"
   ]
  },
  {
   "cell_type": "code",
   "execution_count": 17,
   "id": "5f59ef1d-0f95-4a14-a92d-327229a104a9",
   "metadata": {
    "collapsed": true,
    "jupyter": {
     "outputs_hidden": true
    }
   },
   "outputs": [],
   "source": [
    "K.clear_session()"
   ]
  },
  {
   "cell_type": "code",
   "execution_count": 18,
   "id": "b5bbe2fe-8e5b-4e69-a87d-81dcee513b00",
   "metadata": {
    "tags": []
   },
   "outputs": [],
   "source": [
    "tl_model = models.build_ResNet50_TL(\n",
    "    n_outputs,\n",
    "    resnet_inp_shape,\n",
    "    # base_last_layer=\"conv5_block3_out\",\n",
    "    # base_last_layer=\"conv5_block2_out\",\n",
    "    # base_last_layer=\"conv5_block1_out\",\n",
    "    base_last_layer=\"conv4_block6_out\",\n",
    "    # base_last_layer=\"conv4_block5_out\",\n",
    "    # base_last_layer=\"conv4_block4_out\",\n",
    "    # base_last_layer=\"conv4_block3_out\",\n",
    "    # base_last_layer=\"conv4_block2_out\",\n",
    "    # base_last_layer=\"conv4_block1_out\",\n",
    "    # base_last_layer=\"conv3_block4_out\",\n",
    "    # Switch to softmax once n_outputs > 1\n",
    "    output_act=\"sigmoid\",\n",
    "    base_model_trainable=False\n",
    ")\n",
    "# tl_model.compile(optimizer=Adam(), loss=BinaryCrossentropy(), metrics=[BinaryAccuracy()])\n",
    "tl_model.compile(optimizer=Adam(), loss=BinaryCrossentropy(), weighted_metrics=[BinaryAccuracy()])"
   ]
  },
  {
   "cell_type": "code",
   "execution_count": 19,
   "id": "134be685-feda-4ef2-b1f3-e431dcf88233",
   "metadata": {
    "collapsed": true,
    "jupyter": {
     "outputs_hidden": true
    },
    "tags": []
   },
   "outputs": [
    {
     "name": "stdout",
     "output_type": "stream",
     "text": [
      "Model: \"model_1\"\n",
      "_________________________________________________________________\n",
      "Layer (type)                 Output Shape              Param #   \n",
      "=================================================================\n",
      "input_2 (InputLayer)         [(None, 128, 128, 3)]     0         \n",
      "_________________________________________________________________\n",
      "base_model (Functional)      (None, 8, 8, 1024)        8589184   \n",
      "_________________________________________________________________\n",
      "global_average_pooling2d (Gl (None, 1024)              0         \n",
      "_________________________________________________________________\n",
      "dense (Dense)                (None, 1)                 1025      \n",
      "_________________________________________________________________\n",
      "activation (Activation)      (None, 1)                 0         \n",
      "=================================================================\n",
      "Total params: 8,590,209\n",
      "Trainable params: 1,025\n",
      "Non-trainable params: 8,589,184\n",
      "_________________________________________________________________\n"
     ]
    }
   ],
   "source": [
    "tl_model.summary()"
   ]
  },
  {
   "cell_type": "code",
   "execution_count": 20,
   "id": "97b6dab5-1ecc-40f3-949e-caeea1ee2b1a",
   "metadata": {
    "collapsed": true,
    "jupyter": {
     "outputs_hidden": true
    },
    "tags": []
   },
   "outputs": [],
   "source": [
    "# tl_model.get_layer(\"base_model\").summary()"
   ]
  },
  {
   "cell_type": "code",
   "execution_count": 21,
   "id": "4a30cd0a-6cef-4e3b-b85a-b95be2cd08b1",
   "metadata": {
    "tags": []
   },
   "outputs": [],
   "source": [
    "es_callback = EarlyStopping(monitor=es_criterion, mode=es_mode, min_delta=es_min_delta, patience=es_patience)\n",
    "cp_callback = ModelCheckpoint(mcp_best_frozen_weights_file, monitor=mcp_criterion, mode=mcp_mode, save_best_only=mcp_best_only, save_weights_only=mcp_weights_only)"
   ]
  },
  {
   "cell_type": "code",
   "execution_count": 22,
   "id": "c38e7b3e-8344-49f4-8c52-70d9ae017acd",
   "metadata": {
    "collapsed": true,
    "jupyter": {
     "outputs_hidden": true
    },
    "tags": []
   },
   "outputs": [
    {
     "name": "stdout",
     "output_type": "stream",
     "text": [
      "Epoch 1/50\n",
      "13/13 [==============================] - 11s 315ms/step - loss: 0.6978 - binary_accuracy: 0.5374 - val_loss: 0.6463 - val_binary_accuracy: 0.5823\n",
      "Epoch 2/50\n",
      "13/13 [==============================] - 4s 211ms/step - loss: 0.6397 - binary_accuracy: 0.6349 - val_loss: 0.5224 - val_binary_accuracy: 0.7604\n",
      "Epoch 3/50\n",
      "13/13 [==============================] - 4s 195ms/step - loss: 0.5611 - binary_accuracy: 0.7517 - val_loss: 0.5062 - val_binary_accuracy: 0.7880\n",
      "Epoch 4/50\n",
      "13/13 [==============================] - 4s 208ms/step - loss: 0.5350 - binary_accuracy: 0.7391 - val_loss: 0.4986 - val_binary_accuracy: 0.8000\n",
      "Epoch 5/50\n",
      "13/13 [==============================] - 4s 206ms/step - loss: 0.5133 - binary_accuracy: 0.8063 - val_loss: 0.4488 - val_binary_accuracy: 0.8387\n",
      "Epoch 6/50\n",
      "13/13 [==============================] - 4s 201ms/step - loss: 0.4916 - binary_accuracy: 0.7817 - val_loss: 0.4166 - val_binary_accuracy: 0.8220\n",
      "Epoch 7/50\n",
      "13/13 [==============================] - 4s 194ms/step - loss: 0.4650 - binary_accuracy: 0.8061 - val_loss: 0.4370 - val_binary_accuracy: 0.8081\n",
      "Epoch 8/50\n",
      "13/13 [==============================] - 4s 205ms/step - loss: 0.4632 - binary_accuracy: 0.7872 - val_loss: 0.4253 - val_binary_accuracy: 0.8222\n",
      "Epoch 9/50\n",
      "13/13 [==============================] - 4s 210ms/step - loss: 0.4469 - binary_accuracy: 0.8241 - val_loss: 0.4261 - val_binary_accuracy: 0.8677\n",
      "Epoch 10/50\n",
      "13/13 [==============================] - 4s 215ms/step - loss: 0.4384 - binary_accuracy: 0.7980 - val_loss: 0.3547 - val_binary_accuracy: 0.8611\n",
      "Epoch 11/50\n",
      "13/13 [==============================] - 4s 205ms/step - loss: 0.4379 - binary_accuracy: 0.8069 - val_loss: 0.4114 - val_binary_accuracy: 0.8261\n",
      "Epoch 12/50\n",
      "13/13 [==============================] - 4s 237ms/step - loss: 0.4144 - binary_accuracy: 0.8100 - val_loss: 0.4182 - val_binary_accuracy: 0.8149\n",
      "Epoch 13/50\n",
      "13/13 [==============================] - 4s 197ms/step - loss: 0.4286 - binary_accuracy: 0.7938 - val_loss: 0.3931 - val_binary_accuracy: 0.8455\n",
      "Epoch 14/50\n",
      "13/13 [==============================] - 4s 199ms/step - loss: 0.4246 - binary_accuracy: 0.7977 - val_loss: 0.3705 - val_binary_accuracy: 0.8074\n",
      "Epoch 15/50\n",
      "13/13 [==============================] - 4s 202ms/step - loss: 0.4152 - binary_accuracy: 0.8104 - val_loss: 0.3619 - val_binary_accuracy: 0.8732\n",
      "Epoch 16/50\n",
      "13/13 [==============================] - 4s 214ms/step - loss: 0.3894 - binary_accuracy: 0.8281 - val_loss: 0.4119 - val_binary_accuracy: 0.8231\n",
      "Epoch 17/50\n",
      "13/13 [==============================] - 4s 235ms/step - loss: 0.3999 - binary_accuracy: 0.8160 - val_loss: 0.3868 - val_binary_accuracy: 0.8269\n",
      "Epoch 18/50\n",
      "13/13 [==============================] - 4s 201ms/step - loss: 0.4179 - binary_accuracy: 0.8052 - val_loss: 0.3809 - val_binary_accuracy: 0.8387\n",
      "Epoch 19/50\n",
      "13/13 [==============================] - 4s 200ms/step - loss: 0.4132 - binary_accuracy: 0.8029 - val_loss: 0.3937 - val_binary_accuracy: 0.7742\n",
      "Epoch 20/50\n",
      "13/13 [==============================] - 4s 216ms/step - loss: 0.4044 - binary_accuracy: 0.8122 - val_loss: 0.3631 - val_binary_accuracy: 0.8259\n",
      "Epoch 21/50\n",
      "13/13 [==============================] - 4s 210ms/step - loss: 0.3866 - binary_accuracy: 0.8222 - val_loss: 0.3499 - val_binary_accuracy: 0.8445\n",
      "Epoch 22/50\n",
      "13/13 [==============================] - 4s 224ms/step - loss: 0.3937 - binary_accuracy: 0.8157 - val_loss: 0.3756 - val_binary_accuracy: 0.8261\n",
      "Epoch 23/50\n",
      "13/13 [==============================] - 4s 209ms/step - loss: 0.3942 - binary_accuracy: 0.8101 - val_loss: 0.3820 - val_binary_accuracy: 0.8030\n",
      "Epoch 24/50\n",
      "13/13 [==============================] - 4s 218ms/step - loss: 0.3844 - binary_accuracy: 0.8261 - val_loss: 0.3701 - val_binary_accuracy: 0.8422\n",
      "Epoch 25/50\n",
      "13/13 [==============================] - 4s 211ms/step - loss: 0.3951 - binary_accuracy: 0.8167 - val_loss: 0.3679 - val_binary_accuracy: 0.8583\n",
      "Epoch 26/50\n",
      "13/13 [==============================] - 4s 202ms/step - loss: 0.4112 - binary_accuracy: 0.7969 - val_loss: 0.3517 - val_binary_accuracy: 0.8481\n",
      "Epoch 27/50\n",
      "13/13 [==============================] - 4s 230ms/step - loss: 0.3531 - binary_accuracy: 0.8522 - val_loss: 0.3444 - val_binary_accuracy: 0.8721\n",
      "Epoch 28/50\n",
      "13/13 [==============================] - 4s 203ms/step - loss: 0.3818 - binary_accuracy: 0.8176 - val_loss: 0.3386 - val_binary_accuracy: 0.8759\n",
      "Epoch 29/50\n",
      "13/13 [==============================] - 4s 210ms/step - loss: 0.3820 - binary_accuracy: 0.8228 - val_loss: 0.4020 - val_binary_accuracy: 0.8307\n",
      "Epoch 30/50\n",
      "13/13 [==============================] - 4s 196ms/step - loss: 0.3762 - binary_accuracy: 0.8054 - val_loss: 0.3146 - val_binary_accuracy: 0.8833\n",
      "Epoch 31/50\n",
      "13/13 [==============================] - 4s 211ms/step - loss: 0.3620 - binary_accuracy: 0.8326 - val_loss: 0.3197 - val_binary_accuracy: 0.8805\n",
      "Epoch 32/50\n",
      "13/13 [==============================] - 4s 207ms/step - loss: 0.3728 - binary_accuracy: 0.8060 - val_loss: 0.3660 - val_binary_accuracy: 0.8297\n",
      "Epoch 33/50\n",
      "13/13 [==============================] - 4s 215ms/step - loss: 0.3608 - binary_accuracy: 0.8471 - val_loss: 0.3521 - val_binary_accuracy: 0.8546\n",
      "Epoch 34/50\n",
      "13/13 [==============================] - 4s 198ms/step - loss: 0.3651 - binary_accuracy: 0.8364 - val_loss: 0.3037 - val_binary_accuracy: 0.8805\n",
      "Epoch 35/50\n",
      "13/13 [==============================] - 4s 203ms/step - loss: 0.3790 - binary_accuracy: 0.8155 - val_loss: 0.3057 - val_binary_accuracy: 0.8343\n",
      "Epoch 36/50\n",
      "13/13 [==============================] - 4s 195ms/step - loss: 0.3687 - binary_accuracy: 0.8234 - val_loss: 0.3939 - val_binary_accuracy: 0.8514\n",
      "Epoch 37/50\n",
      "13/13 [==============================] - 4s 210ms/step - loss: 0.3451 - binary_accuracy: 0.8340 - val_loss: 0.4030 - val_binary_accuracy: 0.8255\n",
      "Epoch 38/50\n",
      "13/13 [==============================] - 4s 209ms/step - loss: 0.3557 - binary_accuracy: 0.8417 - val_loss: 0.3676 - val_binary_accuracy: 0.8236\n",
      "Epoch 39/50\n",
      "13/13 [==============================] - 4s 203ms/step - loss: 0.3552 - binary_accuracy: 0.8202 - val_loss: 0.3666 - val_binary_accuracy: 0.8231\n",
      "Epoch 40/50\n",
      "13/13 [==============================] - 4s 204ms/step - loss: 0.3792 - binary_accuracy: 0.8266 - val_loss: 0.3814 - val_binary_accuracy: 0.8186\n",
      "Epoch 41/50\n",
      "13/13 [==============================] - 4s 213ms/step - loss: 0.3678 - binary_accuracy: 0.8248 - val_loss: 0.3647 - val_binary_accuracy: 0.8389\n",
      "Epoch 42/50\n",
      "13/13 [==============================] - 4s 212ms/step - loss: 0.3532 - binary_accuracy: 0.8321 - val_loss: 0.3115 - val_binary_accuracy: 0.8191\n",
      "Epoch 43/50\n",
      "13/13 [==============================] - 5s 222ms/step - loss: 0.3628 - binary_accuracy: 0.8313 - val_loss: 0.3203 - val_binary_accuracy: 0.8768\n",
      "Epoch 44/50\n",
      "13/13 [==============================] - 4s 212ms/step - loss: 0.3595 - binary_accuracy: 0.8368 - val_loss: 0.3190 - val_binary_accuracy: 0.8551\n",
      "Epoch 45/50\n",
      "13/13 [==============================] - 4s 195ms/step - loss: 0.3734 - binary_accuracy: 0.8236 - val_loss: 0.3213 - val_binary_accuracy: 0.8668\n",
      "Epoch 46/50\n",
      "13/13 [==============================] - 4s 209ms/step - loss: 0.3580 - binary_accuracy: 0.8363 - val_loss: 0.3539 - val_binary_accuracy: 0.8206\n",
      "Epoch 47/50\n",
      "13/13 [==============================] - 4s 196ms/step - loss: 0.3660 - binary_accuracy: 0.8326 - val_loss: 0.3532 - val_binary_accuracy: 0.8679\n",
      "Epoch 48/50\n",
      "13/13 [==============================] - 4s 224ms/step - loss: 0.3559 - binary_accuracy: 0.8184 - val_loss: 0.3255 - val_binary_accuracy: 0.8668\n",
      "Epoch 49/50\n",
      "13/13 [==============================] - 4s 220ms/step - loss: 0.3613 - binary_accuracy: 0.8449 - val_loss: 0.3489 - val_binary_accuracy: 0.8895\n",
      "Epoch 50/50\n",
      "13/13 [==============================] - 4s 210ms/step - loss: 0.3529 - binary_accuracy: 0.8309 - val_loss: 0.3834 - val_binary_accuracy: 0.8484\n"
     ]
    }
   ],
   "source": [
    "h1 = tl_model.fit(\n",
    "    train_datagen,\n",
    "    validation_data=val_datagen,\n",
    "    epochs=frozen_epochs,\n",
    "    callbacks=[es_callback, cp_callback],\n",
    "    workers=n_cores\n",
    ")"
   ]
  },
  {
   "cell_type": "code",
   "execution_count": 23,
   "id": "b5b4515d-5967-4631-a496-1ae1931ab042",
   "metadata": {
    "collapsed": true,
    "jupyter": {
     "outputs_hidden": true
    }
   },
   "outputs": [
    {
     "data": {
      "text/plain": [
       "(33, 0.30371546745300293)"
      ]
     },
     "execution_count": 23,
     "metadata": {},
     "output_type": "execute_result"
    }
   ],
   "source": [
    "np.argmin(h1.history[\"val_loss\"]), np.min(h1.history[\"val_loss\"])"
   ]
  },
  {
   "cell_type": "code",
   "execution_count": 24,
   "id": "85cc9124-a9b3-48d2-acb6-2289349c5f43",
   "metadata": {
    "collapsed": true,
    "jupyter": {
     "outputs_hidden": true
    }
   },
   "outputs": [
    {
     "data": {
      "text/plain": [
       "(48, 0.8894818425178528)"
      ]
     },
     "execution_count": 24,
     "metadata": {},
     "output_type": "execute_result"
    }
   ],
   "source": [
    "np.argmax(h1.history[\"val_binary_accuracy\"]), np.max(h1.history[\"val_binary_accuracy\"])"
   ]
  },
  {
   "cell_type": "markdown",
   "id": "8d21a2e1-6fb0-4252-97b6-7f395a21aa98",
   "metadata": {
    "tags": []
   },
   "source": [
    "# Load best frozen weights before fine tuning"
   ]
  },
  {
   "cell_type": "code",
   "execution_count": 25,
   "id": "f727e052-d9c1-4613-8582-d93c31e46047",
   "metadata": {
    "collapsed": true,
    "jupyter": {
     "outputs_hidden": true
    }
   },
   "outputs": [],
   "source": [
    "tl_model.load_weights(mcp_best_frozen_weights_file)"
   ]
  },
  {
   "cell_type": "markdown",
   "id": "7e04b9f7-0220-47e1-88a1-b375166403e7",
   "metadata": {},
   "source": [
    "# Train model (all layers)"
   ]
  },
  {
   "cell_type": "code",
   "execution_count": 26,
   "id": "826188ac-9b5f-4e90-8d9f-2fcaeaa1a98c",
   "metadata": {
    "collapsed": true,
    "jupyter": {
     "outputs_hidden": true
    }
   },
   "outputs": [],
   "source": [
    "# Make base model trainable (leave layers in inference mode)\n",
    "models.toggle_TL_freeze(tl_model)"
   ]
  },
  {
   "cell_type": "code",
   "execution_count": 27,
   "id": "9fce61bd-18b7-43e0-96f9-a309c763888f",
   "metadata": {
    "collapsed": true,
    "jupyter": {
     "outputs_hidden": true
    }
   },
   "outputs": [],
   "source": [
    "# tl_model.compile(optimizer=Adam(learning_rate=fine_tune_lr), loss=BinaryCrossentropy(), metrics=[BinaryAccuracy()])\n",
    "tl_model.compile(optimizer=Adam(learning_rate=fine_tune_lr), loss=BinaryCrossentropy(), weighted_metrics=[BinaryAccuracy()])"
   ]
  },
  {
   "cell_type": "code",
   "execution_count": 28,
   "id": "ff63ccae-1830-4cda-ad44-a8bc1436562c",
   "metadata": {
    "collapsed": true,
    "jupyter": {
     "outputs_hidden": true
    },
    "tags": []
   },
   "outputs": [
    {
     "name": "stdout",
     "output_type": "stream",
     "text": [
      "Model: \"model_1\"\n",
      "_________________________________________________________________\n",
      "Layer (type)                 Output Shape              Param #   \n",
      "=================================================================\n",
      "input_2 (InputLayer)         [(None, 128, 128, 3)]     0         \n",
      "_________________________________________________________________\n",
      "base_model (Functional)      (None, 8, 8, 1024)        8589184   \n",
      "_________________________________________________________________\n",
      "global_average_pooling2d (Gl (None, 1024)              0         \n",
      "_________________________________________________________________\n",
      "dense (Dense)                (None, 1)                 1025      \n",
      "_________________________________________________________________\n",
      "activation (Activation)      (None, 1)                 0         \n",
      "=================================================================\n",
      "Total params: 8,590,209\n",
      "Trainable params: 8,559,617\n",
      "Non-trainable params: 30,592\n",
      "_________________________________________________________________\n"
     ]
    }
   ],
   "source": [
    "tl_model.summary()"
   ]
  },
  {
   "cell_type": "code",
   "execution_count": 29,
   "id": "4bc0da73-0193-4e18-bc4c-f84d86e17a89",
   "metadata": {
    "collapsed": true,
    "jupyter": {
     "outputs_hidden": true
    }
   },
   "outputs": [],
   "source": [
    "es_callback = EarlyStopping(monitor=es_criterion, mode=es_mode, min_delta=es_min_delta, patience=es_patience)\n",
    "cp_callback = ModelCheckpoint(mcp_best_finetune_weights_file, monitor=mcp_criterion, mode=mcp_mode, save_best_only=mcp_best_only, save_weights_only=mcp_weights_only)"
   ]
  },
  {
   "cell_type": "code",
   "execution_count": 30,
   "id": "05c2c008-c5fe-473f-a209-9da1e56b64b4",
   "metadata": {
    "collapsed": true,
    "jupyter": {
     "outputs_hidden": true
    },
    "tags": []
   },
   "outputs": [
    {
     "name": "stdout",
     "output_type": "stream",
     "text": [
      "Epoch 1/50\n",
      "13/13 [==============================] - 10s 277ms/step - loss: 0.3833 - binary_accuracy: 0.8064 - val_loss: 0.3890 - val_binary_accuracy: 0.8386\n",
      "Epoch 2/50\n",
      "13/13 [==============================] - 2s 185ms/step - loss: 0.3571 - binary_accuracy: 0.8260 - val_loss: 0.3338 - val_binary_accuracy: 0.8143\n",
      "Epoch 3/50\n",
      "13/13 [==============================] - 2s 188ms/step - loss: 0.3252 - binary_accuracy: 0.8399 - val_loss: 0.3153 - val_binary_accuracy: 0.8487\n",
      "Epoch 4/50\n",
      "13/13 [==============================] - 2s 184ms/step - loss: 0.3336 - binary_accuracy: 0.8430 - val_loss: 0.3808 - val_binary_accuracy: 0.8587\n",
      "Epoch 5/50\n",
      "13/13 [==============================] - 2s 188ms/step - loss: 0.3187 - binary_accuracy: 0.8547 - val_loss: 0.3384 - val_binary_accuracy: 0.8390\n",
      "Epoch 6/50\n",
      "13/13 [==============================] - 2s 185ms/step - loss: 0.2879 - binary_accuracy: 0.8746 - val_loss: 0.3291 - val_binary_accuracy: 0.8231\n",
      "Epoch 7/50\n",
      "13/13 [==============================] - 3s 190ms/step - loss: 0.2965 - binary_accuracy: 0.8799 - val_loss: 0.3330 - val_binary_accuracy: 0.8287\n",
      "Epoch 8/50\n",
      "13/13 [==============================] - 2s 186ms/step - loss: 0.2809 - binary_accuracy: 0.8744 - val_loss: 0.3489 - val_binary_accuracy: 0.8431\n",
      "Epoch 9/50\n",
      "13/13 [==============================] - 3s 190ms/step - loss: 0.2465 - binary_accuracy: 0.9009 - val_loss: 0.4108 - val_binary_accuracy: 0.8243\n",
      "Epoch 10/50\n",
      "13/13 [==============================] - 2s 187ms/step - loss: 0.2667 - binary_accuracy: 0.8958 - val_loss: 0.3723 - val_binary_accuracy: 0.8370\n",
      "Epoch 11/50\n",
      "13/13 [==============================] - 2s 186ms/step - loss: 0.2599 - binary_accuracy: 0.8932 - val_loss: 0.3302 - val_binary_accuracy: 0.8831\n",
      "Epoch 12/50\n",
      "13/13 [==============================] - 2s 185ms/step - loss: 0.2433 - binary_accuracy: 0.9016 - val_loss: 0.3825 - val_binary_accuracy: 0.7618\n",
      "Epoch 13/50\n",
      "13/13 [==============================] - 3s 191ms/step - loss: 0.2378 - binary_accuracy: 0.8985 - val_loss: 0.2720 - val_binary_accuracy: 0.8816\n",
      "Epoch 14/50\n",
      "13/13 [==============================] - 3s 190ms/step - loss: 0.2175 - binary_accuracy: 0.9216 - val_loss: 0.3489 - val_binary_accuracy: 0.8170\n",
      "Epoch 15/50\n",
      "13/13 [==============================] - 3s 188ms/step - loss: 0.2318 - binary_accuracy: 0.9189 - val_loss: 0.3462 - val_binary_accuracy: 0.8487\n",
      "Epoch 16/50\n",
      "13/13 [==============================] - 3s 190ms/step - loss: 0.2322 - binary_accuracy: 0.9153 - val_loss: 0.4000 - val_binary_accuracy: 0.8287\n",
      "Epoch 17/50\n",
      "13/13 [==============================] - 2s 186ms/step - loss: 0.1971 - binary_accuracy: 0.9183 - val_loss: 0.2903 - val_binary_accuracy: 0.8778\n",
      "Epoch 18/50\n",
      "13/13 [==============================] - 3s 190ms/step - loss: 0.1854 - binary_accuracy: 0.9172 - val_loss: 0.2561 - val_binary_accuracy: 0.8895\n",
      "Epoch 19/50\n",
      "13/13 [==============================] - 2s 187ms/step - loss: 0.1803 - binary_accuracy: 0.9436 - val_loss: 0.2965 - val_binary_accuracy: 0.8614\n",
      "Epoch 20/50\n",
      "13/13 [==============================] - 2s 188ms/step - loss: 0.1716 - binary_accuracy: 0.9265 - val_loss: 0.3821 - val_binary_accuracy: 0.8491\n",
      "Epoch 21/50\n",
      "13/13 [==============================] - 2s 189ms/step - loss: 0.1488 - binary_accuracy: 0.9634 - val_loss: 0.3626 - val_binary_accuracy: 0.8380\n",
      "Epoch 22/50\n",
      "13/13 [==============================] - 2s 189ms/step - loss: 0.1620 - binary_accuracy: 0.9357 - val_loss: 0.2608 - val_binary_accuracy: 0.8750\n",
      "Epoch 23/50\n",
      "13/13 [==============================] - 2s 187ms/step - loss: 0.1356 - binary_accuracy: 0.9555 - val_loss: 0.3131 - val_binary_accuracy: 0.8816\n",
      "Epoch 24/50\n",
      "13/13 [==============================] - 3s 212ms/step - loss: 0.1302 - binary_accuracy: 0.9701 - val_loss: 0.3540 - val_binary_accuracy: 0.8778\n",
      "Epoch 25/50\n",
      "13/13 [==============================] - 2s 188ms/step - loss: 0.1942 - binary_accuracy: 0.9283 - val_loss: 0.4465 - val_binary_accuracy: 0.8466\n",
      "Epoch 26/50\n",
      "13/13 [==============================] - 2s 188ms/step - loss: 0.1759 - binary_accuracy: 0.9461 - val_loss: 0.3869 - val_binary_accuracy: 0.8803\n",
      "Epoch 27/50\n",
      "13/13 [==============================] - 2s 188ms/step - loss: 0.1758 - binary_accuracy: 0.9419 - val_loss: 0.2712 - val_binary_accuracy: 0.8721\n",
      "Epoch 28/50\n",
      "13/13 [==============================] - 2s 188ms/step - loss: 0.1176 - binary_accuracy: 0.9457 - val_loss: 0.3777 - val_binary_accuracy: 0.8176\n",
      "Epoch 29/50\n",
      "13/13 [==============================] - 2s 188ms/step - loss: 0.1499 - binary_accuracy: 0.9331 - val_loss: 0.3639 - val_binary_accuracy: 0.8188\n",
      "Epoch 30/50\n",
      "13/13 [==============================] - 2s 189ms/step - loss: 0.1195 - binary_accuracy: 0.9588 - val_loss: 0.5634 - val_binary_accuracy: 0.7642\n",
      "Epoch 31/50\n",
      "13/13 [==============================] - 3s 191ms/step - loss: 0.1234 - binary_accuracy: 0.9398 - val_loss: 0.2556 - val_binary_accuracy: 0.9275\n",
      "Epoch 32/50\n",
      "13/13 [==============================] - 2s 188ms/step - loss: 0.0895 - binary_accuracy: 0.9714 - val_loss: 0.4275 - val_binary_accuracy: 0.8269\n",
      "Epoch 33/50\n",
      "13/13 [==============================] - 3s 192ms/step - loss: 0.0695 - binary_accuracy: 0.9890 - val_loss: 0.2854 - val_binary_accuracy: 0.8684\n",
      "Epoch 34/50\n",
      "13/13 [==============================] - 2s 189ms/step - loss: 0.0658 - binary_accuracy: 0.9812 - val_loss: 0.3903 - val_binary_accuracy: 0.8617\n",
      "Epoch 35/50\n",
      "13/13 [==============================] - 3s 189ms/step - loss: 0.0679 - binary_accuracy: 0.9851 - val_loss: 0.5135 - val_binary_accuracy: 0.8269\n",
      "Epoch 36/50\n",
      "13/13 [==============================] - 3s 195ms/step - loss: 0.0657 - binary_accuracy: 0.9771 - val_loss: 0.2274 - val_binary_accuracy: 0.9037\n",
      "Epoch 37/50\n",
      "13/13 [==============================] - 3s 190ms/step - loss: 0.0463 - binary_accuracy: 0.9844 - val_loss: 0.2861 - val_binary_accuracy: 0.8865\n",
      "Epoch 38/50\n",
      "13/13 [==============================] - 3s 195ms/step - loss: 0.0543 - binary_accuracy: 0.9883 - val_loss: 0.3438 - val_binary_accuracy: 0.8788\n",
      "Epoch 39/50\n",
      "13/13 [==============================] - 3s 192ms/step - loss: 0.0414 - binary_accuracy: 0.9940 - val_loss: 0.3478 - val_binary_accuracy: 0.8778\n",
      "Epoch 40/50\n",
      "13/13 [==============================] - 3s 194ms/step - loss: 0.0628 - binary_accuracy: 0.9785 - val_loss: 0.5090 - val_binary_accuracy: 0.8487\n",
      "Epoch 41/50\n",
      "13/13 [==============================] - 3s 192ms/step - loss: 0.0698 - binary_accuracy: 0.9647 - val_loss: 0.3868 - val_binary_accuracy: 0.8040\n",
      "Epoch 42/50\n",
      "13/13 [==============================] - 3s 194ms/step - loss: 0.1182 - binary_accuracy: 0.9548 - val_loss: 0.5408 - val_binary_accuracy: 0.8650\n",
      "Epoch 43/50\n",
      "13/13 [==============================] - 3s 194ms/step - loss: 0.1268 - binary_accuracy: 0.9383 - val_loss: 0.8655 - val_binary_accuracy: 0.8241\n",
      "Epoch 44/50\n",
      "13/13 [==============================] - 3s 197ms/step - loss: 0.1157 - binary_accuracy: 0.9389 - val_loss: 0.2786 - val_binary_accuracy: 0.8816\n",
      "Epoch 45/50\n",
      "13/13 [==============================] - 3s 197ms/step - loss: 0.0750 - binary_accuracy: 0.9717 - val_loss: 0.3893 - val_binary_accuracy: 0.7937\n",
      "Epoch 46/50\n",
      "13/13 [==============================] - 3s 192ms/step - loss: 0.0405 - binary_accuracy: 0.9970 - val_loss: 0.4772 - val_binary_accuracy: 0.8392\n",
      "Epoch 47/50\n",
      "13/13 [==============================] - 3s 197ms/step - loss: 0.0297 - binary_accuracy: 0.9971 - val_loss: 0.3411 - val_binary_accuracy: 0.8750\n",
      "Epoch 48/50\n",
      "13/13 [==============================] - 3s 193ms/step - loss: 0.0273 - binary_accuracy: 0.9985 - val_loss: 0.5420 - val_binary_accuracy: 0.8176\n",
      "Epoch 49/50\n",
      "13/13 [==============================] - 3s 196ms/step - loss: 0.0170 - binary_accuracy: 0.9985 - val_loss: 0.4416 - val_binary_accuracy: 0.8026\n",
      "Epoch 50/50\n",
      "13/13 [==============================] - 3s 195ms/step - loss: 0.0214 - binary_accuracy: 0.9985 - val_loss: 0.7272 - val_binary_accuracy: 0.7667\n"
     ]
    }
   ],
   "source": [
    "h2 = tl_model.fit(\n",
    "    train_datagen,\n",
    "    validation_data=val_datagen,\n",
    "    epochs=fine_tune_epochs,\n",
    "    callbacks=[es_callback, cp_callback],\n",
    "    workers=n_cores\n",
    ")"
   ]
  },
  {
   "cell_type": "code",
   "execution_count": 31,
   "id": "010da2d1-dcef-47c8-8011-73bbf31c5b0c",
   "metadata": {
    "collapsed": true,
    "jupyter": {
     "outputs_hidden": true
    }
   },
   "outputs": [
    {
     "data": {
      "text/plain": [
       "(35, 0.2274419516324997)"
      ]
     },
     "execution_count": 31,
     "metadata": {},
     "output_type": "execute_result"
    }
   ],
   "source": [
    "np.argmin(h2.history[\"val_loss\"]), np.min(h2.history[\"val_loss\"])"
   ]
  },
  {
   "cell_type": "code",
   "execution_count": 32,
   "id": "1d04b350-b75d-43ed-bfc4-a02f09c5bb45",
   "metadata": {
    "collapsed": true,
    "jupyter": {
     "outputs_hidden": true
    }
   },
   "outputs": [
    {
     "data": {
      "text/plain": [
       "(30, 0.9275327324867249)"
      ]
     },
     "execution_count": 32,
     "metadata": {},
     "output_type": "execute_result"
    }
   ],
   "source": [
    "np.argmax(h2.history[\"val_binary_accuracy\"]), np.max(h2.history[\"val_binary_accuracy\"])"
   ]
  },
  {
   "cell_type": "code",
   "execution_count": null,
   "id": "51be6fcc-fc03-4ee3-9304-0227c8a48054",
   "metadata": {
    "collapsed": true,
    "jupyter": {
     "outputs_hidden": true
    }
   },
   "outputs": [],
   "source": []
  }
 ],
 "metadata": {
  "kernelspec": {
   "display_name": "Python 3 (ipykernel)",
   "language": "python",
   "name": "python3"
  },
  "language_info": {
   "codemirror_mode": {
    "name": "ipython",
    "version": 3
   },
   "file_extension": ".py",
   "mimetype": "text/x-python",
   "name": "python",
   "nbconvert_exporter": "python",
   "pygments_lexer": "ipython3",
   "version": "3.9.10"
  }
 },
 "nbformat": 4,
 "nbformat_minor": 5
}
