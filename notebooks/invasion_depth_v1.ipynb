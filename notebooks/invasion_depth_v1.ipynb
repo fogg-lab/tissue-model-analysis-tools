{
 "cells": [
  {
   "cell_type": "code",
   "execution_count": 39,
   "id": "0c12c68d-93a1-41af-b05c-e56b17582e41",
   "metadata": {},
   "outputs": [],
   "source": [
    "import tensorflow.keras.backend as K\n",
    "import numpy as np\n",
    "import os\n",
    "import cv2\n",
    "import matplotlib.pyplot as plt\n",
    "\n",
    "from glob import glob\n",
    "from copy import deepcopy\n",
    "from collections import defaultdict\n",
    "from tensorflow.keras.preprocessing.image import ImageDataGenerator, load_img\n",
    "from tensorflow.keras.utils import Sequence\n",
    "from tensorflow.keras.applications import resnet50"
   ]
  },
  {
   "cell_type": "code",
   "execution_count": 46,
   "id": "fdc59e17-d035-4e8d-ad5f-ca7adfa21f93",
   "metadata": {},
   "outputs": [],
   "source": [
    "from fl_tissue_model_tools import data_prep, dev_config, models, defs\n",
    "import fl_tissue_model_tools.preprocessing as prep"
   ]
  },
  {
   "cell_type": "code",
   "execution_count": 3,
   "id": "0c960e34-fb3c-463b-8bc5-952730a064dc",
   "metadata": {},
   "outputs": [],
   "source": [
    "dirs = dev_config.get_dev_directories(\"../dev_paths.txt\")"
   ]
  },
  {
   "cell_type": "code",
   "execution_count": 4,
   "id": "77f26842-80d0-4710-ab9f-3f19c1029199",
   "metadata": {},
   "outputs": [],
   "source": [
    "root_data_path = f\"{dirs.data_dir}/invasion_data/development\"\n",
    "resnet_inp_shape = (128, 128, 3)\n",
    "# Binary classification -> only need 1 output unit\n",
    "n_outputs = 1\n",
    "val_split = 0.3\n",
    "batch_size = 32\n",
    "# n_epochs = 10\n",
    "frozen_epochs = 10\n",
    "fine_tune_epochs = 10\n",
    "fine_tune_lr = 1e-5\n",
    "seed = 123\n",
    "class_labels = {\"no_invasion\": 0, \"invasion\": 1}\n",
    "rs = np.random.RandomState(seed)"
   ]
  },
  {
   "cell_type": "code",
   "execution_count": 6,
   "id": "da805bd0-d5c8-4dc4-a139-3a36eb018818",
   "metadata": {},
   "outputs": [],
   "source": [
    "def balanced_class_weights_from_counts(d):\n",
    "    n = np.sum(list(d.values()))\n",
    "    n_c = len(d.keys())\n",
    "    weights = {}\n",
    "    for ci, n_ci in d.items():\n",
    "        weights[ci] = n / (n_c * n_ci)\n",
    "    return weights"
   ]
  },
  {
   "cell_type": "markdown",
   "id": "0a2e6e22-ffed-459e-8895-f1917396c661",
   "metadata": {},
   "source": [
    "# Class proportions"
   ]
  },
  {
   "cell_type": "code",
   "execution_count": 7,
   "id": "36f36b7d-16ac-4159-993a-dc174ab39024",
   "metadata": {},
   "outputs": [],
   "source": [
    "img_paths = {k: glob(f\"{root_data_path}/train/{k}/*.tif\") for k in class_labels.keys()}\n",
    "img_counts = {c: len(pn) for c, pn in img_paths.items()}"
   ]
  },
  {
   "cell_type": "code",
   "execution_count": 8,
   "id": "6dc4c641-e034-4e3a-a029-fe51cf4b2e92",
   "metadata": {},
   "outputs": [],
   "source": [
    "class_weights = balanced_class_weights_from_counts(img_counts)"
   ]
  },
  {
   "cell_type": "code",
   "execution_count": 9,
   "id": "3390b258-a60f-4554-9791-5c23bc0a4183",
   "metadata": {},
   "outputs": [
    {
     "data": {
      "text/plain": [
       "{'no_invasion': 0.5426997245179064, 'invasion': 6.354838709677419}"
      ]
     },
     "execution_count": 9,
     "metadata": {},
     "output_type": "execute_result"
    }
   ],
   "source": [
    "class_weights"
   ]
  },
  {
   "cell_type": "markdown",
   "id": "4105535b-e87d-4efb-9045-6cc547f17a23",
   "metadata": {},
   "source": [
    "# Datasets"
   ]
  },
  {
   "cell_type": "code",
   "execution_count": 74,
   "id": "6aff4bfe-ba64-4a4f-a316-6a7607cc9b99",
   "metadata": {},
   "outputs": [],
   "source": [
    "class InvasionDataGenerator(Sequence):\n",
    "    def __init__(self, datapath, batch_size, img_shape, class_labels, random_state, file_ext=\"tif\", shuffle=True, balanced=True):\n",
    "        self.datapath = datapath\n",
    "        self.batch_size = batch_size\n",
    "        self.img_shape = img_shape\n",
    "        self.class_labels = deepcopy(class_labels)\n",
    "        self.file_ext = file_ext\n",
    "        self.class_paths = {}\n",
    "        self.class_counts = {}\n",
    "        self.img_paths = []\n",
    "        self.img_labels = []\n",
    "        self.shuffle = shuffle\n",
    "        self.rs = random_state\n",
    "        self._get_paths_and_counts()\n",
    "        self.indices = np.arange(len(self.img_paths), dtype=np.uint)\n",
    "        if balanced == True:\n",
    "            self.class_weights = balanced_class_weights_from_counts(self.class_counts)\n",
    "        else:\n",
    "            self.class_weights = None\n",
    "\n",
    "    def __len__(self):\n",
    "        # return len()\n",
    "        return len(self.img_paths) // self.batch_size\n",
    "\n",
    "    def __getitem__(self, index):\n",
    "        # batch_y = train_labels[idx:idx+batch_size]\n",
    "        # batch_x = self.load_and_preprocess_function()\n",
    "        # return (batch_x, batch_y)\n",
    "        # pass\n",
    "        # Generate indexes of the batch\n",
    "        # indexes = self.indexes[index*self.batch_size:(index+1)*self.batch_size]\n",
    "        \n",
    "        batch_idx_start = index * self.batch_size\n",
    "        batch_idx_end = batch_idx_start + batch_size\n",
    "        batch_indices = self.indices[batch_idx_start: batch_idx_end]\n",
    "\n",
    "        img_paths = [self.img_paths[i] for i in batch_indices]\n",
    "        # Should it be (B,) or (B,1)?\n",
    "        y = np.array([self.img_labels[i] for i in batch_indices])\n",
    "\n",
    "        # Generate data\n",
    "        X = np.array([self.prep_image(ip) for ip in img_paths])\n",
    "\n",
    "        return X, y\n",
    "\n",
    "    \n",
    "    def _get_paths_and_counts(self):\n",
    "        self.class_paths = {v: glob(f\"{self.datapath}/{k}/*.{self.file_ext}\") for k, v in self.class_labels.items()}\n",
    "        self.class_counts = {c: len(pn) for c, pn in self.class_paths.items()}\n",
    "        for k, v in self.class_paths.items():\n",
    "            # Paths to each image\n",
    "            self.img_paths.extend(v)\n",
    "            # Associate labels with each image path\n",
    "            self.img_labels.extend(list(np.repeat(k, len(v))))\n",
    "    \n",
    "    def on_epoch_end(self):\n",
    "        # self.indices = np.arange(len(self.list_IDs))\n",
    "        # if self.shuffle == True:\n",
    "        #     print(\"Shuffling...\")\n",
    "        #     np.random.shuffle(self.indexes)\n",
    "        self.indices = np.arange(len(self.img_paths), dtype=np.uint)\n",
    "        if self.shuffle == True:\n",
    "            print(\"shuffling\")\n",
    "            self.rs.shuffle(self.indices)\n",
    "\n",
    "    def prep_image(self, path):\n",
    "        img = cv2.imread(path, cv2.IMREAD_ANYDEPTH)\n",
    "        # img = load_img(path, target_size=self.img_shape, color_mode=\"grayscale\", interpolation=\"lanczos\")\n",
    "        img = prep.min_max_(cv2.resize(img, self.img_shape, cv2.INTER_LANCZOS4).astype(np.float32), 0, 1, defs.TIF_MIN, defs.TIF_MAX)\n",
    "        # return np.stack([img, img, img], axis=-1)\n",
    "        return np.repeat(img[:, :, np.newaxis], 3, axis=2)\n",
    "        # return img"
   ]
  },
  {
   "cell_type": "code",
   "execution_count": 75,
   "id": "5d89ed15-f0c8-4469-946c-f0c0e6cbb628",
   "metadata": {},
   "outputs": [],
   "source": [
    "train_datagen = InvasionDataGenerator(f\"{root_data_path}/train\", 32, resnet_inp_shape[:2], class_labels, rs)"
   ]
  },
  {
   "cell_type": "code",
   "execution_count": 76,
   "id": "d4c06277-1d1e-4558-a0f9-29bb913d11fc",
   "metadata": {
    "tags": []
   },
   "outputs": [],
   "source": [
    "Xi, yi = train_datagen[1]"
   ]
  },
  {
   "cell_type": "code",
   "execution_count": 77,
   "id": "56677487-e653-42b6-9ad7-891d6602f1fe",
   "metadata": {
    "collapsed": true,
    "jupyter": {
     "outputs_hidden": true
    },
    "tags": []
   },
   "outputs": [
    {
     "data": {
      "text/plain": [
       "<matplotlib.image.AxesImage at 0x212de1b0f40>"
      ]
     },
     "execution_count": 77,
     "metadata": {},
     "output_type": "execute_result"
    },
    {
     "data": {
      "image/png": "[encoded data removed]",
      "text/plain": [
       "<Figure size 432x288 with 1 Axes>"
      ]
     },
     "metadata": {
      "needs_background": "light"
     },
     "output_type": "display_data"
    }
   ],
   "source": [
    "plt.imshow(Xi[0], cmap=\"gray\")"
   ]
  },
  {
   "cell_type": "code",
   "execution_count": null,
   "id": "a7242109-3526-4f9d-a5a3-e5731e382510",
   "metadata": {
    "tags": []
   },
   "outputs": [],
   "source": [
    "# train_datagen = ImageDataGenerator(\n",
    "#     horizontal_flip=True,\n",
    "#     vertical_flip=True,\n",
    "#     rotation_range=360,\n",
    "#     # Make sure to preprocess the same as the original model\n",
    "#     preprocessing_function=resnet50.preprocess_input,\n",
    "#     # preprocessing_function=rgb2gray2rbg_then_resnet50,\n",
    "#     validation_split=val_split\n",
    "# )\n",
    "# train_generator = train_datagen.flow_from_directory(\n",
    "#     f\"{root_data_path}/train\",\n",
    "#     target_size=resnet_inp_shape[:2],\n",
    "#     batch_size=batch_size,\n",
    "#     # Want uninfected to be labeled \"0\"\n",
    "#     classes=class_labels,\n",
    "#     class_mode=\"binary\",\n",
    "#     seed=seed,\n",
    "#     subset=\"training\"\n",
    "# )\n",
    "\n",
    "# val_generator = train_datagen.flow_from_directory(\n",
    "#     f\"{root_data_path}/train\",\n",
    "#     target_size=resnet_inp_shape[:2],\n",
    "#     batch_size=batch_size,\n",
    "#     classes=class_labels,\n",
    "#     class_mode=\"binary\",\n",
    "#     seed=seed,\n",
    "#     subset=\"validation\"\n",
    "# )"
   ]
  },
  {
   "cell_type": "markdown",
   "id": "f50e81cb-bfd6-4ac8-a36d-da6ca500c5f3",
   "metadata": {},
   "source": [
    "# Model"
   ]
  },
  {
   "cell_type": "code",
   "execution_count": null,
   "id": "b5bbe2fe-8e5b-4e69-a87d-81dcee513b00",
   "metadata": {},
   "outputs": [],
   "source": [
    "tl_model = models.build_ResNet50_TL(\n",
    "    n_outputs,\n",
    "    resnet_inp_shape,\n",
    "    # base_last_layer=\"conv5_block3_out\",\n",
    "    # base_last_layer=\"conv5_block2_out\",\n",
    "    # base_last_layer=\"conv5_block1_out\",\n",
    "    base_last_layer=\"conv4_block6_out\",\n",
    "    # base_last_layer=\"conv3_block4_out\",\n",
    "    # Switch to softmax once n_outputs > 1\n",
    "    output_act=\"sigmoid\",\n",
    "    base_model_trainable=False\n",
    ")\n",
    "tl_model.compile(optimizer=Adam(), loss=BinaryCrossentropy(), metrics=[BinaryAccuracy()])"
   ]
  },
  {
   "cell_type": "code",
   "execution_count": null,
   "id": "134be685-feda-4ef2-b1f3-e431dcf88233",
   "metadata": {},
   "outputs": [],
   "source": [
    "K.clear_session()"
   ]
  },
  {
   "cell_type": "code",
   "execution_count": null,
   "id": "c38e7b3e-8344-49f4-8c52-70d9ae017acd",
   "metadata": {},
   "outputs": [],
   "source": []
  }
 ],
 "metadata": {
  "kernelspec": {
   "display_name": "Python 3 (ipykernel)",
   "language": "python",
   "name": "python3"
  },
  "language_info": {
   "codemirror_mode": {
    "name": "ipython",
    "version": 3
   },
   "file_extension": ".py",
   "mimetype": "text/x-python",
   "name": "python",
   "nbconvert_exporter": "python",
   "pygments_lexer": "ipython3",
   "version": "3.9.10"
  }
 },
 "nbformat": 4,
 "nbformat_minor": 5
}
