{
  "nbformat": 4,
  "nbformat_minor": 0,
  "metadata": {
    "colab": {
      "provenance": [],
      "authorship_tag": "ABX9TyNU75hwSOG4YP9PIcEO18nt",
      "include_colab_link": true
    },
    "kernelspec": {
      "name": "python3",
      "display_name": "Python 3"
    },
    "language_info": {
      "name": "python"
    }
  },
  "cells": [
    {
      "cell_type": "markdown",
      "metadata": {
        "id": "view-in-github",
        "colab_type": "text"
      },
      "source": [
        "<a href=\"https://colab.research.google.com/github/fogg-lab/tissue-model-analysis-tools/blob/main/notebooks/cell_elongation.ipynb\" target=\"_parent\"><img src=\"https://colab.research.google.com/assets/colab-badge.svg\" alt=\"Open In Colab\"/></a>"
      ]
    },
    {
      "cell_type": "markdown",
      "source": [
        "## 1. Install tmat in the runtime and import packages"
      ],
      "metadata": {
        "id": "p7jr6V6COs6b"
      }
    },
    {
      "cell_type": "code",
      "source": [
        "!pip install -I fl_tissue_model_tools@git+https://github.com/fogg-lab/tissue-model-analysis-tools.git#subdirectory=src\n",
        "!tmat configure /content/fl_tissue_model_tools"
      ],
      "metadata": {
        "id": "Yl0ss3l4UVT-"
      },
      "execution_count": null,
      "outputs": []
    },
    {
      "cell_type": "code",
      "execution_count": null,
      "metadata": {
        "id": "ETzt4uhx_Ys2"
      },
      "outputs": [],
      "source": [
        "import json\n",
        "import csv\n",
        "from collections import defaultdict\n",
        "from ipywidgets import FileUpload, FloatSlider, Layout, interactive\n",
        "from IPython.display import display\n",
        "from PIL import Image\n",
        "import numpy as np\n",
        "import io\n",
        "from matplotlib import pyplot as plt\n",
        "from matplotlib.patches import Ellipse\n",
        "from matplotlib.colors import ListedColormap\n",
        "from skimage.morphology import disk, remove_small_objects\n",
        "from skimage.exposure import equalize_adapthist, rescale_intensity\n",
        "from skimage.filters import median, threshold_otsu\n",
        "from skimage.measure import label, regionprops\n",
        "\n",
        "from fl_tissue_model_tools.analysis import pixels_to_microns\n",
        "from fl_tissue_model_tools import script_util as su\n",
        "from fl_tissue_model_tools.well_mask_generation import generate_well_mask\n",
        "from fl_tissue_model_tools import helper, defs"
      ]
    },
    {
      "cell_type": "markdown",
      "source": [
        "## Configuration Constants"
      ],
      "metadata": {
        "id": "oB7o33hkSzv5"
      }
    },
    {
      "cell_type": "markdown",
      "source": [
        "## 2. Utilities"
      ],
      "metadata": {
        "id": "A6AVQ1gyPVUm"
      }
    },
    {
      "cell_type": "code",
      "source": [
        "# well width in microns\n",
        "WELL_WIDTH = 1000\n",
        "\n",
        "def get_well_mask(img: np.ndarray):\n",
        "    img_equalized = equalize_adapthist(img, clip_limit=0.03)\n",
        "    img_equalized = rescale_intensity(img_equalized, out_range=(0, 255)).astype(np.uint8)\n",
        "    well_mask = generate_well_mask(img_equalized, 0.05, return_superellipse_params=True)\n",
        "    if isinstance(well_mask, tuple):\n",
        "        well_mask = well_mask[0]\n",
        "    return well_mask\n",
        "\n",
        "def get_thresholded_image(img: np.ndarray):\n",
        "    # apply small amount of smoothing\n",
        "    med_img = median(img, disk(2))\n",
        "    # threshold image using Otsu method to find a global threshold value\n",
        "    thresh_val = threshold_otsu(med_img)\n",
        "    thresh_img = med_img > thresh_val\n",
        "    return thresh_img\n",
        "\n",
        "def label_elongated_cells(img_thresh: np.ndarray, max_circularity: float, min_solidity: float,\n",
        "                          min_particle_size: int, min_length: int, max_length: int):\n",
        "    \"\"\"Identify elongated cells given the binary mask and particle shape parameters.\n",
        "\n",
        "    Returns:\n",
        "        np.ndarray: A label image of the elongated cell regions.\n",
        "        dict: Properties of each elongated cell (length, centroid, and orientation), keyed by label.\n",
        "    \"\"\"\n",
        "    img_thresh_filt = remove_small_objects(img_thresh.astype(np.bool_), min_size=min_particle_size)\n",
        "    labeled_components = label(img_thresh_filt)\n",
        "    region_properties = regionprops(labeled_components)\n",
        "\n",
        "    # Get labeled components\n",
        "    cell_lengths = []\n",
        "    regions_to_skip = set()\n",
        "    for region in region_properties:\n",
        "        region_circle_area = np.pi * (region.axis_major_length / 2)**2\n",
        "        circularity = region.area_convex / region_circle_area\n",
        "        region_length_microns = pixels_to_microns(region.axis_major_length, img_thresh.shape[1],\n",
        "                                                  WELL_WIDTH)\n",
        "        if (\n",
        "            circularity > max_circularity\n",
        "            or region.euler_number != 1\n",
        "            or region.solidity < min_solidity\n",
        "            or region_length_microns < min_length\n",
        "            or region_length_microns > max_length\n",
        "        ):\n",
        "            regions_to_skip.add(region.label)\n",
        "            label_mask = labeled_components==region.label\n",
        "            labeled_components[label_mask] = 0\n",
        "\n",
        "    # Get elongated cells properties\n",
        "    cell_properties = defaultdict(dict)\n",
        "    for region in region_properties:\n",
        "        if region.label in regions_to_skip:\n",
        "            continue\n",
        "        cell_properties[region.label]['length'] = region.axis_major_length\n",
        "        cell_properties[region.label]['width'] = region.axis_minor_length\n",
        "        cell_properties[region.label]['centroid'] = region.centroid\n",
        "        cell_properties[region.label]['orientation'] = region.orientation\n",
        "\n",
        "    return labeled_components, cell_properties\n",
        "\n",
        "def process_img_and_display(img_rgb: np.ndarray, img_thresh: np.ndarray, max_circularity: float,\n",
        "                            min_solidity: float, min_particle_size: int, min_length: int,\n",
        "                            max_length: int):\n",
        "    labeled_components, cell_properties = label_elongated_cells(img_thresh, max_circularity,\n",
        "                                                                min_solidity, min_particle_size,\n",
        "                                                                min_length, max_length)\n",
        "    cells_mask = (img_thresh & (labeled_components != 0))\n",
        "    red_overlay = np.zeros((cells_mask.shape) + (3,), dtype=np.uint8)\n",
        "    red_overlay[..., 0] = cells_mask * 255\n",
        "\n",
        "    plt.figure(figsize=(8, 8))\n",
        "    plt.imshow(img_rgb)\n",
        "    plt.imshow(red_overlay, alpha=0.5, cmap='Reds')\n",
        "    num_cells = len(cell_properties)\n",
        "    avg_cell_len = sum(cell['length'] for cell in cell_properties.values()) / max(num_cells, 1)\n",
        "    avg_cell_len = pixels_to_microns(avg_cell_len, img_rgb.shape[1], 1000)\n",
        "    plt.title(f\"Elongated cells: {num_cells}. Avg length: {avg_cell_len:.2f}µm\")\n",
        "    plt.axis('off')\n",
        "    plt.tight_layout()\n",
        "    plt.show()"
      ],
      "metadata": {
        "id": "0xbBiEQvAAmn"
      },
      "execution_count": null,
      "outputs": []
    },
    {
      "cell_type": "markdown",
      "source": [
        "## 3. Upload an image\n",
        "**Run the next cell, press the button to upload an image, then run the cell after it.**"
      ],
      "metadata": {
        "id": "j8P5MaOZOwRt"
      }
    },
    {
      "cell_type": "code",
      "source": [
        "upload = FileUpload(accept='image/*', multiple=False)\n",
        "display(upload)"
      ],
      "metadata": {
        "id": "kANsNGiO_civ"
      },
      "execution_count": null,
      "outputs": []
    },
    {
      "cell_type": "code",
      "source": [
        "if upload.value:\n",
        "    uploaded_file = next(iter(upload.value.values()))\n",
        "    image = np.array(Image.open(io.BytesIO(uploaded_file['content'])))\n",
        "    print(\"Uploaded image:\")\n",
        "    plt.figure(figsize=(4, 4))\n",
        "    plt.imshow(image, cmap='gray')\n",
        "    plt.axis('off')\n",
        "    plt.tight_layout()\n",
        "    plt.show()\n",
        "else:\n",
        "    print(\"Upload an image with the button under the previous cell.\"\n",
        "          \"Then re-run this cell.\")"
      ],
      "metadata": {
        "id": "IozOWRp0__g7"
      },
      "execution_count": null,
      "outputs": []
    },
    {
      "cell_type": "markdown",
      "source": [
        "## Create Well Mask and Threshold"
      ],
      "metadata": {
        "id": "a_igRISUSyws"
      }
    },
    {
      "cell_type": "code",
      "source": [
        "image_255 = rescale_intensity(image, out_range=(0, 255)).round().astype(np.uint8)\n",
        "image_rgb = np.stack((image_255,) * 3, axis=-1)\n",
        "img_thresh = get_thresholded_image(image)\n",
        "well_mask = get_well_mask(image)\n",
        "img_thresh_masked = img_thresh & well_mask\n",
        "\n",
        "fig, axs = plt.subplots(2, 2, figsize=(20, 20))\n",
        "for ax in axs.flat:\n",
        "    ax.axis('off')\n",
        "\n",
        "axs[0, 0].imshow(image, cmap='gray')\n",
        "axs[0, 0].set_title('Original Image', fontsize=20)\n",
        "axs[0, 1].imshow(well_mask, cmap='gray')\n",
        "axs[0, 1].set_title('Well Mask', fontsize=20)\n",
        "axs[1, 0].imshow(img_thresh, cmap='gray')\n",
        "axs[1, 0].set_title('Thresholded', fontsize=20)\n",
        "axs[1, 1].imshow(img_thresh_masked, cmap='gray')\n",
        "axs[1, 1].set_title('Masked & Thresholded', fontsize=20)\n",
        "\n",
        "plt.tight_layout()\n",
        "plt.show()"
      ],
      "metadata": {
        "id": "3RYlE5ZmYUk3"
      },
      "execution_count": null,
      "outputs": []
    },
    {
      "cell_type": "markdown",
      "source": [
        "## Interactive Widget\n",
        "\n",
        "1. Run the cell\n",
        "2. Wait for the image to load\n",
        "3. Drag and release sliders to change the display. It might take 5 or so seconds to update the display after you move and release the slider.\n",
        "\n",
        "### Settings\n",
        "- **Max circularity**: This is the most important parameter, controls how much blobness to allow\n",
        "- **Min solidity**: Not as important. Setting this higher filters out shapes with gaps, crevices or folds\n",
        "- **Min particle size**: Controls how small of an object to filter out. The unit is pixels\n",
        "- **Min length**: Minimum length (μm)\n",
        "- **Max length**: Maximum length (μm)"
      ],
      "metadata": {
        "id": "aa9NeqXxSF4o"
      }
    },
    {
      "cell_type": "code",
      "source": [
        "def update_figure(max_circularity: float, min_solidity: float,\n",
        "                  min_particle_size: int, min_length: int, max_length: int):\n",
        "    process_img_and_display(image_rgb, img_thresh_masked, max_circularity, min_solidity,\n",
        "                            min_particle_size, min_length, max_length)\n",
        "\n",
        "slider_style = {'description_width': 'initial'}\n",
        "slider_layout = Layout(width='600px')\n",
        "particle_size_slider = FloatSlider(value=130, min=30, max=300, step=10,\n",
        "                                   description='Min particle size:', continuous_update=False,\n",
        "                                   style=slider_style, layout=slider_layout, readout=True)\n",
        "max_circularity_slider = FloatSlider(value=0.4, min=0.0, max=1.0, step=0.025,\n",
        "                                     description='Max circularity:', continuous_update=False,\n",
        "                                     style=slider_style, layout=slider_layout, readout=True)\n",
        "min_solidity_slider = FloatSlider(value=0.5, min=0.0, max=1.0, step=0.025,\n",
        "                                  description='Min solidity:', continuous_update=False,\n",
        "                                  style=slider_style, layout=slider_layout, readout=True)\n",
        "min_length_slider = FloatSlider(value=0, min=0, max=200, step=1,\n",
        "                                description='Min length:', continuous_update=False,\n",
        "                                style=slider_style, layout=slider_layout, readout=True)\n",
        "max_length_slider = FloatSlider(value=200, min=0, max=200, step=1,\n",
        "                                description='Max length:', continuous_update=False,\n",
        "                                style=slider_style, layout=slider_layout, readout=True)\n",
        "\n",
        "interactive(update_figure,\n",
        "            max_circularity=max_circularity_slider,\n",
        "            min_solidity=min_solidity_slider,\n",
        "            min_particle_size=particle_size_slider,\n",
        "            min_length=min_length_slider,\n",
        "            max_length=max_length_slider)"
      ],
      "metadata": {
        "id": "OARAMbryRCA4"
      },
      "execution_count": null,
      "outputs": []
    },
    {
      "cell_type": "code",
      "source": [],
      "metadata": {
        "id": "e-5hX2dYPOY-"
      },
      "execution_count": null,
      "outputs": []
    }
  ]
}