{
 "cells": [
  {
   "cell_type": "code",
   "execution_count": 1,
   "id": "4e3fda67-1c96-4e76-b714-c4553b840390",
   "metadata": {},
   "outputs": [],
   "source": [
    "import json\n",
    "import multiprocessing"
   ]
  },
  {
   "cell_type": "code",
   "execution_count": 2,
   "id": "34f8a8c0-1821-4639-b8a3-031341d0d00f",
   "metadata": {},
   "outputs": [
    {
     "data": {
      "text/plain": [
       "16"
      ]
     },
     "execution_count": 2,
     "metadata": {},
     "output_type": "execute_result"
    }
   ],
   "source": [
    "n_cores = multiprocessing.cpu_count()\n",
    "n_cores"
   ]
  },
  {
   "cell_type": "code",
   "execution_count": 4,
   "id": "26c06c6c-a3d2-4df5-9b22-5880930e07e3",
   "metadata": {},
   "outputs": [],
   "source": [
    "from fl_tissue_model_tools import data_prep, dev_config, models, defs\n",
    "import fl_tissue_model_tools.preprocessing as prep"
   ]
  },
  {
   "cell_type": "code",
   "execution_count": 5,
   "id": "265b2045-c3a3-410a-ba3d-924364c085b9",
   "metadata": {},
   "outputs": [],
   "source": [
    "dirs = dev_config.get_dev_directories(\"../dev_paths.txt\")"
   ]
  },
  {
   "cell_type": "markdown",
   "id": "9f83bf99-aba4-4667-a925-c6709628c61e",
   "metadata": {
    "tags": []
   },
   "source": [
    "# Set up model training parameters"
   ]
  },
  {
   "cell_type": "code",
   "execution_count": 6,
   "id": "6b0ea7ff-8c20-494e-b789-66caa1027bc4",
   "metadata": {},
   "outputs": [],
   "source": [
    "with open(\"../model_training/invasion_depth_training_values.json\", 'r') as fp:\n",
    "    training_values = json.load(fp)\n",
    "training_values[\"rs_seed\"] = None if (training_values[\"rs_seed\"] == \"None\") else training_values[\"rs_seed\"]"
   ]
  },
  {
   "cell_type": "code",
   "execution_count": 7,
   "id": "6219e343-6dd0-4914-9ebb-71ead115e741",
   "metadata": {},
   "outputs": [],
   "source": [
    "with open(\"../model_training/invasion_depth_best_hp.json\", 'r') as fp:\n",
    "    best_hp = json.load(fp)"
   ]
  },
  {
   "cell_type": "code",
   "execution_count": 8,
   "id": "83441480-eb57-46c2-bc64-73e1471fa291",
   "metadata": {},
   "outputs": [
    {
     "data": {
      "text/plain": [
       "{'adam_beta_1': 0.9066466810625207,\n",
       " 'adam_beta_2': 0.9947698608592066,\n",
       " 'fine_tune_lr': 9.141354728081903e-05,\n",
       " 'frozen_lr': 0.00022767552973325001,\n",
       " 'last_resnet_layer': 'conv5_block1_out'}"
      ]
     },
     "execution_count": 8,
     "metadata": {},
     "output_type": "execute_result"
    }
   ],
   "source": [
    "best_hp"
   ]
  },
  {
   "cell_type": "code",
   "execution_count": 10,
   "id": "1de6e2f8-c3ee-417e-9594-57c810017bc2",
   "metadata": {},
   "outputs": [],
   "source": [
    "root_data_path = f\"{dirs.data_dir}/invasion_data/development\"\n",
    "model_training_path = f\"{dirs.analysis_dir}/resnet50_invasion_model\" \n",
    "\n",
    "\n",
    "### Model building & training parameters ###\n",
    "resnet_inp_shape = (128, 128, 3)\n",
    "class_labels = {\"no_invasion\": 0, \"invasion\": 1}\n",
    "\n",
    "# Binary classification -> only need 1 output unit\n",
    "n_outputs = 1\n",
    "seed = training_values[\"rs_seed\"]\n",
    "val_split = training_values[\"val_split\"]\n",
    "batch_size = training_values[\"batch_size\"]\n",
    "frozen_epochs = training_values[\"frozen_epochs\"]\n",
    "fine_tune_epochs = training_values[\"fine_tune_epochs\"]\n",
    "adam_beta_1 = best_hp[\"adam_beta_1\"]\n",
    "adam_beta_2 = best_hp[\"adam_beta_2\"]\n",
    "frozen_lr = best_hp[\"frozen_lr\"]\n",
    "fine_tune_lr = best_hp[\"fine_tune_lr\"]\n",
    "last_resnet_layer = best_hp[\"last_resnet_layer\"]\n",
    "\n",
    "\n",
    "### Early stopping ###\n",
    "es_criterion = \"val_loss\"\n",
    "es_mode = \"min\"\n",
    "# Update these depending on seriousness of experiment\n",
    "es_patience = training_values[\"early_stopping_patience\"]\n",
    "es_min_delta = training_values[\"early_stopping_min_delta\"]\n",
    "\n",
    "\n",
    "### Model saving ###\n",
    "mcp_criterion = \"val_loss\"\n",
    "mcp_mode = \"min\"\n",
    "mcp_best_only = True\n",
    "# Need to set to True otherwise base model \"layer\" won't save/load properly\n",
    "mcp_weights_only = True"
   ]
  },
  {
   "cell_type": "markdown",
   "id": "709deb25-98f6-4e7a-b2c7-46c1b86232f3",
   "metadata": {},
   "source": [
    "# Train ensemble of models using best hyperparameters"
   ]
  },
  {
   "cell_type": "code",
   "execution_count": 11,
   "id": "62452aee-5e8e-4eb5-bb3e-0d0412e84916",
   "metadata": {},
   "outputs": [],
   "source": [
    "n_models = 5"
   ]
  },
  {
   "cell_type": "code",
   "execution_count": null,
   "id": "c1edb48e-6e79-47a9-a80e-acdaf3b22b1a",
   "metadata": {},
   "outputs": [],
   "source": []
  }
 ],
 "metadata": {
  "kernelspec": {
   "display_name": "Python 3 (ipykernel)",
   "language": "python",
   "name": "python3"
  },
  "language_info": {
   "codemirror_mode": {
    "name": "ipython",
    "version": 3
   },
   "file_extension": ".py",
   "mimetype": "text/x-python",
   "name": "python",
   "nbconvert_exporter": "python",
   "pygments_lexer": "ipython3",
   "version": "3.9.10"
  }
 },
 "nbformat": 4,
 "nbformat_minor": 5
}
