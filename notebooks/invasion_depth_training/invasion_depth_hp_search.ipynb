{
 "cells": [
  {
   "cell_type": "code",
   "execution_count": null,
   "id": "e163c156-c2b6-4ea3-8656-8e18a81e2867",
   "metadata": {
    "scrolled": true
   },
   "outputs": [],
   "source": [
    "import numpy as np\n",
    "import keras_tuner as kt\n",
    "import json\n",
    "import multiprocessing\n",
    "import os\n",
    "import subprocess\n",
    "\n",
    "#CONDA_PREFIX = os.environ['CONDA_PREFIX']\n",
    "#CUDA_PATH='/usr/local/apps/cuda/11.2'\n",
    "#os.environ[\"LD_LIBRARY_PATH\"] = f'{CONDA_PREFIX}/lib/'\n",
    "#os.environ['CUDA_PATH']=CUDA_PATH\n",
    "#os.environ['XLA_FLAGS']=f'--xla_gpu_cuda_data_dir={CUDA_PATH}'\n",
    "\n",
    "from glob import glob\n",
    "from tensorflow.keras.losses import BinaryCrossentropy\n",
    "from tensorflow.keras.metrics import BinaryAccuracy"
   ]
  },
  {
   "cell_type": "code",
   "execution_count": 5,
   "id": "4e905a33",
   "metadata": {},
   "outputs": [
    {
     "name": "stderr",
     "output_type": "stream",
     "text": [
      "\n",
      "Currently Loaded Modules:\n",
      "  1) slurm/22.05   2) cuda/11.2\n",
      "\n",
      " \n",
      "\n"
     ]
    },
    {
     "data": {
      "text/plain": [
       "b''"
      ]
     },
     "execution_count": 5,
     "metadata": {},
     "output_type": "execute_result"
    }
   ],
   "source": [
    "subprocess.check_output('module load cuda/11.2;module list', shell=True)"
   ]
  },
  {
   "cell_type": "code",
   "execution_count": 4,
   "id": "e9be2ac4",
   "metadata": {},
   "outputs": [
    {
     "name": "stderr",
     "output_type": "stream",
     "text": [
      "\n",
      "Currently Loaded Modules:\n",
      "  1) slurm/22.05\n",
      "\n",
      " \n",
      "\n"
     ]
    },
    {
     "data": {
      "text/plain": [
       "b''"
      ]
     },
     "execution_count": 4,
     "metadata": {},
     "output_type": "execute_result"
    }
   ],
   "source": [
    "subprocess.check_output('module list', shell=True)"
   ]
  },
  {
   "cell_type": "code",
   "execution_count": 6,
   "id": "24cf85f1-84e1-440f-8ea0-e9d49871f408",
   "metadata": {},
   "outputs": [],
   "source": [
    "from fl_tissue_model_tools import data_prep, dev_config, models, helper\n",
    "import fl_tissue_model_tools.preprocessing as prep"
   ]
  },
  {
   "cell_type": "code",
   "execution_count": 7,
   "id": "a51c7707",
   "metadata": {},
   "outputs": [],
   "source": [
    "import tensorflow as tf"
   ]
  },
  {
   "cell_type": "code",
   "execution_count": 8,
   "id": "f890cc4f",
   "metadata": {},
   "outputs": [
    {
     "name": "stdout",
     "output_type": "stream",
     "text": [
      "[]\n"
     ]
    },
    {
     "name": "stderr",
     "output_type": "stream",
     "text": [
      "2022-12-23 15:13:55.859455: W tensorflow/compiler/xla/stream_executor/platform/default/dso_loader.cc:64] Could not load dynamic library 'libcudart.so.11.0'; dlerror: libcudart.so.11.0: cannot open shared object file: No such file or directory; LD_LIBRARY_PATH: /nfs/hpc/share/wigginno/.conda/envs/tissue-model-analysis/lib/python3.10/site-packages/cv2/../../../../lib:/apps/slurm/22.05/lib:/nfs/hpc/share/wigginno/.conda/envs/tissue-model-analysis/lib/\n",
      "2022-12-23 15:13:55.860559: W tensorflow/compiler/xla/stream_executor/platform/default/dso_loader.cc:64] Could not load dynamic library 'libcublas.so.11'; dlerror: libcublas.so.11: cannot open shared object file: No such file or directory; LD_LIBRARY_PATH: /nfs/hpc/share/wigginno/.conda/envs/tissue-model-analysis/lib/python3.10/site-packages/cv2/../../../../lib:/apps/slurm/22.05/lib:/nfs/hpc/share/wigginno/.conda/envs/tissue-model-analysis/lib/\n",
      "2022-12-23 15:13:55.860644: W tensorflow/compiler/xla/stream_executor/platform/default/dso_loader.cc:64] Could not load dynamic library 'libcublasLt.so.11'; dlerror: libcublasLt.so.11: cannot open shared object file: No such file or directory; LD_LIBRARY_PATH: /nfs/hpc/share/wigginno/.conda/envs/tissue-model-analysis/lib/python3.10/site-packages/cv2/../../../../lib:/apps/slurm/22.05/lib:/nfs/hpc/share/wigginno/.conda/envs/tissue-model-analysis/lib/\n",
      "2022-12-23 15:13:55.860718: W tensorflow/compiler/xla/stream_executor/platform/default/dso_loader.cc:64] Could not load dynamic library 'libcufft.so.10'; dlerror: libcufft.so.10: cannot open shared object file: No such file or directory; LD_LIBRARY_PATH: /nfs/hpc/share/wigginno/.conda/envs/tissue-model-analysis/lib/python3.10/site-packages/cv2/../../../../lib:/apps/slurm/22.05/lib:/nfs/hpc/share/wigginno/.conda/envs/tissue-model-analysis/lib/\n",
      "2022-12-23 15:13:55.860791: W tensorflow/compiler/xla/stream_executor/platform/default/dso_loader.cc:64] Could not load dynamic library 'libcurand.so.10'; dlerror: libcurand.so.10: cannot open shared object file: No such file or directory; LD_LIBRARY_PATH: /nfs/hpc/share/wigginno/.conda/envs/tissue-model-analysis/lib/python3.10/site-packages/cv2/../../../../lib:/apps/slurm/22.05/lib:/nfs/hpc/share/wigginno/.conda/envs/tissue-model-analysis/lib/\n",
      "2022-12-23 15:13:55.860862: W tensorflow/compiler/xla/stream_executor/platform/default/dso_loader.cc:64] Could not load dynamic library 'libcusolver.so.11'; dlerror: libcusolver.so.11: cannot open shared object file: No such file or directory; LD_LIBRARY_PATH: /nfs/hpc/share/wigginno/.conda/envs/tissue-model-analysis/lib/python3.10/site-packages/cv2/../../../../lib:/apps/slurm/22.05/lib:/nfs/hpc/share/wigginno/.conda/envs/tissue-model-analysis/lib/\n",
      "2022-12-23 15:13:55.860932: W tensorflow/compiler/xla/stream_executor/platform/default/dso_loader.cc:64] Could not load dynamic library 'libcusparse.so.11'; dlerror: libcusparse.so.11: cannot open shared object file: No such file or directory; LD_LIBRARY_PATH: /nfs/hpc/share/wigginno/.conda/envs/tissue-model-analysis/lib/python3.10/site-packages/cv2/../../../../lib:/apps/slurm/22.05/lib:/nfs/hpc/share/wigginno/.conda/envs/tissue-model-analysis/lib/\n",
      "2022-12-23 15:13:55.861002: W tensorflow/compiler/xla/stream_executor/platform/default/dso_loader.cc:64] Could not load dynamic library 'libcudnn.so.8'; dlerror: libcudnn.so.8: cannot open shared object file: No such file or directory; LD_LIBRARY_PATH: /nfs/hpc/share/wigginno/.conda/envs/tissue-model-analysis/lib/python3.10/site-packages/cv2/../../../../lib:/apps/slurm/22.05/lib:/nfs/hpc/share/wigginno/.conda/envs/tissue-model-analysis/lib/\n",
      "2022-12-23 15:13:55.861026: W tensorflow/core/common_runtime/gpu/gpu_device.cc:1934] Cannot dlopen some GPU libraries. Please make sure the missing libraries mentioned above are installed properly if you would like to use GPU. Follow the guide at https://www.tensorflow.org/install/gpu for how to download and setup the required libraries for your platform.\n",
      "Skipping registering GPU devices...\n"
     ]
    }
   ],
   "source": [
    "print(tf.config.list_physical_devices('GPU'))"
   ]
  },
  {
   "cell_type": "code",
   "execution_count": 3,
   "id": "ac79ea72-84da-46b1-a6ec-beb5507a1338",
   "metadata": {},
   "outputs": [
    {
     "data": {
      "text/plain": [
       "96"
      ]
     },
     "execution_count": 3,
     "metadata": {},
     "output_type": "execute_result"
    }
   ],
   "source": [
    "n_cores = multiprocessing.cpu_count()\n",
    "n_cores"
   ]
  },
  {
   "cell_type": "code",
   "execution_count": 4,
   "id": "bfd46026-ce1b-4726-98be-268228f26a7f",
   "metadata": {},
   "outputs": [],
   "source": [
    "dirs = dev_config.get_dev_directories()"
   ]
  },
  {
   "cell_type": "markdown",
   "id": "ca56347f-f950-4d97-8dc2-ad3d43f92b2d",
   "metadata": {
    "tags": []
   },
   "source": [
    "# Set up model training parameters"
   ]
  },
  {
   "cell_type": "code",
   "execution_count": 5,
   "id": "f7ef9418-5c38-4007-b066-2aedea83a043",
   "metadata": {},
   "outputs": [],
   "source": [
    "with open(\"../model_training/invasion_depth_training_values.json\", 'r') as fp:\n",
    "    training_values = json.load(fp)\n",
    "training_values[\"rs_seed\"] = None if (training_values[\"rs_seed\"] == \"None\") else training_values[\"rs_seed\"]"
   ]
  },
  {
   "cell_type": "code",
   "execution_count": 6,
   "id": "a28d96dc-899c-4b6b-8a8c-f6e91dd57d33",
   "metadata": {},
   "outputs": [
    {
     "data": {
      "text/plain": [
       "{'batch_size': 32,\n",
       " 'frozen_epochs': 50,\n",
       " 'fine_tune_epochs': 50,\n",
       " 'val_split': 0.2,\n",
       " 'early_stopping_patience': 25,\n",
       " 'early_stopping_min_delta': 0.0001,\n",
       " 'rs_seed': None,\n",
       " 'resnet_inp_shape': [256, 256, 3],\n",
       " 'class_labels': {'no_invasion': 0, 'invasion': 1},\n",
       " 'cls_thresh': 0.5,\n",
       " 'n_models': 5}"
      ]
     },
     "execution_count": 6,
     "metadata": {},
     "output_type": "execute_result"
    }
   ],
   "source": [
    "training_values"
   ]
  },
  {
   "cell_type": "code",
   "execution_count": 7,
   "id": "3e72e63d-dd2a-4479-a076-5991a3d25570",
   "metadata": {},
   "outputs": [],
   "source": [
    "with open(\"../model_training/invasion_depth_hp_space.json\", 'r') as fp:\n",
    "       hp_search_space = json.load(fp)"
   ]
  },
  {
   "cell_type": "code",
   "execution_count": 8,
   "id": "4fffcc43-cd25-4d57-9342-14b02a597d66",
   "metadata": {},
   "outputs": [
    {
     "data": {
      "text/plain": [
       "{'adam_beta_1_range': [0.8, 0.99],\n",
       " 'adam_beta_2_range': [0.98, 0.999],\n",
       " 'frozen_lr_range': [0.0001, 0.01],\n",
       " 'fine_tune_lr_range': [1e-05, 0.001],\n",
       " 'last_layer_options': ['conv5_block3_out',\n",
       "  'conv5_block2_out',\n",
       "  'conv5_block1_out',\n",
       "  'conv4_block6_out'],\n",
       " 'num_initial_points': 25,\n",
       " 'max_opt_trials': 50}"
      ]
     },
     "execution_count": 8,
     "metadata": {},
     "output_type": "execute_result"
    }
   ],
   "source": [
    "hp_search_space"
   ]
  },
  {
   "cell_type": "code",
   "execution_count": 9,
   "id": "ecbe3936-f8b5-42b9-bed1-b2b9d3a82e89",
   "metadata": {},
   "outputs": [],
   "source": [
    "### Data paths ###\n",
    "root_data_path = f\"{dirs.data_dir}/invasion_data/\"\n",
    "model_training_path = f\"{dirs.analysis_dir}/resnet50_invasion_model\"\n",
    "project_name = \"invasion_hp_trials\"\n",
    "hypermodel_name = \"invasion_depth_hypermodel\"\n",
    "hp_search_hp_path = f\"{model_training_path}/hyperparameter_search_hps\"\n",
    "hp_search_weights_path = f\"{model_training_path}/hyperparameter_search_weights\"\n",
    "best_hp_file = f\"{hp_search_hp_path}/best_hyperparams_v1.json\"\n",
    "mcp_best_frozen_weights_file = f\"{hp_search_weights_path}/best_frozen_weights.h5\"\n",
    "\n",
    "\n",
    "### General training parameters ###\n",
    "resnet_inp_shape = tuple(training_values[\"resnet_inp_shape\"])\n",
    "class_labels = training_values[\"class_labels\"]\n",
    "# Binary classification -> only need 1 output unit\n",
    "n_outputs = 1\n",
    "\n",
    "seed = training_values[\"rs_seed\"]\n",
    "val_split = training_values[\"val_split\"]\n",
    "batch_size = training_values[\"batch_size\"]\n",
    "frozen_epochs = training_values[\"frozen_epochs\"]\n",
    "fine_tune_epochs = training_values[\"fine_tune_epochs\"]\n",
    "# frozen_epochs = 5\n",
    "# fine_tune_epochs = 5\n",
    "\n",
    "\n",
    "### Early stopping ###\n",
    "es_criterion = \"val_loss\"\n",
    "es_mode = \"min\"\n",
    "# Update these depending on seriousness of experiment\n",
    "es_patience = training_values[\"early_stopping_patience\"]\n",
    "es_min_delta = training_values[\"early_stopping_min_delta\"]\n",
    "\n",
    "\n",
    "### Frozen model saving (for transitioning from frozen model to fine-tuned model) ###\n",
    "mcp_criterion = \"val_loss\"\n",
    "mcp_mode = \"min\"\n",
    "\n",
    "\n",
    "### Hyperparameter search ###\n",
    "adam_beta_1_range = tuple(hp_search_space[\"adam_beta_1_range\"])\n",
    "adam_beta_2_range = tuple(hp_search_space[\"adam_beta_2_range\"])\n",
    "frozen_lr_range = tuple(hp_search_space[\"frozen_lr_range\"])\n",
    "fine_tune_lr_range = tuple(hp_search_space[\"fine_tune_lr_range\"])\n",
    "last_layer_options = hp_search_space[\"last_layer_options\"]\n",
    "num_initial_points = hp_search_space[\"num_initial_points\"]\n",
    "max_opt_trials = hp_search_space[\"max_opt_trials\"]\n",
    "# num_initial_points = 3\n",
    "# max_opt_trials = 5"
   ]
  },
  {
   "cell_type": "code",
   "execution_count": 10,
   "id": "1fe5aa69-f9b9-4687-824e-bae3cb6f5f45",
   "metadata": {},
   "outputs": [],
   "source": [
    "os.makedirs(hp_search_hp_path, exist_ok=True)\n",
    "os.makedirs(hp_search_weights_path, exist_ok=True)"
   ]
  },
  {
   "cell_type": "markdown",
   "id": "26c21059-6c18-4abd-a94c-44349e2fe109",
   "metadata": {},
   "source": [
    "# Prep for loading data"
   ]
  },
  {
   "cell_type": "code",
   "execution_count": 11,
   "id": "8caa4f7f-2215-4905-b89e-43096914c1c2",
   "metadata": {},
   "outputs": [],
   "source": [
    "rs = np.random.RandomState(seed)"
   ]
  },
  {
   "cell_type": "code",
   "execution_count": 12,
   "id": "7a08b199-eaa1-4b43-9285-c393d62dfc70",
   "metadata": {},
   "outputs": [],
   "source": [
    "# Training & validation data (drawn from same image set & randomly assigned)\n",
    "tv_class_paths = {v: glob(f\"{root_data_path}/train/{k}/*.tif\") for k, v in class_labels.items()}\n",
    "for k, v in tv_class_paths.items():\n",
    "    rs.shuffle(v)"
   ]
  },
  {
   "cell_type": "code",
   "execution_count": 13,
   "id": "8fd35277-1e8d-4b7a-a2b3-f56f30ad4a26",
   "metadata": {},
   "outputs": [],
   "source": [
    "train_data_paths, val_data_paths = data_prep.get_train_val_split(tv_class_paths, val_split=val_split)"
   ]
  },
  {
   "cell_type": "markdown",
   "id": "39e7f6a9-89f8-45a5-ac6e-554e346899d2",
   "metadata": {
    "tags": []
   },
   "source": [
    "# Datasets"
   ]
  },
  {
   "cell_type": "code",
   "execution_count": 14,
   "id": "95b1724f-cf16-4676-8201-0b31d99b83a5",
   "metadata": {},
   "outputs": [],
   "source": [
    "train_datagen = data_prep.InvasionDataGenerator(\n",
    "    train_data_paths,\n",
    "    class_labels,\n",
    "    batch_size,\n",
    "    resnet_inp_shape[:2],\n",
    "    rs,\n",
    "    class_weights=True,\n",
    "    shuffle=True,\n",
    "    augmentation_function=prep.augment_invasion_imgs\n",
    ")"
   ]
  },
  {
   "cell_type": "code",
   "execution_count": 15,
   "id": "802d3a3e-599c-4d07-9cf7-be7541085d9a",
   "metadata": {},
   "outputs": [
    {
     "data": {
      "text/plain": [
       "{0: 678, 1: 119}"
      ]
     },
     "execution_count": 15,
     "metadata": {},
     "output_type": "execute_result"
    }
   ],
   "source": [
    "train_datagen.class_counts"
   ]
  },
  {
   "cell_type": "code",
   "execution_count": 16,
   "id": "771ae4d6-afcd-4e00-a8b2-46e4bc4e923b",
   "metadata": {},
   "outputs": [
    {
     "data": {
      "text/plain": [
       "{0: 0.5877581120943953, 1: 3.3487394957983194}"
      ]
     },
     "execution_count": 16,
     "metadata": {},
     "output_type": "execute_result"
    }
   ],
   "source": [
    "train_datagen.class_weights"
   ]
  },
  {
   "cell_type": "code",
   "execution_count": 17,
   "id": "ee483bff-6868-4975-aeba-92be98ad03ed",
   "metadata": {},
   "outputs": [],
   "source": [
    "val_datagen = data_prep.InvasionDataGenerator(\n",
    "    val_data_paths,\n",
    "    class_labels,\n",
    "    batch_size,\n",
    "    resnet_inp_shape[:2],\n",
    "    rs,\n",
    "    class_weights=train_datagen.class_weights,\n",
    "    shuffle=True,\n",
    "    augmentation_function=train_datagen.augmentation_function\n",
    ")"
   ]
  },
  {
   "cell_type": "code",
   "execution_count": 18,
   "id": "b4aa256d-818e-4ea0-8e1e-762e1b8028bd",
   "metadata": {},
   "outputs": [
    {
     "data": {
      "text/plain": [
       "{0: 170, 1: 30}"
      ]
     },
     "execution_count": 18,
     "metadata": {},
     "output_type": "execute_result"
    }
   ],
   "source": [
    "val_datagen.class_counts"
   ]
  },
  {
   "cell_type": "markdown",
   "id": "72a9d52c-d555-4a80-8c0a-f2b689d028dd",
   "metadata": {
    "tags": []
   },
   "source": [
    "# Build hyper model"
   ]
  },
  {
   "cell_type": "code",
   "execution_count": 19,
   "id": "aefdcc39-2c1b-4d59-9a8a-23ae0819a73e",
   "metadata": {
    "collapsed": true,
    "jupyter": {
     "outputs_hidden": true
    }
   },
   "outputs": [
    {
     "name": "stderr",
     "output_type": "stream",
     "text": [
      "2022-12-23 14:46:02.225299: W tensorflow/compiler/xla/stream_executor/platform/default/dso_loader.cc:64] Could not load dynamic library 'libcudart.so.11.0'; dlerror: libcudart.so.11.0: cannot open shared object file: No such file or directory; LD_LIBRARY_PATH: /nfs/hpc/share/wigginno/.conda/envs/tissue-model-analysis/lib/python3.10/site-packages/cv2/../../../../lib:/apps/slurm/22.05/lib\n",
      "2022-12-23 14:46:02.226116: W tensorflow/compiler/xla/stream_executor/platform/default/dso_loader.cc:64] Could not load dynamic library 'libcublas.so.11'; dlerror: libcublas.so.11: cannot open shared object file: No such file or directory; LD_LIBRARY_PATH: /nfs/hpc/share/wigginno/.conda/envs/tissue-model-analysis/lib/python3.10/site-packages/cv2/../../../../lib:/apps/slurm/22.05/lib\n",
      "2022-12-23 14:46:02.226385: W tensorflow/compiler/xla/stream_executor/platform/default/dso_loader.cc:64] Could not load dynamic library 'libcublasLt.so.11'; dlerror: libcublasLt.so.11: cannot open shared object file: No such file or directory; LD_LIBRARY_PATH: /nfs/hpc/share/wigginno/.conda/envs/tissue-model-analysis/lib/python3.10/site-packages/cv2/../../../../lib:/apps/slurm/22.05/lib\n",
      "2022-12-23 14:46:02.226614: W tensorflow/compiler/xla/stream_executor/platform/default/dso_loader.cc:64] Could not load dynamic library 'libcufft.so.10'; dlerror: libcufft.so.10: cannot open shared object file: No such file or directory; LD_LIBRARY_PATH: /nfs/hpc/share/wigginno/.conda/envs/tissue-model-analysis/lib/python3.10/site-packages/cv2/../../../../lib:/apps/slurm/22.05/lib\n",
      "2022-12-23 14:46:02.226841: W tensorflow/compiler/xla/stream_executor/platform/default/dso_loader.cc:64] Could not load dynamic library 'libcurand.so.10'; dlerror: libcurand.so.10: cannot open shared object file: No such file or directory; LD_LIBRARY_PATH: /nfs/hpc/share/wigginno/.conda/envs/tissue-model-analysis/lib/python3.10/site-packages/cv2/../../../../lib:/apps/slurm/22.05/lib\n",
      "2022-12-23 14:46:02.227053: W tensorflow/compiler/xla/stream_executor/platform/default/dso_loader.cc:64] Could not load dynamic library 'libcusolver.so.11'; dlerror: libcusolver.so.11: cannot open shared object file: No such file or directory; LD_LIBRARY_PATH: /nfs/hpc/share/wigginno/.conda/envs/tissue-model-analysis/lib/python3.10/site-packages/cv2/../../../../lib:/apps/slurm/22.05/lib\n",
      "2022-12-23 14:46:02.227261: W tensorflow/compiler/xla/stream_executor/platform/default/dso_loader.cc:64] Could not load dynamic library 'libcusparse.so.11'; dlerror: libcusparse.so.11: cannot open shared object file: No such file or directory; LD_LIBRARY_PATH: /nfs/hpc/share/wigginno/.conda/envs/tissue-model-analysis/lib/python3.10/site-packages/cv2/../../../../lib:/apps/slurm/22.05/lib\n",
      "2022-12-23 14:46:02.227464: W tensorflow/compiler/xla/stream_executor/platform/default/dso_loader.cc:64] Could not load dynamic library 'libcudnn.so.8'; dlerror: libcudnn.so.8: cannot open shared object file: No such file or directory; LD_LIBRARY_PATH: /nfs/hpc/share/wigginno/.conda/envs/tissue-model-analysis/lib/python3.10/site-packages/cv2/../../../../lib:/apps/slurm/22.05/lib\n",
      "2022-12-23 14:46:02.227489: W tensorflow/core/common_runtime/gpu/gpu_device.cc:1934] Cannot dlopen some GPU libraries. Please make sure the missing libraries mentioned above are installed properly if you would like to use GPU. Follow the guide at https://www.tensorflow.org/install/gpu for how to download and setup the required libraries for your platform.\n",
      "Skipping registering GPU devices...\n",
      "2022-12-23 14:46:02.228125: I tensorflow/core/platform/cpu_feature_guard.cc:193] This TensorFlow binary is optimized with oneAPI Deep Neural Network Library (oneDNN) to use the following CPU instructions in performance-critical operations:  AVX2 AVX512F FMA\n",
      "To enable them in other operations, rebuild TensorFlow with the appropriate compiler flags.\n"
     ]
    }
   ],
   "source": [
    "hypermodel = models.ResNet50TLHyperModel(\n",
    "    n_outputs=n_outputs,\n",
    "    img_shape=resnet_inp_shape,\n",
    "    loss=BinaryCrossentropy(),\n",
    "    weighted_metrics=[BinaryAccuracy()],\n",
    "    name=hypermodel_name,\n",
    "    output_act=\"sigmoid\",\n",
    "    adam_beta_1_range=adam_beta_1_range,\n",
    "    adam_beta_2_range=adam_beta_2_range,\n",
    "    frozen_lr_range=frozen_lr_range,\n",
    "    fine_tune_lr_range=fine_tune_lr_range,\n",
    "    frozen_epochs=frozen_epochs,\n",
    "    fine_tune_epochs=fine_tune_epochs,\n",
    "    base_model_name=\"base_model\",\n",
    "    # EarlyStopping callback parameters\n",
    "    es_criterion=es_criterion,\n",
    "    es_mode=es_mode,\n",
    "    es_patience=es_patience,\n",
    "    es_min_delta=es_min_delta,\n",
    "    # Frozen ModelCheckpoint callback parameters\n",
    "    mcp_criterion=mcp_criterion,\n",
    "    mcp_mode=mcp_mode,\n",
    "    mcp_best_frozen_weights_path=mcp_best_frozen_weights_file\n",
    ")"
   ]
  },
  {
   "cell_type": "code",
   "execution_count": 20,
   "id": "11e7db43",
   "metadata": {},
   "outputs": [
    {
     "name": "stdout",
     "output_type": "stream",
     "text": [
      "[]\n"
     ]
    }
   ],
   "source": [
    "import tensorflow as tf; print(tf.config.list_physical_devices('GPU'))"
   ]
  },
  {
   "cell_type": "code",
   "execution_count": 21,
   "id": "6854412d-5419-4fb2-a5b9-dcb024c6505f",
   "metadata": {},
   "outputs": [],
   "source": [
    "tuner = kt.BayesianOptimization(\n",
    "    hypermodel=hypermodel,\n",
    "    objective=\"val_loss\",\n",
    "    num_initial_points=num_initial_points,\n",
    "    max_trials=max_opt_trials,\n",
    "    seed=seed,\n",
    "    # directory=\"../model_training/\",\n",
    "    directory=model_training_path,\n",
    "    project_name=project_name\n",
    ")"
   ]
  },
  {
   "cell_type": "code",
   "execution_count": 22,
   "id": "af416279-927f-4d18-bf44-9742b91a1da2",
   "metadata": {
    "tags": []
   },
   "outputs": [
    {
     "name": "stdout",
     "output_type": "stream",
     "text": [
      "Trial 50 Complete [00h 08m 23s]\n",
      "val_loss: 0.21549305319786072\n",
      "\n",
      "Best val_loss So Far: 0.19290809333324432\n",
      "Total elapsed time: 06h 44m 13s\n",
      "INFO:tensorflow:Oracle triggered exit\n"
     ]
    }
   ],
   "source": [
    "# Cannot use external callbacks. Callbacks are defined inside the hypermodel's fit function\n",
    "tuner.search(\n",
    "    train_datagen,\n",
    "    validation_data=val_datagen,\n",
    "    workers=36\n",
    ")"
   ]
  },
  {
   "cell_type": "code",
   "execution_count": 23,
   "id": "82657343-20ae-455b-b122-84b759bb2ca9",
   "metadata": {
    "tags": []
   },
   "outputs": [
    {
     "name": "stdout",
     "output_type": "stream",
     "text": [
      "Results summary\n",
      "Results in /nfs/stak/users/cookcar/hpc-share/fogg_lab_analysis/resnet50_invasion_model/invasion_hp_trials\n",
      "Showing 10 best trials\n",
      "<keras_tuner.engine.objective.Objective object at 0x2b2ff8cd2970>\n",
      "Trial summary\n",
      "Hyperparameters:\n",
      "last_resnet_layer: conv5_block1_out\n",
      "frozen_lr: 0.00023296415902195254\n",
      "adam_beta_1: 0.8690806056354333\n",
      "adam_beta_2: 0.9817045929249536\n",
      "fine_tune_lr: 4.837200625807212e-05\n",
      "Score: 0.19290809333324432\n",
      "Trial summary\n",
      "Hyperparameters:\n",
      "last_resnet_layer: conv5_block2_out\n",
      "frozen_lr: 0.00695461878420833\n",
      "adam_beta_1: 0.9164616012708694\n",
      "adam_beta_2: 0.992845865126449\n",
      "fine_tune_lr: 1.0869955378279433e-05\n",
      "Score: 0.19577443599700928\n",
      "Trial summary\n",
      "Hyperparameters:\n",
      "last_resnet_layer: conv5_block3_out\n",
      "frozen_lr: 0.00037464381329162526\n",
      "adam_beta_1: 0.8352069226681756\n",
      "adam_beta_2: 0.981236038221177\n",
      "fine_tune_lr: 1.03699753028074e-05\n",
      "Score: 0.19703063368797302\n",
      "Trial summary\n",
      "Hyperparameters:\n",
      "last_resnet_layer: conv5_block3_out\n",
      "frozen_lr: 0.009801011964790135\n",
      "adam_beta_1: 0.9711093553420982\n",
      "adam_beta_2: 0.9925358648256517\n",
      "fine_tune_lr: 1.6320968750683035e-05\n",
      "Score: 0.1978842318058014\n",
      "Trial summary\n",
      "Hyperparameters:\n",
      "last_resnet_layer: conv5_block2_out\n",
      "frozen_lr: 0.00036635348276099127\n",
      "adam_beta_1: 0.8507341631085389\n",
      "adam_beta_2: 0.98\n",
      "fine_tune_lr: 1e-05\n",
      "Score: 0.2094699740409851\n",
      "Trial summary\n",
      "Hyperparameters:\n",
      "last_resnet_layer: conv5_block2_out\n",
      "frozen_lr: 0.00041591910137339676\n",
      "adam_beta_1: 0.8575351720070364\n",
      "adam_beta_2: 0.98\n",
      "fine_tune_lr: 5.355749032985033e-05\n",
      "Score: 0.21549305319786072\n",
      "Trial summary\n",
      "Hyperparameters:\n",
      "last_resnet_layer: conv5_block1_out\n",
      "frozen_lr: 0.0008403088791427891\n",
      "adam_beta_1: 0.9225812880255856\n",
      "adam_beta_2: 0.980135609439355\n",
      "fine_tune_lr: 2.4633804565953346e-05\n",
      "Score: 0.2256212830543518\n",
      "Trial summary\n",
      "Hyperparameters:\n",
      "last_resnet_layer: conv5_block3_out\n",
      "frozen_lr: 0.001649014941320522\n",
      "adam_beta_1: 0.9238802097921455\n",
      "adam_beta_2: 0.981304952127987\n",
      "fine_tune_lr: 6.023588532722681e-05\n",
      "Score: 0.22571776807308197\n",
      "Trial summary\n",
      "Hyperparameters:\n",
      "last_resnet_layer: conv5_block2_out\n",
      "frozen_lr: 0.01\n",
      "adam_beta_1: 0.9140565597100974\n",
      "adam_beta_2: 0.9969219307462271\n",
      "fine_tune_lr: 1e-05\n",
      "Score: 0.22784098982810974\n",
      "Trial summary\n",
      "Hyperparameters:\n",
      "last_resnet_layer: conv5_block3_out\n",
      "frozen_lr: 0.0001\n",
      "adam_beta_1: 0.8455477277993506\n",
      "adam_beta_2: 0.98\n",
      "fine_tune_lr: 1e-05\n",
      "Score: 0.2296082079410553\n"
     ]
    }
   ],
   "source": [
    "tuner.results_summary()"
   ]
  },
  {
   "cell_type": "code",
   "execution_count": 24,
   "id": "72e6dc90-e41d-4bbf-b3cc-693873dd3038",
   "metadata": {},
   "outputs": [],
   "source": [
    "best_hp = tuner.get_best_hyperparameters()[0]"
   ]
  },
  {
   "cell_type": "code",
   "execution_count": 25,
   "id": "770f9a45-dbc3-40be-ad08-98ab310e5ddb",
   "metadata": {},
   "outputs": [
    {
     "data": {
      "text/plain": [
       "{'last_resnet_layer': 'conv5_block1_out',\n",
       " 'frozen_lr': 0.00023296415902195254,\n",
       " 'adam_beta_1': 0.8690806056354333,\n",
       " 'adam_beta_2': 0.9817045929249536,\n",
       " 'fine_tune_lr': 4.837200625807212e-05}"
      ]
     },
     "execution_count": 25,
     "metadata": {},
     "output_type": "execute_result"
    }
   ],
   "source": [
    "best_hp.values"
   ]
  },
  {
   "cell_type": "code",
   "execution_count": 26,
   "id": "620cc9be-a2eb-447a-9606-95cdb752fa4b",
   "metadata": {},
   "outputs": [],
   "source": [
    "with open(best_hp_file, \"w\") as fp:\n",
    "    json.dump(best_hp.values, fp, sort_keys=True)"
   ]
  },
  {
   "cell_type": "code",
   "execution_count": null,
   "id": "e31c6642-21e1-482b-8ed1-ec0d3d1e4af4",
   "metadata": {},
   "outputs": [],
   "source": []
  }
 ],
 "metadata": {
  "kernelspec": {
   "display_name": "python (tma)",
   "language": "python",
   "name": "tissue-model-analysis"
  },
  "vscode": {
   "interpreter": {
    "hash": "5fe493d7086e060bd83ab2826abb23977a3ef9f33a74c8dd36bdc7df5a8ac5f3"
   }
  }
 },
 "nbformat": 4,
 "nbformat_minor": 5
}
