{
 "cells": [
  {
   "cell_type": "code",
   "execution_count": null,
   "id": "4e3fda67-1c96-4e76-b714-c4553b840390",
   "metadata": {},
   "outputs": [],
   "source": [
    "from glob import glob\n",
    "from copy import deepcopy\n",
    "import json\n",
    "import multiprocessing\n",
    "\n",
    "import tensorflow.keras.backend as K\n",
    "import numpy as np\n",
    "import pandas as pd\n",
    "\n",
    "from tensorflow.keras.optimizers import Adam\n",
    "from tensorflow.keras.losses import BinaryCrossentropy\n",
    "from tensorflow.keras.metrics import BinaryAccuracy\n",
    "from tensorflow.keras.callbacks import EarlyStopping, ModelCheckpoint"
   ]
  },
  {
   "cell_type": "code",
   "execution_count": null,
   "id": "26c06c6c-a3d2-4df5-9b22-5880930e07e3",
   "metadata": {},
   "outputs": [],
   "source": [
    "from fl_tissue_model_tools import data_prep, dev_config, models\n",
    "import fl_tissue_model_tools.preprocessing as prep"
   ]
  },
  {
   "cell_type": "code",
   "execution_count": null,
   "id": "34f8a8c0-1821-4639-b8a3-031341d0d00f",
   "metadata": {},
   "outputs": [],
   "source": [
    "n_cores = multiprocessing.cpu_count()\n",
    "n_workers = min(16, n_cores-1)"
   ]
  },
  {
   "cell_type": "code",
   "execution_count": null,
   "id": "265b2045-c3a3-410a-ba3d-924364c085b9",
   "metadata": {},
   "outputs": [],
   "source": [
    "dirs = dev_config.get_dev_directories()"
   ]
  },
  {
   "cell_type": "markdown",
   "id": "9f83bf99-aba4-4667-a925-c6709628c61e",
   "metadata": {
    "tags": []
   },
   "source": [
    "# Set up model training parameters"
   ]
  },
  {
   "cell_type": "code",
   "execution_count": null,
   "id": "6b0ea7ff-8c20-494e-b789-66caa1027bc4",
   "metadata": {},
   "outputs": [],
   "source": [
    "with open(\"../model_training/invasion_depth_training_values.json\", 'r') as fp:\n",
    "    training_values = json.load(fp)\n",
    "training_values[\"rs_seed\"] = None if (training_values[\"rs_seed\"] == \"None\") else training_values[\"rs_seed\"]"
   ]
  },
  {
   "cell_type": "code",
   "execution_count": null,
   "id": "0f239973-4a2f-4f06-9520-7fbd336681fc",
   "metadata": {},
   "outputs": [],
   "source": [
    "training_values"
   ]
  },
  {
   "cell_type": "code",
   "execution_count": null,
   "id": "6219e343-6dd0-4914-9ebb-71ead115e741",
   "metadata": {},
   "outputs": [],
   "source": [
    "with open(\"../model_training/invasion_depth_best_hp.json\", 'r') as fp:\n",
    "    best_hp = json.load(fp)"
   ]
  },
  {
   "cell_type": "code",
   "execution_count": null,
   "id": "83441480-eb57-46c2-bc64-73e1471fa291",
   "metadata": {},
   "outputs": [],
   "source": [
    "best_hp"
   ]
  },
  {
   "cell_type": "code",
   "execution_count": null,
   "id": "1de6e2f8-c3ee-417e-9594-57c810017bc2",
   "metadata": {},
   "outputs": [],
   "source": [
    "### Data paths ###\n",
    "root_data_path = f\"{dirs.data_dir}/invasion_data/\"\n",
    "model_training_path = f\"{dirs.analysis_dir}/resnet50_invasion_model\"\n",
    "best_ensemble_training_path = f\"{model_training_path}/best_ensemble\"\n",
    "\n",
    "\n",
    "### Model building & training parameters ###\n",
    "resnet_inp_shape = tuple(training_values[\"resnet_inp_shape\"])\n",
    "class_labels = training_values[\"class_labels\"]\n",
    "n_models = training_values[\"n_models\"]\n",
    "# Binary classification -> only need 1 output unit\n",
    "n_outputs = 1\n",
    "\n",
    "seed = training_values[\"rs_seed\"]\n",
    "val_split = training_values[\"val_split\"]\n",
    "batch_size = training_values[\"batch_size\"]\n",
    "frozen_epochs = training_values[\"frozen_epochs\"]\n",
    "fine_tune_epochs = training_values[\"fine_tune_epochs\"]\n",
    "# frozen_epochs = 5\n",
    "# fine_tune_epochs = 5\n",
    "adam_beta_1 = best_hp[\"adam_beta_1\"]\n",
    "adam_beta_2 = best_hp[\"adam_beta_2\"]\n",
    "frozen_lr = best_hp[\"frozen_lr\"]\n",
    "fine_tune_lr = best_hp[\"fine_tune_lr\"]\n",
    "last_resnet_layer = best_hp[\"last_resnet_layer\"]\n",
    "\n",
    "\n",
    "### Early stopping ###\n",
    "es_criterion = \"val_loss\"\n",
    "es_mode = \"min\"\n",
    "# Update these depending on seriousness of experiment\n",
    "es_patience = training_values[\"early_stopping_patience\"]\n",
    "es_min_delta = training_values[\"early_stopping_min_delta\"]\n",
    "\n",
    "\n",
    "### Model saving ###\n",
    "mcp_criterion = \"val_loss\"\n",
    "mcp_mode = \"min\"\n",
    "mcp_best_only = True\n",
    "# Need to set to True otherwise base model \"layer\" won't save/load properly\n",
    "mcp_weights_only = True"
   ]
  },
  {
   "cell_type": "code",
   "execution_count": null,
   "id": "cf43b5cd-c723-4bdd-9823-0cf4ccd07dfb",
   "metadata": {},
   "outputs": [],
   "source": [
    "data_prep.make_dir(best_ensemble_training_path)"
   ]
  },
  {
   "cell_type": "code",
   "execution_count": null,
   "id": "6ca7f862-2ab2-48a5-be82-f49ed56d09e7",
   "metadata": {},
   "outputs": [],
   "source": [
    "rs = np.random.RandomState(seed)"
   ]
  },
  {
   "cell_type": "markdown",
   "id": "709deb25-98f6-4e7a-b2c7-46c1b86232f3",
   "metadata": {},
   "source": [
    "# Train ensemble of models using best hyperparameters"
   ]
  },
  {
   "cell_type": "code",
   "execution_count": null,
   "id": "c1edb48e-6e79-47a9-a80e-acdaf3b22b1a",
   "metadata": {
    "scrolled": true,
    "tags": []
   },
   "outputs": [],
   "source": [
    "for model_idx in range(n_models):\n",
    "    print(f\"Training model {model_idx}...\")\n",
    "    ### Prepare data (each model should be trained on a randomly assigned train/validation set) ###\n",
    "    # Training & validation data (drawn from same image set & randomly assigned)\n",
    "    tv_class_paths = {v: glob(f\"{root_data_path}/train/{k}/*.tif\") for k, v in class_labels.items()}\n",
    "    mcp_best_frozen_weights_file = f\"{best_ensemble_training_path}/best_frozen_weights_{model_idx}.h5\"\n",
    "    mcp_best_finetune_weights_file = f\"{best_ensemble_training_path}/best_finetune_weights_{model_idx}.h5\"\n",
    "\n",
    "    for k, v in tv_class_paths.items():\n",
    "        rs.shuffle(v)\n",
    "\n",
    "    train_data_paths, val_data_paths = data_prep.get_train_val_split(tv_class_paths, val_split=val_split)\n",
    "\n",
    "\n",
    "    ### Build datasets ###\n",
    "    train_datagen = data_prep.InvasionDataGenerator(\n",
    "        train_data_paths,\n",
    "        class_labels,\n",
    "        batch_size,\n",
    "        resnet_inp_shape[:2],\n",
    "        rs,\n",
    "        class_weights=True,\n",
    "        shuffle=True,\n",
    "        augmentation_function=prep.augment_invasion_imgs\n",
    "    )\n",
    "    val_datagen = data_prep.InvasionDataGenerator(\n",
    "        val_data_paths,\n",
    "        class_labels,\n",
    "        batch_size,\n",
    "        resnet_inp_shape[:2],\n",
    "        rs,\n",
    "        class_weights=train_datagen.class_weights,\n",
    "        shuffle=True,\n",
    "        augmentation_function=train_datagen.augmentation_function\n",
    "    )\n",
    "\n",
    "\n",
    "    ### Build model ###\n",
    "    K.clear_session()\n",
    "    tl_model = models.build_ResNet50_TL(\n",
    "        n_outputs,\n",
    "        resnet_inp_shape,\n",
    "        base_last_layer=last_resnet_layer,\n",
    "        base_model_trainable=False\n",
    "    )\n",
    "\n",
    "\n",
    "    ### Frozen training ###\n",
    "    tl_model.compile(\n",
    "        optimizer=Adam(learning_rate=frozen_lr, beta_1=adam_beta_1, beta_2=adam_beta_2),\n",
    "        loss=BinaryCrossentropy(),\n",
    "        weighted_metrics=[BinaryAccuracy()]\n",
    "    )\n",
    "\n",
    "    es_callback = EarlyStopping(monitor=es_criterion, mode=es_mode, min_delta=es_min_delta, patience=es_patience)\n",
    "    mcp_callback = ModelCheckpoint(mcp_best_frozen_weights_file, monitor=mcp_criterion, mode=mcp_mode, save_best_only=mcp_best_only, save_weights_only=mcp_weights_only)\n",
    "\n",
    "    h1 = tl_model.fit(\n",
    "        train_datagen,\n",
    "        validation_data=val_datagen,\n",
    "        epochs=frozen_epochs,\n",
    "        callbacks=[es_callback, mcp_callback],\n",
    "        workers=n_workers\n",
    "    )\n",
    "\n",
    "    ### Finetune training ###\n",
    "    # Load best frozen weights before fine tuning\n",
    "    tl_model.load_weights(mcp_best_frozen_weights_file)\n",
    "    # Make base model trainable\n",
    "    models.toggle_TL_freeze(tl_model)\n",
    "    tl_model.compile(\n",
    "        optimizer=Adam(learning_rate=fine_tune_lr, beta_1=adam_beta_1, beta_2=adam_beta_2),\n",
    "        loss=BinaryCrossentropy(),\n",
    "        weighted_metrics=[BinaryAccuracy()]\n",
    "    )\n",
    "\n",
    "    es_callback = EarlyStopping(monitor=es_criterion, mode=es_mode, min_delta=es_min_delta, patience=es_patience)\n",
    "    mcp_callback = ModelCheckpoint(mcp_best_finetune_weights_file, monitor=mcp_criterion, mode=mcp_mode, save_best_only=mcp_best_only, save_weights_only=mcp_weights_only)\n",
    "\n",
    "    h2 = tl_model.fit(\n",
    "        train_datagen,\n",
    "        validation_data=val_datagen,\n",
    "        epochs=fine_tune_epochs,\n",
    "        callbacks=[es_callback, mcp_callback],\n",
    "        workers=n_workers\n",
    "    )\n",
    "\n",
    "\n",
    "    ### Save results for comparison later ###\n",
    "    h1_df = pd.DataFrame(h1.history)\n",
    "    h1_df[\"training_stage\"] = [\"frozen\"] * len(h1.epoch)\n",
    "\n",
    "    h2_df = pd.DataFrame(h2.history)\n",
    "    h2_df[\"training_stage\"] = [\"finetune\"] * len(h2.epoch)\n",
    "\n",
    "    h_df = pd.concat([h1_df, h2_df], axis=0, ignore_index=True)\n",
    "\n",
    "    h_df.to_csv(f\"{best_ensemble_training_path}/best_model_history_{model_idx}.csv\", index=False)"
   ]
  },
  {
   "cell_type": "markdown",
   "id": "07e85086",
   "metadata": {},
   "source": [
    "# Look at history"
   ]
  },
  {
   "cell_type": "code",
   "execution_count": null,
   "id": "33ac9444",
   "metadata": {},
   "outputs": [],
   "source": [
    "# for model_idx in range(n_models):\n",
    "# model_idx = 0\n",
    "for model_idx in range(n_models):\n",
    "    print(f\"Model {model_idx} results: \")\n",
    "    h_df = pd.read_csv(f\"{best_ensemble_training_path}/best_model_history_{model_idx}.csv\")\n",
    "    ft_h_df = h_df.query(\"training_stage=='finetune'\")\n",
    "    print(f\"Best train loss: {ft_h_df.loss.min()}\")\n",
    "    print(f\"Best train acc: {ft_h_df.binary_accuracy.max()}\")\n",
    "    print(f\"Best val loss: {ft_h_df.val_loss.min()}\")\n",
    "    print(f\"Best val acc: {ft_h_df.val_binary_accuracy.max()}\")\n",
    "    print()"
   ]
  }
 ],
 "metadata": {
  "kernelspec": {
   "display_name": "Python 3",
   "language": "python",
   "name": "python3"
  },
  "language_info": {
   "codemirror_mode": {
    "name": "ipython",
    "version": 3
   },
   "file_extension": ".py",
   "mimetype": "text/x-python",
   "name": "python",
   "nbconvert_exporter": "python",
   "pygments_lexer": "ipython3",
   "version": "3.10.8 (main, Nov 24 2022, 14:13:03) [GCC 11.2.0]"
  },
  "vscode": {
   "interpreter": {
    "hash": "21df0082d0d50eb093fb0e3ce30146890e8d79b1f6d3ec3c232b4f8d158b0b8b"
   }
  }
 },
 "nbformat": 4,
 "nbformat_minor": 5
}
