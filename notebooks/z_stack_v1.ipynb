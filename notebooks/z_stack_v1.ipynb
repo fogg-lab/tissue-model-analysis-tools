{
 "cells": [
  {
   "cell_type": "code",
   "execution_count": 1,
   "id": "b929f895-ec51-4591-bb09-9e36b5584e45",
   "metadata": {},
   "outputs": [],
   "source": [
    "import cv2\n",
    "import re\n",
    "import time\n",
    "import numpy as np\n",
    "import dask as d\n",
    "import matplotlib.pyplot as plt\n",
    "\n",
    "from glob import glob"
   ]
  },
  {
   "cell_type": "code",
   "execution_count": 2,
   "id": "746fdfc7-8278-476f-896a-9056c8454d5e",
   "metadata": {},
   "outputs": [],
   "source": [
    "from fl_tissue_model_tools import dev_config, defs, data_prep\n",
    "from fl_tissue_model_tools import preprocessing as prep\n",
    "from fl_tissue_model_tools import zstacks as zs"
   ]
  },
  {
   "cell_type": "code",
   "execution_count": 3,
   "id": "cfc0bd92-8e59-40fa-ab3e-eca54dae0f83",
   "metadata": {},
   "outputs": [],
   "source": [
    "dirs = dev_config.get_dev_directories(\"../dev_paths.txt\")"
   ]
  },
  {
   "cell_type": "code",
   "execution_count": 4,
   "id": "cf11899c-d586-442b-b3a8-7e73a02ee87b",
   "metadata": {},
   "outputs": [],
   "source": [
    "z_stack_data_dir = f\"{dirs.data_dir}/z_projection\"\n",
    "z_proj_output_dir = f\"{dirs.figures_dir}/2022_04_07_z_projection\""
   ]
  },
  {
   "cell_type": "code",
   "execution_count": 5,
   "id": "6c3f86d6-f1ce-4f87-a8a7-fd775dbf7d8b",
   "metadata": {},
   "outputs": [],
   "source": [
    "data_prep.make_dir(z_proj_output_dir)"
   ]
  },
  {
   "cell_type": "code",
   "execution_count": 6,
   "id": "dd548cf3-4bb8-4846-92db-03e635a72e1b",
   "metadata": {},
   "outputs": [],
   "source": [
    "z_ids = [\"A1\", \"A2\"]"
   ]
  },
  {
   "cell_type": "code",
   "execution_count": 8,
   "id": "95aa71ef-0d3a-4f58-a3e2-83acac448b88",
   "metadata": {},
   "outputs": [],
   "source": [
    "def get_zstack(z_id, ext, descending):\n",
    "    z_paths, z_stack = zs.z_stack_from_dir(f\"{z_stack_data_dir}/{z_id}\", ext, descending)\n",
    "    z_stack = prep.min_max_(z_stack, defs.GS_MIN, defs.GS_MAX, defs.TIF_MIN, defs.TIF_MAX)\n",
    "    return z_paths, z_stack\n",
    "\n",
    "\n",
    "def compute_all_projections(z_stack, z_id):\n",
    "    fs_proj = zs.proj_focus_stacking(z_stack, axis=0, kernel_size=5)\n",
    "    avg_proj = zs.proj_avg(z_stack, axis=0)\n",
    "    med_proj = zs.proj_med(z_stack, axis=0)\n",
    "    min_proj = zs.proj_min(z_stack, axis=0)\n",
    "    max_proj = zs.proj_max(z_stack, axis=0)\n",
    "    return {\"fs\": fs_proj, \"avg\": avg_proj, \"med\": med_proj, \"min\": min_proj, \"max\": max_proj}"
   ]
  },
  {
   "cell_type": "code",
   "execution_count": 27,
   "id": "106e61c1-0e5e-4d98-bae5-69be97087d4a",
   "metadata": {},
   "outputs": [],
   "source": [
    "a = np.array([1.1, 2.1])"
   ]
  },
  {
   "cell_type": "code",
   "execution_count": 41,
   "id": "85bcb57f-44f5-4474-98c7-98a5b915e272",
   "metadata": {},
   "outputs": [
    {
     "data": {
      "text/plain": [
       "True"
      ]
     },
     "execution_count": 41,
     "metadata": {},
     "output_type": "execute_result"
    }
   ],
   "source": [
    "import numbers\n",
    "issubclass(np.uint8, numbers.Integral)"
   ]
  },
  {
   "cell_type": "code",
   "execution_count": 30,
   "id": "db8331ac-d267-45e1-a9e1-5b861ad17e39",
   "metadata": {},
   "outputs": [
    {
     "data": {
      "text/plain": [
       "False"
      ]
     },
     "execution_count": 30,
     "metadata": {},
     "output_type": "execute_result"
    }
   ],
   "source": [
    "isinstance(a.dtype.kind, np.floating)"
   ]
  },
  {
   "cell_type": "code",
   "execution_count": null,
   "id": "5965865d-ba20-4660-98c1-89b7dca082c7",
   "metadata": {},
   "outputs": [],
   "source": [
    "# {z_1: (z_paths, z_stack), z_2: (z_paths, z_stack), ...}\n",
    "z_stacks = d.compute(\n",
    "    d.delayed({z_id: get_zstack(z_id, \"tif\", True) for z_id in z_ids})\n",
    ")[0]"
   ]
  },
  {
   "cell_type": "code",
   "execution_count": null,
   "id": "64e64957-e8e3-44f6-912b-c9726bc6f0ee",
   "metadata": {},
   "outputs": [],
   "source": [
    "z_projections = d.compute(\n",
    "    d.delayed({z_id: compute_all_projections(z_stacks[z_id][1], z_id) for z_id in z_ids})\n",
    ")[0]"
   ]
  },
  {
   "cell_type": "markdown",
   "id": "195d081d-f8cd-4a89-ae60-b586f07694dc",
   "metadata": {
    "tags": []
   },
   "source": [
    "# Visualize"
   ]
  },
  {
   "cell_type": "code",
   "execution_count": null,
   "id": "28c1bcea-e434-4da3-906d-052b82cdedbf",
   "metadata": {},
   "outputs": [],
   "source": [
    "def show_well(proj, cmap=\"gray\", vmin=defs.GS_MIN, vmax=defs.GS_MAX, h=8, w=8):\n",
    "    plt.figure(figsize=(h, w))\n",
    "    plt.imshow(proj, cmap=cmap, vmin=vmin, vmax=vmax)\n",
    "    plt.show()"
   ]
  },
  {
   "cell_type": "code",
   "execution_count": null,
   "id": "b90dcd89-405f-4be1-acb0-edb78734f35a",
   "metadata": {},
   "outputs": [],
   "source": [
    "target_id = \"A1\""
   ]
  },
  {
   "cell_type": "markdown",
   "id": "583ef7e0-0617-40e7-a42e-d8c9480ba53e",
   "metadata": {},
   "source": [
    "## Focus stacking"
   ]
  },
  {
   "cell_type": "code",
   "execution_count": null,
   "id": "0f6bed06-f761-4b97-a7ff-6c0143f981ef",
   "metadata": {},
   "outputs": [],
   "source": [
    "show_well(z_projections[target_id][\"fs\"])"
   ]
  },
  {
   "cell_type": "markdown",
   "id": "0f610dc4-2898-4283-896e-2ea769fcc960",
   "metadata": {
    "tags": []
   },
   "source": [
    "## Average"
   ]
  },
  {
   "cell_type": "code",
   "execution_count": null,
   "id": "f8c2d936-f384-4c78-b75d-1ba7ec23913b",
   "metadata": {
    "tags": []
   },
   "outputs": [],
   "source": [
    "show_well(z_projections[target_id][\"avg\"])"
   ]
  },
  {
   "cell_type": "markdown",
   "id": "4412c20c-0899-4f15-aeee-3be517a27e07",
   "metadata": {},
   "source": [
    "## Median"
   ]
  },
  {
   "cell_type": "code",
   "execution_count": null,
   "id": "4580e840-24c4-43a8-bf7e-1bad8c6d703d",
   "metadata": {
    "tags": []
   },
   "outputs": [],
   "source": [
    "show_well(z_projections[target_id][\"med\"])"
   ]
  },
  {
   "cell_type": "markdown",
   "id": "64e1ce36-6c6e-4ce6-acc0-586e4e10c3f9",
   "metadata": {
    "tags": []
   },
   "source": [
    "## Min"
   ]
  },
  {
   "cell_type": "code",
   "execution_count": null,
   "id": "3fac811b-0359-4454-97b9-6a6cd6575be9",
   "metadata": {
    "tags": []
   },
   "outputs": [],
   "source": [
    "show_well(z_projections[target_id][\"min\"])"
   ]
  },
  {
   "cell_type": "markdown",
   "id": "5660965a-0310-4472-95b0-1571f4e67081",
   "metadata": {},
   "source": [
    "## Max"
   ]
  },
  {
   "cell_type": "code",
   "execution_count": null,
   "id": "afc78ca1-6c45-4555-9dfb-c928b5e35edf",
   "metadata": {
    "tags": []
   },
   "outputs": [],
   "source": [
    "show_well(z_projections[target_id][\"max\"])"
   ]
  },
  {
   "cell_type": "markdown",
   "id": "66b7b423-20d7-4a3f-aee1-e0a3fdcf7da7",
   "metadata": {},
   "source": [
    "# Save results"
   ]
  },
  {
   "cell_type": "code",
   "execution_count": null,
   "id": "367c2776-d1af-4a40-8767-8e619753a6f5",
   "metadata": {
    "tags": []
   },
   "outputs": [],
   "source": [
    "for zid, zps in z_projections.items():\n",
    "    for zp_type, zp in zps.items():\n",
    "        cv2.imwrite(\n",
    "            f\"{z_proj_output_dir}/{zid}_{zp_type}.tif\",\n",
    "            prep.min_max_(zp, defs.TIF_MIN, defs.TIF_MAX, defs.GS_MIN, defs.GS_MAX).astype(np.uint16)\n",
    "        )"
   ]
  }
 ],
 "metadata": {
  "kernelspec": {
   "display_name": "Python 3 (ipykernel)",
   "language": "python",
   "name": "python3"
  },
  "language_info": {
   "codemirror_mode": {
    "name": "ipython",
    "version": 3
   },
   "file_extension": ".py",
   "mimetype": "text/x-python",
   "name": "python",
   "nbconvert_exporter": "python",
   "pygments_lexer": "ipython3",
   "version": "3.9.10"
  }
 },
 "nbformat": 4,
 "nbformat_minor": 5
}
