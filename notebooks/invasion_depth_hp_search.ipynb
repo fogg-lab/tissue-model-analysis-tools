{
 "cells": [
  {
   "cell_type": "code",
   "execution_count": 1,
   "id": "e163c156-c2b6-4ea3-8656-8e18a81e2867",
   "metadata": {},
   "outputs": [],
   "source": [
    "import numpy as np\n",
    "import dask as d\n",
    "import cv2\n",
    "import matplotlib.pyplot as plt\n",
    "import keras_tuner as kt\n",
    "import json\n",
    "import multiprocessing\n",
    "import os\n",
    "\n",
    "from glob import glob\n",
    "from tensorflow import data\n",
    "from tensorflow.keras import Sequential, Input, Model\n",
    "from tensorflow.keras.layers import Dense, Flatten, GlobalAveragePooling2D, Softmax\n",
    "from tensorflow.keras.optimizers import Adam\n",
    "from tensorflow.keras.losses import BinaryCrossentropy\n",
    "from tensorflow.keras.metrics import BinaryAccuracy\n",
    "from tensorflow.keras.utils import Sequence\n",
    "from tensorflow.keras.callbacks import EarlyStopping, ModelCheckpoint\n",
    "from tensorflow.keras.applications import resnet50\n",
    "\n",
    "from tensorflow.keras.utils import to_categorical\n",
    "from tensorflow.keras.preprocessing.image import ImageDataGenerator"
   ]
  },
  {
   "cell_type": "code",
   "execution_count": 2,
   "id": "24cf85f1-84e1-440f-8ea0-e9d49871f408",
   "metadata": {},
   "outputs": [],
   "source": [
    "from fl_tissue_model_tools import data_prep, dev_config, models, defs\n",
    "import fl_tissue_model_tools.preprocessing as prep"
   ]
  },
  {
   "cell_type": "code",
   "execution_count": 3,
   "id": "ac79ea72-84da-46b1-a6ec-beb5507a1338",
   "metadata": {},
   "outputs": [
    {
     "data": {
      "text/plain": [
       "16"
      ]
     },
     "execution_count": 3,
     "metadata": {},
     "output_type": "execute_result"
    }
   ],
   "source": [
    "n_cores = multiprocessing.cpu_count()\n",
    "n_cores"
   ]
  },
  {
   "cell_type": "code",
   "execution_count": 4,
   "id": "bfd46026-ce1b-4726-98be-268228f26a7f",
   "metadata": {},
   "outputs": [],
   "source": [
    "dirs = dev_config.get_dev_directories(\"../dev_paths.txt\")"
   ]
  },
  {
   "cell_type": "markdown",
   "id": "ca56347f-f950-4d97-8dc2-ad3d43f92b2d",
   "metadata": {
    "tags": []
   },
   "source": [
    "# Set up model training parameters"
   ]
  },
  {
   "cell_type": "code",
   "execution_count": 5,
   "id": "f7ef9418-5c38-4007-b066-2aedea83a043",
   "metadata": {},
   "outputs": [],
   "source": [
    "with open(\"../model_training/invasion_depth_training_values.json\", 'r') as fp:\n",
    "       training_values = json.load(fp)\n",
    "training_values[\"rs_seed\"] = None if (training_values[\"rs_seed\"] == \"None\") else training_values[\"rs_seed\"]"
   ]
  },
  {
   "cell_type": "code",
   "execution_count": 6,
   "id": "a28d96dc-899c-4b6b-8a8c-f6e91dd57d33",
   "metadata": {},
   "outputs": [
    {
     "data": {
      "text/plain": [
       "{'batch_size': 32,\n",
       " 'frozen_epochs': 50,\n",
       " 'fine_tune_epochs': 50,\n",
       " 'val_split': 0.2,\n",
       " 'early_stopping_patience': 25,\n",
       " 'early_stopping_min_delta': 0.0001,\n",
       " 'rs_seed': None}"
      ]
     },
     "execution_count": 6,
     "metadata": {},
     "output_type": "execute_result"
    }
   ],
   "source": [
    "training_values"
   ]
  },
  {
   "cell_type": "code",
   "execution_count": 7,
   "id": "3e72e63d-dd2a-4479-a076-5991a3d25570",
   "metadata": {},
   "outputs": [],
   "source": [
    "with open(\"../model_training/invasion_depth_hp_space.json\", 'r') as fp:\n",
    "       hp_search_space = json.load(fp)"
   ]
  },
  {
   "cell_type": "code",
   "execution_count": 8,
   "id": "4fffcc43-cd25-4d57-9342-14b02a597d66",
   "metadata": {},
   "outputs": [
    {
     "data": {
      "text/plain": [
       "{'adam_beta_1_range': [0.8, 0.99],\n",
       " 'adam_beta_2_range': [0.98, 0.999],\n",
       " 'frozen_lr_range': [0.0001, 0.01],\n",
       " 'fine_tune_lr_range': [1e-05, 0.001],\n",
       " 'last_layer_options': ['conv5_block3_out',\n",
       "  'conv5_block2_out',\n",
       "  'conv5_block1_out',\n",
       "  'conv4_block6_out',\n",
       "  'conv4_block5_out',\n",
       "  'conv4_block4_out',\n",
       "  'conv4_block3_out',\n",
       "  'conv4_block2_out',\n",
       "  'conv4_block1_out'],\n",
       " 'num_initial_points': 25,\n",
       " 'max_opt_trials': 50}"
      ]
     },
     "execution_count": 8,
     "metadata": {},
     "output_type": "execute_result"
    }
   ],
   "source": [
    "hp_search_space"
   ]
  },
  {
   "cell_type": "code",
   "execution_count": 9,
   "id": "ecbe3936-f8b5-42b9-bed1-b2b9d3a82e89",
   "metadata": {},
   "outputs": [],
   "source": [
    "### Data paths ###\n",
    "root_data_path = f\"{dirs.data_dir}/invasion_data/\"\n",
    "model_training_path = f\"{dirs.analysis_dir}/resnet50_invasion_model\"\n",
    "project_name = \"invasion_hp_trials\"\n",
    "hypermodel_name = \"invasion_depth_hypermodel\"\n",
    "hp_search_hp_path = f\"{model_training_path}/hyperparameter_search_hps\"\n",
    "hp_search_weights_path = f\"{model_training_path}/hyperparameter_search_weights\"\n",
    "best_hp_file = f\"{hp_search_hp_path}/best_hyperparams_v1.json\"\n",
    "mcp_best_frozen_weights_file = f\"{hp_search_weights_path}/best_frozen_weights.h5\"\n",
    "\n",
    "\n",
    "### General training parameters ###\n",
    "resnet_inp_shape = (128, 128, 3)\n",
    "class_labels = {\"no_invasion\": 0, \"invasion\": 1}\n",
    "# Binary classification -> only need 1 output unit\n",
    "n_outputs = 1\n",
    "\n",
    "seed = training_values[\"rs_seed\"]\n",
    "val_split = training_values[\"val_split\"]\n",
    "batch_size = training_values[\"batch_size\"]\n",
    "frozen_epochs = training_values[\"frozen_epochs\"]\n",
    "fine_tune_epochs = training_values[\"fine_tune_epochs\"]\n",
    "# frozen_epochs = 5\n",
    "# fine_tune_epochs = 5\n",
    "\n",
    "\n",
    "### Early stopping ###\n",
    "es_criterion = \"val_loss\"\n",
    "es_mode = \"min\"\n",
    "# Update these depending on seriousness of experiment\n",
    "es_patience = training_values[\"early_stopping_patience\"]\n",
    "es_min_delta = training_values[\"early_stopping_min_delta\"]\n",
    "\n",
    "\n",
    "### Frozen model saving (for transitioning from frozen model to fine-tuned model) ###\n",
    "mcp_criterion = \"val_loss\"\n",
    "mcp_mode = \"min\"\n",
    "\n",
    "\n",
    "### Hyperparameter search ###\n",
    "adam_beta_1_range = tuple(hp_search_space[\"adam_beta_1_range\"])\n",
    "adam_beta_2_range = tuple(hp_search_space[\"adam_beta_2_range\"])\n",
    "frozen_lr_range = tuple(hp_search_space[\"frozen_lr_range\"])\n",
    "fine_tune_lr_range = tuple(hp_search_space[\"fine_tune_lr_range\"])\n",
    "last_layer_options = hp_search_space[\"last_layer_options\"]\n",
    "num_initial_points = hp_search_space[\"num_initial_points\"]\n",
    "max_opt_trials = hp_search_space[\"max_opt_trials\"]\n",
    "# num_initial_points = 3\n",
    "# max_opt_trials = 5"
   ]
  },
  {
   "cell_type": "code",
   "execution_count": 10,
   "id": "1fe5aa69-f9b9-4687-824e-bae3cb6f5f45",
   "metadata": {},
   "outputs": [],
   "source": [
    "data_prep.make_dir(hp_search_hp_path)\n",
    "data_prep.make_dir(hp_search_weights_path)"
   ]
  },
  {
   "cell_type": "markdown",
   "id": "26c21059-6c18-4abd-a94c-44349e2fe109",
   "metadata": {},
   "source": [
    "# Prep for loading data"
   ]
  },
  {
   "cell_type": "code",
   "execution_count": 11,
   "id": "8caa4f7f-2215-4905-b89e-43096914c1c2",
   "metadata": {},
   "outputs": [],
   "source": [
    "rs = np.random.RandomState(seed)"
   ]
  },
  {
   "cell_type": "code",
   "execution_count": 12,
   "id": "7a08b199-eaa1-4b43-9285-c393d62dfc70",
   "metadata": {},
   "outputs": [],
   "source": [
    "# Training & validation data (drawn from same image set & randomly assigned)\n",
    "tv_class_paths = {v: glob(f\"{root_data_path}/train/{k}/*.tif\") for k, v in class_labels.items()}\n",
    "for k, v in tv_class_paths.items():\n",
    "    rs.shuffle(v)"
   ]
  },
  {
   "cell_type": "code",
   "execution_count": 13,
   "id": "8fd35277-1e8d-4b7a-a2b3-f56f30ad4a26",
   "metadata": {},
   "outputs": [],
   "source": [
    "train_data_paths, val_data_paths = data_prep.get_train_val_split(tv_class_paths, val_split=val_split)"
   ]
  },
  {
   "cell_type": "markdown",
   "id": "39e7f6a9-89f8-45a5-ac6e-554e346899d2",
   "metadata": {
    "tags": []
   },
   "source": [
    "# Datasets"
   ]
  },
  {
   "cell_type": "code",
   "execution_count": 14,
   "id": "95b1724f-cf16-4676-8201-0b31d99b83a5",
   "metadata": {},
   "outputs": [],
   "source": [
    "train_datagen = data_prep.InvasionDataGenerator(\n",
    "    train_data_paths,\n",
    "    class_labels,\n",
    "    batch_size,\n",
    "    resnet_inp_shape[:2],\n",
    "    rs,\n",
    "    class_weights=True,\n",
    "    shuffle=True,\n",
    "    augmentation_function=prep.augment_imgs\n",
    ")"
   ]
  },
  {
   "cell_type": "code",
   "execution_count": 15,
   "id": "802d3a3e-599c-4d07-9cf7-be7541085d9a",
   "metadata": {},
   "outputs": [
    {
     "data": {
      "text/plain": [
       "{0: 407, 1: 109}"
      ]
     },
     "execution_count": 15,
     "metadata": {},
     "output_type": "execute_result"
    }
   ],
   "source": [
    "train_datagen.class_counts"
   ]
  },
  {
   "cell_type": "code",
   "execution_count": 16,
   "id": "771ae4d6-afcd-4e00-a8b2-46e4bc4e923b",
   "metadata": {},
   "outputs": [
    {
     "data": {
      "text/plain": [
       "{0: 0.6339066339066339, 1: 2.36697247706422}"
      ]
     },
     "execution_count": 16,
     "metadata": {},
     "output_type": "execute_result"
    }
   ],
   "source": [
    "train_datagen.class_weights"
   ]
  },
  {
   "cell_type": "code",
   "execution_count": 17,
   "id": "ee483bff-6868-4975-aeba-92be98ad03ed",
   "metadata": {},
   "outputs": [],
   "source": [
    "val_datagen = data_prep.InvasionDataGenerator(\n",
    "    val_data_paths,\n",
    "    class_labels,\n",
    "    batch_size,\n",
    "    resnet_inp_shape[:2],\n",
    "    rs,\n",
    "    class_weights=train_datagen.class_weights,\n",
    "    shuffle=True,\n",
    "    augmentation_function=train_datagen.augmentation_function\n",
    ")"
   ]
  },
  {
   "cell_type": "code",
   "execution_count": 18,
   "id": "b4aa256d-818e-4ea0-8e1e-762e1b8028bd",
   "metadata": {},
   "outputs": [
    {
     "data": {
      "text/plain": [
       "{0: 102, 1: 27}"
      ]
     },
     "execution_count": 18,
     "metadata": {},
     "output_type": "execute_result"
    }
   ],
   "source": [
    "val_datagen.class_counts"
   ]
  },
  {
   "cell_type": "markdown",
   "id": "72a9d52c-d555-4a80-8c0a-f2b689d028dd",
   "metadata": {
    "tags": []
   },
   "source": [
    "# Build hyper model"
   ]
  },
  {
   "cell_type": "code",
   "execution_count": 19,
   "id": "aefdcc39-2c1b-4d59-9a8a-23ae0819a73e",
   "metadata": {},
   "outputs": [],
   "source": [
    "hypermodel = models.ResNet50TLHyperModel(\n",
    "    n_outputs=n_outputs,\n",
    "    img_shape=resnet_inp_shape,\n",
    "    loss=BinaryCrossentropy(),\n",
    "    weighted_metrics=[BinaryAccuracy()],\n",
    "    name=hypermodel_name,\n",
    "    output_act=\"sigmoid\",\n",
    "    adam_beta_1_range=adam_beta_1_range,\n",
    "    adam_beta_2_range=adam_beta_2_range,\n",
    "    frozen_lr_range=frozen_lr_range,\n",
    "    fine_tune_lr_range=fine_tune_lr_range,\n",
    "    frozen_epochs=frozen_epochs,\n",
    "    fine_tune_epochs=fine_tune_epochs,\n",
    "    base_model_name=\"base_model\",\n",
    "    # EarlyStopping callback parameters\n",
    "    es_criterion=es_criterion,\n",
    "    es_mode=es_mode,\n",
    "    es_patience=es_patience,\n",
    "    es_min_delta=es_min_delta,\n",
    "    # Frozen ModelCheckpoint callback parameters\n",
    "    mcp_criterion=mcp_criterion,\n",
    "    mcp_mode=mcp_mode,\n",
    "    mcp_best_frozen_weights_path=mcp_best_frozen_weights_file\n",
    ")"
   ]
  },
  {
   "cell_type": "code",
   "execution_count": 20,
   "id": "6854412d-5419-4fb2-a5b9-dcb024c6505f",
   "metadata": {},
   "outputs": [],
   "source": [
    "tuner = kt.BayesianOptimization(\n",
    "    hypermodel=hypermodel,\n",
    "    objective=\"val_loss\",\n",
    "    num_initial_points=num_initial_points,\n",
    "    max_trials=max_opt_trials,\n",
    "    seed=seed,\n",
    "    # directory=\"../model_training/\",\n",
    "    directory=model_training_path,\n",
    "    project_name=project_name\n",
    ")"
   ]
  },
  {
   "cell_type": "code",
   "execution_count": 21,
   "id": "af416279-927f-4d18-bf44-9742b91a1da2",
   "metadata": {
    "tags": []
   },
   "outputs": [
    {
     "name": "stdout",
     "output_type": "stream",
     "text": [
      "Trial 5 Complete [00h 01m 27s]\n",
      "val_loss: 0.3612251281738281\n",
      "\n",
      "Best val_loss So Far: 0.31538963317871094\n",
      "Total elapsed time: 00h 06m 47s\n",
      "INFO:tensorflow:Oracle triggered exit\n"
     ]
    }
   ],
   "source": [
    "# Cannot use external callbacks. Callbacks are defined inside the hypermodel's fit function\n",
    "tuner.search(\n",
    "    train_datagen,\n",
    "    validation_data=val_datagen,\n",
    "    workers=n_cores\n",
    ")"
   ]
  },
  {
   "cell_type": "code",
   "execution_count": 22,
   "id": "82657343-20ae-455b-b122-84b759bb2ca9",
   "metadata": {
    "tags": []
   },
   "outputs": [
    {
     "name": "stdout",
     "output_type": "stream",
     "text": [
      "Results summary\n",
      "Results in D:/fogg_lab_tissue_model_analysis/resnet50_invasion_model\\invasion_hp_trials\n",
      "Showing 10 best trials\n",
      "Objective(name='val_loss', direction='min')\n",
      "Trial summary\n",
      "Hyperparameters:\n",
      "last_resnet_layer: conv5_block2_out\n",
      "frozen_lr: 0.0005510469719519641\n",
      "adam_beta_1: 0.8338606444044201\n",
      "adam_beta_2: 0.9867297612315291\n",
      "fine_tune_lr: 1e-05\n",
      "Score: 0.31538963317871094\n",
      "Trial summary\n",
      "Hyperparameters:\n",
      "last_resnet_layer: conv5_block3_out\n",
      "frozen_lr: 0.01\n",
      "adam_beta_1: 0.8\n",
      "adam_beta_2: 0.9990000000000001\n",
      "fine_tune_lr: 1e-05\n",
      "Score: 0.3248416781425476\n",
      "Trial summary\n",
      "Hyperparameters:\n",
      "last_resnet_layer: conv5_block3_out\n",
      "frozen_lr: 0.005704251931830293\n",
      "adam_beta_1: 0.9308085430088172\n",
      "adam_beta_2: 0.9846493316136915\n",
      "fine_tune_lr: 1.82406562825328e-05\n",
      "Score: 0.33920347690582275\n",
      "Trial summary\n",
      "Hyperparameters:\n",
      "last_resnet_layer: conv5_block3_out\n",
      "frozen_lr: 0.0001\n",
      "adam_beta_1: 0.9899999999999999\n",
      "adam_beta_2: 0.9990000000000001\n",
      "fine_tune_lr: 1e-05\n",
      "Score: 0.3612251281738281\n",
      "Trial summary\n",
      "Hyperparameters:\n",
      "last_resnet_layer: conv4_block6_out\n",
      "frozen_lr: 0.000195586335667274\n",
      "adam_beta_1: 0.9054674269725379\n",
      "adam_beta_2: 0.982792280324719\n",
      "fine_tune_lr: 0.0009080300897480316\n",
      "Score: 0.5798134803771973\n"
     ]
    }
   ],
   "source": [
    "tuner.results_summary()"
   ]
  },
  {
   "cell_type": "code",
   "execution_count": 23,
   "id": "72e6dc90-e41d-4bbf-b3cc-693873dd3038",
   "metadata": {},
   "outputs": [],
   "source": [
    "best_hp = tuner.get_best_hyperparameters()[0]"
   ]
  },
  {
   "cell_type": "code",
   "execution_count": 24,
   "id": "770f9a45-dbc3-40be-ad08-98ab310e5ddb",
   "metadata": {},
   "outputs": [
    {
     "data": {
      "text/plain": [
       "{'last_resnet_layer': 'conv5_block2_out',\n",
       " 'frozen_lr': 0.0005510469719519641,\n",
       " 'adam_beta_1': 0.8338606444044201,\n",
       " 'adam_beta_2': 0.9867297612315291,\n",
       " 'fine_tune_lr': 1e-05}"
      ]
     },
     "execution_count": 24,
     "metadata": {},
     "output_type": "execute_result"
    }
   ],
   "source": [
    "best_hp.values"
   ]
  },
  {
   "cell_type": "code",
   "execution_count": 25,
   "id": "620cc9be-a2eb-447a-9606-95cdb752fa4b",
   "metadata": {},
   "outputs": [],
   "source": [
    "with open(best_hp_file, \"w\") as fp:\n",
    "    json.dump(best_hp.values, fp, sort_keys=True)"
   ]
  },
  {
   "cell_type": "code",
   "execution_count": null,
   "id": "e31c6642-21e1-482b-8ed1-ec0d3d1e4af4",
   "metadata": {},
   "outputs": [],
   "source": []
  }
 ],
 "metadata": {
  "kernelspec": {
   "display_name": "Python 3 (ipykernel)",
   "language": "python",
   "name": "python3"
  },
  "language_info": {
   "codemirror_mode": {
    "name": "ipython",
    "version": 3
   },
   "file_extension": ".py",
   "mimetype": "text/x-python",
   "name": "python",
   "nbconvert_exporter": "python",
   "pygments_lexer": "ipython3",
   "version": "3.9.10"
  }
 },
 "nbformat": 4,
 "nbformat_minor": 5
}
