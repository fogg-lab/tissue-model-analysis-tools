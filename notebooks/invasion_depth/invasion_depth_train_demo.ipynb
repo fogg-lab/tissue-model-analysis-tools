{
 "cells": [
  {
   "cell_type": "code",
   "execution_count": 1,
   "id": "0c12c68d-93a1-41af-b05c-e56b17582e41",
   "metadata": {
    "tags": []
   },
   "outputs": [],
   "source": [
    "import tensorflow.keras.backend as K\n",
    "import numpy as np\n",
    "import dask as d\n",
    "import os\n",
    "import cv2\n",
    "import json\n",
    "import multiprocessing\n",
    "import matplotlib.pyplot as plt\n",
    "\n",
    "from glob import glob\n",
    "from copy import deepcopy\n",
    "from tensorflow.keras.preprocessing.image import ImageDataGenerator, load_img\n",
    "from tensorflow.keras.optimizers import Adam\n",
    "from tensorflow.keras.losses import BinaryCrossentropy\n",
    "from tensorflow.keras.metrics import BinaryAccuracy\n",
    "from tensorflow.keras.utils import Sequence\n",
    "from tensorflow.keras.callbacks import EarlyStopping, ModelCheckpoint\n",
    "from tensorflow.keras.applications import resnet50"
   ]
  },
  {
   "cell_type": "code",
   "execution_count": 2,
   "id": "a402a73f-b4a9-44ba-8ae5-06641c0668f6",
   "metadata": {},
   "outputs": [
    {
     "data": {
      "text/plain": [
       "16"
      ]
     },
     "execution_count": 2,
     "metadata": {},
     "output_type": "execute_result"
    }
   ],
   "source": [
    "n_cores = multiprocessing.cpu_count()\n",
    "n_cores"
   ]
  },
  {
   "cell_type": "code",
   "execution_count": 3,
   "id": "fdc59e17-d035-4e8d-ad5f-ca7adfa21f93",
   "metadata": {},
   "outputs": [],
   "source": [
    "from fl_tissue_model_tools import data_prep, dev_config, models, defs\n",
    "import fl_tissue_model_tools.preprocessing as prep"
   ]
  },
  {
   "cell_type": "code",
   "execution_count": 4,
   "id": "0c960e34-fb3c-463b-8bc5-952730a064dc",
   "metadata": {},
   "outputs": [],
   "source": [
    "dirs = dev_config.get_dev_directories(\"../../dev_paths.txt\")"
   ]
  },
  {
   "cell_type": "markdown",
   "id": "911406d1-d145-445f-a442-645b5138c60e",
   "metadata": {
    "tags": []
   },
   "source": [
    "# Set up model training parameters"
   ]
  },
  {
   "cell_type": "code",
   "execution_count": 5,
   "id": "6d3b1db8-45d3-4882-bd10-002c0c5f1f27",
   "metadata": {
    "tags": []
   },
   "outputs": [],
   "source": [
    "with open(\"../../model_training/invasion_depth_training_values.json\", 'r') as fp:\n",
    "       training_values = json.load(fp)\n",
    "training_values[\"rs_seed\"] = None if (training_values[\"rs_seed\"] == \"None\") else training_values[\"rs_seed\"]"
   ]
  },
  {
   "cell_type": "code",
   "execution_count": 6,
   "id": "75096603-49df-41d3-8d1d-de1801ba8f1f",
   "metadata": {},
   "outputs": [
    {
     "data": {
      "text/plain": [
       "{'batch_size': 32,\n",
       " 'frozen_epochs': 50,\n",
       " 'fine_tune_epochs': 50,\n",
       " 'val_split': 0.2,\n",
       " 'early_stopping_patience': 25,\n",
       " 'early_stopping_min_delta': 0.0001,\n",
       " 'rs_seed': None,\n",
       " 'resnet_inp_shape': [128, 128, 3],\n",
       " 'class_labels': {'no_invasion': 0, 'invasion': 1},\n",
       " 'cls_thresh': 0.5,\n",
       " 'n_models': 5}"
      ]
     },
     "execution_count": 6,
     "metadata": {},
     "output_type": "execute_result"
    }
   ],
   "source": [
    "training_values"
   ]
  },
  {
   "cell_type": "code",
   "execution_count": 7,
   "id": "b28babc1-26df-46a4-a957-6c94453f8fc3",
   "metadata": {},
   "outputs": [],
   "source": [
    "with open(\"../model_training/invasion_depth_best_hp.json\", 'r') as fp:\n",
    "    best_hp = json.load(fp)"
   ]
  },
  {
   "cell_type": "code",
   "execution_count": 8,
   "id": "d8b52787-2f71-4cef-9d7d-cc43d1128f60",
   "metadata": {},
   "outputs": [
    {
     "data": {
      "text/plain": [
       "{'adam_beta_1': 0.9066466810625207,\n",
       " 'adam_beta_2': 0.9947698608592066,\n",
       " 'fine_tune_lr': 9.141354728081903e-05,\n",
       " 'frozen_lr': 0.00022767552973325001,\n",
       " 'last_resnet_layer': 'conv5_block1_out'}"
      ]
     },
     "execution_count": 8,
     "metadata": {},
     "output_type": "execute_result"
    }
   ],
   "source": [
    "best_hp"
   ]
  },
  {
   "cell_type": "code",
   "execution_count": 9,
   "id": "77f26842-80d0-4710-ab9f-3f19c1029199",
   "metadata": {},
   "outputs": [],
   "source": [
    "### Data paths ###\n",
    "root_data_path = f\"{dirs.data_dir}/invasion_data/\"\n",
    "model_training_path = f\"{dirs.analysis_dir}/resnet50_invasion_model\"\n",
    "demo_model_training_path = f\"{model_training_path}/demo\"\n",
    "mcp_best_frozen_weights_file = f\"{demo_model_training_path}/best_frozen_weights.h5\"\n",
    "mcp_best_finetune_weights_file = f\"{demo_model_training_path}/best_finetune_weights.h5\"\n",
    "\n",
    "\n",
    "### General training parameters ###\n",
    "resnet_inp_shape = tuple(training_values[\"resnet_inp_shape\"])\n",
    "class_labels = training_values[\"class_labels\"]\n",
    "# Binary classification -> only need 1 output unit\n",
    "n_outputs = 1\n",
    "\n",
    "seed = training_values[\"rs_seed\"]\n",
    "val_split = training_values[\"val_split\"]\n",
    "batch_size = training_values[\"batch_size\"]\n",
    "frozen_epochs = training_values[\"frozen_epochs\"]\n",
    "fine_tune_epochs = training_values[\"fine_tune_epochs\"]\n",
    "# frozen_epochs = 5\n",
    "# fine_tune_epochs = 5\n",
    "adam_beta_1 = best_hp[\"adam_beta_1\"]\n",
    "adam_beta_2 = best_hp[\"adam_beta_2\"]\n",
    "frozen_lr = best_hp[\"frozen_lr\"]\n",
    "fine_tune_lr = best_hp[\"fine_tune_lr\"]\n",
    "last_resnet_layer = best_hp[\"last_resnet_layer\"]\n",
    "\n",
    "\n",
    "### Early stopping ###\n",
    "es_criterion = \"val_loss\"\n",
    "es_mode = \"min\"\n",
    "# Update these depending on seriousness of experiment\n",
    "es_patience = training_values[\"early_stopping_patience\"]\n",
    "es_min_delta = training_values[\"early_stopping_min_delta\"]\n",
    "\n",
    "\n",
    "### Model saving ###\n",
    "mcp_criterion = \"val_loss\"\n",
    "mcp_mode = \"min\"\n",
    "mcp_best_only = True\n",
    "# Need to set to True otherwise base model \"layer\" won't save/load properly\n",
    "mcp_weights_only = True"
   ]
  },
  {
   "cell_type": "code",
   "execution_count": 10,
   "id": "bd546ce2-154b-4f0b-8010-f581516a6597",
   "metadata": {},
   "outputs": [],
   "source": [
    "data_prep.make_dir(demo_model_training_path)"
   ]
  },
  {
   "cell_type": "markdown",
   "id": "0a2e6e22-ffed-459e-8895-f1917396c661",
   "metadata": {},
   "source": [
    "# Prep for loading data"
   ]
  },
  {
   "cell_type": "code",
   "execution_count": 11,
   "id": "7d22b149-c675-4b1c-95e7-909716249d56",
   "metadata": {},
   "outputs": [],
   "source": [
    "rs = np.random.RandomState(seed)"
   ]
  },
  {
   "cell_type": "code",
   "execution_count": 12,
   "id": "c6a69dfe-afa0-41fa-8f26-c8463105bf3a",
   "metadata": {
    "tags": []
   },
   "outputs": [],
   "source": [
    "# Training & validation data (drawn from same image set & randomly assigned)\n",
    "tv_class_paths = {v: glob(f\"{root_data_path}/train/{k}/*.tif\") for k, v in class_labels.items()}\n",
    "for k, v in tv_class_paths.items():\n",
    "    rs.shuffle(v)"
   ]
  },
  {
   "cell_type": "code",
   "execution_count": 13,
   "id": "29cd381e-feb3-4c7e-be01-e227347eccee",
   "metadata": {},
   "outputs": [],
   "source": [
    "train_data_paths, val_data_paths = data_prep.get_train_val_split(tv_class_paths, val_split=val_split)"
   ]
  },
  {
   "cell_type": "markdown",
   "id": "4105535b-e87d-4efb-9045-6cc547f17a23",
   "metadata": {
    "tags": []
   },
   "source": [
    "# Datasets"
   ]
  },
  {
   "cell_type": "code",
   "execution_count": 14,
   "id": "794117aa-2f2c-420e-bbff-665efd53fc0e",
   "metadata": {},
   "outputs": [],
   "source": [
    "train_datagen = data_prep.InvasionDataGenerator(\n",
    "    train_data_paths,\n",
    "    class_labels,\n",
    "    batch_size,\n",
    "    resnet_inp_shape[:2],\n",
    "    rs,\n",
    "    class_weights=True,\n",
    "    shuffle=True,\n",
    "    augmentation_function=prep.augment_imgs\n",
    ")"
   ]
  },
  {
   "cell_type": "code",
   "execution_count": 15,
   "id": "42741ae2-e93b-47ff-8a02-e2677bf9c41e",
   "metadata": {},
   "outputs": [
    {
     "data": {
      "text/plain": [
       "{0: 449, 1: 177}"
      ]
     },
     "execution_count": 15,
     "metadata": {},
     "output_type": "execute_result"
    }
   ],
   "source": [
    "train_datagen.class_counts"
   ]
  },
  {
   "cell_type": "code",
   "execution_count": 16,
   "id": "03435e9f-68ac-464f-b4dc-d2e37c3808e4",
   "metadata": {},
   "outputs": [
    {
     "data": {
      "text/plain": [
       "{0: 0.6971046770601337, 1: 1.768361581920904}"
      ]
     },
     "execution_count": 16,
     "metadata": {},
     "output_type": "execute_result"
    }
   ],
   "source": [
    "train_datagen.class_weights"
   ]
  },
  {
   "cell_type": "code",
   "execution_count": 17,
   "id": "52e07d56-64ed-4268-9e88-f9c3a465d1d5",
   "metadata": {},
   "outputs": [],
   "source": [
    "val_datagen = data_prep.InvasionDataGenerator(\n",
    "    val_data_paths,\n",
    "    class_labels,\n",
    "    batch_size,\n",
    "    resnet_inp_shape[:2],\n",
    "    rs,\n",
    "    class_weights=train_datagen.class_weights,\n",
    "    shuffle=True,\n",
    "    augmentation_function=train_datagen.augmentation_function\n",
    ")"
   ]
  },
  {
   "cell_type": "code",
   "execution_count": 18,
   "id": "98e8940a-4e77-47c5-a177-7d67d3bed787",
   "metadata": {},
   "outputs": [
    {
     "data": {
      "text/plain": [
       "{0: 112, 1: 44}"
      ]
     },
     "execution_count": 18,
     "metadata": {},
     "output_type": "execute_result"
    }
   ],
   "source": [
    "val_datagen.class_counts"
   ]
  },
  {
   "cell_type": "markdown",
   "id": "f50e81cb-bfd6-4ac8-a36d-da6ca500c5f3",
   "metadata": {
    "tags": []
   },
   "source": [
    "# Model"
   ]
  },
  {
   "cell_type": "code",
   "execution_count": null,
   "id": "5f59ef1d-0f95-4a14-a92d-327229a104a9",
   "metadata": {},
   "outputs": [],
   "source": [
    "K.clear_session()"
   ]
  },
  {
   "cell_type": "code",
   "execution_count": null,
   "id": "b5bbe2fe-8e5b-4e69-a87d-81dcee513b00",
   "metadata": {
    "tags": []
   },
   "outputs": [],
   "source": [
    "tl_model = models.build_ResNet50_TL(\n",
    "    n_outputs,\n",
    "    resnet_inp_shape,\n",
    "    base_last_layer=last_resnet_layer,\n",
    "    # Switch to softmax once n_outputs > 1\n",
    "    output_act=\"sigmoid\",\n",
    "    base_model_trainable=False\n",
    ")"
   ]
  },
  {
   "cell_type": "markdown",
   "id": "658b615f-f9db-4eec-bc38-3ca3d0601e8f",
   "metadata": {},
   "source": [
    "# Frozen training"
   ]
  },
  {
   "cell_type": "code",
   "execution_count": null,
   "id": "5b5def7c-dfa5-40b9-9ce0-f497d45eba3b",
   "metadata": {},
   "outputs": [],
   "source": [
    "tl_model.compile(\n",
    "    optimizer=Adam(learning_rate=frozen_lr, beta_1=adam_beta_1, beta_2=adam_beta_2),\n",
    "    loss=BinaryCrossentropy(),\n",
    "    weighted_metrics=[BinaryAccuracy()]\n",
    ")"
   ]
  },
  {
   "cell_type": "code",
   "execution_count": null,
   "id": "134be685-feda-4ef2-b1f3-e431dcf88233",
   "metadata": {
    "tags": []
   },
   "outputs": [],
   "source": [
    "tl_model.summary()"
   ]
  },
  {
   "cell_type": "code",
   "execution_count": null,
   "id": "97b6dab5-1ecc-40f3-949e-caeea1ee2b1a",
   "metadata": {
    "tags": []
   },
   "outputs": [],
   "source": [
    "# tl_model.get_layer(\"base_model\").summary()"
   ]
  },
  {
   "cell_type": "code",
   "execution_count": null,
   "id": "4a30cd0a-6cef-4e3b-b85a-b95be2cd08b1",
   "metadata": {
    "tags": []
   },
   "outputs": [],
   "source": [
    "es_callback = EarlyStopping(monitor=es_criterion, mode=es_mode, min_delta=es_min_delta, patience=es_patience)\n",
    "mcp_callback = ModelCheckpoint(mcp_best_frozen_weights_file, monitor=mcp_criterion, mode=mcp_mode, save_best_only=mcp_best_only, save_weights_only=mcp_weights_only)"
   ]
  },
  {
   "cell_type": "code",
   "execution_count": null,
   "id": "c38e7b3e-8344-49f4-8c52-70d9ae017acd",
   "metadata": {
    "tags": []
   },
   "outputs": [],
   "source": [
    "h1 = tl_model.fit(\n",
    "    train_datagen,\n",
    "    validation_data=val_datagen,\n",
    "    epochs=frozen_epochs,\n",
    "    callbacks=[es_callback, mcp_callback],\n",
    "    workers=n_cores\n",
    ")"
   ]
  },
  {
   "cell_type": "code",
   "execution_count": null,
   "id": "b5b4515d-5967-4631-a496-1ae1931ab042",
   "metadata": {},
   "outputs": [],
   "source": [
    "np.argmin(h1.history[\"val_loss\"]), np.min(h1.history[\"val_loss\"])"
   ]
  },
  {
   "cell_type": "code",
   "execution_count": null,
   "id": "85cc9124-a9b3-48d2-acb6-2289349c5f43",
   "metadata": {},
   "outputs": [],
   "source": [
    "np.argmax(h1.history[\"val_binary_accuracy\"]), np.max(h1.history[\"val_binary_accuracy\"])"
   ]
  },
  {
   "cell_type": "markdown",
   "id": "8d21a2e1-6fb0-4252-97b6-7f395a21aa98",
   "metadata": {
    "tags": []
   },
   "source": [
    "# Load best frozen weights before fine tuning"
   ]
  },
  {
   "cell_type": "code",
   "execution_count": null,
   "id": "f727e052-d9c1-4613-8582-d93c31e46047",
   "metadata": {},
   "outputs": [],
   "source": [
    "tl_model.load_weights(mcp_best_frozen_weights_file)"
   ]
  },
  {
   "cell_type": "markdown",
   "id": "7e04b9f7-0220-47e1-88a1-b375166403e7",
   "metadata": {},
   "source": [
    "# Fine tune training"
   ]
  },
  {
   "cell_type": "code",
   "execution_count": null,
   "id": "826188ac-9b5f-4e90-8d9f-2fcaeaa1a98c",
   "metadata": {},
   "outputs": [],
   "source": [
    "# Make base model trainable (leave layers in inference mode)\n",
    "models.toggle_TL_freeze(tl_model)"
   ]
  },
  {
   "cell_type": "code",
   "execution_count": null,
   "id": "9fce61bd-18b7-43e0-96f9-a309c763888f",
   "metadata": {},
   "outputs": [],
   "source": [
    "# tl_model.compile(optimizer=Adam(learning_rate=fine_tune_lr), loss=BinaryCrossentropy(), metrics=[BinaryAccuracy()])\n",
    "tl_model.compile(\n",
    "    optimizer=Adam(learning_rate=fine_tune_lr, beta_1=adam_beta_1, beta_2=adam_beta_2),\n",
    "    loss=BinaryCrossentropy(),\n",
    "    weighted_metrics=[BinaryAccuracy()]\n",
    ")"
   ]
  },
  {
   "cell_type": "code",
   "execution_count": null,
   "id": "ff63ccae-1830-4cda-ad44-a8bc1436562c",
   "metadata": {
    "tags": []
   },
   "outputs": [],
   "source": [
    "tl_model.summary()"
   ]
  },
  {
   "cell_type": "code",
   "execution_count": null,
   "id": "4bc0da73-0193-4e18-bc4c-f84d86e17a89",
   "metadata": {},
   "outputs": [],
   "source": [
    "es_callback = EarlyStopping(monitor=es_criterion, mode=es_mode, min_delta=es_min_delta, patience=es_patience)\n",
    "mcp_callback = ModelCheckpoint(mcp_best_finetune_weights_file, monitor=mcp_criterion, mode=mcp_mode, save_best_only=mcp_best_only, save_weights_only=mcp_weights_only)"
   ]
  },
  {
   "cell_type": "code",
   "execution_count": null,
   "id": "05c2c008-c5fe-473f-a209-9da1e56b64b4",
   "metadata": {
    "tags": []
   },
   "outputs": [],
   "source": [
    "h2 = tl_model.fit(\n",
    "    train_datagen,\n",
    "    validation_data=val_datagen,\n",
    "    epochs=fine_tune_epochs,\n",
    "    callbacks=[es_callback, mcp_callback],\n",
    "    workers=n_cores\n",
    ")"
   ]
  },
  {
   "cell_type": "code",
   "execution_count": null,
   "id": "010da2d1-dcef-47c8-8011-73bbf31c5b0c",
   "metadata": {},
   "outputs": [],
   "source": [
    "np.argmin(h2.history[\"val_loss\"]), np.min(h2.history[\"val_loss\"])"
   ]
  },
  {
   "cell_type": "code",
   "execution_count": null,
   "id": "1d04b350-b75d-43ed-bfc4-a02f09c5bb45",
   "metadata": {},
   "outputs": [],
   "source": [
    "np.argmax(h2.history[\"val_binary_accuracy\"]), np.max(h2.history[\"val_binary_accuracy\"])"
   ]
  },
  {
   "cell_type": "code",
   "execution_count": null,
   "id": "51be6fcc-fc03-4ee3-9304-0227c8a48054",
   "metadata": {},
   "outputs": [],
   "source": []
  }
 ],
 "metadata": {
  "kernelspec": {
   "display_name": "Python 3.10.6 64-bit (windows store)",
   "language": "python",
   "name": "python3"
  },
  "language_info": {
   "codemirror_mode": {
    "name": "ipython",
    "version": 3
   },
   "file_extension": ".py",
   "mimetype": "text/x-python",
   "name": "python",
   "nbconvert_exporter": "python",
   "pygments_lexer": "ipython3",
   "version": "3.10.6"
  },
  "vscode": {
   "interpreter": {
    "hash": "5fe493d7086e060bd83ab2826abb23977a3ef9f33a74c8dd36bdc7df5a8ac5f3"
   }
  }
 },
 "nbformat": 4,
 "nbformat_minor": 5
}
