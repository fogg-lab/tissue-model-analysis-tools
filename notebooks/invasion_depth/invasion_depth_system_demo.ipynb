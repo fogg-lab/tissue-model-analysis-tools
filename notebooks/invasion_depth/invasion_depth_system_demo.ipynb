{
 "cells": [
  {
   "cell_type": "code",
   "execution_count": 1,
   "id": "a63aa2ab-dcb9-49c8-b934-ae73d8c341b1",
   "metadata": {},
   "outputs": [],
   "source": [
    "import tensorflow.keras.backend as K\n",
    "import tensorflow as tf\n",
    "import numpy as np\n",
    "import pandas as pd\n",
    "import dask as d\n",
    "import os\n",
    "import json\n",
    "from glob import glob"
   ]
  },
  {
   "cell_type": "code",
   "execution_count": 2,
   "id": "f6f43ee8-0be1-43b9-9bba-ec79b2a09482",
   "metadata": {},
   "outputs": [],
   "source": [
    "from fl_tissue_model_tools import data_prep, dev_config, models, defs, zstacks\n",
    "import fl_tissue_model_tools.preprocessing as prep\n",
    "import fl_tissue_model_tools.zstacks as zs"
   ]
  },
  {
   "cell_type": "code",
   "execution_count": 3,
   "id": "10f90dd8-fe43-417e-9f37-179dcfc8fdf9",
   "metadata": {},
   "outputs": [],
   "source": [
    "dirs = dev_config.get_dev_directories(\"../../dev_paths.txt\")"
   ]
  },
  {
   "cell_type": "code",
   "execution_count": 4,
   "id": "b4474fe3-a938-43c9-ad52-a5bea3791c2b",
   "metadata": {},
   "outputs": [],
   "source": [
    "with open(\"../../config/default_invasion_depth_computation.json\", 'r') as fp:\n",
    "    config = json.load(fp)"
   ]
  },
  {
   "cell_type": "code",
   "execution_count": 5,
   "id": "33576fa4-b2f8-4e8d-a543-ee3983779644",
   "metadata": {},
   "outputs": [
    {
     "data": {
      "text/plain": [
       "{'n_pred_models': 3}"
      ]
     },
     "execution_count": 5,
     "metadata": {},
     "output_type": "execute_result"
    }
   ],
   "source": [
    "config"
   ]
  },
  {
   "cell_type": "code",
   "execution_count": 6,
   "id": "ae527936-2396-40b1-8490-cbf040dd82fb",
   "metadata": {},
   "outputs": [],
   "source": [
    "with open(\"../../model_training/invasion_depth_training_values.json\", 'r') as fp:\n",
    "    training_values = json.load(fp)\n",
    "training_values[\"rs_seed\"] = None if (training_values[\"rs_seed\"] == \"None\") else training_values[\"rs_seed\"]"
   ]
  },
  {
   "cell_type": "code",
   "execution_count": 7,
   "id": "9e62796c-0415-4674-b4cc-bba4aecfc8b9",
   "metadata": {},
   "outputs": [
    {
     "data": {
      "text/plain": [
       "{'batch_size': 32,\n",
       " 'frozen_epochs': 50,\n",
       " 'fine_tune_epochs': 50,\n",
       " 'val_split': 0.2,\n",
       " 'early_stopping_patience': 25,\n",
       " 'early_stopping_min_delta': 0.0001,\n",
       " 'rs_seed': None,\n",
       " 'resnet_inp_shape': [128, 128, 3],\n",
       " 'class_labels': {'no_invasion': 0, 'invasion': 1},\n",
       " 'cls_thresh': 0.5,\n",
       " 'n_models': 5}"
      ]
     },
     "execution_count": 7,
     "metadata": {},
     "output_type": "execute_result"
    }
   ],
   "source": [
    "training_values"
   ]
  },
  {
   "cell_type": "code",
   "execution_count": 8,
   "id": "fbe5c532-11b5-435d-8d37-ed5f1a14704b",
   "metadata": {},
   "outputs": [],
   "source": [
    "with open(\"../../model_training/invasion_depth_best_hp.json\", 'r') as fp:\n",
    "    best_hp = json.load(fp)"
   ]
  },
  {
   "cell_type": "code",
   "execution_count": 9,
   "id": "dfcaa499-1690-44d7-9f50-407b0e0be310",
   "metadata": {},
   "outputs": [
    {
     "data": {
      "text/plain": [
       "{'adam_beta_1': 0.8690806056354333,\n",
       " 'adam_beta_2': 0.9817045929249536,\n",
       " 'fine_tune_lr': 4.837200625807212e-05,\n",
       " 'frozen_lr': 0.00023296415902195254,\n",
       " 'last_resnet_layer': 'conv5_block1_out'}"
      ]
     },
     "execution_count": 9,
     "metadata": {},
     "output_type": "execute_result"
    }
   ],
   "source": [
    "best_hp"
   ]
  },
  {
   "cell_type": "code",
   "execution_count": 10,
   "id": "40f03bfe-62f7-4f2f-abb3-a64b17b32961",
   "metadata": {},
   "outputs": [],
   "source": [
    "zstacks_root_path = f\"{dirs.data_dir}/invasion_data/demo\""
   ]
  },
  {
   "cell_type": "code",
   "execution_count": 11,
   "id": "5cf7303c-b4fe-472b-8d22-1ffbee01c7aa",
   "metadata": {},
   "outputs": [],
   "source": [
    "### Data paths ###\n",
    "model_training_path = f\"{dirs.analysis_dir}/resnet50_invasion_model\"\n",
    "best_ensemble_training_path = f\"{model_training_path}/best_ensemble\"\n",
    "inv_depth_output_path = f\"{dirs.analysis_dir}/invasion_depth_output\"\n",
    "\n",
    "# Binary classification -> only need 1 output unit\n",
    "n_outputs = 1\n",
    "n_models = training_values[\"n_models\"]\n",
    "n_pred_models = config[\"n_pred_models\"]\n",
    "\n",
    "cls_thresh = training_values[\"cls_thresh\"]\n",
    "resnet_inp_shape = tuple(training_values[\"resnet_inp_shape\"])\n",
    "class_labels = training_values[\"class_labels\"]\n",
    "last_resnet_layer = best_hp[\"last_resnet_layer\"]\n",
    "# Zstack index meaning (descending: 0 -> bottom of well, ascending: 0 -> top of well)\n",
    "descending = True"
   ]
  },
  {
   "cell_type": "code",
   "execution_count": 12,
   "id": "30283492-682f-4c87-87d6-f6f04ae9b514",
   "metadata": {},
   "outputs": [],
   "source": [
    "data_prep.make_dir(inv_depth_output_path)"
   ]
  },
  {
   "cell_type": "code",
   "execution_count": 13,
   "id": "d419ad3b-9de2-48e3-ae38-085f3f048d70",
   "metadata": {},
   "outputs": [],
   "source": [
    "zstack_dirs = [fp.replace(\"\\\\\", \"/\") for fp in glob(f\"{zstacks_root_path}/*\")]"
   ]
  },
  {
   "cell_type": "code",
   "execution_count": 14,
   "id": "fe6bb628-df60-4056-84b8-219e61a7b014",
   "metadata": {},
   "outputs": [
    {
     "data": {
      "text/plain": [
       "['D:/fogg_lab_tissue_model_data/invasion_data/demo/03_17_2022_A1_Caski_paclitaxel_Ines_Cadena',\n",
       " 'D:/fogg_lab_tissue_model_data/invasion_data/demo/08_31_2021_E5_SiHa_validation_Ines_Cadena',\n",
       " 'D:/fogg_lab_tissue_model_data/invasion_data/demo/09_08_2021_C1_HEC_DOE_Ines_Cadena']"
      ]
     },
     "execution_count": 14,
     "metadata": {},
     "output_type": "execute_result"
    }
   ],
   "source": [
    "zstack_dirs"
   ]
  },
  {
   "cell_type": "markdown",
   "id": "711ee223-4389-4b61-bbef-2e0a44f39a9a",
   "metadata": {
    "tags": []
   },
   "source": [
    "# Build models"
   ]
  },
  {
   "cell_type": "code",
   "execution_count": 15,
   "id": "65a08faf-0bd4-465a-b8e1-700e4d2900e1",
   "metadata": {},
   "outputs": [],
   "source": [
    "best_val_losses = np.zeros(n_models)\n",
    "for i in range(n_models):\n",
    "    h_df = pd.read_csv(f\"../../model_training/best_ensemble/best_model_history_{i}.csv\")\n",
    "    ft_h_df = h_df.query(\"training_stage=='finetune'\")\n",
    "    best_val_losses[i] = ft_h_df.val_loss.min()"
   ]
  },
  {
   "cell_type": "code",
   "execution_count": 18,
   "id": "61177ee5-0c0e-4f76-8f09-cbf4a14cdec2",
   "metadata": {},
   "outputs": [],
   "source": [
    "sorted_best_model_idx = best_val_losses.argsort()"
   ]
  },
  {
   "cell_type": "code",
   "execution_count": 17,
   "id": "bc7fb4ee-48e0-49ed-8283-26047ac5cf0f",
   "metadata": {},
   "outputs": [],
   "source": [
    "# Load n_pred_models best models\n",
    "K.clear_session()\n",
    "inv_depth_models = [\n",
    "    models.build_ResNet50_TL(n_outputs, resnet_inp_shape, base_last_layer=last_resnet_layer, base_model_trainable=False) for _ in range(n_pred_models)\n",
    "]"
   ]
  },
  {
   "cell_type": "code",
   "execution_count": 20,
   "id": "0de3036a-2fd7-4be3-8d7e-c7e46ad37d19",
   "metadata": {},
   "outputs": [
    {
     "data": {
      "text/plain": [
       "array([1, 3, 2, 0, 4], dtype=int64)"
      ]
     },
     "execution_count": 20,
     "metadata": {},
     "output_type": "execute_result"
    }
   ],
   "source": [
    "sorted_best_model_idx"
   ]
  },
  {
   "cell_type": "code",
   "execution_count": 24,
   "id": "e205172a-5861-490d-bb81-077195cacd8e",
   "metadata": {},
   "outputs": [
    {
     "name": "stdout",
     "output_type": "stream",
     "text": [
      "1\n",
      "3\n",
      "2\n"
     ]
    }
   ],
   "source": [
    "for i, m in enumerate(inv_depth_models):\n",
    "    ith_best_idx = sorted_best_model_idx[i]\n",
    "    m.trainable = True\n",
    "    m.load_weights(f\"../../model_training/best_ensemble/best_finetune_weights_{ith_best_idx}.h5\")\n",
    "    m.trainable = False"
   ]
  },
  {
   "cell_type": "markdown",
   "id": "4e874c41-1bff-49ef-b089-29501346f2e9",
   "metadata": {},
   "source": [
    "# Make predictions"
   ]
  },
  {
   "cell_type": "code",
   "execution_count": 26,
   "id": "bf5ba549-3001-4d12-9ea7-1e3f7e2b17e2",
   "metadata": {},
   "outputs": [],
   "source": [
    "for zstack_dir in zstack_dirs:\n",
    "    ### Load data ###\n",
    "    zpaths = zs.zstack_paths_from_dir(zstack_dir, descending=descending)\n",
    "    x = data_prep.prep_inv_depth_imgs(zpaths, resnet_inp_shape[:-1])\n",
    "    # Convert to tensor before calling predict() to speed up execution\n",
    "    x = tf.convert_to_tensor(x, dtype=\"float\")\n",
    "\n",
    "    \n",
    "    ### Make predictions ###\n",
    "    # Probability predictions of each model\n",
    "    yhatp_m = np.array(\n",
    "        d.compute([d.delayed(m.predict)(x).squeeze() for m in inv_depth_models])[0]\n",
    "    ).T\n",
    "    # Mean probability predictions (ensemble predictions)\n",
    "    yhatp = np.mean(yhatp_m, axis=1, keepdims=True)\n",
    "    # Threshold probability predictions\n",
    "    yhat = (yhatp > cls_thresh).astype(np.int32)\n",
    "\n",
    "    \n",
    "    ### Save outputs ###\n",
    "    zstack_id = zstack_dir.split(\"/\")[-1]\n",
    "    output_file = pd.DataFrame({\"img_name\": [zp.split(\"/\")[-1] for zp in zpaths], \"inv_prob\": yhatp.squeeze(), \"inv_label\": yhat.squeeze()})\n",
    "    output_file.to_csv(f\"{inv_depth_output_path}/{zstack_id}.csv\", index=False)"
   ]
  },
  {
   "cell_type": "code",
   "execution_count": null,
   "id": "ff3ef114-657d-40e7-9816-297f2c01efe5",
   "metadata": {},
   "outputs": [],
   "source": []
  }
 ],
 "metadata": {
  "kernelspec": {
   "display_name": "Python 3 (ipykernel)",
   "language": "python",
   "name": "python3"
  },
  "language_info": {
   "codemirror_mode": {
    "name": "ipython",
    "version": 3
   },
   "file_extension": ".py",
   "mimetype": "text/x-python",
   "name": "python",
   "nbconvert_exporter": "python",
   "pygments_lexer": "ipython3",
   "version": "3.9.10"
  }
 },
 "nbformat": 4,
 "nbformat_minor": 5
}
