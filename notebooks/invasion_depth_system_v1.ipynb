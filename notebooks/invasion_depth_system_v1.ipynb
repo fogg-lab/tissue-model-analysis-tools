{
 "cells": [
  {
   "cell_type": "code",
   "execution_count": 1,
   "id": "a63aa2ab-dcb9-49c8-b934-ae73d8c341b1",
   "metadata": {},
   "outputs": [],
   "source": [
    "import tensorflow.keras.backend as K\n",
    "import tensorflow as tf\n",
    "import numpy as np\n",
    "import pandas as pd\n",
    "import dask as d\n",
    "import os\n",
    "import json\n",
    "from glob import glob"
   ]
  },
  {
   "cell_type": "code",
   "execution_count": 2,
   "id": "f6f43ee8-0be1-43b9-9bba-ec79b2a09482",
   "metadata": {},
   "outputs": [],
   "source": [
    "from fl_tissue_model_tools import data_prep, dev_config, models, defs, zstacks\n",
    "import fl_tissue_model_tools.preprocessing as prep"
   ]
  },
  {
   "cell_type": "code",
   "execution_count": 3,
   "id": "10f90dd8-fe43-417e-9f37-179dcfc8fdf9",
   "metadata": {},
   "outputs": [],
   "source": [
    "dirs = dev_config.get_dev_directories(\"../dev_paths.txt\")"
   ]
  },
  {
   "cell_type": "code",
   "execution_count": 4,
   "id": "fbe5c532-11b5-435d-8d37-ed5f1a14704b",
   "metadata": {},
   "outputs": [],
   "source": [
    "with open(\"../model_training/invasion_depth_best_hp.json\", 'r') as fp:\n",
    "    best_hp = json.load(fp)"
   ]
  },
  {
   "cell_type": "code",
   "execution_count": 5,
   "id": "dfcaa499-1690-44d7-9f50-407b0e0be310",
   "metadata": {},
   "outputs": [
    {
     "data": {
      "text/plain": [
       "{'adam_beta_1': 0.9066466810625207,\n",
       " 'adam_beta_2': 0.9947698608592066,\n",
       " 'fine_tune_lr': 9.141354728081903e-05,\n",
       " 'frozen_lr': 0.00022767552973325001,\n",
       " 'last_resnet_layer': 'conv5_block1_out'}"
      ]
     },
     "execution_count": 5,
     "metadata": {},
     "output_type": "execute_result"
    }
   ],
   "source": [
    "best_hp"
   ]
  },
  {
   "cell_type": "code",
   "execution_count": 6,
   "id": "40f03bfe-62f7-4f2f-abb3-a64b17b32961",
   "metadata": {},
   "outputs": [],
   "source": [
    "zstacks_root_path = f\"{dirs.data_dir}/invasion_data/demo\""
   ]
  },
  {
   "cell_type": "code",
   "execution_count": 7,
   "id": "5cf7303c-b4fe-472b-8d22-1ffbee01c7aa",
   "metadata": {},
   "outputs": [],
   "source": [
    "model_training_path = f\"{dirs.analysis_dir}/resnet50_invasion_model\"\n",
    "best_ensemble_training_path = f\"{model_training_path}/best_ensemble\"\n",
    "inv_depth_output_path = f\"{dirs.analysis_dir}/invasion_depth_output\"\n",
    "\n",
    "# Binary classification -> only need 1 output unit\n",
    "cls_thresh = 0.5\n",
    "n_outputs = 1\n",
    "resnet_inp_shape = (128, 128, 3)\n",
    "class_labels = {\"no_invasion\": 0, \"invasion\": 1}\n",
    "last_resnet_layer = best_hp[\"last_resnet_layer\"]\n",
    "# Zstack index meaning (descending: 0 -> bottom of well, ascending: 0 -> top of well)\n",
    "descending = True"
   ]
  },
  {
   "cell_type": "code",
   "execution_count": 8,
   "id": "30283492-682f-4c87-87d6-f6f04ae9b514",
   "metadata": {},
   "outputs": [],
   "source": [
    "data_prep.make_dir(inv_depth_output_path)"
   ]
  },
  {
   "cell_type": "code",
   "execution_count": 9,
   "id": "d419ad3b-9de2-48e3-ae38-085f3f048d70",
   "metadata": {},
   "outputs": [],
   "source": [
    "zstack_dirs = [fp.replace(\"\\\\\", \"/\") for fp in glob(f\"{zstacks_root_path}/*\")]"
   ]
  },
  {
   "cell_type": "code",
   "execution_count": 10,
   "id": "fe6bb628-df60-4056-84b8-219e61a7b014",
   "metadata": {},
   "outputs": [
    {
     "data": {
      "text/plain": [
       "['D:/fogg_lab_tissue_model_data/invasion_data/demo/03_17_2022_A1_Caski_paclitaxel_Ines_Cadena',\n",
       " 'D:/fogg_lab_tissue_model_data/invasion_data/demo/08_31_2021_E5_SiHa_validation_Ines_Cadena',\n",
       " 'D:/fogg_lab_tissue_model_data/invasion_data/demo/09_08_2021_C1_HEC_DOE_Ines_Cadena']"
      ]
     },
     "execution_count": 10,
     "metadata": {},
     "output_type": "execute_result"
    }
   ],
   "source": [
    "zstack_dirs"
   ]
  },
  {
   "cell_type": "markdown",
   "id": "711ee223-4389-4b61-bbef-2e0a44f39a9a",
   "metadata": {
    "tags": []
   },
   "source": [
    "# Build models"
   ]
  },
  {
   "cell_type": "code",
   "execution_count": 11,
   "id": "651adbab-cd86-4035-b18e-c6231540cd6f",
   "metadata": {},
   "outputs": [],
   "source": [
    "n_models = 5"
   ]
  },
  {
   "cell_type": "code",
   "execution_count": 12,
   "id": "bc7fb4ee-48e0-49ed-8283-26047ac5cf0f",
   "metadata": {},
   "outputs": [],
   "source": [
    "K.clear_session()\n",
    "inv_depth_models = [\n",
    "    models.build_ResNet50_TL(n_outputs, resnet_inp_shape, base_last_layer=last_resnet_layer, base_model_trainable=False) for _ in range(n_models)\n",
    "]"
   ]
  },
  {
   "cell_type": "code",
   "execution_count": 13,
   "id": "b0eaf626-3e63-49b4-bda6-3ab39282d8b3",
   "metadata": {
    "tags": []
   },
   "outputs": [],
   "source": [
    "for i, m in enumerate(inv_depth_models):\n",
    "    # Weights don't load properly in trainable set to False for model\n",
    "    # Set trainable to True, load weights, then set back to False\n",
    "    m.trainable = True\n",
    "    m.load_weights(f\"../model_training/best_ensemble/best_finetune_weights_{i}.h5\")\n",
    "    # m.load_weights(f\"{best_ensemble_training_path}/best_finetune_weights_{i}.h5\")\n",
    "    m.trainable = False"
   ]
  },
  {
   "cell_type": "markdown",
   "id": "4e874c41-1bff-49ef-b089-29501346f2e9",
   "metadata": {},
   "source": [
    "# Make predictions"
   ]
  },
  {
   "cell_type": "code",
   "execution_count": 14,
   "id": "bf5ba549-3001-4d12-9ea7-1e3f7e2b17e2",
   "metadata": {},
   "outputs": [
    {
     "name": "stdout",
     "output_type": "stream",
     "text": [
      "WARNING:tensorflow:5 out of the last 5 calls to <function Model.make_predict_function.<locals>.predict_function at 0x000001E427F40310> triggered tf.function retracing. Tracing is expensive and the excessive number of tracings could be due to (1) creating @tf.function repeatedly in a loop, (2) passing tensors with different shapes, (3) passing Python objects instead of tensors. For (1), please define your @tf.function outside of the loop. For (2), @tf.function has experimental_relax_shapes=True option that relaxes argument shapes that can avoid unnecessary retracing. For (3), please refer to https://www.tensorflow.org/guide/function#controlling_retracing and https://www.tensorflow.org/api_docs/python/tf/function for  more details.\n"
     ]
    }
   ],
   "source": [
    "for zstack_dir in zstack_dirs:\n",
    "    ### Load data ###\n",
    "    zpaths = zstacks.z_stack_paths_from_dir(zstack_dir, descending=descending)\n",
    "    x = data_prep.prep_inv_depth_imgs(zpaths, resnet_inp_shape[:-1])\n",
    "    # Convert to tensor before calling predict() to speed up execution\n",
    "    x = tf.convert_to_tensor(x, dtype=\"float\")\n",
    "    \n",
    "    ### Make predictions ###\n",
    "    # Probability predictions of each model\n",
    "    yhatp_m = np.array(\n",
    "        d.compute([d.delayed(m.predict)(x).squeeze() for m in inv_depth_models])[0]\n",
    "    ).T\n",
    "    # Mean probability predictions (ensemble predictions)\n",
    "    yhatp = np.mean(yhatp_m, axis=1, keepdims=True)\n",
    "    # Threshold probability predictions\n",
    "    yhat = (yhatp > cls_thresh).astype(np.int32)\n",
    "    \n",
    "    ### Save outputs ###\n",
    "    zstack_id = zstack_dir.split(\"/\")[-1]\n",
    "    \n",
    "    output_file = pd.DataFrame({\"img_name\": [zp.split(\"/\")[-1] for zp in zpaths], \"inv_prob\": yhatp.squeeze(), \"inv_label\": yhat.squeeze()})\n",
    "    output_file.to_csv(f\"{inv_depth_output_path}/{zstack_id}.csv\", index=False)"
   ]
  },
  {
   "cell_type": "code",
   "execution_count": null,
   "id": "06bd424f-6107-4f5c-a58a-20d451608a5a",
   "metadata": {},
   "outputs": [],
   "source": []
  },
  {
   "cell_type": "code",
   "execution_count": null,
   "id": "ce795c24-c8a3-4c62-be37-ed56a58e10b4",
   "metadata": {},
   "outputs": [],
   "source": []
  },
  {
   "cell_type": "code",
   "execution_count": null,
   "id": "4c3f8676-e269-4a4d-b6c0-a9b1a0d46f84",
   "metadata": {},
   "outputs": [],
   "source": []
  },
  {
   "cell_type": "code",
   "execution_count": null,
   "id": "045fbbda-f552-4b70-aa31-bfdff4e6c64c",
   "metadata": {},
   "outputs": [],
   "source": []
  },
  {
   "cell_type": "code",
   "execution_count": null,
   "id": "ff3ef114-657d-40e7-9816-297f2c01efe5",
   "metadata": {},
   "outputs": [],
   "source": []
  }
 ],
 "metadata": {
  "kernelspec": {
   "display_name": "Python 3 (ipykernel)",
   "language": "python",
   "name": "python3"
  },
  "language_info": {
   "codemirror_mode": {
    "name": "ipython",
    "version": 3
   },
   "file_extension": ".py",
   "mimetype": "text/x-python",
   "name": "python",
   "nbconvert_exporter": "python",
   "pygments_lexer": "ipython3",
   "version": "3.9.10"
  }
 },
 "nbformat": 4,
 "nbformat_minor": 5
}
