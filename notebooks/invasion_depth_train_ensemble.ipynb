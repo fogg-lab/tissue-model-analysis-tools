{
 "cells": [
  {
   "cell_type": "code",
   "execution_count": 1,
   "id": "4e3fda67-1c96-4e76-b714-c4553b840390",
   "metadata": {},
   "outputs": [],
   "source": [
    "import tensorflow.keras.backend as K\n",
    "import numpy as np\n",
    "import pandas as pd\n",
    "import json\n",
    "import multiprocessing\n",
    "import matplotlib.pyplot as plt\n",
    "\n",
    "from glob import glob\n",
    "from copy import deepcopy\n",
    "from tensorflow.keras.optimizers import Adam\n",
    "from tensorflow.keras.losses import BinaryCrossentropy\n",
    "from tensorflow.keras.metrics import BinaryAccuracy\n",
    "from tensorflow.keras.callbacks import EarlyStopping, ModelCheckpoint"
   ]
  },
  {
   "cell_type": "code",
   "execution_count": 2,
   "id": "34f8a8c0-1821-4639-b8a3-031341d0d00f",
   "metadata": {},
   "outputs": [
    {
     "data": {
      "text/plain": [
       "16"
      ]
     },
     "execution_count": 2,
     "metadata": {},
     "output_type": "execute_result"
    }
   ],
   "source": [
    "n_cores = multiprocessing.cpu_count()\n",
    "n_cores"
   ]
  },
  {
   "cell_type": "code",
   "execution_count": 3,
   "id": "26c06c6c-a3d2-4df5-9b22-5880930e07e3",
   "metadata": {},
   "outputs": [],
   "source": [
    "from fl_tissue_model_tools import data_prep, dev_config, models, defs\n",
    "import fl_tissue_model_tools.preprocessing as prep"
   ]
  },
  {
   "cell_type": "code",
   "execution_count": 4,
   "id": "265b2045-c3a3-410a-ba3d-924364c085b9",
   "metadata": {},
   "outputs": [],
   "source": [
    "dirs = dev_config.get_dev_directories(\"../dev_paths.txt\")"
   ]
  },
  {
   "cell_type": "markdown",
   "id": "9f83bf99-aba4-4667-a925-c6709628c61e",
   "metadata": {
    "tags": []
   },
   "source": [
    "# Set up model training parameters"
   ]
  },
  {
   "cell_type": "code",
   "execution_count": 5,
   "id": "6b0ea7ff-8c20-494e-b789-66caa1027bc4",
   "metadata": {},
   "outputs": [],
   "source": [
    "with open(\"../model_training/invasion_depth_training_values.json\", 'r') as fp:\n",
    "    training_values = json.load(fp)\n",
    "training_values[\"rs_seed\"] = None if (training_values[\"rs_seed\"] == \"None\") else training_values[\"rs_seed\"]"
   ]
  },
  {
   "cell_type": "code",
   "execution_count": 6,
   "id": "0f239973-4a2f-4f06-9520-7fbd336681fc",
   "metadata": {},
   "outputs": [
    {
     "data": {
      "text/plain": [
       "{'batch_size': 32,\n",
       " 'frozen_epochs': 50,\n",
       " 'fine_tune_epochs': 50,\n",
       " 'val_split': 0.2,\n",
       " 'early_stopping_patience': 25,\n",
       " 'early_stopping_min_delta': 0.0001,\n",
       " 'rs_seed': None}"
      ]
     },
     "execution_count": 6,
     "metadata": {},
     "output_type": "execute_result"
    }
   ],
   "source": [
    "training_values"
   ]
  },
  {
   "cell_type": "code",
   "execution_count": 7,
   "id": "6219e343-6dd0-4914-9ebb-71ead115e741",
   "metadata": {},
   "outputs": [],
   "source": [
    "with open(\"../model_training/invasion_depth_best_hp.json\", 'r') as fp:\n",
    "    best_hp = json.load(fp)"
   ]
  },
  {
   "cell_type": "code",
   "execution_count": 8,
   "id": "83441480-eb57-46c2-bc64-73e1471fa291",
   "metadata": {},
   "outputs": [
    {
     "data": {
      "text/plain": [
       "{'adam_beta_1': 0.9066466810625207,\n",
       " 'adam_beta_2': 0.9947698608592066,\n",
       " 'fine_tune_lr': 9.141354728081903e-05,\n",
       " 'frozen_lr': 0.00022767552973325001,\n",
       " 'last_resnet_layer': 'conv5_block1_out'}"
      ]
     },
     "execution_count": 8,
     "metadata": {},
     "output_type": "execute_result"
    }
   ],
   "source": [
    "best_hp"
   ]
  },
  {
   "cell_type": "code",
   "execution_count": 9,
   "id": "1de6e2f8-c3ee-417e-9594-57c810017bc2",
   "metadata": {},
   "outputs": [],
   "source": [
    "### Data paths ###\n",
    "root_data_path = f\"{dirs.data_dir}/invasion_data/\"\n",
    "model_training_path = f\"{dirs.analysis_dir}/resnet50_invasion_model\"\n",
    "best_ensemble_training_path = f\"{model_training_path}/best_ensemble\"\n",
    "\n",
    "\n",
    "### Model building & training parameters ###\n",
    "resnet_inp_shape = (128, 128, 3)\n",
    "class_labels = {\"no_invasion\": 0, \"invasion\": 1}\n",
    "\n",
    "# Binary classification -> only need 1 output unit\n",
    "n_outputs = 1\n",
    "seed = training_values[\"rs_seed\"]\n",
    "val_split = training_values[\"val_split\"]\n",
    "batch_size = training_values[\"batch_size\"]\n",
    "frozen_epochs = training_values[\"frozen_epochs\"]\n",
    "fine_tune_epochs = training_values[\"fine_tune_epochs\"]\n",
    "# frozen_epochs = 5\n",
    "# fine_tune_epochs = 5\n",
    "adam_beta_1 = best_hp[\"adam_beta_1\"]\n",
    "adam_beta_2 = best_hp[\"adam_beta_2\"]\n",
    "frozen_lr = best_hp[\"frozen_lr\"]\n",
    "fine_tune_lr = best_hp[\"fine_tune_lr\"]\n",
    "last_resnet_layer = best_hp[\"last_resnet_layer\"]\n",
    "\n",
    "\n",
    "### Early stopping ###\n",
    "es_criterion = \"val_loss\"\n",
    "es_mode = \"min\"\n",
    "# Update these depending on seriousness of experiment\n",
    "es_patience = training_values[\"early_stopping_patience\"]\n",
    "es_min_delta = training_values[\"early_stopping_min_delta\"]\n",
    "\n",
    "\n",
    "### Model saving ###\n",
    "mcp_criterion = \"val_loss\"\n",
    "mcp_mode = \"min\"\n",
    "mcp_best_only = True\n",
    "# Need to set to True otherwise base model \"layer\" won't save/load properly\n",
    "mcp_weights_only = True"
   ]
  },
  {
   "cell_type": "code",
   "execution_count": 10,
   "id": "cf43b5cd-c723-4bdd-9823-0cf4ccd07dfb",
   "metadata": {},
   "outputs": [],
   "source": [
    "data_prep.make_dir(best_ensemble_training_path)"
   ]
  },
  {
   "cell_type": "code",
   "execution_count": 11,
   "id": "6ca7f862-2ab2-48a5-be82-f49ed56d09e7",
   "metadata": {},
   "outputs": [],
   "source": [
    "rs = np.random.RandomState(seed)"
   ]
  },
  {
   "cell_type": "markdown",
   "id": "709deb25-98f6-4e7a-b2c7-46c1b86232f3",
   "metadata": {},
   "source": [
    "# Train ensemble of models using best hyperparameters"
   ]
  },
  {
   "cell_type": "code",
   "execution_count": 12,
   "id": "62452aee-5e8e-4eb5-bb3e-0d0412e84916",
   "metadata": {},
   "outputs": [],
   "source": [
    "n_models = 5"
   ]
  },
  {
   "cell_type": "code",
   "execution_count": 13,
   "id": "c1edb48e-6e79-47a9-a80e-acdaf3b22b1a",
   "metadata": {
    "collapsed": true,
    "jupyter": {
     "outputs_hidden": true
    },
    "tags": []
   },
   "outputs": [
    {
     "name": "stdout",
     "output_type": "stream",
     "text": [
      "Epoch 1/5\n",
      "16/16 [==============================] - 13s 310ms/step - loss: 0.7148 - binary_accuracy: 0.5553 - val_loss: 0.6388 - val_binary_accuracy: 0.6125\n",
      "Epoch 2/5\n",
      "16/16 [==============================] - 5s 224ms/step - loss: 0.6100 - binary_accuracy: 0.6551 - val_loss: 0.5786 - val_binary_accuracy: 0.7489\n",
      "Epoch 3/5\n",
      "16/16 [==============================] - 5s 217ms/step - loss: 0.5361 - binary_accuracy: 0.7393 - val_loss: 0.5006 - val_binary_accuracy: 0.7998\n",
      "Epoch 4/5\n",
      "16/16 [==============================] - 6s 237ms/step - loss: 0.5050 - binary_accuracy: 0.7284 - val_loss: 0.4913 - val_binary_accuracy: 0.7281\n",
      "Epoch 5/5\n",
      "16/16 [==============================] - 5s 218ms/step - loss: 0.4797 - binary_accuracy: 0.7914 - val_loss: 0.4995 - val_binary_accuracy: 0.7750\n",
      "Epoch 1/5\n",
      "16/16 [==============================] - 14s 357ms/step - loss: 0.6812 - binary_accuracy: 0.7228 - val_loss: 0.4500 - val_binary_accuracy: 0.7783\n",
      "Epoch 2/5\n",
      "16/16 [==============================] - 6s 262ms/step - loss: 0.4016 - binary_accuracy: 0.8211 - val_loss: 0.4103 - val_binary_accuracy: 0.7922\n",
      "Epoch 3/5\n",
      "16/16 [==============================] - 6s 258ms/step - loss: 0.3980 - binary_accuracy: 0.7854 - val_loss: 0.4059 - val_binary_accuracy: 0.7894\n",
      "Epoch 4/5\n",
      "16/16 [==============================] - 6s 253ms/step - loss: 0.3235 - binary_accuracy: 0.8436 - val_loss: 0.4257 - val_binary_accuracy: 0.8133\n",
      "Epoch 5/5\n",
      "16/16 [==============================] - 6s 249ms/step - loss: 0.2848 - binary_accuracy: 0.8802 - val_loss: 0.5081 - val_binary_accuracy: 0.7839\n",
      "Epoch 1/5\n",
      "16/16 [==============================] - 10s 297ms/step - loss: 0.7890 - binary_accuracy: 0.5512 - val_loss: 0.6965 - val_binary_accuracy: 0.6148\n",
      "Epoch 2/5\n",
      "16/16 [==============================] - 5s 232ms/step - loss: 0.6466 - binary_accuracy: 0.6536 - val_loss: 0.5759 - val_binary_accuracy: 0.7179\n",
      "Epoch 3/5\n",
      "16/16 [==============================] - 5s 214ms/step - loss: 0.5773 - binary_accuracy: 0.6764 - val_loss: 0.4984 - val_binary_accuracy: 0.7922\n",
      "Epoch 4/5\n",
      "16/16 [==============================] - 5s 223ms/step - loss: 0.5070 - binary_accuracy: 0.7648 - val_loss: 0.4678 - val_binary_accuracy: 0.7559\n",
      "Epoch 5/5\n",
      "16/16 [==============================] - 5s 210ms/step - loss: 0.4535 - binary_accuracy: 0.8038 - val_loss: 0.4109 - val_binary_accuracy: 0.8517\n",
      "Epoch 1/5\n",
      "16/16 [==============================] - 14s 352ms/step - loss: 1.0043 - binary_accuracy: 0.6339 - val_loss: 0.4921 - val_binary_accuracy: 0.8068\n",
      "Epoch 2/5\n",
      "16/16 [==============================] - 6s 272ms/step - loss: 0.4629 - binary_accuracy: 0.7706 - val_loss: 0.4186 - val_binary_accuracy: 0.8167\n",
      "Epoch 3/5\n",
      "16/16 [==============================] - 6s 267ms/step - loss: 0.4031 - binary_accuracy: 0.7925 - val_loss: 0.3610 - val_binary_accuracy: 0.8318\n",
      "Epoch 4/5\n",
      "16/16 [==============================] - 6s 250ms/step - loss: 0.5207 - binary_accuracy: 0.7351 - val_loss: 0.6892 - val_binary_accuracy: 0.6135\n",
      "Epoch 5/5\n",
      "16/16 [==============================] - 6s 252ms/step - loss: 0.5136 - binary_accuracy: 0.7211 - val_loss: 0.5093 - val_binary_accuracy: 0.7112\n",
      "Epoch 1/5\n",
      "16/16 [==============================] - 11s 359ms/step - loss: 0.7122 - binary_accuracy: 0.5402 - val_loss: 0.6171 - val_binary_accuracy: 0.6742\n",
      "Epoch 2/5\n",
      "16/16 [==============================] - ETA: 0s - loss: 0.5821 - binary_accuracy: 0.7155"
     ]
    },
    {
     "ename": "KeyboardInterrupt",
     "evalue": "",
     "output_type": "error",
     "traceback": [
      "\u001b[1;31m---------------------------------------------------------------------------\u001b[0m",
      "\u001b[1;31mKeyboardInterrupt\u001b[0m                         Traceback (most recent call last)",
      "Input \u001b[1;32mIn [13]\u001b[0m, in \u001b[0;36m<cell line: 1>\u001b[1;34m()\u001b[0m\n\u001b[0;32m     54\u001b[0m es_callback \u001b[38;5;241m=\u001b[39m EarlyStopping(monitor\u001b[38;5;241m=\u001b[39mes_criterion, mode\u001b[38;5;241m=\u001b[39mes_mode, min_delta\u001b[38;5;241m=\u001b[39mes_min_delta, patience\u001b[38;5;241m=\u001b[39mes_patience)\n\u001b[0;32m     55\u001b[0m mcp_callback \u001b[38;5;241m=\u001b[39m ModelCheckpoint(mcp_best_frozen_weights_file, monitor\u001b[38;5;241m=\u001b[39mmcp_criterion, mode\u001b[38;5;241m=\u001b[39mmcp_mode, save_best_only\u001b[38;5;241m=\u001b[39mmcp_best_only, save_weights_only\u001b[38;5;241m=\u001b[39mmcp_weights_only)\n\u001b[1;32m---> 57\u001b[0m h1 \u001b[38;5;241m=\u001b[39m \u001b[43mtl_model\u001b[49m\u001b[38;5;241;43m.\u001b[39;49m\u001b[43mfit\u001b[49m\u001b[43m(\u001b[49m\n\u001b[0;32m     58\u001b[0m \u001b[43m    \u001b[49m\u001b[43mtrain_datagen\u001b[49m\u001b[43m,\u001b[49m\n\u001b[0;32m     59\u001b[0m \u001b[43m    \u001b[49m\u001b[43mvalidation_data\u001b[49m\u001b[38;5;241;43m=\u001b[39;49m\u001b[43mval_datagen\u001b[49m\u001b[43m,\u001b[49m\n\u001b[0;32m     60\u001b[0m \u001b[43m    \u001b[49m\u001b[43mepochs\u001b[49m\u001b[38;5;241;43m=\u001b[39;49m\u001b[43mfrozen_epochs\u001b[49m\u001b[43m,\u001b[49m\n\u001b[0;32m     61\u001b[0m \u001b[43m    \u001b[49m\u001b[43mcallbacks\u001b[49m\u001b[38;5;241;43m=\u001b[39;49m\u001b[43m[\u001b[49m\u001b[43mes_callback\u001b[49m\u001b[43m,\u001b[49m\u001b[43m \u001b[49m\u001b[43mmcp_callback\u001b[49m\u001b[43m]\u001b[49m\u001b[43m,\u001b[49m\n\u001b[0;32m     62\u001b[0m \u001b[43m    \u001b[49m\u001b[43mworkers\u001b[49m\u001b[38;5;241;43m=\u001b[39;49m\u001b[43mn_cores\u001b[49m\n\u001b[0;32m     63\u001b[0m \u001b[43m\u001b[49m\u001b[43m)\u001b[49m\n\u001b[0;32m     66\u001b[0m \u001b[38;5;66;03m### Finetune training ###\u001b[39;00m\n\u001b[0;32m     67\u001b[0m \u001b[38;5;66;03m# Load best frozen weights before fine tuning\u001b[39;00m\n\u001b[0;32m     68\u001b[0m tl_model\u001b[38;5;241m.\u001b[39mload_weights(mcp_best_frozen_weights_file)\n",
      "File \u001b[1;32m~\\anaconda3\\envs\\fogg-lab-tissue-model-analysis-tools-env\\lib\\site-packages\\keras\\engine\\training.py:1215\u001b[0m, in \u001b[0;36mModel.fit\u001b[1;34m(self, x, y, batch_size, epochs, verbose, callbacks, validation_split, validation_data, shuffle, class_weight, sample_weight, initial_epoch, steps_per_epoch, validation_steps, validation_batch_size, validation_freq, max_queue_size, workers, use_multiprocessing)\u001b[0m\n\u001b[0;32m   1201\u001b[0m \u001b[38;5;28;01mif\u001b[39;00m \u001b[38;5;28mgetattr\u001b[39m(\u001b[38;5;28mself\u001b[39m, \u001b[38;5;124m'\u001b[39m\u001b[38;5;124m_eval_data_handler\u001b[39m\u001b[38;5;124m'\u001b[39m, \u001b[38;5;28;01mNone\u001b[39;00m) \u001b[38;5;129;01mis\u001b[39;00m \u001b[38;5;28;01mNone\u001b[39;00m:\n\u001b[0;32m   1202\u001b[0m   \u001b[38;5;28mself\u001b[39m\u001b[38;5;241m.\u001b[39m_eval_data_handler \u001b[38;5;241m=\u001b[39m data_adapter\u001b[38;5;241m.\u001b[39mget_data_handler(\n\u001b[0;32m   1203\u001b[0m       x\u001b[38;5;241m=\u001b[39mval_x,\n\u001b[0;32m   1204\u001b[0m       y\u001b[38;5;241m=\u001b[39mval_y,\n\u001b[1;32m   (...)\u001b[0m\n\u001b[0;32m   1213\u001b[0m       model\u001b[38;5;241m=\u001b[39m\u001b[38;5;28mself\u001b[39m,\n\u001b[0;32m   1214\u001b[0m       steps_per_execution\u001b[38;5;241m=\u001b[39m\u001b[38;5;28mself\u001b[39m\u001b[38;5;241m.\u001b[39m_steps_per_execution)\n\u001b[1;32m-> 1215\u001b[0m val_logs \u001b[38;5;241m=\u001b[39m \u001b[38;5;28;43mself\u001b[39;49m\u001b[38;5;241;43m.\u001b[39;49m\u001b[43mevaluate\u001b[49m\u001b[43m(\u001b[49m\n\u001b[0;32m   1216\u001b[0m \u001b[43m    \u001b[49m\u001b[43mx\u001b[49m\u001b[38;5;241;43m=\u001b[39;49m\u001b[43mval_x\u001b[49m\u001b[43m,\u001b[49m\n\u001b[0;32m   1217\u001b[0m \u001b[43m    \u001b[49m\u001b[43my\u001b[49m\u001b[38;5;241;43m=\u001b[39;49m\u001b[43mval_y\u001b[49m\u001b[43m,\u001b[49m\n\u001b[0;32m   1218\u001b[0m \u001b[43m    \u001b[49m\u001b[43msample_weight\u001b[49m\u001b[38;5;241;43m=\u001b[39;49m\u001b[43mval_sample_weight\u001b[49m\u001b[43m,\u001b[49m\n\u001b[0;32m   1219\u001b[0m \u001b[43m    \u001b[49m\u001b[43mbatch_size\u001b[49m\u001b[38;5;241;43m=\u001b[39;49m\u001b[43mvalidation_batch_size\u001b[49m\u001b[43m \u001b[49m\u001b[38;5;129;43;01mor\u001b[39;49;00m\u001b[43m \u001b[49m\u001b[43mbatch_size\u001b[49m\u001b[43m,\u001b[49m\n\u001b[0;32m   1220\u001b[0m \u001b[43m    \u001b[49m\u001b[43msteps\u001b[49m\u001b[38;5;241;43m=\u001b[39;49m\u001b[43mvalidation_steps\u001b[49m\u001b[43m,\u001b[49m\n\u001b[0;32m   1221\u001b[0m \u001b[43m    \u001b[49m\u001b[43mcallbacks\u001b[49m\u001b[38;5;241;43m=\u001b[39;49m\u001b[43mcallbacks\u001b[49m\u001b[43m,\u001b[49m\n\u001b[0;32m   1222\u001b[0m \u001b[43m    \u001b[49m\u001b[43mmax_queue_size\u001b[49m\u001b[38;5;241;43m=\u001b[39;49m\u001b[43mmax_queue_size\u001b[49m\u001b[43m,\u001b[49m\n\u001b[0;32m   1223\u001b[0m \u001b[43m    \u001b[49m\u001b[43mworkers\u001b[49m\u001b[38;5;241;43m=\u001b[39;49m\u001b[43mworkers\u001b[49m\u001b[43m,\u001b[49m\n\u001b[0;32m   1224\u001b[0m \u001b[43m    \u001b[49m\u001b[43muse_multiprocessing\u001b[49m\u001b[38;5;241;43m=\u001b[39;49m\u001b[43muse_multiprocessing\u001b[49m\u001b[43m,\u001b[49m\n\u001b[0;32m   1225\u001b[0m \u001b[43m    \u001b[49m\u001b[43mreturn_dict\u001b[49m\u001b[38;5;241;43m=\u001b[39;49m\u001b[38;5;28;43;01mTrue\u001b[39;49;00m\u001b[43m,\u001b[49m\n\u001b[0;32m   1226\u001b[0m \u001b[43m    \u001b[49m\u001b[43m_use_cached_eval_dataset\u001b[49m\u001b[38;5;241;43m=\u001b[39;49m\u001b[38;5;28;43;01mTrue\u001b[39;49;00m\u001b[43m)\u001b[49m\n\u001b[0;32m   1227\u001b[0m val_logs \u001b[38;5;241m=\u001b[39m {\u001b[38;5;124m'\u001b[39m\u001b[38;5;124mval_\u001b[39m\u001b[38;5;124m'\u001b[39m \u001b[38;5;241m+\u001b[39m name: val \u001b[38;5;28;01mfor\u001b[39;00m name, val \u001b[38;5;129;01min\u001b[39;00m val_logs\u001b[38;5;241m.\u001b[39mitems()}\n\u001b[0;32m   1228\u001b[0m epoch_logs\u001b[38;5;241m.\u001b[39mupdate(val_logs)\n",
      "File \u001b[1;32m~\\anaconda3\\envs\\fogg-lab-tissue-model-analysis-tools-env\\lib\\site-packages\\keras\\engine\\training.py:1501\u001b[0m, in \u001b[0;36mModel.evaluate\u001b[1;34m(self, x, y, batch_size, verbose, sample_weight, steps, callbacks, max_queue_size, workers, use_multiprocessing, return_dict, **kwargs)\u001b[0m\n\u001b[0;32m   1499\u001b[0m \u001b[38;5;28;01mwith\u001b[39;00m tf\u001b[38;5;241m.\u001b[39mprofiler\u001b[38;5;241m.\u001b[39mexperimental\u001b[38;5;241m.\u001b[39mTrace(\u001b[38;5;124m'\u001b[39m\u001b[38;5;124mtest\u001b[39m\u001b[38;5;124m'\u001b[39m, step_num\u001b[38;5;241m=\u001b[39mstep, _r\u001b[38;5;241m=\u001b[39m\u001b[38;5;241m1\u001b[39m):\n\u001b[0;32m   1500\u001b[0m   callbacks\u001b[38;5;241m.\u001b[39mon_test_batch_begin(step)\n\u001b[1;32m-> 1501\u001b[0m   tmp_logs \u001b[38;5;241m=\u001b[39m \u001b[38;5;28;43mself\u001b[39;49m\u001b[38;5;241;43m.\u001b[39;49m\u001b[43mtest_function\u001b[49m\u001b[43m(\u001b[49m\u001b[43miterator\u001b[49m\u001b[43m)\u001b[49m\n\u001b[0;32m   1502\u001b[0m   \u001b[38;5;28;01mif\u001b[39;00m data_handler\u001b[38;5;241m.\u001b[39mshould_sync:\n\u001b[0;32m   1503\u001b[0m     context\u001b[38;5;241m.\u001b[39masync_wait()\n",
      "File \u001b[1;32m~\\anaconda3\\envs\\fogg-lab-tissue-model-analysis-tools-env\\lib\\site-packages\\tensorflow\\python\\eager\\def_function.py:885\u001b[0m, in \u001b[0;36mFunction.__call__\u001b[1;34m(self, *args, **kwds)\u001b[0m\n\u001b[0;32m    882\u001b[0m compiler \u001b[38;5;241m=\u001b[39m \u001b[38;5;124m\"\u001b[39m\u001b[38;5;124mxla\u001b[39m\u001b[38;5;124m\"\u001b[39m \u001b[38;5;28;01mif\u001b[39;00m \u001b[38;5;28mself\u001b[39m\u001b[38;5;241m.\u001b[39m_jit_compile \u001b[38;5;28;01melse\u001b[39;00m \u001b[38;5;124m\"\u001b[39m\u001b[38;5;124mnonXla\u001b[39m\u001b[38;5;124m\"\u001b[39m\n\u001b[0;32m    884\u001b[0m \u001b[38;5;28;01mwith\u001b[39;00m OptionalXlaContext(\u001b[38;5;28mself\u001b[39m\u001b[38;5;241m.\u001b[39m_jit_compile):\n\u001b[1;32m--> 885\u001b[0m   result \u001b[38;5;241m=\u001b[39m \u001b[38;5;28mself\u001b[39m\u001b[38;5;241m.\u001b[39m_call(\u001b[38;5;241m*\u001b[39margs, \u001b[38;5;241m*\u001b[39m\u001b[38;5;241m*\u001b[39mkwds)\n\u001b[0;32m    887\u001b[0m new_tracing_count \u001b[38;5;241m=\u001b[39m \u001b[38;5;28mself\u001b[39m\u001b[38;5;241m.\u001b[39mexperimental_get_tracing_count()\n\u001b[0;32m    888\u001b[0m without_tracing \u001b[38;5;241m=\u001b[39m (tracing_count \u001b[38;5;241m==\u001b[39m new_tracing_count)\n",
      "File \u001b[1;32m~\\anaconda3\\envs\\fogg-lab-tissue-model-analysis-tools-env\\lib\\site-packages\\tensorflow\\python\\eager\\def_function.py:924\u001b[0m, in \u001b[0;36mFunction._call\u001b[1;34m(self, *args, **kwds)\u001b[0m\n\u001b[0;32m    921\u001b[0m \u001b[38;5;28mself\u001b[39m\u001b[38;5;241m.\u001b[39m_lock\u001b[38;5;241m.\u001b[39mrelease()\n\u001b[0;32m    922\u001b[0m \u001b[38;5;66;03m# In this case we have not created variables on the first call. So we can\u001b[39;00m\n\u001b[0;32m    923\u001b[0m \u001b[38;5;66;03m# run the first trace but we should fail if variables are created.\u001b[39;00m\n\u001b[1;32m--> 924\u001b[0m results \u001b[38;5;241m=\u001b[39m \u001b[38;5;28mself\u001b[39m\u001b[38;5;241m.\u001b[39m_stateful_fn(\u001b[38;5;241m*\u001b[39margs, \u001b[38;5;241m*\u001b[39m\u001b[38;5;241m*\u001b[39mkwds)\n\u001b[0;32m    925\u001b[0m \u001b[38;5;28;01mif\u001b[39;00m \u001b[38;5;28mself\u001b[39m\u001b[38;5;241m.\u001b[39m_created_variables \u001b[38;5;129;01mand\u001b[39;00m \u001b[38;5;129;01mnot\u001b[39;00m ALLOW_DYNAMIC_VARIABLE_CREATION:\n\u001b[0;32m    926\u001b[0m   \u001b[38;5;28;01mraise\u001b[39;00m \u001b[38;5;167;01mValueError\u001b[39;00m(\u001b[38;5;124m\"\u001b[39m\u001b[38;5;124mCreating variables on a non-first call to a function\u001b[39m\u001b[38;5;124m\"\u001b[39m\n\u001b[0;32m    927\u001b[0m                    \u001b[38;5;124m\"\u001b[39m\u001b[38;5;124m decorated with tf.function.\u001b[39m\u001b[38;5;124m\"\u001b[39m)\n",
      "File \u001b[1;32m~\\anaconda3\\envs\\fogg-lab-tissue-model-analysis-tools-env\\lib\\site-packages\\tensorflow\\python\\eager\\function.py:3039\u001b[0m, in \u001b[0;36mFunction.__call__\u001b[1;34m(self, *args, **kwargs)\u001b[0m\n\u001b[0;32m   3036\u001b[0m \u001b[38;5;28;01mwith\u001b[39;00m \u001b[38;5;28mself\u001b[39m\u001b[38;5;241m.\u001b[39m_lock:\n\u001b[0;32m   3037\u001b[0m   (graph_function,\n\u001b[0;32m   3038\u001b[0m    filtered_flat_args) \u001b[38;5;241m=\u001b[39m \u001b[38;5;28mself\u001b[39m\u001b[38;5;241m.\u001b[39m_maybe_define_function(args, kwargs)\n\u001b[1;32m-> 3039\u001b[0m \u001b[38;5;28;01mreturn\u001b[39;00m \u001b[43mgraph_function\u001b[49m\u001b[38;5;241;43m.\u001b[39;49m\u001b[43m_call_flat\u001b[49m\u001b[43m(\u001b[49m\n\u001b[0;32m   3040\u001b[0m \u001b[43m    \u001b[49m\u001b[43mfiltered_flat_args\u001b[49m\u001b[43m,\u001b[49m\u001b[43m \u001b[49m\u001b[43mcaptured_inputs\u001b[49m\u001b[38;5;241;43m=\u001b[39;49m\u001b[43mgraph_function\u001b[49m\u001b[38;5;241;43m.\u001b[39;49m\u001b[43mcaptured_inputs\u001b[49m\u001b[43m)\u001b[49m\n",
      "File \u001b[1;32m~\\anaconda3\\envs\\fogg-lab-tissue-model-analysis-tools-env\\lib\\site-packages\\tensorflow\\python\\eager\\function.py:1963\u001b[0m, in \u001b[0;36mConcreteFunction._call_flat\u001b[1;34m(self, args, captured_inputs, cancellation_manager)\u001b[0m\n\u001b[0;32m   1959\u001b[0m possible_gradient_type \u001b[38;5;241m=\u001b[39m gradients_util\u001b[38;5;241m.\u001b[39mPossibleTapeGradientTypes(args)\n\u001b[0;32m   1960\u001b[0m \u001b[38;5;28;01mif\u001b[39;00m (possible_gradient_type \u001b[38;5;241m==\u001b[39m gradients_util\u001b[38;5;241m.\u001b[39mPOSSIBLE_GRADIENT_TYPES_NONE\n\u001b[0;32m   1961\u001b[0m     \u001b[38;5;129;01mand\u001b[39;00m executing_eagerly):\n\u001b[0;32m   1962\u001b[0m   \u001b[38;5;66;03m# No tape is watching; skip to running the function.\u001b[39;00m\n\u001b[1;32m-> 1963\u001b[0m   \u001b[38;5;28;01mreturn\u001b[39;00m \u001b[38;5;28mself\u001b[39m\u001b[38;5;241m.\u001b[39m_build_call_outputs(\u001b[38;5;28;43mself\u001b[39;49m\u001b[38;5;241;43m.\u001b[39;49m\u001b[43m_inference_function\u001b[49m\u001b[38;5;241;43m.\u001b[39;49m\u001b[43mcall\u001b[49m\u001b[43m(\u001b[49m\n\u001b[0;32m   1964\u001b[0m \u001b[43m      \u001b[49m\u001b[43mctx\u001b[49m\u001b[43m,\u001b[49m\u001b[43m \u001b[49m\u001b[43margs\u001b[49m\u001b[43m,\u001b[49m\u001b[43m \u001b[49m\u001b[43mcancellation_manager\u001b[49m\u001b[38;5;241;43m=\u001b[39;49m\u001b[43mcancellation_manager\u001b[49m\u001b[43m)\u001b[49m)\n\u001b[0;32m   1965\u001b[0m forward_backward \u001b[38;5;241m=\u001b[39m \u001b[38;5;28mself\u001b[39m\u001b[38;5;241m.\u001b[39m_select_forward_and_backward_functions(\n\u001b[0;32m   1966\u001b[0m     args,\n\u001b[0;32m   1967\u001b[0m     possible_gradient_type,\n\u001b[0;32m   1968\u001b[0m     executing_eagerly)\n\u001b[0;32m   1969\u001b[0m forward_function, args_with_tangents \u001b[38;5;241m=\u001b[39m forward_backward\u001b[38;5;241m.\u001b[39mforward()\n",
      "File \u001b[1;32m~\\anaconda3\\envs\\fogg-lab-tissue-model-analysis-tools-env\\lib\\site-packages\\tensorflow\\python\\eager\\function.py:591\u001b[0m, in \u001b[0;36m_EagerDefinedFunction.call\u001b[1;34m(self, ctx, args, cancellation_manager)\u001b[0m\n\u001b[0;32m    589\u001b[0m \u001b[38;5;28;01mwith\u001b[39;00m _InterpolateFunctionError(\u001b[38;5;28mself\u001b[39m):\n\u001b[0;32m    590\u001b[0m   \u001b[38;5;28;01mif\u001b[39;00m cancellation_manager \u001b[38;5;129;01mis\u001b[39;00m \u001b[38;5;28;01mNone\u001b[39;00m:\n\u001b[1;32m--> 591\u001b[0m     outputs \u001b[38;5;241m=\u001b[39m \u001b[43mexecute\u001b[49m\u001b[38;5;241;43m.\u001b[39;49m\u001b[43mexecute\u001b[49m\u001b[43m(\u001b[49m\n\u001b[0;32m    592\u001b[0m \u001b[43m        \u001b[49m\u001b[38;5;28;43mstr\u001b[39;49m\u001b[43m(\u001b[49m\u001b[38;5;28;43mself\u001b[39;49m\u001b[38;5;241;43m.\u001b[39;49m\u001b[43msignature\u001b[49m\u001b[38;5;241;43m.\u001b[39;49m\u001b[43mname\u001b[49m\u001b[43m)\u001b[49m\u001b[43m,\u001b[49m\n\u001b[0;32m    593\u001b[0m \u001b[43m        \u001b[49m\u001b[43mnum_outputs\u001b[49m\u001b[38;5;241;43m=\u001b[39;49m\u001b[38;5;28;43mself\u001b[39;49m\u001b[38;5;241;43m.\u001b[39;49m\u001b[43m_num_outputs\u001b[49m\u001b[43m,\u001b[49m\n\u001b[0;32m    594\u001b[0m \u001b[43m        \u001b[49m\u001b[43minputs\u001b[49m\u001b[38;5;241;43m=\u001b[39;49m\u001b[43margs\u001b[49m\u001b[43m,\u001b[49m\n\u001b[0;32m    595\u001b[0m \u001b[43m        \u001b[49m\u001b[43mattrs\u001b[49m\u001b[38;5;241;43m=\u001b[39;49m\u001b[43mattrs\u001b[49m\u001b[43m,\u001b[49m\n\u001b[0;32m    596\u001b[0m \u001b[43m        \u001b[49m\u001b[43mctx\u001b[49m\u001b[38;5;241;43m=\u001b[39;49m\u001b[43mctx\u001b[49m\u001b[43m)\u001b[49m\n\u001b[0;32m    597\u001b[0m   \u001b[38;5;28;01melse\u001b[39;00m:\n\u001b[0;32m    598\u001b[0m     outputs \u001b[38;5;241m=\u001b[39m execute\u001b[38;5;241m.\u001b[39mexecute_with_cancellation(\n\u001b[0;32m    599\u001b[0m         \u001b[38;5;28mstr\u001b[39m(\u001b[38;5;28mself\u001b[39m\u001b[38;5;241m.\u001b[39msignature\u001b[38;5;241m.\u001b[39mname),\n\u001b[0;32m    600\u001b[0m         num_outputs\u001b[38;5;241m=\u001b[39m\u001b[38;5;28mself\u001b[39m\u001b[38;5;241m.\u001b[39m_num_outputs,\n\u001b[1;32m   (...)\u001b[0m\n\u001b[0;32m    603\u001b[0m         ctx\u001b[38;5;241m=\u001b[39mctx,\n\u001b[0;32m    604\u001b[0m         cancellation_manager\u001b[38;5;241m=\u001b[39mcancellation_manager)\n",
      "File \u001b[1;32m~\\anaconda3\\envs\\fogg-lab-tissue-model-analysis-tools-env\\lib\\site-packages\\tensorflow\\python\\eager\\execute.py:59\u001b[0m, in \u001b[0;36mquick_execute\u001b[1;34m(op_name, num_outputs, inputs, attrs, ctx, name)\u001b[0m\n\u001b[0;32m     57\u001b[0m \u001b[38;5;28;01mtry\u001b[39;00m:\n\u001b[0;32m     58\u001b[0m   ctx\u001b[38;5;241m.\u001b[39mensure_initialized()\n\u001b[1;32m---> 59\u001b[0m   tensors \u001b[38;5;241m=\u001b[39m \u001b[43mpywrap_tfe\u001b[49m\u001b[38;5;241;43m.\u001b[39;49m\u001b[43mTFE_Py_Execute\u001b[49m\u001b[43m(\u001b[49m\u001b[43mctx\u001b[49m\u001b[38;5;241;43m.\u001b[39;49m\u001b[43m_handle\u001b[49m\u001b[43m,\u001b[49m\u001b[43m \u001b[49m\u001b[43mdevice_name\u001b[49m\u001b[43m,\u001b[49m\u001b[43m \u001b[49m\u001b[43mop_name\u001b[49m\u001b[43m,\u001b[49m\n\u001b[0;32m     60\u001b[0m \u001b[43m                                      \u001b[49m\u001b[43minputs\u001b[49m\u001b[43m,\u001b[49m\u001b[43m \u001b[49m\u001b[43mattrs\u001b[49m\u001b[43m,\u001b[49m\u001b[43m \u001b[49m\u001b[43mnum_outputs\u001b[49m\u001b[43m)\u001b[49m\n\u001b[0;32m     61\u001b[0m \u001b[38;5;28;01mexcept\u001b[39;00m core\u001b[38;5;241m.\u001b[39m_NotOkStatusException \u001b[38;5;28;01mas\u001b[39;00m e:\n\u001b[0;32m     62\u001b[0m   \u001b[38;5;28;01mif\u001b[39;00m name \u001b[38;5;129;01mis\u001b[39;00m \u001b[38;5;129;01mnot\u001b[39;00m \u001b[38;5;28;01mNone\u001b[39;00m:\n",
      "\u001b[1;31mKeyboardInterrupt\u001b[0m: "
     ]
    }
   ],
   "source": [
    "for model_idx in range(n_models):\n",
    "    ### Prepare data (each model should be trained on a randomly assigned train/validation set) ###\n",
    "    # Training & validation data (drawn from same image set & randomly assigned)\n",
    "    tv_class_paths = {v: glob(f\"{root_data_path}/train/{k}/*.tif\") for k, v in class_labels.items()}\n",
    "    mcp_best_frozen_weights_file = f\"{best_ensemble_training_path}/best_frozen_weights_{model_idx}.h5\"\n",
    "    mcp_best_finetune_weights_file = f\"{best_ensemble_training_path}/best_finetune_weights_{model_idx}.h5\"\n",
    "\n",
    "    for k, v in tv_class_paths.items():\n",
    "        rs.shuffle(v)\n",
    "\n",
    "    train_data_paths, val_data_paths = data_prep.get_train_val_split(tv_class_paths, val_split=val_split)\n",
    "\n",
    "\n",
    "    ### Build datasets ###\n",
    "    train_datagen = data_prep.InvasionDataGenerator(\n",
    "        train_data_paths,\n",
    "        class_labels,\n",
    "        batch_size,\n",
    "        resnet_inp_shape[:2],\n",
    "        rs,\n",
    "        class_weights=True,\n",
    "        shuffle=True,\n",
    "        augmentation_function=prep.augment_imgs\n",
    "    )\n",
    "    val_datagen = data_prep.InvasionDataGenerator(\n",
    "        val_data_paths,\n",
    "        class_labels,\n",
    "        batch_size,\n",
    "        resnet_inp_shape[:2],\n",
    "        rs,\n",
    "        class_weights=train_datagen.class_weights,\n",
    "        shuffle=True,\n",
    "        augmentation_function=train_datagen.augmentation_function\n",
    "    )\n",
    "\n",
    "\n",
    "    ### Build model ###\n",
    "    K.clear_session()\n",
    "    tl_model = models.build_ResNet50_TL(\n",
    "        n_outputs,\n",
    "        resnet_inp_shape,\n",
    "        base_last_layer=last_resnet_layer,\n",
    "        base_model_trainable=False\n",
    "    )\n",
    "\n",
    "\n",
    "    ### Frozen training ###\n",
    "    tl_model.compile(\n",
    "        optimizer=Adam(learning_rate=frozen_lr, beta_1=adam_beta_1, beta_2=adam_beta_2),\n",
    "        loss=BinaryCrossentropy(),\n",
    "        weighted_metrics=[BinaryAccuracy()]\n",
    "    )\n",
    "\n",
    "    es_callback = EarlyStopping(monitor=es_criterion, mode=es_mode, min_delta=es_min_delta, patience=es_patience)\n",
    "    mcp_callback = ModelCheckpoint(mcp_best_frozen_weights_file, monitor=mcp_criterion, mode=mcp_mode, save_best_only=mcp_best_only, save_weights_only=mcp_weights_only)\n",
    "\n",
    "    h1 = tl_model.fit(\n",
    "        train_datagen,\n",
    "        validation_data=val_datagen,\n",
    "        epochs=frozen_epochs,\n",
    "        callbacks=[es_callback, mcp_callback],\n",
    "        workers=n_cores\n",
    "    )\n",
    "\n",
    "\n",
    "    ### Finetune training ###\n",
    "    # Load best frozen weights before fine tuning\n",
    "    tl_model.load_weights(mcp_best_frozen_weights_file)\n",
    "    # Make base model trainable\n",
    "    models.toggle_TL_freeze(tl_model)\n",
    "    tl_model.compile(\n",
    "        optimizer=Adam(learning_rate=fine_tune_lr, beta_1=adam_beta_1, beta_2=adam_beta_2),\n",
    "        loss=BinaryCrossentropy(),\n",
    "        weighted_metrics=[BinaryAccuracy()]\n",
    "    )\n",
    "\n",
    "    es_callback = EarlyStopping(monitor=es_criterion, mode=es_mode, min_delta=es_min_delta, patience=es_patience)\n",
    "    mcp_callback = ModelCheckpoint(mcp_best_finetune_weights_file, monitor=mcp_criterion, mode=mcp_mode, save_best_only=mcp_best_only, save_weights_only=mcp_weights_only)\n",
    "\n",
    "    h2 = tl_model.fit(\n",
    "        train_datagen,\n",
    "        validation_data=val_datagen,\n",
    "        epochs=fine_tune_epochs,\n",
    "        callbacks=[es_callback, mcp_callback],\n",
    "        workers=n_cores\n",
    "    )\n",
    "\n",
    "\n",
    "    ### Save results for comparison later ###\n",
    "    h1_df = pd.DataFrame(h1.history)\n",
    "    h1_df[\"training_stage\"] = [\"frozen\"] * len(h1.epoch)\n",
    "\n",
    "    h2_df = pd.DataFrame(h2.history)\n",
    "    h2_df[\"training_stage\"] = [\"finetune\"] * len(h2.epoch)\n",
    "\n",
    "    h_df = pd.concat([h1_df, h2_df], axis=0, ignore_index=True)\n",
    "\n",
    "    h_df.to_csv(f\"{best_ensemble_training_path}/best_model_history_{model_idx}.csv\", index=False)"
   ]
  }
 ],
 "metadata": {
  "kernelspec": {
   "display_name": "Python 3 (ipykernel)",
   "language": "python",
   "name": "python3"
  },
  "language_info": {
   "codemirror_mode": {
    "name": "ipython",
    "version": 3
   },
   "file_extension": ".py",
   "mimetype": "text/x-python",
   "name": "python",
   "nbconvert_exporter": "python",
   "pygments_lexer": "ipython3",
   "version": "3.9.10"
  }
 },
 "nbformat": 4,
 "nbformat_minor": 5
}
