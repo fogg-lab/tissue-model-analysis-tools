{
 "cells": [
  {
   "cell_type": "code",
   "execution_count": null,
   "metadata": {},
   "outputs": [],
   "source": [
    "from pydmtgraph.dmtgraph import DMTGraph\n",
    "from pydmtgraph.helper import plotGraph\n",
    "from compute_barcode import compute_peristence_barcode_from_skeleton\n",
    "import gudhi as gd"
   ]
  },
  {
   "cell_type": "code",
   "execution_count": null,
   "metadata": {},
   "outputs": [],
   "source": [
    "import cv2\n",
    "import numpy as np\n",
    "import matplotlib as mpl\n",
    "import matplotlib.pyplot as plt"
   ]
  },
  {
   "cell_type": "code",
   "execution_count": null,
   "metadata": {},
   "outputs": [],
   "source": [
    "# helper functions to preprocess images\n",
    "def blur(im, n_itr=5):\n",
    "    im_blur = np.copy(im)\n",
    "    for _ in range(n_itr):\n",
    "        im_blur = cv2.GaussianBlur(im_blur, (3,3), 0)\n",
    "    return im_blur\n",
    "\n",
    "def sharpen(im, n_itr=5):\n",
    "    kernel = 1/34 * np.array([[ 0,  0, -1,  0,  0],\n",
    "                              [ 0, -1, -2, -1,  0],\n",
    "                              [-1, -2, 17, -2, -1],\n",
    "                              [ 0, -1, -2, -1,  0],\n",
    "                              [ 0,  0, -1,  0,  0]])\n",
    "    im_sharpen = np.copy(im)\n",
    "    for _ in range(n_itr):\n",
    "        im_sharpen += np.abs(cv2.filter2D(im_sharpen, -1, kernel))\n",
    "\n",
    "    return im_sharpen"
   ]
  },
  {
   "cell_type": "code",
   "execution_count": null,
   "metadata": {},
   "outputs": [],
   "source": [
    "# Read in image and resize it to 500x500\n",
    "img = cv2.imread(\"mask.tif\", cv2.IMREAD_GRAYSCALE).astype(np.double)\n",
    "img = cv2.resize(img, (500, 500))\n",
    "plt.imshow(img, cmap=\"gray\")"
   ]
  },
  {
   "cell_type": "code",
   "execution_count": null,
   "metadata": {},
   "outputs": [],
   "source": [
    "# Run preprocessing steps on image\n",
    "img = blur(img)\n",
    "img = sharpen(img)\n",
    "img = blur(img)"
   ]
  },
  {
   "cell_type": "code",
   "execution_count": null,
   "metadata": {},
   "outputs": [],
   "source": [
    "G = DMTGraph(img)"
   ]
  },
  {
   "cell_type": "code",
   "execution_count": null,
   "metadata": {},
   "outputs": [],
   "source": [
    "vertices, edges = G.computeGraph(0.5, 0.0)"
   ]
  },
  {
   "cell_type": "code",
   "execution_count": null,
   "metadata": {},
   "outputs": [],
   "source": [
    "fig, ax = plt.subplots()\n",
    "ax.imshow(img, cmap=\"gray\")\n",
    "plotGraph(vertices, edges, ax)"
   ]
  },
  {
   "cell_type": "code",
   "execution_count": null,
   "metadata": {},
   "outputs": [],
   "source": [
    "barcode = compute_peristence_barcode_from_skeleton(edges, vertices)"
   ]
  },
  {
   "cell_type": "code",
   "execution_count": null,
   "metadata": {},
   "outputs": [],
   "source": [
    "len(vertices)"
   ]
  },
  {
   "cell_type": "code",
   "execution_count": null,
   "metadata": {},
   "outputs": [],
   "source": [
    "gd.plot_persistence_barcode(barcode)\n",
    "plt.show()"
   ]
  },
  {
   "cell_type": "code",
   "execution_count": null,
   "metadata": {},
   "outputs": [],
   "source": []
  }
 ],
 "metadata": {
  "kernelspec": {
   "display_name": "Python 3.9.15 ('topo')",
   "language": "python",
   "name": "python3"
  },
  "language_info": {
   "codemirror_mode": {
    "name": "ipython",
    "version": 3
   },
   "file_extension": ".py",
   "mimetype": "text/x-python",
   "name": "python",
   "nbconvert_exporter": "python",
   "pygments_lexer": "ipython3",
   "version": "3.9.15"
  },
  "orig_nbformat": 4,
  "vscode": {
   "interpreter": {
    "hash": "6667f563f610018e6141e0b39b0438e58da12c84c5e8b334b4ebfe778ef4a9e2"
   }
  }
 },
 "nbformat": 4,
 "nbformat_minor": 2
}
