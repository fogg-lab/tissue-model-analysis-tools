{
 "cells": [
  {
   "cell_type": "code",
   "execution_count": null,
   "metadata": {},
   "outputs": [],
   "source": [
    "import os.path\n",
    "import cv2\n",
    "import numpy as np\n",
    "import numpy.typing as npt\n",
    "import matplotlib as mpl\n",
    "import matplotlib.pyplot as plt\n",
    "from fl_tissue_model_tools.topology import compute_morse_skeleton_and_barcode\n",
    "from pydmtgraph.helper import plotGraph\n",
    "import gudhi as gd\n",
    "from skimage import measure, morphology, feature, exposure, filters\n",
    "from skimage.filters.rank import entropy"
   ]
  },
  {
   "cell_type": "code",
   "execution_count": null,
   "metadata": {},
   "outputs": [],
   "source": [
    "# helper functions to preprocess images\n",
    "def blur(im, n_itr=10, method='gaussian'):\n",
    "    im_blur = np.copy(im)\n",
    "    for _ in range(n_itr):\n",
    "        if method == 'gaussian':\n",
    "            im_blur = cv2.GaussianBlur(im_blur, (3,3), 0)\n",
    "        elif method == 'median':\n",
    "            im_blur = cv2.medianBlur(im_blur, 3)\n",
    "        elif method == 'simple':\n",
    "            im_blur = cv2.blur(im_blur, (3,3))\n",
    "    return im_blur\n",
    "\n",
    "def sharpen(im, n_itr=10):\n",
    "    kernel = 1/34 * np.array([[ 0,  0, -1,  0,  0],\n",
    "                              [ 0, -1, -2, -1,  0],\n",
    "                              [-1, -2, 17, -2, -1],\n",
    "                              [ 0, -1, -2, -1,  0],\n",
    "                              [ 0,  0, -1,  0,  0]])\n",
    "    im_sharpen = np.copy(im)\n",
    "    for _ in range(n_itr):\n",
    "        im_sharpen += np.abs(cv2.filter2D(im_sharpen, -1, kernel))\n",
    "\n",
    "    return im_sharpen\n",
    "\n",
    "def remove_small_objects_in_mask(mask: npt.NDArray[np.uint8], min_size: int):\n",
    "    _, mask = cv2.threshold(mask, 0.5, 1, cv2.THRESH_BINARY)\n",
    "    inverse_mask = 1 - mask\n",
    "\n",
    "    labeled_regions_inverse = measure.label(inverse_mask, connectivity=1)\n",
    "    labeled_inverse_regions = morphology.remove_small_objects(labeled_regions_inverse, min_size=30)\n",
    "\n",
    "    mask[labeled_inverse_regions == 0] = 1\n",
    "\n",
    "    labeled_regions = measure.label(mask, connectivity=2)\n",
    "    labeled_regions = morphology.remove_small_objects(labeled_regions, min_size=min_size)\n",
    "\n",
    "    mask[labeled_regions == 0] = 0\n",
    "    mask[mask>0]=255\n",
    "    return mask\n",
    "\n",
    "def show(imgs, hw=None, figsize=None, cmap='gray', dpi=300):\n",
    "    if hw is None:\n",
    "        hw = (1, len(imgs))\n",
    "    if figsize is None:\n",
    "        fig_w = max(5, 5*hw[1])\n",
    "        fig_h = max(5, 5*hw[0])\n",
    "        figsize = (fig_w, fig_h)\n",
    "    fig, axs = plt.subplots(*hw, figsize=figsize, dpi=dpi, constrained_layout=True)\n",
    "    for i, img in enumerate(imgs):\n",
    "        axs[i].imshow(img, cmap=cmap)\n",
    "        axs[i].axis('off')\n",
    "    plt.show()"
   ]
  },
  {
   "cell_type": "code",
   "execution_count": null,
   "metadata": {},
   "outputs": [],
   "source": [
    "data_dir = \"sample_data\"\n",
    "img_path, mask_path = [os.path.join(data_dir, f) for f in (\"image.tif\", \"mask.tif\")]\n",
    "img, mask = [cv2.imread(f, 0) for f in (img_path, mask_path)]\n",
    "mask = remove_small_objects_in_mask(mask, 150)\n",
    "mask = cv2.dilate(mask, np.ones((20, 20), np.uint8))\n",
    "img_original = np.copy(img)\n",
    "img = exposure.equalize_adapthist(img)\n",
    "img[mask == 0] = 0\n",
    "img = blur(img)\n",
    "show([img_original, img])"
   ]
  },
  {
   "cell_type": "code",
   "execution_count": null,
   "metadata": {},
   "outputs": [],
   "source": [
    "im_rgb = cv2.cvtColor(img_original, cv2.COLOR_GRAY2RGB)\n",
    "for delta1 in [0, 0.5, 1, 2, 4, 8, 16, 32, 64]:\n",
    "    for delta2 in [0, 0.5, 1, 2, 4, 8, 16, 32]:\n",
    "        print(f'delta1: {delta1}, delta2: {delta2}')\n",
    "        verts, edges, barcode = compute_morse_skeleton_and_barcode(img, delta1, delta2)\n",
    "        print(f'len(verts): {len(verts)}, len(edges): {len(edges)}')\n",
    "        img_out = im_rgb.copy()\n",
    "        print(f'Marking vertices...')\n",
    "        for v in verts:\n",
    "            img_out[round(v[0]), round(v[1])] = (0, 0, 255)\n",
    "        print(f'Writing image...')\n",
    "        cv2.imwrite(f'output/{delta1}_{delta2}.png', img_out)"
   ]
  },
  {
   "cell_type": "code",
   "execution_count": null,
   "metadata": {},
   "outputs": [],
   "source": [
    "verts, edges, barcode = compute_morse_skeleton_and_barcode(img)"
   ]
  },
  {
   "cell_type": "code",
   "execution_count": null,
   "metadata": {},
   "outputs": [],
   "source": [
    "# Show the morse skeleton\n",
    "fig, ax = plt.subplots()\n",
    "ax.imshow(img, cmap=\"gray\")\n",
    "plotGraph(verts, edges, ax)"
   ]
  },
  {
   "cell_type": "code",
   "execution_count": null,
   "metadata": {},
   "outputs": [],
   "source": [
    "# Show the barcode\n",
    "gd.plot_persistence_barcode(barcode)"
   ]
  },
  {
   "cell_type": "code",
   "execution_count": null,
   "metadata": {},
   "outputs": [],
   "source": [
    "with open('out.txt', 'w') as f:\n",
    "    filt_out_dir = 'output/filters'\n",
    "    sums = {}\n",
    "    for fname in os.listdir(filt_out_dir):\n",
    "        if fname.endswith('.png'):\n",
    "            f_path = os.path.join(filt_out_dir, fname)\n",
    "            img = cv2.imread(f_path, 0)\n",
    "            # TODO: Compute morse skeleton and barcode for each image to find the best one\n",
    "            # ALSO: DETECT BLACK RIDGES BETWEEN WHITE RIDGES\n",
    "            # ASSUME: Topology of the mask is correct (mask should be dilated without filling holes)\n",
    "            sums[fname] = np.sum(img)\n",
    "    for k, v in sorted(sums.items(), key=lambda item: item[1]):\n",
    "        x = f.write(f'{k}: {v}\\n')"
   ]
  },
  {
   "cell_type": "code",
   "execution_count": null,
   "metadata": {},
   "outputs": [],
   "source": []
  }
 ],
 "metadata": {
  "kernelspec": {
   "display_name": "tissue-model-analysis",
   "language": "python",
   "name": "python3"
  },
  "language_info": {
   "codemirror_mode": {
    "name": "ipython",
    "version": 3
   },
   "file_extension": ".py",
   "mimetype": "text/x-python",
   "name": "python",
   "nbconvert_exporter": "python",
   "pygments_lexer": "ipython3",
   "version": "3.10.8"
  },
  "orig_nbformat": 4,
  "vscode": {
   "interpreter": {
    "hash": "078c777ce772c045090e14aa3dbc9eaccd92c36b19b8f6c12088b63ee53c2db9"
   }
  }
 },
 "nbformat": 4,
 "nbformat_minor": 2
}
