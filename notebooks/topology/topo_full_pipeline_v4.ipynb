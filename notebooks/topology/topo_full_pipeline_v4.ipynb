{
 "cells": [
  {
   "cell_type": "code",
   "execution_count": 1,
   "id": "5f6763fe-0e4e-48f2-bf6a-c47d13f04766",
   "metadata": {},
   "outputs": [],
   "source": [
    "import cv2\n",
    "import os\n",
    "import numpy as np\n",
    "import dask as d\n",
    "import gudhi as gd\n",
    "import networkx as nx\n",
    "import matplotlib.pyplot as plt\n",
    "\n",
    "from glob import glob\n",
    "from sklearn.mixture import GaussianMixture\n",
    "from scipy.spatial import distance"
   ]
  },
  {
   "cell_type": "code",
   "execution_count": 2,
   "id": "c287418d-d006-4030-b982-fcc272e7dc9d",
   "metadata": {},
   "outputs": [],
   "source": [
    "import fl_tissue_model_tools.topology as topo\n",
    "import fl_tissue_model_tools.preprocessing as prep\n",
    "from fl_tissue_model_tools import defs, dev_config, data_prep\n",
    "from fl_tissue_model_tools.graph_recon_DM import graphRecon"
   ]
  },
  {
   "cell_type": "code",
   "execution_count": 3,
   "id": "eb634ee9-9a7b-40ec-b0fa-6aa211468d75",
   "metadata": {},
   "outputs": [],
   "source": [
    "def load_img(img_name, dsamp=True, dsize=250):\n",
    "    '''\n",
    "        Load the image {img_name} and downsample if {dsamp}\n",
    "    '''\n",
    "    # cv.IMREAD_ANYDEPTH loads the image as a 16 bit grayscale image\n",
    "    img = cv2.imread(img_name, cv2.IMREAD_ANYDEPTH)\n",
    "    if dsamp:\n",
    "        return cv2.resize(img, dsize, cv2.INTER_AREA)\n",
    "    else:\n",
    "        return img\n",
    "\n",
    "\n",
    "def load_and_norm(img_name, a, b, mn, mx, dsamp=True, dsize=250):\n",
    "    '''\n",
    "        Load the image {img_name},\n",
    "        normalize the image from the range [{mn}, {mx}] to the range [{a}, {b}],\n",
    "        and downsample the image to size {dsize}x{dsize} if {dsamp}\n",
    "    '''\n",
    "    img = load_img(img_name, dsamp=True, dsize=dsize)\n",
    "    return prep.min_max_(img, a, b, mn, mx)\n",
    "\n",
    "\n",
    "def mask_and_threshold(img, circ_mask, pinhole_idx, sd_coef, rs):\n",
    "    '''\n",
    "        Apply the circle mask {circ_mask} to the image {img}\n",
    "        and then perform foreground thresholding on the masked image\n",
    "    '''\n",
    "    masked = prep.apply_mask(img, circ_mask).astype(float)\n",
    "    return prep.exec_threshold(masked, pinhole_idx, sd_coef, rs)\n"
   ]
  },
  {
   "cell_type": "code",
   "execution_count": null,
   "id": "ab540ac4-234f-4a8f-b8fb-391d00747b12",
   "metadata": {},
   "outputs": [],
   "source": [
    "dirs = dev_config.get_dev_directories(\"../../dev_paths.txt\")"
   ]
  },
  {
   "cell_type": "code",
   "execution_count": null,
   "id": "18c13e49-2d13-46ad-a1e0-cbbbb7efb660",
   "metadata": {},
   "outputs": [],
   "source": [
    "cell_data_dir = f\"{dirs.data_dir}/cell_topology/PACLITAXEL/POST_DRUG/CASKI/\"\n",
    "figure_output_dir = f\"{dirs.figures_dir}/cell_topology/2022_03_30_PACLITAXEL/POST_DRUG/CASKI/\"\n",
    "# Create output directory for analysis figure visualizations\n",
    "data_prep.make_dir(figure_output_dir)"
   ]
  },
  {
   "cell_type": "code",
   "execution_count": null,
   "id": "9e1a8e04-a093-4b4a-b475-8ab00d34e74b",
   "metadata": {},
   "outputs": [],
   "source": [
    "dsamp_size = 500 # side length of downsampled image \n",
    "pinhole_cut = 10 # the radius of the circle mask is ({dsamp_size}//2 -  {pinhole_cut})\n",
    "sd_coef = -1 # threshold takes all pixels {sd_coefs} standard deviations away from the mean of the foreground Gaussian"
   ]
  },
  {
   "cell_type": "code",
   "execution_count": null,
   "id": "a2ec564b-2371-4c4a-8656-870bdfc5bf8a",
   "metadata": {},
   "outputs": [],
   "source": [
    "img_names = [img.replace(\"\\\\\", \"/\") for img in glob(f\"{cell_data_dir}/*.tif\")]"
   ]
  },
  {
   "cell_type": "code",
   "execution_count": null,
   "id": "d7c11a77-82dd-4257-9649-644b63bb402c",
   "metadata": {},
   "outputs": [],
   "source": [
    "gs_ds_imgs = d.compute(\n",
    "    # [d.delayed(load_and_norm)(img_n, gs_min, gs_max, tif_min, tif_max, dsamp=True, dsize=(dsamp_size, dsamp_size)) for img_n in img_names]\n",
    "    [d.delayed(load_and_norm)(img_n, defs.GS_MIN, defs.GS_MAX, defs.TIF_MIN, defs.TIF_MAX, dsamp=True, dsize=(dsamp_size, dsamp_size)) for img_n in img_names]\n",
    ")[0]"
   ]
  },
  {
   "cell_type": "code",
   "execution_count": null,
   "id": "18751d6a-82bc-40e3-a1bb-c6ea0e41cc10",
   "metadata": {},
   "outputs": [],
   "source": [
    "# variables for image masking\n",
    "img_shape = gs_ds_imgs[0].shape\n",
    "img_center = (img_shape[0] // 2, img_shape[1] // 2)\n",
    "circ_rad = img_center[0] - (pinhole_cut)\n",
    "circ_mask = prep.gen_circ_mask(img_center, circ_rad, img_shape, defs.GS_MAX)\n",
    "pinhole_idx = np.where(circ_mask > 0)\n",
    "circ_pix_area = np.sum(circ_mask > 0)"
   ]
  },
  {
   "cell_type": "code",
   "execution_count": null,
   "id": "acf19c1a-ce79-44e2-8362-8f9137323ede",
   "metadata": {},
   "outputs": [],
   "source": [
    "# apply the circle mask to all images and then \n",
    "# foreground threshold the image\n",
    "rs_all = np.random.RandomState(seed=123)\n",
    "thresh_masked_all = d.compute(\n",
    "    [d.delayed(mask_and_threshold)(img, circ_mask, pinhole_idx, sd_coef, rs_all)\n",
    "     for img in gs_ds_imgs]\n",
    ")[0]\n"
   ]
  },
  {
   "cell_type": "code",
   "execution_count": null,
   "id": "00eff8f5-39e1-43f8-9fa4-80e9977d9825",
   "metadata": {},
   "outputs": [],
   "source": [
    "# Apply the distance transform to threshold image \n",
    "# and the blur the distance-transformed image\n",
    "dt_thresh_masked_all = d.compute(\n",
    "    [d.delayed(prep.dt_blur)(img, 7) for img in thresh_masked_all] \n",
    ")[0]\n"
   ]
  },
  {
   "cell_type": "code",
   "execution_count": null,
   "id": "6e27af44-9853-435c-ad75-6fc0bc12aaa3",
   "metadata": {},
   "outputs": [],
   "source": [
    "# apply a second binary threshold to the image, \n",
    "# this time taking all pixels with value >0\n",
    "# in effect, dting, bluring, and rethresholding\n",
    "# just expands each connected components, potentially connecting some\n",
    "gs_bin_thresh_masked_all = d.compute(\n",
    "    [d.delayed(prep.bin_thresh)(img, defs.GS_MAX) for img in dt_thresh_masked_all]\n",
    ")[0]"
   ]
  },
  {
   "cell_type": "code",
   "execution_count": null,
   "id": "43cb8d2b-3a8b-48f8-9cca-efd36f37af8d",
   "metadata": {},
   "outputs": [],
   "source": [
    "# blur every image\n",
    "gs_blur_all = d.compute(\n",
    "    [d.delayed(prep.blur)(img, blur_itr=7) for img in thresh_masked_all]\n",
    ")[0]"
   ]
  },
  {
   "cell_type": "code",
   "execution_count": null,
   "id": "1cdb640d-f54f-4e58-b0a0-975653c524ca",
   "metadata": {},
   "outputs": [],
   "source": [
    "# good network indices: CASKI: 28, 32, 41, 48, 52, 61, 22, 26\n",
    "#                       HMVEC: 28, 15, 20\n",
    "# unclear network indices: CASKI: 3, 41, 1 (blurred), \n",
    "#                          HMVEC: 40, 48, 6\n",
    "img_idx = 48\n",
    "im_og = gs_ds_imgs[img_idx]\n",
    "im_blur = gs_blur_all[img_idx]\n",
    "mask = gs_bin_thresh_masked_all[img_idx]"
   ]
  },
  {
   "cell_type": "code",
   "execution_count": null,
   "id": "8ccffd87-7dcc-40e3-a96a-6a9454b4a80f",
   "metadata": {},
   "outputs": [],
   "source": [
    "plt.imshow(im_og, cmap=\"gray\")\n",
    "plt.show()"
   ]
  },
  {
   "cell_type": "code",
   "execution_count": null,
   "id": "694c6a06-3245-41a7-8aa8-3fd163747e77",
   "metadata": {},
   "outputs": [],
   "source": [
    "plt.imshow(mask, cmap=\"gray\")\n",
    "plt.show()"
   ]
  },
  {
   "cell_type": "code",
   "execution_count": null,
   "id": "f434460a-508b-4b39-b9a8-75e8ea70c577",
   "metadata": {},
   "outputs": [],
   "source": [
    "plt.imshow(im_blur, cmap='gray')\n",
    "plt.show()"
   ]
  },
  {
   "cell_type": "code",
   "execution_count": null,
   "id": "947397dc-fa6f-4da0-944c-77c98ee62b0a",
   "metadata": {
    "tags": []
   },
   "outputs": [],
   "source": [
    "verts, edges, bc = topo.compute_morse_skeleton_and_barcode_parallel(im_blur, mask, defs.SCRIPT_REL_GRAPH_RECON_PATH, threshold=0.5)"
   ]
  },
  {
   "cell_type": "code",
   "execution_count": null,
   "id": "7eb6c274-cdd9-418b-b457-ba31e1c9ad31",
   "metadata": {},
   "outputs": [],
   "source": [
    "fig = plt.figure()\n",
    "plt.clf() # idk if this is necessary, but they use it in the original graphRecon library\n",
    "ax = fig.add_subplot(111)\n",
    "\n",
    "# add the original image to the plot\n",
    "ax.imshow(im_og, cmap='gray')\n",
    "\n",
    "# if the graph is not empty, add it to the plot\n",
    "if (len(edges) > 0):\n",
    "    lines = []\n",
    "    graphRecon.createLines(lines, edges, verts)\n",
    "    graphRecon.drawLines(lines, 'red', 0.5, 2, ax)\n",
    "    \n",
    "plt.show()"
   ]
  },
  {
   "cell_type": "code",
   "execution_count": null,
   "id": "f94943ef-12ea-4830-92b5-e9cac5bc4c56",
   "metadata": {},
   "outputs": [],
   "source": [
    "# if the barcode is not empty, plot it!\n",
    "if (len(bc)>0):\n",
    "    gd.plot_persistence_barcode(bc)\n",
    "    plt.show()"
   ]
  },
  {
   "cell_type": "code",
   "execution_count": null,
   "id": "62bb19d4-4a37-4671-b604-a5fcb80762be",
   "metadata": {},
   "outputs": [],
   "source": []
  }
 ],
 "metadata": {
  "kernelspec": {
   "display_name": "Python 3 (ipykernel)",
   "language": "python",
   "name": "python3"
  },
  "language_info": {
   "codemirror_mode": {
    "name": "ipython",
    "version": 3
   },
   "file_extension": ".py",
   "mimetype": "text/x-python",
   "name": "python",
   "nbconvert_exporter": "python",
   "pygments_lexer": "ipython3",
   "version": "3.9.10"
  }
 },
 "nbformat": 4,
 "nbformat_minor": 5
}
