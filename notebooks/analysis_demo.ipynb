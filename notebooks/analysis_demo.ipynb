{
  "nbformat": 4,
  "nbformat_minor": 0,
  "metadata": {
    "colab": {
      "provenance": [],
      "gpuType": "T4",
      "authorship_tag": "ABX9TyPhw9acEERgyatEKtHw/oPd",
      "include_colab_link": true
    },
    "kernelspec": {
      "name": "python3",
      "display_name": "Python 3"
    },
    "language_info": {
      "name": "python"
    },
    "accelerator": "GPU",
    "gpuClass": "standard"
  },
  "cells": [
    {
      "cell_type": "markdown",
      "metadata": {
        "id": "view-in-github",
        "colab_type": "text"
      },
      "source": [
        "<a href=\"https://colab.research.google.com/github/fogg-lab/tissue-model-analysis-tools/blob/main/notebooks/analysis_demo.ipynb\" target=\"_parent\"><img src=\"https://colab.research.google.com/assets/colab-badge.svg\" alt=\"Open In Colab\"/></a>"
      ]
    },
    {
      "cell_type": "markdown",
      "source": [
        "# Tissue Model Analysis Tools Demo\n",
        "\n",
        "## Description\n",
        "Runs `fl_tissue_model_analysis_tools` on example data from the [tissue-model-analysis-tools-data](https://github.com/fogg-lab/tissue-model-analysis-tools-data) repository.\n",
        "\n",
        "## Instructions\n",
        "\n",
        "### 1) Use a GPU runtime\n",
        "Change the Colab runtime type to use GPU acceleration, so that the invasion depth and microvessel analysis scripts run faster.\n",
        "> In the toolbar, go to Runtime -> Change runtime type. Under \"Hardware accelerator\", select \"GPU\" and choose a GPU type (any option works).\n",
        "\n",
        "### 2) Run the setup section\n",
        "\n",
        "Run the setup cells to set up the Conda environment and the fl_tissue_model_tools package in the Colab runtime. Installing the condacolab package will restart the runtime, and you might get a warning that says \"Your session crashed for an unknown reason.\" You can safely ignore that message.\n",
        "\n",
        "### 3) Run the demo\n",
        "\n",
        "We run each analysis using the scripts from the [fl_tissue_model_tools](https://github.com/fogg-lab/tissue-model-analysis-tools) package, via the command line utility (`tmat`) that is installed alongside the package. In this notebook, these commands are prefixed with an exclamation mark (`!tmat ...`). The equivalent command to run in a regular terminal is the same, but without the `!`.\n",
        "\n",
        "After running the setup cells, you can customize the scripts and their configurations by modifying the files stored in tmat's base directory: /content/fl_tissue_model_tools.\n",
        "\n",
        "Alternatively, you can run these analyses on your own data. For best results on invasion depth and microvessel formation analysis, you will need to train your own models. To train the invasion depth classifier and the microvessel segmentation model (on a CUDA-capable system), refer to the [training notebooks](https://github.com/fogg-lab/tissue-model-analysis-tools/tree/main/notebooks) in the GitHub repository."
      ],
      "metadata": {
        "id": "33clBd82-2cW"
      }
    },
    {
      "cell_type": "markdown",
      "source": [
        "## Setup"
      ],
      "metadata": {
        "id": "iOfV476Xrh-X"
      }
    },
    {
      "cell_type": "markdown",
      "source": [
        "### 1. Install conda in the Colab runtime\n",
        "**This will restart the runtime.**"
      ],
      "metadata": {
        "id": "cD0CyLGH-9Ne"
      }
    },
    {
      "cell_type": "code",
      "execution_count": null,
      "metadata": {
        "id": "-s-QsJt02bpR"
      },
      "outputs": [],
      "source": [
        "!pip install -q condacolab\n",
        "import condacolab\n",
        "condacolab.install()"
      ]
    },
    {
      "cell_type": "markdown",
      "source": [
        "### 2. Install packages\n",
        "**The installation will take around 5-10 minutes.**"
      ],
      "metadata": {
        "id": "MBvDCV54_AzE"
      }
    },
    {
      "cell_type": "code",
      "source": [
        "!mamba env update -f https://github.com/fogg-lab/tissue-model-analysis-tools/raw/main/conda_environments/environment_colab.yml\n",
        "!tmat configure /content/fl_tissue_model_tools\n",
        "\n",
        "# also remove colab's \"sample_data\" folder (it is distracting)\n",
        "!rm -rf /content/sample_data 2> /dev/null || true"
      ],
      "metadata": {
        "id": "4I8MNLTK-4eg"
      },
      "execution_count": null,
      "outputs": []
    },
    {
      "cell_type": "markdown",
      "source": [
        "### 3. Download example input data\n",
        "**~2 minutes**"
      ],
      "metadata": {
        "id": "qwowlrfx1nOz"
      }
    },
    {
      "cell_type": "code",
      "source": [
        "!git clone https://github.com/fogg-lab/tissue-model-analysis-tools-data.git"
      ],
      "metadata": {
        "id": "cQu83Z3X59za"
      },
      "execution_count": null,
      "outputs": []
    },
    {
      "cell_type": "markdown",
      "source": [
        "## Print `tmat` package usage with the `--help` (`-h`) flag"
      ],
      "metadata": {
        "id": "ypkoNP86QHri"
      }
    },
    {
      "cell_type": "code",
      "source": [
        "!tmat -h"
      ],
      "metadata": {
        "id": "IpN1Ekg_QatE"
      },
      "execution_count": null,
      "outputs": []
    },
    {
      "cell_type": "markdown",
      "source": [
        "## Z Projection\n",
        "\n",
        "**Runs this script:** /content/fl_tissue_model_tools/scripts/compute_zproj.py\n",
        "\n",
        "**Input images:** /content/tissue-model-analysis-tools-data/zprojection_input"
      ],
      "metadata": {
        "id": "1ZCbWIy6yObu"
      }
    },
    {
      "cell_type": "code",
      "source": [
        "# Run the Z projection utility\n",
        "!tmat compute_zproj --verbose /content/tissue-model-analysis-tools-data/zprojection_input /content/zproj_demo_out"
      ],
      "metadata": {
        "id": "ARSZRDOFRm87"
      },
      "execution_count": null,
      "outputs": []
    },
    {
      "cell_type": "markdown",
      "source": [
        "### Output\n",
        "Stored in /content/zproj_demo_out\n",
        "\n",
        "Show the projections side-by-side:"
      ],
      "metadata": {
        "id": "LF-ShbYJ-loi"
      }
    },
    {
      "cell_type": "code",
      "source": [
        "from matplotlib import pyplot as plt\n",
        "from skimage import io\n",
        "from glob import glob\n",
        "import os\n",
        "\n",
        "zprojection_paths = glob('/content/zproj_demo_out/*.tif')\n",
        "zprojections = [io.imread(zp) for zp in zprojection_paths]\n",
        "\n",
        "plt.figure(figsize=(16, 16))\n",
        "\n",
        "for index, (zprojection, zp_path) in enumerate(zip(zprojections, zprojection_paths), start=1):\n",
        "    plt.subplot(1, len(zprojections), index)\n",
        "    plt.imshow(zprojection, cmap='gray')\n",
        "    plt.axis('off')\n",
        "    \n",
        "    image_name = os.path.splitext(os.path.basename(zp_path))[0]\n",
        "    plt.title(image_name)\n",
        "\n",
        "plt.show()"
      ],
      "metadata": {
        "id": "JpWACLOqKg1P"
      },
      "execution_count": null,
      "outputs": []
    },
    {
      "cell_type": "markdown",
      "source": [
        "## Cell Coverage Area Analysis\n",
        "\n",
        "**Runs this script:** /content/fl_tissue_model_tools/scripts/compute_cell_area.py\n",
        "\n",
        "**Configuration:** /content/fl_tissue_model_tools/config/default_cell_area_computation.json\n",
        "\n",
        "**Input images:** /content/tissue-model-analysis-tools-data/zprojection_input"
      ],
      "metadata": {
        "id": "Wr_it9OcyFyf"
      }
    },
    {
      "cell_type": "code",
      "source": [
        "# Run the cell area script\n",
        "!tmat compute_cell_area --verbose /content/tissue-model-analysis-tools-data/cell_coverage_area_input /content/cellarea_demo_out"
      ],
      "metadata": {
        "id": "wDsDKqDePlFq"
      },
      "execution_count": null,
      "outputs": []
    },
    {
      "cell_type": "markdown",
      "source": [
        "### Output\n",
        "\n",
        "Stored in /content/cellarea_demo_out\n",
        "\n",
        "*You can also load the .csv output in Excel or any other spreadsheet program.*"
      ],
      "metadata": {
        "id": "N-UEH9oA_O0P"
      }
    },
    {
      "cell_type": "code",
      "source": [
        "!cat /content/cellarea_demo_out/calculations/cell_area.csv | perl -pe 's/((?<=,)|(?<=^)),/ ,/g;' | column -t -s,"
      ],
      "metadata": {
        "id": "zaUp9KQZgfNA"
      },
      "execution_count": null,
      "outputs": []
    },
    {
      "cell_type": "markdown",
      "source": [
        "## Invasion Depth Analysis\n",
        "\n",
        "**Runs this script:** /content/fl_tissue_model_tools/scripts/compute_inv_depth.py\n",
        "\n",
        "**Configuration:** /content/fl_tissue_model_tools/config/default_invasion_depth_computation.json\n",
        "\n",
        "**Input images:** /content/tissue-model-analysis-tools-data/invasion_depth_input\n",
        "\n",
        "**Trained model data:** /content/fl_tissue_model_tools/model_training/best_ensemble"
      ],
      "metadata": {
        "id": "L9GRdN66yZX2"
      }
    },
    {
      "cell_type": "code",
      "source": [
        "# Run the invasion depth script\n",
        "!tmat compute_inv_depth --verbose /content/tissue-model-analysis-tools-data/invasion_depth_input /content/invasion_demo_out"
      ],
      "metadata": {
        "id": "mjhoQCHi_5jb"
      },
      "execution_count": null,
      "outputs": []
    },
    {
      "cell_type": "markdown",
      "source": [
        "### Output\n",
        "\n",
        "Full output is stored in /content/invasion_demo_out\n",
        "\n",
        "*You can also load the .csv output in Excel or any other spreadsheet program.*"
      ],
      "metadata": {
        "id": "VIRHamANARvU"
      }
    },
    {
      "cell_type": "code",
      "source": [
        "!cat /content/invasion_demo_out/invasion_depth_predictions.csv | perl -pe 's/((?<=,)|(?<=^)),/ ,/g;' | column -t -s,"
      ],
      "metadata": {
        "id": "S4GVezyrfX_C"
      },
      "execution_count": null,
      "outputs": []
    },
    {
      "cell_type": "markdown",
      "source": [
        "## Microvessel Formation Analysis\n",
        "\n",
        "*We are currently working on making this analysis more efficient for both GPU and CPU inference, using techniques like quantization-aware training and model compression.*\n",
        "\n",
        "**Runs this script:** /content/fl_tissue_model_tools/scripts/compute_branches.py\n",
        "\n",
        "**Configuration:** /content/fl_tissue_model_tools/config/default_branching_computation.json\n",
        "\n",
        "**Input images:** /content/tissue-model-analysis-tools-data/branching_input\n",
        "\n",
        "**Trained model data:** /content/fl_tissue_model_tools/model_training/binary_segmentation"
      ],
      "metadata": {
        "id": "rg7cLoMMydJg"
      }
    },
    {
      "cell_type": "code",
      "source": [
        "# Copy `n` images from the full set of demo input images into a smaller directory to run the analysis on\n",
        "n = 10\n",
        "!cd /content/tissue-model-analysis-tools-data/branching_input && mkdir -p input_set && find . -maxdepth 1 -type f -iname \"*.tif\" | head -${n} | xargs -I '{}' cp '{}' input_set/\n",
        "\n",
        "# Run the branching script with the --save-graphics (-g) flag to save visualizations.\n",
        "!tmat compute_branches --verbose -g /content/tissue-model-analysis-tools-data/branching_input/input_set /content/branching_demo_out\n",
        "# Alternatively, you can use the --save-intermediates flag (-i) to also save intermediate visualizations\n",
        "# !tmat compute_branches --verbose -i /content/..."
      ],
      "metadata": {
        "id": "BADoz8thz4em"
      },
      "execution_count": null,
      "outputs": []
    },
    {
      "cell_type": "markdown",
      "source": [
        "### Output\n",
        "\n",
        "Stored in /content/branching_demo_out\n",
        "\n",
        "*You can also load the .csv output in Excel or any other spreadsheet program.*"
      ],
      "metadata": {
        "id": "p_OSO5E3YYSL"
      }
    },
    {
      "cell_type": "markdown",
      "source": [
        "#### 1. Show the .csv output"
      ],
      "metadata": {
        "id": "rNUG-YzjpO3r"
      }
    },
    {
      "cell_type": "code",
      "source": [
        "import pandas as pd\n",
        "\n",
        "csv_path = '/content/branching_demo_out/branching_analysis.csv'\n",
        "df = pd.read_csv(csv_path, encoding='utf-16')\n",
        "print(df.to_string(index=False))"
      ],
      "metadata": {
        "id": "hxW8xiQBoL5W"
      },
      "execution_count": null,
      "outputs": []
    },
    {
      "cell_type": "markdown",
      "source": [
        "#### 2. Show visualizations for 5 random images\n",
        "\n",
        "*Samples with no branches are skipped.*"
      ],
      "metadata": {
        "id": "GFRSQBmkpVWJ"
      }
    },
    {
      "cell_type": "code",
      "source": [
        "import os\n",
        "import random\n",
        "import pandas as pd\n",
        "from glob import glob\n",
        "from skimage import io\n",
        "from matplotlib import pyplot as plt\n",
        "\n",
        "# Show visualizations for 5 randomly sampled images. Samples with no branches are skipped\n",
        "\n",
        "vis_dir = \"/content/branching_demo_out/visualizations\"\n",
        "csv_path = \"/content/branching_demo_out/branching_analysis.csv\"\n",
        "\n",
        "df = pd.read_csv(csv_path, encoding='utf-16')\n",
        "filtered_df = df[df['Total # of branches'] > 0]\n",
        "\n",
        "subdirs = [os.path.join(vis_dir, d) for d in filtered_df['Image'] if os.path.isdir(os.path.join(vis_dir, d))]\n",
        "selected_subdirs = random.sample(subdirs, 5)\n",
        "\n",
        "vis_filenames = [\"original_image.png\", \"segmentation_mask.png\", \"morse_tree.png\", \"barcode.png\"]\n",
        "subplot_titles = [\"Original Image\", \"Segmentation Mask\", \"Morse Tree\", \"Persistent Homology Barcode\"]\n",
        "\n",
        "for subdir in selected_subdirs:\n",
        "    plt.figure(figsize=(15, 15))\n",
        "    plt.suptitle(os.path.basename(subdir))\n",
        "\n",
        "    for index, file_name in enumerate(vis_filenames, start=1):\n",
        "        file_path = os.path.join(subdir, file_name)\n",
        "        image = io.imread(file_path)\n",
        "\n",
        "        plt.subplot(2, 2, index)\n",
        "        plt.imshow(image, cmap='gray' if index != 4 else 'jet')\n",
        "        plt.title(subplot_titles[index-1])\n",
        "        plt.axis('off')\n",
        "\n",
        "    plt.tight_layout(rect=[0, 0.03, 1, 0.95])\n",
        "    plt.show()"
      ],
      "metadata": {
        "id": "DELiQwb6As20"
      },
      "execution_count": null,
      "outputs": []
    }
  ]
}