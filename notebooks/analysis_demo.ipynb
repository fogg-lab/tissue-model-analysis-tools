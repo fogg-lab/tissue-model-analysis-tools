{
  "nbformat": 4,
  "nbformat_minor": 0,
  "metadata": {
    "colab": {
      "provenance": [],
      "gpuType": "T4",
      "authorship_tag": "ABX9TyP7pfKlj0dZQpWJsPU3t28W",
      "include_colab_link": true
    },
    "kernelspec": {
      "name": "python3",
      "display_name": "Python 3"
    },
    "language_info": {
      "name": "python"
    },
    "accelerator": "GPU",
    "gpuClass": "standard"
  },
  "cells": [
    {
      "cell_type": "markdown",
      "metadata": {
        "id": "view-in-github",
        "colab_type": "text"
      },
      "source": [
        "<a href=\"https://colab.research.google.com/github/fogg-lab/tissue-model-analysis-tools/blob/main/notebooks/analysis_demo.ipynb\" target=\"_parent\"><img src=\"https://colab.research.google.com/assets/colab-badge.svg\" alt=\"Open In Colab\"/></a>"
      ]
    },
    {
      "cell_type": "markdown",
      "source": [
        "# Tissue Model Analysis Tools Demo\n",
        "\n",
        "## Description\n",
        "Runs `fl_tissue_model_analysis_tools` on example data from the [tissue-model-analysis-tools-data](https://github.com/fogg-lab/tissue-model-analysis-tools-data) repository.\n",
        "\n",
        "## Instructions\n",
        "\n",
        "### 1) Use a GPU runtime\n",
        "Change the Colab runtime type to use GPU acceleration, so that the invasion depth and microvessel analysis scripts run faster.\n",
        "> In the toolbar, go to Runtime -> Change runtime type. Under \"Hardware accelerator\", select \"GPU\" and choose a GPU type (any option works).\n",
        "\n",
        "### 2) Run the setup section\n",
        "\n",
        "Run the setup cells to set up the Conda environment and the fl_tissue_model_tools package in the Colab runtime. Installing the condacolab package will restart the runtime, and you might get a warning that says \"Your session crashed for an unknown reason.\" You can safely ignore that message.\n",
        "\n",
        "### 3) Run the demo\n",
        "\n",
        "We run each analysis using the scripts from the [fl_tissue_model_tools](https://github.com/fogg-lab/tissue-model-analysis-tools) package, via the command line utility (`tmat`) that is installed alongside the package. In this notebook, these commands are prefixed with an exclamation mark (`!tmat ...`). The equivalent command to run in a regular terminal is the same, but without the `!`.\n",
        "\n",
        "After running the setup cells, you can customize the scripts and their configurations by modifying the files stored in tmat's base directory: /content/fl_tissue_model_tools.\n",
        "\n",
        "Alternatively, you can run these analyses on your own data. For best results on invasion depth and microvessel formation analysis, you will need to train your own models. To train the invasion depth classifier and the microvessel segmentation model (on a CUDA-capable system), refer to the [training notebooks](https://github.com/fogg-lab/tissue-model-analysis-tools/tree/main/notebooks) in the GitHub repository."
      ],
      "metadata": {
        "id": "33clBd82-2cW"
      }
    },
    {
      "cell_type": "markdown",
      "source": [
        "## Setup"
      ],
      "metadata": {
        "id": "iOfV476Xrh-X"
      }
    },
    {
      "cell_type": "markdown",
      "source": [
        "### 1. Install any missing packages in the runtime"
      ],
      "metadata": {
        "id": "cD0CyLGH-9Ne"
      }
    },
    {
      "cell_type": "code",
      "source": [
        "!pip install albumentations\n",
        "!pip install boost\n",
        "!pip install dask\n",
        "!pip install gudhi\n",
        "!pip install jupyterlab\n",
        "!pip install matplotlib\n",
        "!pip install networkx\n",
        "!pip install opencv\n",
        "!pip install scikit-learn\n",
        "!pip install scipy\n",
        "!pip install setuptools\n",
        "!pip install tensorflow\n",
        "!pip install keras-tuner\n",
        "!pip install pillow\n",
        "!pip install scikit-image\n",
        "!pip install tqdm"
      ],
      "metadata": {
        "id": "vvBMB1iZJuIL"
      },
      "execution_count": null,
      "outputs": []
    },
    {
      "cell_type": "code",
      "source": [
        "# Install the tissue-model-analysis-tools (tmat) package\n",
        "!pip install -I fl_tissue_model_tools@git+https://github.com/fogg-lab/tissue-model-analysis-tools.git#subdirectory=src"
      ],
      "metadata": {
        "id": "jG4YnUGmJwps",
        "outputId": "858f7ca0-4ec5-4e0f-986d-9acf10896c67",
        "colab": {
          "base_uri": "https://localhost:8080/"
        }
      },
      "execution_count": 2,
      "outputs": [
        {
          "output_type": "stream",
          "name": "stdout",
          "text": [
            "Collecting fl_tissue_model_tools@ git+https://github.com/fogg-lab/tissue-model-analysis-tools.git#subdirectory=src\n",
            "  Cloning https://github.com/fogg-lab/tissue-model-analysis-tools.git to /tmp/pip-install-mf35c0he/fl-tissue-model-tools_2b3e13215a074013b66a5e64b9b8ae02\n",
            "  Running command git clone --filter=blob:none --quiet https://github.com/fogg-lab/tissue-model-analysis-tools.git /tmp/pip-install-mf35c0he/fl-tissue-model-tools_2b3e13215a074013b66a5e64b9b8ae02\n",
            "  Resolved https://github.com/fogg-lab/tissue-model-analysis-tools.git to commit 308cf43fc81a0d7767b587feb6b903402a7e3640\n",
            "  Running command git submodule update --init --recursive -q\n",
            "  Preparing metadata (setup.py) ... \u001b[?25l\u001b[?25hdone\n",
            "Building wheels for collected packages: fl_tissue_model_tools\n",
            "  Building wheel for fl_tissue_model_tools (setup.py) ... \u001b[?25l\u001b[?25hdone\n",
            "  Created wheel for fl_tissue_model_tools: filename=fl_tissue_model_tools-0.1.0-cp310-cp310-linux_x86_64.whl size=190205337 sha256=70c27a72bc100eea05e90a50e0c16ed6168520faa8aeecbecd079fdf3e0e2aae\n",
            "  Stored in directory: /tmp/pip-ephem-wheel-cache-ejf88dlh/wheels/ac/da/2d/3382db7c1adb1ecc35fd756818bd79cd34c0cd62d2956ad5e6\n",
            "Successfully built fl_tissue_model_tools\n",
            "Installing collected packages: fl_tissue_model_tools\n",
            "Successfully installed fl_tissue_model_tools-0.1.0\n",
            "\u001b[33mWARNING: Running pip as the 'root' user can result in broken permissions and conflicting behaviour with the system package manager. It is recommended to use a virtual environment instead: https://pip.pypa.io/warnings/venv\u001b[0m\u001b[33m\n",
            "\u001b[0m"
          ]
        }
      ]
    },
    {
      "cell_type": "code",
      "source": [
        "# Configure package home directory\n",
        "!tmat configure /content/fl_tissue_model_tools\n",
        "\n",
        "# also remove colab's \"sample_data\" folder (it is distracting)\n",
        "!rm -rf /content/sample_data 2> /dev/null || true"
      ],
      "metadata": {
        "id": "4I8MNLTK-4eg",
        "outputId": "30c806a5-a370-4346-e601-1193f5e52958",
        "colab": {
          "base_uri": "https://localhost:8080/"
        }
      },
      "execution_count": 3,
      "outputs": [
        {
          "output_type": "stream",
          "name": "stdout",
          "text": [
            "Creating base directory: /content/fl_tissue_model_tools\n",
            "Creating config directory...\n",
            "Creating scripts directory...\n",
            "Creating model_training directory...\n",
            "\n",
            "The base directory for fl_tissue_model_tools is now: /content/fl_tissue_model_tools\n"
          ]
        }
      ]
    },
    {
      "cell_type": "markdown",
      "source": [
        "### 3. Download example input data\n",
        "**~2 minutes**"
      ],
      "metadata": {
        "id": "qwowlrfx1nOz"
      }
    },
    {
      "cell_type": "code",
      "source": [
        "!git clone https://github.com/fogg-lab/tissue-model-analysis-tools-data.git"
      ],
      "metadata": {
        "id": "cQu83Z3X59za",
        "outputId": "07435430-81d1-4f88-c5de-60d98e102c43",
        "colab": {
          "base_uri": "https://localhost:8080/"
        }
      },
      "execution_count": 4,
      "outputs": [
        {
          "output_type": "stream",
          "name": "stdout",
          "text": [
            "Cloning into 'tissue-model-analysis-tools-data'...\n",
            "remote: Enumerating objects: 259, done.\u001b[K\n",
            "remote: Counting objects:  33% (1/3)\u001b[K\rremote: Counting objects:  66% (2/3)\u001b[K\rremote: Counting objects: 100% (3/3)\u001b[K\rremote: Counting objects: 100% (3/3), done.\u001b[K\n",
            "remote: Compressing objects: 100% (3/3), done.\u001b[K\n",
            "remote: Total 259 (delta 0), reused 0 (delta 0), pack-reused 256\u001b[K\n",
            "Receiving objects: 100% (259/259), 1.28 GiB | 30.67 MiB/s, done.\n",
            "Resolving deltas: 100% (21/21), done.\n",
            "Updating files: 100% (250/250), done.\n"
          ]
        }
      ]
    },
    {
      "cell_type": "markdown",
      "source": [
        "## Print `tmat` package usage with the `--help` (`-h`) flag"
      ],
      "metadata": {
        "id": "ypkoNP86QHri"
      }
    },
    {
      "cell_type": "code",
      "source": [
        "!tmat -h"
      ],
      "metadata": {
        "id": "IpN1Ekg_QatE",
        "outputId": "d1a8b408-7cce-4aa5-a2d6-1b01209df4b3",
        "colab": {
          "base_uri": "https://localhost:8080/"
        }
      },
      "execution_count": 5,
      "outputs": [
        {
          "output_type": "stream",
          "name": "stdout",
          "text": [
            "Usage: tissue-model-analysis-tools [SUBCOMMAND] [OPTIONS]\n",
            "Shorthand: tmat [SUBCOMMAND] [OPTIONS]\n",
            "\n",
            "If no subcommand is given, the interactive mode will be used. For example, run: tmat\n",
            "\n",
            "Available subcommands:\n",
            "    configure: Set the location of the base directory for scripts and model training data.\n",
            "    update: Update the package from GitHub.\n",
            "    [SCRIPT_NAME]: Run a script from the scripts directory. Do not include the .py extension.\n",
            "\n",
            "Get available options:\n",
            "    -h, --help: Show this help message and exit.\n",
            "    [SUBCOMMAND] -h: Show help (including available options) for a particular subcommand.\n",
            "\n",
            "Examples:\n",
            "    tmat configure -h\n",
            "    tmat configure \"C:\\Users\\Quinn\\Desktop\\some_folder_name\"\n",
            "    tmat update\n",
            "    tmat compute_inv_depth -h\n",
            "    tmat compute_zproj -v \"C:\\Users\\Quinn\\input_folder_name\" \"C:\\Users\\Quinn\\out_folder_name\"\n",
            "\n"
          ]
        }
      ]
    },
    {
      "cell_type": "markdown",
      "source": [
        "## Z Projection\n",
        "\n",
        "**Runs this script:** /content/fl_tissue_model_tools/scripts/compute_zproj.py\n",
        "\n",
        "**Input images:** /content/tissue-model-analysis-tools-data/zprojection_input"
      ],
      "metadata": {
        "id": "1ZCbWIy6yObu"
      }
    },
    {
      "cell_type": "code",
      "source": [
        "# Run the Z projection utility\n",
        "!tmat compute_zproj --verbose /content/tissue-model-analysis-tools-data/zprojection_input /content/zproj_demo_out"
      ],
      "metadata": {
        "id": "ARSZRDOFRm87",
        "outputId": "5c3e47c3-4abf-4f8b-e6ce-af46a2991a21",
        "colab": {
          "base_uri": "https://localhost:8080/"
        }
      },
      "execution_count": 6,
      "outputs": [
        {
          "output_type": "stream",
          "name": "stdout",
          "text": [
            "Executing: /usr/local/bin/python3.10 /content/fl_tissue_model_tools/scripts/compute_zproj.py --verbose /content/tissue-model-analysis-tools-data/zprojection_input /content/zproj_demo_out\n",
            "2024-01-23 07:12:51.205908: E external/local_xla/xla/stream_executor/cuda/cuda_dnn.cc:9261] Unable to register cuDNN factory: Attempting to register factory for plugin cuDNN when one has already been registered\n",
            "2024-01-23 07:12:51.206040: E external/local_xla/xla/stream_executor/cuda/cuda_fft.cc:607] Unable to register cuFFT factory: Attempting to register factory for plugin cuFFT when one has already been registered\n",
            "2024-01-23 07:12:51.359342: E external/local_xla/xla/stream_executor/cuda/cuda_blas.cc:1515] Unable to register cuBLAS factory: Attempting to register factory for plugin cuBLAS when one has already been registered\n",
            "['--verbose', '/content/tissue-model-analysis-tools-data/zprojection_input', '/content/zproj_demo_out']\n",
            "\n",
            "\u001b[36m[Verifying Input Directory]=========================================================================\u001b[0m\n",
            "Z Stack ID                                   No. Z Positions\n",
            "A1_02_1_GFP_001...........................................19\n",
            "A2_02_1_GFP_001...........................................19\n",
            "\u001b[32m[SUCCESS]\u001b[0m\n",
            "\u001b[36m====================================================================================================\u001b[0m\n",
            "\n",
            "\n",
            "\u001b[36m[Verifying Output Directory]========================================================================\u001b[0m\n",
            "Did not find output dir:\n",
            "\t/content/zproj_demo_out\n",
            "Creating...\n",
            "... Created dir:\n",
            "\t/content/zproj_demo_out\n",
            "\u001b[32m[SUCCESS]\u001b[0m\n",
            "\u001b[36m====================================================================================================\u001b[0m\n",
            "\n",
            "\n",
            "\u001b[36m[Constructing Z projections]========================================================================\u001b[0m\n",
            "Loading and computing Z stacks...\n",
            "... Projections computed.\n",
            "\n",
            "Saving projections...\n",
            "... Projections saved.\n",
            "\u001b[32m[SUCCESS]\u001b[0m\n",
            "\u001b[36m====================================================================================================\u001b[0m\n",
            "\n"
          ]
        }
      ]
    },
    {
      "cell_type": "markdown",
      "source": [
        "### Output\n",
        "Stored in /content/zproj_demo_out\n",
        "\n",
        "Show the projections side-by-side:"
      ],
      "metadata": {
        "id": "LF-ShbYJ-loi"
      }
    },
    {
      "cell_type": "code",
      "source": [
        "from matplotlib import pyplot as plt\n",
        "from skimage import io\n",
        "from glob import glob\n",
        "import os\n",
        "\n",
        "zprojection_paths = glob('/content/zproj_demo_out/*.tif')\n",
        "zprojections = [io.imread(zp) for zp in zprojection_paths]\n",
        "\n",
        "plt.figure(figsize=(16, 16))\n",
        "\n",
        "for index, (zprojection, zp_path) in enumerate(zip(zprojections, zprojection_paths), start=1):\n",
        "    plt.subplot(1, len(zprojections), index)\n",
        "    plt.imshow(zprojection, cmap='gray')\n",
        "    plt.axis('off')\n",
        "\n",
        "    image_name = os.path.splitext(os.path.basename(zp_path))[0]\n",
        "    plt.title(image_name)\n",
        "\n",
        "plt.show()"
      ],
      "metadata": {
        "id": "JpWACLOqKg1P",
        "outputId": "7f967108-26dd-4f44-83ed-ce3c4330dab5",
        "colab": {
          "base_uri": "https://localhost:8080/",
          "height": 390
        }
      },
      "execution_count": 7,
      "outputs": [
        {
          "output_type": "error",
          "ename": "ValueError",
          "evalue": "<COMPRESSION.LZW: 5> requires the 'imagecodecs' package",
          "traceback": [
            "\u001b[0;31m---------------------------------------------------------------------------\u001b[0m",
            "\u001b[0;31mValueError\u001b[0m                                Traceback (most recent call last)",
            "\u001b[0;32m<ipython-input-7-7787d522291f>\u001b[0m in \u001b[0;36m<cell line: 7>\u001b[0;34m()\u001b[0m\n\u001b[1;32m      5\u001b[0m \u001b[0;34m\u001b[0m\u001b[0m\n\u001b[1;32m      6\u001b[0m \u001b[0mzprojection_paths\u001b[0m \u001b[0;34m=\u001b[0m \u001b[0mglob\u001b[0m\u001b[0;34m(\u001b[0m\u001b[0;34m'/content/zproj_demo_out/*.tif'\u001b[0m\u001b[0;34m)\u001b[0m\u001b[0;34m\u001b[0m\u001b[0;34m\u001b[0m\u001b[0m\n\u001b[0;32m----> 7\u001b[0;31m \u001b[0mzprojections\u001b[0m \u001b[0;34m=\u001b[0m \u001b[0;34m[\u001b[0m\u001b[0mio\u001b[0m\u001b[0;34m.\u001b[0m\u001b[0mimread\u001b[0m\u001b[0;34m(\u001b[0m\u001b[0mzp\u001b[0m\u001b[0;34m)\u001b[0m \u001b[0;32mfor\u001b[0m \u001b[0mzp\u001b[0m \u001b[0;32min\u001b[0m \u001b[0mzprojection_paths\u001b[0m\u001b[0;34m]\u001b[0m\u001b[0;34m\u001b[0m\u001b[0;34m\u001b[0m\u001b[0m\n\u001b[0m\u001b[1;32m      8\u001b[0m \u001b[0;34m\u001b[0m\u001b[0m\n\u001b[1;32m      9\u001b[0m \u001b[0mplt\u001b[0m\u001b[0;34m.\u001b[0m\u001b[0mfigure\u001b[0m\u001b[0;34m(\u001b[0m\u001b[0mfigsize\u001b[0m\u001b[0;34m=\u001b[0m\u001b[0;34m(\u001b[0m\u001b[0;36m16\u001b[0m\u001b[0;34m,\u001b[0m \u001b[0;36m16\u001b[0m\u001b[0;34m)\u001b[0m\u001b[0;34m)\u001b[0m\u001b[0;34m\u001b[0m\u001b[0;34m\u001b[0m\u001b[0m\n",
            "\u001b[0;32m<ipython-input-7-7787d522291f>\u001b[0m in \u001b[0;36m<listcomp>\u001b[0;34m(.0)\u001b[0m\n\u001b[1;32m      5\u001b[0m \u001b[0;34m\u001b[0m\u001b[0m\n\u001b[1;32m      6\u001b[0m \u001b[0mzprojection_paths\u001b[0m \u001b[0;34m=\u001b[0m \u001b[0mglob\u001b[0m\u001b[0;34m(\u001b[0m\u001b[0;34m'/content/zproj_demo_out/*.tif'\u001b[0m\u001b[0;34m)\u001b[0m\u001b[0;34m\u001b[0m\u001b[0;34m\u001b[0m\u001b[0m\n\u001b[0;32m----> 7\u001b[0;31m \u001b[0mzprojections\u001b[0m \u001b[0;34m=\u001b[0m \u001b[0;34m[\u001b[0m\u001b[0mio\u001b[0m\u001b[0;34m.\u001b[0m\u001b[0mimread\u001b[0m\u001b[0;34m(\u001b[0m\u001b[0mzp\u001b[0m\u001b[0;34m)\u001b[0m \u001b[0;32mfor\u001b[0m \u001b[0mzp\u001b[0m \u001b[0;32min\u001b[0m \u001b[0mzprojection_paths\u001b[0m\u001b[0;34m]\u001b[0m\u001b[0;34m\u001b[0m\u001b[0;34m\u001b[0m\u001b[0m\n\u001b[0m\u001b[1;32m      8\u001b[0m \u001b[0;34m\u001b[0m\u001b[0m\n\u001b[1;32m      9\u001b[0m \u001b[0mplt\u001b[0m\u001b[0;34m.\u001b[0m\u001b[0mfigure\u001b[0m\u001b[0;34m(\u001b[0m\u001b[0mfigsize\u001b[0m\u001b[0;34m=\u001b[0m\u001b[0;34m(\u001b[0m\u001b[0;36m16\u001b[0m\u001b[0;34m,\u001b[0m \u001b[0;36m16\u001b[0m\u001b[0;34m)\u001b[0m\u001b[0;34m)\u001b[0m\u001b[0;34m\u001b[0m\u001b[0;34m\u001b[0m\u001b[0m\n",
            "\u001b[0;32m/usr/local/lib/python3.10/site-packages/skimage/io/_io.py\u001b[0m in \u001b[0;36mimread\u001b[0;34m(fname, as_gray, plugin, **plugin_args)\u001b[0m\n\u001b[1;32m     51\u001b[0m \u001b[0;34m\u001b[0m\u001b[0m\n\u001b[1;32m     52\u001b[0m     \u001b[0;32mwith\u001b[0m \u001b[0mfile_or_url_context\u001b[0m\u001b[0;34m(\u001b[0m\u001b[0mfname\u001b[0m\u001b[0;34m)\u001b[0m \u001b[0;32mas\u001b[0m \u001b[0mfname\u001b[0m\u001b[0;34m:\u001b[0m\u001b[0;34m\u001b[0m\u001b[0;34m\u001b[0m\u001b[0m\n\u001b[0;32m---> 53\u001b[0;31m         \u001b[0mimg\u001b[0m \u001b[0;34m=\u001b[0m \u001b[0mcall_plugin\u001b[0m\u001b[0;34m(\u001b[0m\u001b[0;34m'imread'\u001b[0m\u001b[0;34m,\u001b[0m \u001b[0mfname\u001b[0m\u001b[0;34m,\u001b[0m \u001b[0mplugin\u001b[0m\u001b[0;34m=\u001b[0m\u001b[0mplugin\u001b[0m\u001b[0;34m,\u001b[0m \u001b[0;34m**\u001b[0m\u001b[0mplugin_args\u001b[0m\u001b[0;34m)\u001b[0m\u001b[0;34m\u001b[0m\u001b[0;34m\u001b[0m\u001b[0m\n\u001b[0m\u001b[1;32m     54\u001b[0m \u001b[0;34m\u001b[0m\u001b[0m\n\u001b[1;32m     55\u001b[0m     \u001b[0;32mif\u001b[0m \u001b[0;32mnot\u001b[0m \u001b[0mhasattr\u001b[0m\u001b[0;34m(\u001b[0m\u001b[0mimg\u001b[0m\u001b[0;34m,\u001b[0m \u001b[0;34m'ndim'\u001b[0m\u001b[0;34m)\u001b[0m\u001b[0;34m:\u001b[0m\u001b[0;34m\u001b[0m\u001b[0;34m\u001b[0m\u001b[0m\n",
            "\u001b[0;32m/usr/local/lib/python3.10/site-packages/skimage/io/manage_plugins.py\u001b[0m in \u001b[0;36mcall_plugin\u001b[0;34m(kind, *args, **kwargs)\u001b[0m\n\u001b[1;32m    203\u001b[0m             \u001b[0;32mraise\u001b[0m \u001b[0mRuntimeError\u001b[0m\u001b[0;34m(\u001b[0m\u001b[0;34mf'Could not find the plugin \"{plugin}\" for {kind}.'\u001b[0m\u001b[0;34m)\u001b[0m\u001b[0;34m\u001b[0m\u001b[0;34m\u001b[0m\u001b[0m\n\u001b[1;32m    204\u001b[0m \u001b[0;34m\u001b[0m\u001b[0m\n\u001b[0;32m--> 205\u001b[0;31m     \u001b[0;32mreturn\u001b[0m \u001b[0mfunc\u001b[0m\u001b[0;34m(\u001b[0m\u001b[0;34m*\u001b[0m\u001b[0margs\u001b[0m\u001b[0;34m,\u001b[0m \u001b[0;34m**\u001b[0m\u001b[0mkwargs\u001b[0m\u001b[0;34m)\u001b[0m\u001b[0;34m\u001b[0m\u001b[0;34m\u001b[0m\u001b[0m\n\u001b[0m\u001b[1;32m    206\u001b[0m \u001b[0;34m\u001b[0m\u001b[0m\n\u001b[1;32m    207\u001b[0m \u001b[0;34m\u001b[0m\u001b[0m\n",
            "\u001b[0;32m/usr/local/lib/python3.10/site-packages/skimage/io/_plugins/tifffile_plugin.py\u001b[0m in \u001b[0;36mimread\u001b[0;34m(fname, **kwargs)\u001b[0m\n\u001b[1;32m     72\u001b[0m         \u001b[0mkwargs\u001b[0m\u001b[0;34m[\u001b[0m\u001b[0;34m'key'\u001b[0m\u001b[0;34m]\u001b[0m \u001b[0;34m=\u001b[0m \u001b[0mkwargs\u001b[0m\u001b[0;34m.\u001b[0m\u001b[0mpop\u001b[0m\u001b[0;34m(\u001b[0m\u001b[0;34m'img_num'\u001b[0m\u001b[0;34m)\u001b[0m\u001b[0;34m\u001b[0m\u001b[0;34m\u001b[0m\u001b[0m\n\u001b[1;32m     73\u001b[0m \u001b[0;34m\u001b[0m\u001b[0m\n\u001b[0;32m---> 74\u001b[0;31m     \u001b[0;32mreturn\u001b[0m \u001b[0mtifffile_imread\u001b[0m\u001b[0;34m(\u001b[0m\u001b[0mfname\u001b[0m\u001b[0;34m,\u001b[0m \u001b[0;34m**\u001b[0m\u001b[0mkwargs\u001b[0m\u001b[0;34m)\u001b[0m\u001b[0;34m\u001b[0m\u001b[0;34m\u001b[0m\u001b[0m\n\u001b[0m",
            "\u001b[0;32m/usr/local/lib/python3.10/site-packages/tifffile/tifffile.py\u001b[0m in \u001b[0;36mimread\u001b[0;34m(files, selection, aszarr, key, series, level, squeeze, maxworkers, buffersize, mode, name, offset, size, pattern, axesorder, categories, imread, sort, container, chunkshape, dtype, axestiled, ioworkers, chunkmode, fillvalue, zattrs, multiscales, omexml, out, out_inplace, _multifile, _useframes, **kwargs)\u001b[0m\n\u001b[1;32m   1104\u001b[0m                         \u001b[0;32mreturn\u001b[0m \u001b[0mstore\u001b[0m\u001b[0;34m\u001b[0m\u001b[0;34m\u001b[0m\u001b[0m\n\u001b[1;32m   1105\u001b[0m                     \u001b[0;32mreturn\u001b[0m \u001b[0mzarr_selection\u001b[0m\u001b[0;34m(\u001b[0m\u001b[0mstore\u001b[0m\u001b[0;34m,\u001b[0m \u001b[0mselection\u001b[0m\u001b[0;34m,\u001b[0m \u001b[0mout\u001b[0m\u001b[0;34m=\u001b[0m\u001b[0mout\u001b[0m\u001b[0;34m)\u001b[0m\u001b[0;34m\u001b[0m\u001b[0;34m\u001b[0m\u001b[0m\n\u001b[0;32m-> 1106\u001b[0;31m                 return tif.asarray(\n\u001b[0m\u001b[1;32m   1107\u001b[0m                     \u001b[0mkey\u001b[0m\u001b[0;34m=\u001b[0m\u001b[0mkey\u001b[0m\u001b[0;34m,\u001b[0m\u001b[0;34m\u001b[0m\u001b[0;34m\u001b[0m\u001b[0m\n\u001b[1;32m   1108\u001b[0m                     \u001b[0mseries\u001b[0m\u001b[0;34m=\u001b[0m\u001b[0mseries\u001b[0m\u001b[0;34m,\u001b[0m\u001b[0;34m\u001b[0m\u001b[0;34m\u001b[0m\u001b[0m\n",
            "\u001b[0;32m/usr/local/lib/python3.10/site-packages/tifffile/tifffile.py\u001b[0m in \u001b[0;36masarray\u001b[0;34m(self, key, series, level, squeeze, out, maxworkers, buffersize)\u001b[0m\n\u001b[1;32m   4344\u001b[0m             \u001b[0;32mif\u001b[0m \u001b[0mpage0\u001b[0m \u001b[0;32mis\u001b[0m \u001b[0;32mNone\u001b[0m\u001b[0;34m:\u001b[0m\u001b[0;34m\u001b[0m\u001b[0;34m\u001b[0m\u001b[0m\n\u001b[1;32m   4345\u001b[0m                 \u001b[0;32mraise\u001b[0m \u001b[0mValueError\u001b[0m\u001b[0;34m(\u001b[0m\u001b[0;34m'page is None'\u001b[0m\u001b[0;34m)\u001b[0m\u001b[0;34m\u001b[0m\u001b[0;34m\u001b[0m\u001b[0m\n\u001b[0;32m-> 4346\u001b[0;31m             result = page0.asarray(\n\u001b[0m\u001b[1;32m   4347\u001b[0m                 \u001b[0mout\u001b[0m\u001b[0;34m=\u001b[0m\u001b[0mout\u001b[0m\u001b[0;34m,\u001b[0m \u001b[0mmaxworkers\u001b[0m\u001b[0;34m=\u001b[0m\u001b[0mmaxworkers\u001b[0m\u001b[0;34m,\u001b[0m \u001b[0mbuffersize\u001b[0m\u001b[0;34m=\u001b[0m\u001b[0mbuffersize\u001b[0m\u001b[0;34m\u001b[0m\u001b[0;34m\u001b[0m\u001b[0m\n\u001b[1;32m   4348\u001b[0m             )\n",
            "\u001b[0;32m/usr/local/lib/python3.10/site-packages/tifffile/tifffile.py\u001b[0m in \u001b[0;36masarray\u001b[0;34m(self, out, squeeze, lock, maxworkers, buffersize)\u001b[0m\n\u001b[1;32m   9139\u001b[0m                 \u001b[0;31m#     pass  # corrupted file, for example, with too many strips\u001b[0m\u001b[0;34m\u001b[0m\u001b[0;34m\u001b[0m\u001b[0m\n\u001b[1;32m   9140\u001b[0m \u001b[0;34m\u001b[0m\u001b[0m\n\u001b[0;32m-> 9141\u001b[0;31m             for _ in self.segments(\n\u001b[0m\u001b[1;32m   9142\u001b[0m                 \u001b[0mfunc\u001b[0m\u001b[0;34m=\u001b[0m\u001b[0mfunc\u001b[0m\u001b[0;34m,\u001b[0m\u001b[0;34m\u001b[0m\u001b[0;34m\u001b[0m\u001b[0m\n\u001b[1;32m   9143\u001b[0m                 \u001b[0mlock\u001b[0m\u001b[0;34m=\u001b[0m\u001b[0mlock\u001b[0m\u001b[0;34m,\u001b[0m\u001b[0;34m\u001b[0m\u001b[0;34m\u001b[0m\u001b[0m\n",
            "\u001b[0;32m/usr/local/lib/python3.10/site-packages/tifffile/tifffile.py\u001b[0m in \u001b[0;36msegments\u001b[0;34m(self, lock, maxworkers, func, sort, buffersize, _fullsize)\u001b[0m\n\u001b[1;32m   8935\u001b[0m                 \u001b[0mflat\u001b[0m\u001b[0;34m=\u001b[0m\u001b[0;32mTrue\u001b[0m\u001b[0;34m,\u001b[0m\u001b[0;34m\u001b[0m\u001b[0;34m\u001b[0m\u001b[0m\n\u001b[1;32m   8936\u001b[0m             ):\n\u001b[0;32m-> 8937\u001b[0;31m                 \u001b[0;32myield\u001b[0m \u001b[0mdecode\u001b[0m\u001b[0;34m(\u001b[0m\u001b[0msegment\u001b[0m\u001b[0;34m)\u001b[0m\u001b[0;34m\u001b[0m\u001b[0;34m\u001b[0m\u001b[0m\n\u001b[0m\u001b[1;32m   8938\u001b[0m         \u001b[0;32melse\u001b[0m\u001b[0;34m:\u001b[0m\u001b[0;34m\u001b[0m\u001b[0;34m\u001b[0m\u001b[0m\n\u001b[1;32m   8939\u001b[0m             \u001b[0;31m# reduce memory overhead by processing chunks of up to\u001b[0m\u001b[0;34m\u001b[0m\u001b[0;34m\u001b[0m\u001b[0m\n",
            "\u001b[0;32m/usr/local/lib/python3.10/site-packages/tifffile/tifffile.py\u001b[0m in \u001b[0;36mdecode\u001b[0;34m(args, decodeargs, decode)\u001b[0m\n\u001b[1;32m   8922\u001b[0m \u001b[0;34m\u001b[0m\u001b[0m\n\u001b[1;32m   8923\u001b[0m             \u001b[0;32mdef\u001b[0m \u001b[0mdecode\u001b[0m\u001b[0;34m(\u001b[0m\u001b[0margs\u001b[0m\u001b[0;34m,\u001b[0m \u001b[0mdecodeargs\u001b[0m\u001b[0;34m=\u001b[0m\u001b[0mdecodeargs\u001b[0m\u001b[0;34m,\u001b[0m \u001b[0mdecode\u001b[0m\u001b[0;34m=\u001b[0m\u001b[0mkeyframe\u001b[0m\u001b[0;34m.\u001b[0m\u001b[0mdecode\u001b[0m\u001b[0;34m)\u001b[0m\u001b[0;34m:\u001b[0m\u001b[0;34m\u001b[0m\u001b[0;34m\u001b[0m\u001b[0m\n\u001b[0;32m-> 8924\u001b[0;31m                 \u001b[0;32mreturn\u001b[0m \u001b[0mfunc\u001b[0m\u001b[0;34m(\u001b[0m\u001b[0mdecode\u001b[0m\u001b[0;34m(\u001b[0m\u001b[0;34m*\u001b[0m\u001b[0margs\u001b[0m\u001b[0;34m,\u001b[0m \u001b[0;34m**\u001b[0m\u001b[0mdecodeargs\u001b[0m\u001b[0;34m)\u001b[0m\u001b[0;34m)\u001b[0m  \u001b[0;31m# type: ignore\u001b[0m\u001b[0;34m\u001b[0m\u001b[0;34m\u001b[0m\u001b[0m\n\u001b[0m\u001b[1;32m   8925\u001b[0m \u001b[0;34m\u001b[0m\u001b[0m\n\u001b[1;32m   8926\u001b[0m         \u001b[0;32mif\u001b[0m \u001b[0mmaxworkers\u001b[0m \u001b[0;32mis\u001b[0m \u001b[0;32mNone\u001b[0m \u001b[0;32mor\u001b[0m \u001b[0mmaxworkers\u001b[0m \u001b[0;34m<\u001b[0m \u001b[0;36m1\u001b[0m\u001b[0;34m:\u001b[0m\u001b[0;34m\u001b[0m\u001b[0;34m\u001b[0m\u001b[0m\n",
            "\u001b[0;32m/usr/local/lib/python3.10/site-packages/tifffile/tifffile.py\u001b[0m in \u001b[0;36mdecode_raise_compression\u001b[0;34m(exc, *args, **kwargs)\u001b[0m\n\u001b[1;32m   8346\u001b[0m \u001b[0;34m\u001b[0m\u001b[0m\n\u001b[1;32m   8347\u001b[0m             \u001b[0;32mdef\u001b[0m \u001b[0mdecode_raise_compression\u001b[0m\u001b[0;34m(\u001b[0m\u001b[0;34m*\u001b[0m\u001b[0margs\u001b[0m\u001b[0;34m,\u001b[0m \u001b[0mexc\u001b[0m\u001b[0;34m=\u001b[0m\u001b[0mstr\u001b[0m\u001b[0;34m(\u001b[0m\u001b[0mexc\u001b[0m\u001b[0;34m)\u001b[0m\u001b[0;34m[\u001b[0m\u001b[0;36m1\u001b[0m\u001b[0;34m:\u001b[0m\u001b[0;34m-\u001b[0m\u001b[0;36m1\u001b[0m\u001b[0;34m]\u001b[0m\u001b[0;34m,\u001b[0m \u001b[0;34m**\u001b[0m\u001b[0mkwargs\u001b[0m\u001b[0;34m)\u001b[0m\u001b[0;34m:\u001b[0m\u001b[0;34m\u001b[0m\u001b[0;34m\u001b[0m\u001b[0m\n\u001b[0;32m-> 8348\u001b[0;31m                 \u001b[0;32mraise\u001b[0m \u001b[0mValueError\u001b[0m\u001b[0;34m(\u001b[0m\u001b[0;34mf'{exc}'\u001b[0m\u001b[0;34m)\u001b[0m\u001b[0;34m\u001b[0m\u001b[0;34m\u001b[0m\u001b[0m\n\u001b[0m\u001b[1;32m   8349\u001b[0m \u001b[0;34m\u001b[0m\u001b[0m\n\u001b[1;32m   8350\u001b[0m             \u001b[0;32mreturn\u001b[0m \u001b[0mcache\u001b[0m\u001b[0;34m(\u001b[0m\u001b[0mdecode_raise_compression\u001b[0m\u001b[0;34m)\u001b[0m\u001b[0;34m\u001b[0m\u001b[0;34m\u001b[0m\u001b[0m\n",
            "\u001b[0;31mValueError\u001b[0m: <COMPRESSION.LZW: 5> requires the 'imagecodecs' package"
          ]
        }
      ]
    },
    {
      "cell_type": "markdown",
      "source": [
        "## Cell Coverage Area Analysis\n",
        "\n",
        "**Runs this script:** /content/fl_tissue_model_tools/scripts/compute_cell_area.py\n",
        "\n",
        "**Configuration:** /content/fl_tissue_model_tools/config/default_cell_area_computation.json\n",
        "\n",
        "**Input images:** /content/tissue-model-analysis-tools-data/zprojection_input"
      ],
      "metadata": {
        "id": "Wr_it9OcyFyf"
      }
    },
    {
      "cell_type": "code",
      "source": [
        "# Run the cell area script\n",
        "!tmat compute_cell_area --verbose /content/tissue-model-analysis-tools-data/cell_coverage_area_input /content/cellarea_demo_out"
      ],
      "metadata": {
        "id": "wDsDKqDePlFq"
      },
      "execution_count": null,
      "outputs": []
    },
    {
      "cell_type": "markdown",
      "source": [
        "### Output\n",
        "\n",
        "Stored in /content/cellarea_demo_out\n",
        "\n",
        "*You can also load the .csv output in Excel or any other spreadsheet program.*"
      ],
      "metadata": {
        "id": "N-UEH9oA_O0P"
      }
    },
    {
      "cell_type": "code",
      "source": [
        "!cat /content/cellarea_demo_out/calculations/cell_area.csv | perl -pe 's/((?<=,)|(?<=^)),/ ,/g;' | column -t -s,"
      ],
      "metadata": {
        "id": "zaUp9KQZgfNA"
      },
      "execution_count": null,
      "outputs": []
    },
    {
      "cell_type": "markdown",
      "source": [
        "## Invasion Depth Analysis\n",
        "\n",
        "**Runs this script:** /content/fl_tissue_model_tools/scripts/compute_inv_depth.py\n",
        "\n",
        "**Configuration:** /content/fl_tissue_model_tools/config/default_invasion_depth_computation.json\n",
        "\n",
        "**Input images:** /content/tissue-model-analysis-tools-data/invasion_depth_input\n",
        "\n",
        "**Trained model data:** /content/fl_tissue_model_tools/model_training/best_ensemble"
      ],
      "metadata": {
        "id": "L9GRdN66yZX2"
      }
    },
    {
      "cell_type": "code",
      "source": [
        "# Run the invasion depth script\n",
        "!tmat compute_inv_depth --verbose /content/tissue-model-analysis-tools-data/invasion_depth_input /content/invasion_demo_out"
      ],
      "metadata": {
        "id": "mjhoQCHi_5jb"
      },
      "execution_count": null,
      "outputs": []
    },
    {
      "cell_type": "markdown",
      "source": [
        "### Output\n",
        "\n",
        "Full output is stored in /content/invasion_demo_out\n",
        "\n",
        "*You can also load the .csv output in Excel or any other spreadsheet program.*"
      ],
      "metadata": {
        "id": "VIRHamANARvU"
      }
    },
    {
      "cell_type": "code",
      "source": [
        "!cat /content/invasion_demo_out/invasion_depth_predictions.csv | perl -pe 's/((?<=,)|(?<=^)),/ ,/g;' | column -t -s,"
      ],
      "metadata": {
        "id": "S4GVezyrfX_C"
      },
      "execution_count": null,
      "outputs": []
    },
    {
      "cell_type": "markdown",
      "source": [
        "## Microvessel Formation Analysis\n",
        "\n",
        "*We are currently working on making this analysis more efficient for both GPU and CPU inference, using techniques like quantization-aware training and model compression.*\n",
        "\n",
        "**Runs this script:** /content/fl_tissue_model_tools/scripts/compute_branches.py\n",
        "\n",
        "**Configuration:** /content/fl_tissue_model_tools/config/default_branching_computation.json\n",
        "\n",
        "**Input images:** /content/tissue-model-analysis-tools-data/branching_input\n",
        "\n",
        "**Trained model data:** /content/fl_tissue_model_tools/model_training/binary_segmentation"
      ],
      "metadata": {
        "id": "rg7cLoMMydJg"
      }
    },
    {
      "cell_type": "code",
      "source": [
        "# Copy `n` images from the full set of demo input images into a smaller directory to run the analysis on\n",
        "n = 10\n",
        "!cd /content/tissue-model-analysis-tools-data/branching_input && mkdir -p input_set && find . -maxdepth 1 -type f -iname \"*.tif\" | head -${n} | xargs -I '{}' cp '{}' input_set/\n",
        "\n",
        "# Run the branching script with the --save-graphics (-g) flag to save visualizations.\n",
        "!tmat compute_branches --verbose -g /content/tissue-model-analysis-tools-data/branching_input/input_set /content/branching_demo_out\n",
        "# Alternatively, you can use the --save-intermediates flag (-i) to also save intermediate visualizations\n",
        "# !tmat compute_branches --verbose -i /content/..."
      ],
      "metadata": {
        "id": "BADoz8thz4em"
      },
      "execution_count": null,
      "outputs": []
    },
    {
      "cell_type": "markdown",
      "source": [
        "### Output\n",
        "\n",
        "Stored in /content/branching_demo_out\n",
        "\n",
        "*You can also load the .csv output in Excel or any other spreadsheet program.*"
      ],
      "metadata": {
        "id": "p_OSO5E3YYSL"
      }
    },
    {
      "cell_type": "markdown",
      "source": [
        "#### 1. Show the .csv output"
      ],
      "metadata": {
        "id": "rNUG-YzjpO3r"
      }
    },
    {
      "cell_type": "code",
      "source": [
        "import pandas as pd\n",
        "\n",
        "csv_path = '/content/branching_demo_out/branching_analysis.csv'\n",
        "df = pd.read_csv(csv_path, encoding='utf-16')\n",
        "print(df.to_string(index=False))"
      ],
      "metadata": {
        "id": "hxW8xiQBoL5W"
      },
      "execution_count": null,
      "outputs": []
    },
    {
      "cell_type": "markdown",
      "source": [
        "#### 2. Show visualizations for 5 random images\n",
        "\n",
        "*Samples with no branches are skipped.*"
      ],
      "metadata": {
        "id": "GFRSQBmkpVWJ"
      }
    },
    {
      "cell_type": "code",
      "source": [
        "import os\n",
        "import random\n",
        "import pandas as pd\n",
        "from glob import glob\n",
        "from skimage import io\n",
        "from matplotlib import pyplot as plt\n",
        "\n",
        "# Show visualizations for 5 randomly sampled images. Samples with no branches are skipped\n",
        "\n",
        "vis_dir = \"/content/branching_demo_out/visualizations\"\n",
        "csv_path = \"/content/branching_demo_out/branching_analysis.csv\"\n",
        "\n",
        "df = pd.read_csv(csv_path, encoding='utf-16')\n",
        "filtered_df = df[df['Total # of branches'] > 0]\n",
        "\n",
        "subdirs = [os.path.join(vis_dir, d) for d in filtered_df['Image'] if os.path.isdir(os.path.join(vis_dir, d))]\n",
        "selected_subdirs = random.sample(subdirs, 5)\n",
        "\n",
        "vis_filenames = [\"original_image.png\", \"segmentation_mask.png\", \"morse_tree.png\", \"barcode.png\"]\n",
        "subplot_titles = [\"Original Image\", \"Segmentation Mask\", \"Morse Tree\", \"Persistent Homology Barcode\"]\n",
        "\n",
        "for subdir in selected_subdirs:\n",
        "    plt.figure(figsize=(15, 15))\n",
        "    plt.suptitle(os.path.basename(subdir))\n",
        "\n",
        "    for index, file_name in enumerate(vis_filenames, start=1):\n",
        "        file_path = os.path.join(subdir, file_name)\n",
        "        image = io.imread(file_path)\n",
        "\n",
        "        plt.subplot(2, 2, index)\n",
        "        plt.imshow(image, cmap='gray' if index != 4 else 'jet')\n",
        "        plt.title(subplot_titles[index-1])\n",
        "        plt.axis('off')\n",
        "\n",
        "    plt.tight_layout(rect=[0, 0.03, 1, 0.95])\n",
        "    plt.show()"
      ],
      "metadata": {
        "id": "DELiQwb6As20"
      },
      "execution_count": null,
      "outputs": []
    },
    {
      "cell_type": "code",
      "source": [],
      "metadata": {
        "id": "QX76NdaFKWRn"
      },
      "execution_count": null,
      "outputs": []
    }
  ]
}