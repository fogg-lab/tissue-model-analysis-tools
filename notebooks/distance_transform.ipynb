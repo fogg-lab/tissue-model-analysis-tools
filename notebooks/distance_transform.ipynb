{
 "cells": [
  {
   "cell_type": "code",
   "execution_count": 22,
   "metadata": {},
   "outputs": [],
   "source": [
    "from scipy import ndimage\n",
    "from skimage.morphology import binary_erosion, binary_dilation\n",
    "import cv2\n",
    "import matplotlib.pyplot as plt\n",
    "from PIL import Image\n",
    "import numpy as np"
   ]
  },
  {
   "cell_type": "code",
   "execution_count": 23,
   "metadata": {},
   "outputs": [],
   "source": [
    "MASK_PATH = \"./set_1/masks/C5_004_mask.tif\""
   ]
  },
  {
   "cell_type": "code",
   "execution_count": 24,
   "metadata": {},
   "outputs": [],
   "source": [
    "def show_mask(mask):\n",
    "\tfig, ax = plt.subplots()\n",
    "\tax.imshow(mask, cmap='gray')\n",
    "\tplt.show()"
   ]
  },
  {
   "cell_type": "code",
   "execution_count": 25,
   "metadata": {},
   "outputs": [],
   "source": [
    "mask = cv2.imread(MASK_PATH, 0)"
   ]
  },
  {
   "cell_type": "code",
   "execution_count": 26,
   "metadata": {},
   "outputs": [
    {
     "name": "stdout",
     "output_type": "stream",
     "text": [
      "30\n",
      "29\n",
      "28\n",
      "27\n",
      "26\n",
      "25\n",
      "24\n",
      "23\n",
      "22\n",
      "21\n",
      "20\n",
      "19\n",
      "18\n",
      "17\n",
      "16\n",
      "15\n",
      "14\n",
      "13\n",
      "12\n",
      "11\n",
      "10\n",
      "9\n",
      "8\n",
      "7\n",
      "6\n",
      "5\n",
      "4\n",
      "3\n",
      "2\n",
      "1\n"
     ]
    }
   ],
   "source": [
    "\"\"\"\n",
    "- Erosion\n",
    "- Dilation\n",
    "- Subtraction from original mask\n",
    "- Repeat\n",
    "\"\"\"\n",
    "\n",
    "# footprint: ndarray, optional\n",
    "# The neighborhood expressed as a 2-D array of 1’s and 0’s. If None, use a cross-shaped footprint (connectivity=1).\n",
    "detail_size = 30\n",
    "first_mask = True\n",
    "sub_masks = []\n",
    "while detail_size > 0:\n",
    "\tprint(detail_size)\n",
    "\tkernel = np.ones((detail_size, detail_size))\n",
    "\tmask_eroded = binary_erosion(mask, footprint = kernel)\n",
    "\tsub_masks.append(binary_dilation(mask_eroded, footprint=kernel).astype(np.uint8))\n",
    "\n",
    "\t\n",
    "\n",
    "\t# start again with smaller detail size\n",
    "\tmask = mask - sub_masks[-1]\n",
    "\tif not first_mask:\n",
    "\t\tsub_masks[30-detail_size] -= sub_masks[29-detail_size]\n",
    "\tdetail_size -= 1\n",
    "\tfirst_mask = False"
   ]
  },
  {
   "cell_type": "code",
   "execution_count": 27,
   "metadata": {},
   "outputs": [],
   "source": [
    "for s in sub_masks:\n",
    "\ts *= 255\n",
    "for i in range(len(sub_masks)):\n",
    "\tim = Image.fromarray(sub_masks[i])\n",
    "\tim.save(f\"./sub_masks/mask_{i}.png\")"
   ]
  }
 ],
 "metadata": {
  "kernelspec": {
   "display_name": "base",
   "language": "python",
   "name": "python3"
  },
  "language_info": {
   "codemirror_mode": {
    "name": "ipython",
    "version": 3
   },
   "file_extension": ".py",
   "mimetype": "text/x-python",
   "name": "python",
   "nbconvert_exporter": "python",
   "pygments_lexer": "ipython3",
   "version": "3.9.12"
  },
  "orig_nbformat": 4,
  "vscode": {
   "interpreter": {
    "hash": "e920456a2527b588c7ebe0d1d208ed51e70422f332c83a3f8a3395b6b353438c"
   }
  }
 },
 "nbformat": 4,
 "nbformat_minor": 2
}
