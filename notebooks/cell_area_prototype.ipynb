{
 "cells": [
  {
   "cell_type": "code",
   "execution_count": 1,
   "id": "e2888bcf-e8ce-433b-8f4d-05efa8477b77",
   "metadata": {},
   "outputs": [],
   "source": [
    "import cv2\n",
    "import glob\n",
    "import numpy as np\n",
    "import pandas as pd\n",
    "import dask as d\n",
    "import matplotlib.pyplot as plt\n",
    "from skimage.measure import block_reduce\n",
    "from skimage.transform import resize\n",
    "from sklearn.mixture import GaussianMixture"
   ]
  },
  {
   "cell_type": "code",
   "execution_count": 2,
   "id": "472040b7-ce99-4078-bee1-525fee0ca729",
   "metadata": {},
   "outputs": [],
   "source": [
    "cell_data_path = \"D:cell_area_data/HMVEC/\"\n",
    "output_data_path = \"D:cell_area_data/results\""
   ]
  },
  {
   "cell_type": "code",
   "execution_count": 3,
   "id": "fba5fe84-7165-4956-b9ac-8c3dc7643630",
   "metadata": {},
   "outputs": [],
   "source": [
    "ds_fact = 8\n",
    "pinhole_cut = 50\n",
    "sd_coef = 0.5\n",
    "tif_min = 0\n",
    "tif_max = 2**16\n",
    "gs_min = 0\n",
    "gs_max = 255"
   ]
  },
  {
   "cell_type": "code",
   "execution_count": 4,
   "id": "cece83b6-e742-4e54-9e67-a125944f94ad",
   "metadata": {},
   "outputs": [],
   "source": [
    "def load_img(img_name, dsamp=True, ds_fact=2, ds_func=np.mean):\n",
    "    img = cv2.imread(img_name, cv2.IMREAD_ANYDEPTH)\n",
    "    if dsamp:\n",
    "        # return block_reduce(\n",
    "        #     cv2.imread(img_name, cv2.IMREAD_ANYDEPTH),\n",
    "        #     block_size=(block_size),\n",
    "        #     func=np.mean\n",
    "        # )\n",
    "        return resize(\n",
    "            img,\n",
    "            (img.shape[0] // ds_fact, img.shape[1] // ds_fact),\n",
    "            anti_aliasing=True, preserve_range=True\n",
    "        )\n",
    "    else:\n",
    "        return img\n",
    "\n",
    "    \n",
    "def min_max_(x, a, b, mn, mx):\n",
    "    x = x.astype(float)\n",
    "    return a + ( (x - mn) * (b - a) ) / (mx - mn)\n",
    "\n",
    "\n",
    "def gen_circ_mask(center, rad, shape, mask_val):\n",
    "    circ_mask = np.zeros(shape, dtype=\"uint8\")\n",
    "    return cv2.circle(circ_mask, center, rad, mask_val, cv2.FILLED)\n",
    "\n",
    "\n",
    "def apply_mask(img, mask):\n",
    "    return cv2.bitwise_and(img, img, mask=mask)\n",
    "\n",
    "\n",
    "def load_and_norm(img_name, a, b, mn, mx, dsamp=True, ds_fact=2, ds_func=np.mean):\n",
    "    img = load_img(img_name, dsamp=True, ds_fact=ds_fact, ds_func=np.mean)\n",
    "    return min_max_(img, a, b, mn, mx)\n",
    "\n",
    "\n",
    "def exec_threshold(masked, pinhole_idx, sd_coef, rs):\n",
    "    # Select pinhole pixels\n",
    "    X = masked[pinhole_idx][:, np.newaxis]\n",
    "    gm = GaussianMixture(n_components=2, random_state=rs).fit(X)\n",
    "    # Get GMM components\n",
    "    means = gm.means_.squeeze()\n",
    "    sds = np.sqrt(gm.covariances_.squeeze())\n",
    "    # Get mean foreground mean & threshold value\n",
    "    fg_dist_idx = np.argmax(means)\n",
    "    fg_thresh = min(gs_max, means[fg_dist_idx] + sds[fg_dist_idx] * sd_coef)\n",
    "    # Apply threshold\n",
    "    bg_mask = ~(X.squeeze() > fg_thresh)\n",
    "    bg_pinhole_idx = (pinhole_idx[0][bg_mask], pinhole_idx[1][bg_mask])\n",
    "    gmm_masked = np.copy(masked)\n",
    "    gmm_masked[bg_pinhole_idx] = 0\n",
    "    return gmm_masked\n",
    "\n",
    "\n",
    "def mask_and_threshold(img, circ_mask, pinhole_idx, sd_coef, rs):\n",
    "    masked = apply_mask(img, circ_mask).astype(float)\n",
    "    return exec_threshold(masked, pinhole_idx, sd_coef, rs)\n",
    "\n",
    "\n",
    "def compute_area_pct(img, ref_area):\n",
    "    return np.sum(img > 0) / ref_area * 100"
   ]
  },
  {
   "cell_type": "code",
   "execution_count": 5,
   "id": "8bfd6a13-7821-49fd-a1b0-5187e4121685",
   "metadata": {},
   "outputs": [],
   "source": [
    "img_names = [img.replace(\"\\\\\", \"/\") for img in glob.glob(f\"{cell_data_path}/*.tif\")]"
   ]
  },
  {
   "cell_type": "code",
   "execution_count": 6,
   "id": "530e0702-85e7-4783-9784-4c986d09a514",
   "metadata": {},
   "outputs": [],
   "source": [
    "gs_ds_imgs = d.compute(\n",
    "    [d.delayed(load_and_norm)(img_n, gs_min, gs_max, tif_min, tif_max, dsamp=True, ds_fact=ds_fact, ds_func=np.mean) for img_n in img_names]\n",
    ")[0]"
   ]
  },
  {
   "cell_type": "code",
   "execution_count": 7,
   "id": "07e8c8f0-face-4a5b-8c26-3657ff8001dd",
   "metadata": {},
   "outputs": [],
   "source": [
    "img_shape = gs_ds_imgs[0].shape\n",
    "img_center = (img_shape[0] // 2, img_shape[1] // 2)\n",
    "circ_rad = img_center[0] - (pinhole_cut // ds_fact)"
   ]
  },
  {
   "cell_type": "code",
   "execution_count": 8,
   "id": "e6c6d43b-3aa5-422c-bf10-dda0e21207b0",
   "metadata": {},
   "outputs": [],
   "source": [
    "circ_mask = gen_circ_mask(img_center, circ_rad, img_shape, gs_max)\n",
    "pinhole_idx = np.where(circ_mask > 0)\n",
    "circ_pix_area = np.sum(circ_mask > 0)"
   ]
  },
  {
   "cell_type": "code",
   "execution_count": 9,
   "id": "25136a6e-183f-4c1d-8803-6a629cee66f0",
   "metadata": {},
   "outputs": [],
   "source": [
    "rs_all = np.random.RandomState(seed=123)\n",
    "gmm_masked_all = d.compute(\n",
    "    [d.delayed(mask_and_threshold)(img, circ_mask, pinhole_idx, sd_coef, rs_all)\n",
    "     for img in gs_ds_imgs]\n",
    ")[0]\n"
   ]
  },
  {
   "cell_type": "code",
   "execution_count": 10,
   "id": "ea82598a-34ff-4a39-aa6d-7e90f1ba614f",
   "metadata": {},
   "outputs": [],
   "source": [
    "us_gmm_masked_all = d.compute(\n",
    "    [d.delayed(resize)(gimg, (gimg.shape[0] * ds_fact, gimg.shape[1] * ds_fact)) for gimg in gmm_masked_all]\n",
    ")[0]"
   ]
  },
  {
   "cell_type": "code",
   "execution_count": 11,
   "id": "42f0fe17-eb1e-4c10-8d6f-f807ea5b99bf",
   "metadata": {},
   "outputs": [],
   "source": [
    "area_pcts = d.compute(\n",
    "    [d.delayed(compute_area_pct)(gimg, circ_pix_area) for gimg in gmm_masked_all]\n",
    ")[0]"
   ]
  },
  {
   "cell_type": "code",
   "execution_count": 12,
   "id": "ed6679ad-d95a-4213-a8a4-a13129272384",
   "metadata": {
    "tags": []
   },
   "outputs": [],
   "source": [
    "img_ids = [img_n.split(\"/\")[-1][:-4] for img_n in img_names]\n",
    "area_df = pd.DataFrame(\n",
    "    data = {\"image_id\": img_ids, \"area_pct\": area_pcts}\n",
    ")"
   ]
  },
  {
   "cell_type": "code",
   "execution_count": 13,
   "id": "896be65e-8fb5-4194-ac0e-65ae0b5c4edb",
   "metadata": {},
   "outputs": [],
   "source": [
    "area_df.to_csv(f\"{output_data_path}/area_results.csv\", index=False)"
   ]
  },
  {
   "cell_type": "code",
   "execution_count": 14,
   "id": "0276f2ca-53ed-468f-9140-741999bf65c2",
   "metadata": {},
   "outputs": [],
   "source": [
    "for i in range(len(img_ids)):\n",
    "    cv2.imwrite(\n",
    "        f\"{output_data_path}/{img_ids[i]}_processed.tif\",\n",
    "        min_max_(us_gmm_masked_all[i], tif_min, tif_max, gs_min, gs_max).astype(np.uint16)\n",
    "    )"
   ]
  },
  {
   "cell_type": "code",
   "execution_count": 15,
   "id": "41e5f904-587a-46ee-a524-90fa03e0dcad",
   "metadata": {},
   "outputs": [],
   "source": [
    "# idx = 50"
   ]
  },
  {
   "cell_type": "code",
   "execution_count": 16,
   "id": "d1d86c0c-e1eb-4c2d-a44c-46a7d20a6a87",
   "metadata": {},
   "outputs": [],
   "source": [
    "# gmm_masked = mask_and_threshold(gs_ds_imgs[idx], circ_mask, pinhole_idx, sd_coef, np.random.RandomState(seed=123))\n",
    "# compute_area_pct(gmm_masked, circ_pix_area)"
   ]
  },
  {
   "cell_type": "code",
   "execution_count": 17,
   "id": "8b3bdf00-45c9-4b5e-b4b2-76b07313aa30",
   "metadata": {
    "tags": []
   },
   "outputs": [],
   "source": [
    "# plt.imshow(gmm_masked, cmap=\"gray\")\n",
    "# plt.show()"
   ]
  },
  {
   "cell_type": "code",
   "execution_count": 18,
   "id": "72dc585d-ac19-4b19-b00d-f73ef1ab20f4",
   "metadata": {},
   "outputs": [],
   "source": [
    "# us_gmm_masked = resize(gmm_masked, (gmm_masked.shape[0] * ds_fact, gmm_masked.shape[1] * ds_fact))"
   ]
  },
  {
   "cell_type": "code",
   "execution_count": 19,
   "id": "d8ba6262-48ab-4f80-bc0a-3ea692839345",
   "metadata": {},
   "outputs": [],
   "source": [
    "# img_id = img_names[idx].split(\"/\")[-1][:-4]\n",
    "# cv2.imwrite(\n",
    "#     f\"{output_data_path}/{img_id}_processed.tif\",\n",
    "#     min_max_(us_gmm_masked, tif_min, tif_max, gs_min, gs_max).astype(np.uint16)\n",
    "# )"
   ]
  },
  {
   "cell_type": "code",
   "execution_count": null,
   "id": "825c8ebf-da4d-4958-abd1-eb7cc21cd12f",
   "metadata": {},
   "outputs": [],
   "source": []
  }
 ],
 "metadata": {
  "kernelspec": {
   "display_name": "Python 3 (ipykernel)",
   "language": "python",
   "name": "python3"
  },
  "language_info": {
   "codemirror_mode": {
    "name": "ipython",
    "version": 3
   },
   "file_extension": ".py",
   "mimetype": "text/x-python",
   "name": "python",
   "nbconvert_exporter": "python",
   "pygments_lexer": "ipython3",
   "version": "3.9.10"
  }
 },
 "nbformat": 4,
 "nbformat_minor": 5
}
